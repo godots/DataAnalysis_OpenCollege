{
  "nbformat": 4,
  "nbformat_minor": 0,
  "metadata": {
    "colab": {
      "name": "Regex&Konlpy.ipynb",
      "provenance": [],
      "collapsed_sections": [],
      "toc_visible": true,
      "include_colab_link": true
    },
    "kernelspec": {
      "name": "python3",
      "display_name": "Python 3"
    },
    "language_info": {
      "name": "python"
    }
  },
  "cells": [
    {
      "cell_type": "markdown",
      "metadata": {
        "id": "view-in-github",
        "colab_type": "text"
      },
      "source": [
        "<a href=\"https://colab.research.google.com/github/godots/DataAnalysis_OpenCollege/blob/master/Regex%26Konlpy.ipynb\" target=\"_parent\"><img src=\"https://colab.research.google.com/assets/colab-badge.svg\" alt=\"Open In Colab\"/></a>"
      ]
    },
    {
      "cell_type": "markdown",
      "metadata": {
        "id": "5KaCBakH3IuL"
      },
      "source": [
        "# Topic Modeling Flow"
      ]
    },
    {
      "cell_type": "markdown",
      "metadata": {
        "id": "RJFv7ww83ARk"
      },
      "source": [
        "![Topic Modeling Flow.jpg](data:image/jpeg;base64,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)"
      ]
    },
    {
      "cell_type": "markdown",
      "metadata": {
        "id": "2GvS3ixzzTUm"
      },
      "source": [
        "# 자연어 전처리 - 정규 표현식"
      ]
    },
    {
      "cell_type": "markdown",
      "metadata": {
        "id": "mgVlo4se_WUe"
      },
      "source": [
        "## 1. Regex(Regular Expression) 이란?\n",
        "\n",
        "정규표현식이란 문자열을 처리하는 방법 중의 하나로 특정한 조건의 문자를 '검색'하거나 '치환'하는 과정을 매우 간편하게 처리 할 수 있도록 하는 수단이다."
      ]
    },
    {
      "cell_type": "markdown",
      "metadata": {
        "id": "YFHI9tcc0UXf"
      },
      "source": [
        "- 그래서 특정한 조건이 뭔데?\n",
        "   - 이메일 주소 (asdf1234@naver.com)\n",
        "   - 주민등록번호 (123456-7890123)\n",
        "   - **텍스트 처리를 할 때 영어/한글만 남겨놓기**\n"
      ]
    },
    {
      "cell_type": "markdown",
      "metadata": {
        "id": "BjfUe4WalHON"
      },
      "source": [
        "### 1.1 Regex 사용 이유"
      ]
    },
    {
      "cell_type": "code",
      "metadata": {
        "id": "bQbUaexe4EXh",
        "colab": {
          "base_uri": "https://localhost:8080/"
        },
        "outputId": "5fcec4b9-c090-4dd8-e891-d5a878e035ad"
      },
      "source": [
        "# 데이터 불러 오기\n",
        "# Google Drive Mount\n",
        "# Linux 명령어 Unzip을 사용하여 압축 해제\n",
        "\n",
        "!unzip '/content/drive/MyDrive/환경 빅데이터 플랫폼 3차 교육/data/EnvBERT_데이터셋.zip'"
      ],
      "execution_count": null,
      "outputs": [
        {
          "output_type": "stream",
          "text": [
            "Archive:  /content/drive/MyDrive/환경 빅데이터 플랫폼 3차 교육/data/EnvBERT_데이터셋.zip\n",
            "replace label_info.txt? [y]es, [n]o, [A]ll, [N]one, [r]ename: "
          ],
          "name": "stdout"
        }
      ]
    },
    {
      "cell_type": "code",
      "metadata": {
        "colab": {
          "base_uri": "https://localhost:8080/"
        },
        "id": "0LUtd6yZAC8_",
        "outputId": "fbb7604d-b51f-405a-91bb-a119da3b68c3"
      },
      "source": [
        "# 구글 드라이브 마운트\n",
        "\n",
        "from google.colab import drive\n",
        "drive.mount('/content/drive')"
      ],
      "execution_count": null,
      "outputs": [
        {
          "output_type": "stream",
          "text": [
            "Drive already mounted at /content/drive; to attempt to forcibly remount, call drive.mount(\"/content/drive\", force_remount=True).\n"
          ],
          "name": "stdout"
        }
      ]
    },
    {
      "cell_type": "code",
      "metadata": {
        "colab": {
          "base_uri": "https://localhost:8080/",
          "height": 203
        },
        "id": "YWwPNR4Wl2dI",
        "outputId": "a29d8809-d21f-4660-dac8-58d1609b63e8"
      },
      "source": [
        "# import packages\n",
        "\n",
        "import pandas as pd\n",
        "\n",
        "train = pd.read_excel('train_set.xlsx')\n",
        "train.head()\n"
      ],
      "execution_count": null,
      "outputs": [
        {
          "output_type": "execute_result",
          "data": {
            "text/html": [
              "<div>\n",
              "<style scoped>\n",
              "    .dataframe tbody tr th:only-of-type {\n",
              "        vertical-align: middle;\n",
              "    }\n",
              "\n",
              "    .dataframe tbody tr th {\n",
              "        vertical-align: top;\n",
              "    }\n",
              "\n",
              "    .dataframe thead th {\n",
              "        text-align: right;\n",
              "    }\n",
              "</style>\n",
              "<table border=\"1\" class=\"dataframe\">\n",
              "  <thead>\n",
              "    <tr style=\"text-align: right;\">\n",
              "      <th></th>\n",
              "      <th>id</th>\n",
              "      <th>label</th>\n",
              "      <th>text</th>\n",
              "    </tr>\n",
              "  </thead>\n",
              "  <tbody>\n",
              "    <tr>\n",
              "      <th>0</th>\n",
              "      <td>3357</td>\n",
              "      <td>16</td>\n",
              "      <td>[울진 농업용 미생물 75t 연중 무료 공급]많이 본 기사</td>\n",
              "    </tr>\n",
              "    <tr>\n",
              "      <th>1</th>\n",
              "      <td>7485</td>\n",
              "      <td>0</td>\n",
              "      <td>[[오늘 날씨] '경칩' 영하권 꽃샘추위… 일부 지역서 눈발]체감온도가 -12도까지...</td>\n",
              "    </tr>\n",
              "    <tr>\n",
              "      <th>2</th>\n",
              "      <td>7434</td>\n",
              "      <td>2</td>\n",
              "      <td>\"[\"\"봄철 미세먼지·꽃가루로 지친 피부는 산소발생기 '오투덤 산소테라피'로\"\"]산...</td>\n",
              "    </tr>\n",
              "    <tr>\n",
              "      <th>3</th>\n",
              "      <td>7516</td>\n",
              "      <td>0</td>\n",
              "      <td>['파란하늘 반가워']성동훈 기자   전국 대부분 미세먼지 농도가  좋음 을 나타내...</td>\n",
              "    </tr>\n",
              "    <tr>\n",
              "      <th>4</th>\n",
              "      <td>7517</td>\n",
              "      <td>0</td>\n",
              "      <td>[[오늘의 날씨] 전국 구름 많고 포근…미세먼지는 '나쁨']사진 연합뉴스   오늘은...</td>\n",
              "    </tr>\n",
              "  </tbody>\n",
              "</table>\n",
              "</div>"
            ],
            "text/plain": [
              "     id  label                                               text\n",
              "0  3357     16                   [울진 농업용 미생물 75t 연중 무료 공급]많이 본 기사\n",
              "1  7485      0  [[오늘 날씨] '경칩' 영하권 꽃샘추위… 일부 지역서 눈발]체감온도가 -12도까지...\n",
              "2  7434      2  \"[\"\"봄철 미세먼지·꽃가루로 지친 피부는 산소발생기 '오투덤 산소테라피'로\"\"]산...\n",
              "3  7516      0  ['파란하늘 반가워']성동훈 기자   전국 대부분 미세먼지 농도가  좋음 을 나타내...\n",
              "4  7517      0  [[오늘의 날씨] 전국 구름 많고 포근…미세먼지는 '나쁨']사진 연합뉴스   오늘은..."
            ]
          },
          "metadata": {
            "tags": []
          },
          "execution_count": 4
        }
      ]
    },
    {
      "cell_type": "code",
      "metadata": {
        "colab": {
          "base_uri": "https://localhost:8080/"
        },
        "id": "KbxetludobgD",
        "outputId": "21e84c35-e584-49b6-99bd-f50428cba2cd"
      },
      "source": [
        "# [text] Column만 이용\n",
        "# 중복 값 제거 및 NA 값 제거\n",
        "\n",
        "Data = train[['text']]\n",
        "data = Data.drop_duplicates().dropna()\n",
        "\n",
        "len(data)"
      ],
      "execution_count": null,
      "outputs": [
        {
          "output_type": "execute_result",
          "data": {
            "text/plain": [
              "4421"
            ]
          },
          "metadata": {
            "tags": []
          },
          "execution_count": 5
        }
      ]
    },
    {
      "cell_type": "code",
      "metadata": {
        "colab": {
          "base_uri": "https://localhost:8080/",
          "height": 417
        },
        "id": "kEzw_4SBrV-9",
        "outputId": "e7289767-0ece-44ee-9e03-279ddcdd8cfd"
      },
      "source": [
        "data"
      ],
      "execution_count": null,
      "outputs": [
        {
          "output_type": "execute_result",
          "data": {
            "text/html": [
              "<div>\n",
              "<style scoped>\n",
              "    .dataframe tbody tr th:only-of-type {\n",
              "        vertical-align: middle;\n",
              "    }\n",
              "\n",
              "    .dataframe tbody tr th {\n",
              "        vertical-align: top;\n",
              "    }\n",
              "\n",
              "    .dataframe thead th {\n",
              "        text-align: right;\n",
              "    }\n",
              "</style>\n",
              "<table border=\"1\" class=\"dataframe\">\n",
              "  <thead>\n",
              "    <tr style=\"text-align: right;\">\n",
              "      <th></th>\n",
              "      <th>text</th>\n",
              "    </tr>\n",
              "  </thead>\n",
              "  <tbody>\n",
              "    <tr>\n",
              "      <th>0</th>\n",
              "      <td>[울진 농업용 미생물 75t 연중 무료 공급]많이 본 기사</td>\n",
              "    </tr>\n",
              "    <tr>\n",
              "      <th>1</th>\n",
              "      <td>[[오늘 날씨] '경칩' 영하권 꽃샘추위… 일부 지역서 눈발]체감온도가 -12도까지...</td>\n",
              "    </tr>\n",
              "    <tr>\n",
              "      <th>2</th>\n",
              "      <td>\"[\"\"봄철 미세먼지·꽃가루로 지친 피부는 산소발생기 '오투덤 산소테라피'로\"\"]산...</td>\n",
              "    </tr>\n",
              "    <tr>\n",
              "      <th>3</th>\n",
              "      <td>['파란하늘 반가워']성동훈 기자   전국 대부분 미세먼지 농도가  좋음 을 나타내...</td>\n",
              "    </tr>\n",
              "    <tr>\n",
              "      <th>4</th>\n",
              "      <td>[[오늘의 날씨] 전국 구름 많고 포근…미세먼지는 '나쁨']사진 연합뉴스   오늘은...</td>\n",
              "    </tr>\n",
              "    <tr>\n",
              "      <th>...</th>\n",
              "      <td>...</td>\n",
              "    </tr>\n",
              "    <tr>\n",
              "      <th>5066</th>\n",
              "      <td>\"[부여군, 친환경 굿뜨래농산물 생산 주력]농기센터  EM복합균 등 유용미생물 10...</td>\n",
              "    </tr>\n",
              "    <tr>\n",
              "      <th>5067</th>\n",
              "      <td>\"[오산시,취약한 해빙기 맞아 4월 말까지 수질관리 특별점검]오산시는 수질오염사고에...</td>\n",
              "    </tr>\n",
              "    <tr>\n",
              "      <th>5069</th>\n",
              "      <td>\"[美제재 불구…화웨이, 지난해 매출 148조원 '19.1% 급증']화웨이가 미국 ...</td>\n",
              "    </tr>\n",
              "    <tr>\n",
              "      <th>5070</th>\n",
              "      <td>[[신년사] 차준택 인천부평구청장]존경하는 구민 여러분!  그리고 친애하는 직원 여...</td>\n",
              "    </tr>\n",
              "    <tr>\n",
              "      <th>5071</th>\n",
              "      <td>[[신년사 전문]홍성열 증평군수]백운학기자  홍성열 증평군수. 아시아뉴스통신DB  ...</td>\n",
              "    </tr>\n",
              "  </tbody>\n",
              "</table>\n",
              "<p>4421 rows × 1 columns</p>\n",
              "</div>"
            ],
            "text/plain": [
              "                                                   text\n",
              "0                      [울진 농업용 미생물 75t 연중 무료 공급]많이 본 기사\n",
              "1     [[오늘 날씨] '경칩' 영하권 꽃샘추위… 일부 지역서 눈발]체감온도가 -12도까지...\n",
              "2     \"[\"\"봄철 미세먼지·꽃가루로 지친 피부는 산소발생기 '오투덤 산소테라피'로\"\"]산...\n",
              "3     ['파란하늘 반가워']성동훈 기자   전국 대부분 미세먼지 농도가  좋음 을 나타내...\n",
              "4     [[오늘의 날씨] 전국 구름 많고 포근…미세먼지는 '나쁨']사진 연합뉴스   오늘은...\n",
              "...                                                 ...\n",
              "5066  \"[부여군, 친환경 굿뜨래농산물 생산 주력]농기센터  EM복합균 등 유용미생물 10...\n",
              "5067  \"[오산시,취약한 해빙기 맞아 4월 말까지 수질관리 특별점검]오산시는 수질오염사고에...\n",
              "5069  \"[美제재 불구…화웨이, 지난해 매출 148조원 '19.1% 급증']화웨이가 미국 ...\n",
              "5070  [[신년사] 차준택 인천부평구청장]존경하는 구민 여러분!  그리고 친애하는 직원 여...\n",
              "5071  [[신년사 전문]홍성열 증평군수]백운학기자  홍성열 증평군수. 아시아뉴스통신DB  ...\n",
              "\n",
              "[4421 rows x 1 columns]"
            ]
          },
          "metadata": {
            "tags": []
          },
          "execution_count": 6
        }
      ]
    },
    {
      "cell_type": "markdown",
      "metadata": {
        "id": "eHI7uujSuBC7"
      },
      "source": [
        "## 2. Regex 문법\n",
        "\n",
        "![Regex 문법.JPG](data:image/jpeg;base64,/9j/4AAQSkZJRgABAQEAeAB4AAD/4RDcRXhpZgAATU0AKgAAAAgABAE7AAIAAAAKAAAISodpAAQAAAABAAAIVJydAAEAAAAIAAAQzOocAAcAAAgMAAAAPgAAAAAc6gAAAAgAAAAAAAAAAAAAAAAAAAAAAAAAAAAAAAAAAAAAAAAAAAAAAAAAAAAAAAAAAAAAAAAAAAAAAAAAAAAAAAAAAAAAAAAAAAAAAAAAAAAAAAAAAAAAAAAAAAAAAAAAAAAAAAAAAAAAAAAAAAAAAAAAAAAAAAAAAAAAAAAAAAAAAAAAAAAAAAAAAAAAAAAAAAAAAAAAAAAAAAAAAAAAAAAAAAAAAAAAAAAAAAAAAAAAAAAAAAAAAAAAAAAAAAAAAAAAAAAAAAAAAAAAAAAAAAAAAAAAAAAAAAAAAAAAAAAAAAAAAAAAAAAAAAAAAAAAAAAAAAAAAAAAAAAAAAAAAAAAAAAAAAAAAAAAAAAAAAAAAAAAAAAAAAAAAAAAAAAAAAAAAAAAAAAAAAAAAAAAAAAAAAAAAAAAAAAAAAAAAAAAAAAAAAAAAAAAAAAAAAAAAAAAAAAAAAAAAAAAAAAAAAAAAAAAAAAAAAAAAAAAAAAAAAAAAAAAAAAAAAAAAAAAAAAAAAAAAAAAAAAAAAAAAAAAAAAAAAAAAAAAAAAAAAAAAAAAAAAAAAAAAAAAAAAAAAAAAAAAAAAAAAAAAAAAAAAAAAAAAAAAAAAAAAAAAAAAAAAAAAAAAAAAAAAAAAAAAAAAAAAAAAAAAAAAAAAAAAAAAAAAAAAAAAAAAAAAAAAAAAAAAAAAAAAAAAAAAAAAAAAAAAAAAAAAAAAAAAAAAAAAAAAAAAAAAAAAAAAAAAAAAAAAAAAAAAAAAAAAAAAAAAAAAAAAAAAAAAAAAAAAAAAAAAAAAAAAAAAAAAAAAAAAAAAAAAAAAAAAAAAAAAAAAAAAAAAAAAAAAAAAAAAAAAAAAAAAAAAAAAAAAAAAAAAAAAAAAAAAAAAAAAAAAAAAAAAAAAAAAAAAAAAAAAAAAAAAAAAAAAAAAAAAAAAAAAAAAAAAAAAAAAAAAAAAAAAAAAAAAAAAAAAAAAAAAAAAAAAAAAAAAAAAAAAAAAAAAAAAAAAAAAAAAAAAAAAAAAAAAAAAAAAAAAAAAAAAAAAAAAAAAAAAAAAAAAAAAAAAAAAAAAAAAAAAAAAAAAAAAAAAAAAAAAAAAAAAAAAAAAAAAAAAAAAAAAAAAAAAAAAAAAAAAAAAAAAAAAAAAAAAAAAAAAAAAAAAAAAAAAAAAAAAAAAAAAAAAAAAAAAAAAAAAAAAAAAAAAAAAAAAAAAAAAAAAAAAAAAAAAAAAAAAAAAAAAAAAAAAAAAAAAAAAAAAAAAAAAAAAAAAAAAAAAAAAAAAAAAAAAAAAAAAAAAAAAAAAAAAAAAAAAAAAAAAAAAAAAAAAAAAAAAAAAAAAAAAAAAAAAAAAAAAAAAAAAAAAAAAAAAAAAAAAAAAAAAAAAAAAAAAAAAAAAAAAAAAAAAAAAAAAAAAAAAAAAAAAAAAAAAAAAAAAAAAAAAAAAAAAAAAAAAAAAAAAAAAAAAAAAAAAAAAAAAAAAAAAAAAAAAAAAAAAAAAAAAAAAAAAAAAAAAAAAAAAAAAAAAAAAAAAAAAAAAAAAAAAAAAAAAAAAAAAAAAAAAAAAAAAAAAAAAAAAAAAAAAAAAAAAAAAAAAAAAAAAAAAAAAAAAAAAAAAAAAAAAAAAAAAAAAAAAAAAAAAAAAAAAAAAAAAAAAAAAAAAAAAAAAAAAAAAAAAAAAAAAAAAAAAAAAAAAAAAAAAAAAAAAAAAAAAAAAAAAAAAAAAAAAAAAAAAAAAAAAAAAAAAAAAAAAAAAAAAAAAAAAAAAAAAAAAAAAAAAAAAAAAAAAAAAAAAAAAAAAAAAAAAAAAAAAAAAAAAAAAAAAAAAAAAAAAAAAAAAAAAAAAAAAAAAAAAAAAAAAAAAAAAAAAAAAAAAAAAAAAAAAAAAAAAAAAAAAAAAAAAAAAAAAAAAAAAAAAAAAAAAAAAAAAAAAAAAAAAAAAAAAAAAAAAAAAAAAAAAAAAAAAAAAAAAAAAAAAAAAAAAAAAAAAAAAAAAAAAAAAAAAAAAAAAAAAAAAAAAAAAAAAAAAAAAAAAAAAAAAAAAAAAAAAAAAAAAAAAAAAAAAAAAAAAAAAAAAAAAAAAAAAAAAAAAAAAAAAAAAAAAAAAAAAAAAAAAAAAAAAAAAAAAAAAAAAAAAAAAAAAAAAAAAAAAAAAAAAAAAAAAAAAAAAAAAAAAAAAAAAAAAAAAAAAAAAAAAAAAAAAAAAAAAAAAAAAAAAAAAAAAAAAAAAAAAAAAAAAAAAAAAAAAAAAAAAAAAAAAAAAAAAAAAAAAAAAAAAAAAAAAAAAAAAAAAAAAAAAAAAAAAAAAAAAAAAAAAAAAAAAAAAAAAAAAAAAAAAAAAAAAAAAAAAAAAAAAAAAAAAAAAAAAAAAAAAAAAAAAAAAAAAAAAAAAAAAAAAAAAAAAAAAAAAAAAAAAAAAAAAAAAAAAAAAAAAAAAAAAAAAAAAAAAAAAAAAAAAAAAAAAAAAAAAAAAAAAAAAAAAAAAAAAAAAAAAAAAAAAAAAAAAAAAAAAAAAAAAAAAAAAAAAAAAAAAAAAAAAAAAAAAAAAAAAAAAAAAAAAAAAAAAAAAAAAAAAAAAAAAAAAAAAAAAAAAAAAAAAAAAAAAAAAAAAAAAAAAAAAAAAAAAAAAAAAAAAAAAAAAAAAAAAAAAAAAAAAAAAAAAAAAAAAAAAAAAAAAAAAAAAAAAAAAAAAAAAAAAAAAAAAAAAAAAAAAAAAAAAAAAAAAAAAAAAAAAAAAAAAAAAAAAAAAAOydtOykgOq3nAAABZADAAIAAAAUAAAQopAEAAIAAAAUAAAQtpKRAAIAAAADODQAAJKSAAIAAAADODQAAOocAAcAAAgMAAAIlgAAAAAc6gAAAAgAAAAAAAAAAAAAAAAAAAAAAAAAAAAAAAAAAAAAAAAAAAAAAAAAAAAAAAAAAAAAAAAAAAAAAAAAAAAAAAAAAAAAAAAAAAAAAAAAAAAAAAAAAAAAAAAAAAAAAAAAAAAAAAAAAAAAAAAAAAAAAAAAAAAAAAAAAAAAAAAAAAAAAAAAAAAAAAAAAAAAAAAAAAAAAAAAAAAAAAAAAAAAAAAAAAAAAAAAAAAAAAAAAAAAAAAAAAAAAAAAAAAAAAAAAAAAAAAAAAAAAAAAAAAAAAAAAAAAAAAAAAAAAAAAAAAAAAAAAAAAAAAAAAAAAAAAAAAAAAAAAAAAAAAAAAAAAAAAAAAAAAAAAAAAAAAAAAAAAAAAAAAAAAAAAAAAAAAAAAAAAAAAAAAAAAAAAAAAAAAAAAAAAAAAAAAAAAAAAAAAAAAAAAAAAAAAAAAAAAAAAAAAAAAAAAAAAAAAAAAAAAAAAAAAAAAAAAAAAAAAAAAAAAAAAAAAAAAAAAAAAAAAAAAAAAAAAAAAAAAAAAAAAAAAAAAAAAAAAAAAAAAAAAAAAAAAAAAAAAAAAAAAAAAAAAAAAAAAAAAAAAAAAAAAAAAAAAAAAAAAAAAAAAAAAAAAAAAAAAAAAAAAAAAAAAAAAAAAAAAAAAAAAAAAAAAAAAAAAAAAAAAAAAAAAAAAAAAAAAAAAAAAAAAAAAAAAAAAAAAAAAAAAAAAAAAAAAAAAAAAAAAAAAAAAAAAAAAAAAAAAAAAAAAAAAAAAAAAAAAAAAAAAAAAAAAAAAAAAAAAAAAAAAAAAAAAAAAAAAAAAAAAAAAAAAAAAAAAAAAAAAAAAAAAAAAAAAAAAAAAAAAAAAAAAAAAAAAAAAAAAAAAAAAAAAAAAAAAAAAAAAAAAAAAAAAAAAAAAAAAAAAAAAAAAAAAAAAAAAAAAAAAAAAAAAAAAAAAAAAAAAAAAAAAAAAAAAAAAAAAAAAAAAAAAAAAAAAAAAAAAAAAAAAAAAAAAAAAAAAAAAAAAAAAAAAAAAAAAAAAAAAAAAAAAAAAAAAAAAAAAAAAAAAAAAAAAAAAAAAAAAAAAAAAAAAAAAAAAAAAAAAAAAAAAAAAAAAAAAAAAAAAAAAAAAAAAAAAAAAAAAAAAAAAAAAAAAAAAAAAAAAAAAAAAAAAAAAAAAAAAAAAAAAAAAAAAAAAAAAAAAAAAAAAAAAAAAAAAAAAAAAAAAAAAAAAAAAAAAAAAAAAAAAAAAAAAAAAAAAAAAAAAAAAAAAAAAAAAAAAAAAAAAAAAAAAAAAAAAAAAAAAAAAAAAAAAAAAAAAAAAAAAAAAAAAAAAAAAAAAAAAAAAAAAAAAAAAAAAAAAAAAAAAAAAAAAAAAAAAAAAAAAAAAAAAAAAAAAAAAAAAAAAAAAAAAAAAAAAAAAAAAAAAAAAAAAAAAAAAAAAAAAAAAAAAAAAAAAAAAAAAAAAAAAAAAAAAAAAAAAAAAAAAAAAAAAAAAAAAAAAAAAAAAAAAAAAAAAAAAAAAAAAAAAAAAAAAAAAAAAAAAAAAAAAAAAAAAAAAAAAAAAAAAAAAAAAAAAAAAAAAAAAAAAAAAAAAAAAAAAAAAAAAAAAAAAAAAAAAAAAAAAAAAAAAAAAAAAAAAAAAAAAAAAAAAAAAAAAAAAAAAAAAAAAAAAAAAAAAAAAAAAAAAAAAAAAAAAAAAAAAAAAAAAAAAAAAAAAAAAAAAAAAAAAAAAAAAAAAAAAAAAAAAAAAAAAAAAAAAAAAAAAAAAAAAAAAAAAAAAAAAAAAAAAAAAAAAAAAAAAAAAAAAAAAAAAAAAAAAAAAAAAAAAAAAAAAAAAAAAAAAAAAAAAAAAAAAAAAAAAAAAAAAAAAAAAAAAAAAAAAAAAAAAAAAAAAAAAAAAAAAAAAAAAAAAAAAAAAAAAAAAAAAAAAAAAAAAAAAAAAAAAAAAAAAAAAAAAAAAAAAAAAAAAAAAAAAAAAAAAAAAAAAAAAAAAAAAAAAAAAAAAAAAAAAAAAAAAAAAAAAAAAAAAAAAAAAAAAAAAAAAAAAAAAAAAAAAAAAAAAAAAAAAAAAAAAAAAAAAAAAAAAAAAAAAAAAAAAAAAAAAAAAAAAAAAAAAAAAAAAAAAAAAAAAAAAAAAAAAAAAAAAAAAAAAAAAAAAAAAAAAAAAAAAAAAAAAAAAAAAAAAAAAAAAAAAAAAAAAAAAAAAAAAAAAAAAAAAAAAAAAAAAAAAAAAAAAAAAAAAAAAAAAAAAAAAAAAAAAAAAAAAAAAAAAAAAAAAAAAAAAAAAAAAAAAAAAAAAAAAAAAAAAAAAAAAAAAAAAAAAAAAAAAAAAAAAAAAAAAAAAAAAAAAAAAAAAAAAAAAAAAAAAAAAAAAAAAAAAAAAAAAAAAAAAAAAAAAAAAAAAAAAAAAAAAAAAAAAAAAAAAAAAAAAAAAAAAAAAAAAAAAAAAAAAAAAAAAAAAAAAAAAAAAAAAAAAAAAAAAAAAAAAAAAAAAAAAAAAAAAAAAAAAAAAAAAAAAAAAAAAAAAAAAAAAAAAAAAAAAAAAAAAAAAAAAAAAAAAAAAAAAAAAAAAAAAAAAAAAAAAAAAAAAAAAAAAAAAAAAAAAAAAAAAAAAAAAAAAAAAAAAAAAAAAAAAAAAAAAAAAAAAAAAAAAAAAAAAAAAAAAAAAAAAAAAAAAAAAAAAAAAAAAAAAAAAAAAAAAAAAAAAAAAAAAAAAAAAAAAAAAAAAAAAAAAAAAAAAAAAAAAAAAAAAAAAADIwMjE6MDc6MDQgMTg6MDA6MjMAMjAyMTowNzowNCAxODowMDoyMwAAAHTHAMncrQAA/+ELHGh0dHA6Ly9ucy5hZG9iZS5jb20veGFwLzEuMC8APD94cGFja2V0IGJlZ2luPSfvu78nIGlkPSdXNU0wTXBDZWhpSHpyZVN6TlRjemtjOWQnPz4NCjx4OnhtcG1ldGEgeG1sbnM6eD0iYWRvYmU6bnM6bWV0YS8iPjxyZGY6UkRGIHhtbG5zOnJkZj0iaHR0cDovL3d3dy53My5vcmcvMTk5OS8wMi8yMi1yZGYtc3ludGF4LW5zIyI+PHJkZjpEZXNjcmlwdGlvbiByZGY6YWJvdXQ9InV1aWQ6ZmFmNWJkZDUtYmEzZC0xMWRhLWFkMzEtZDMzZDc1MTgyZjFiIiB4bWxuczpkYz0iaHR0cDovL3B1cmwub3JnL2RjL2VsZW1lbnRzLzEuMS8iLz48cmRmOkRlc2NyaXB0aW9uIHJkZjphYm91dD0idXVpZDpmYWY1YmRkNS1iYTNkLTExZGEtYWQzMS1kMzNkNzUxODJmMWIiIHhtbG5zOnhtcD0iaHR0cDovL25zLmFkb2JlLmNvbS94YXAvMS4wLyI+PHhtcDpDcmVhdGVEYXRlPjIwMjEtMDctMDRUMTg6MDA6MjMuODM1PC94bXA6Q3JlYXRlRGF0ZT48L3JkZjpEZXNjcmlwdGlvbj48cmRmOkRlc2NyaXB0aW9uIHJkZjphYm91dD0idXVpZDpmYWY1YmRkNS1iYTNkLTExZGEtYWQzMS1kMzNkNzUxODJmMWIiIHhtbG5zOmRjPSJodHRwOi8vcHVybC5vcmcvZGMvZWxlbWVudHMvMS4xLyI+PGRjOmNyZWF0b3I+PHJkZjpTZXEgeG1sbnM6cmRmPSJodHRwOi8vd3d3LnczLm9yZy8xOTk5LzAyLzIyLXJkZi1zeW50YXgtbnMjIj48cmRmOmxpPuydtOykgOq3nDwvcmRmOmxpPjwvcmRmOlNlcT4NCgkJCTwvZGM6Y3JlYXRvcj48L3JkZjpEZXNjcmlwdGlvbj48L3JkZjpSREY+PC94OnhtcG1ldGE+DQogICAgICAgICAgICAgICAgICAgICAgICAgICAgICAgICAgICAgICAgICAgICAgICAgICAgICAgICAgICAgICAgICAgICAgICAgICAgICAgICAgICAgICAgICAgICAgICAgICAgCiAgICAgICAgICAgICAgICAgICAgICAgICAgICAgICAgICAgICAgICAgICAgICAgICAgICAgICAgICAgICAgICAgICAgICAgICAgICAgICAgICAgICAgICAgICAgICAgICAgICAKICAgICAgICAgICAgICAgICAgICAgICAgICAgICAgICAgICAgICAgICAgICAgICAgICAgICAgICAgICAgICAgICAgICAgICAgICAgICAgICAgICAgICAgICAgICAgICAgICAgIAogICAgICAgICAgICAgICAgICAgICAgICAgICAgICAgICAgICAgICAgICAgICAgICAgICAgICAgICAgICAgICAgICAgICAgICAgICAgICAgICAgICAgICAgICAgICAgICAgICAgCiAgICAgICAgICAgICAgICAgICAgICAgICAgICAgICAgICAgICAgICAgICAgICAgICAgICAgICAgICAgICAgICAgICAgICAgICAgICAgICAgICAgICAgICAgICAgICAgICAgICAKICAgICAgICAgICAgICAgICAgICAgICAgICAgICAgICAgICAgICAgICAgICAgICAgICAgICAgICAgICAgICAgICAgICAgICAgICAgICAgICAgICAgICAgICAgICAgICAgICAgIAogICAgICAgICAgICAgICAgICAgICAgICAgICAgICAgICAgICAgICAgICAgICAgICAgICAgICAgICAgICAgICAgICAgICAgICAgICAgICAgICAgICAgICAgICAgICAgICAgICAgCiAgICAgICAgICAgICAgICAgICAgICAgICAgICAgICAgICAgICAgICAgICAgICAgICAgICAgICAgICAgICAgICAgICAgICAgICAgICAgICAgICAgICAgICAgICAgICAgICAgICAKICAgICAgICAgICAgICAgICAgICAgICAgICAgICAgICAgICAgICAgICAgICAgICAgICAgICAgICAgICAgICAgICAgICAgICAgICAgICAgICAgICAgICAgICAgICAgICAgICAgIAogICAgICAgICAgICAgICAgICAgICAgICAgICAgICAgICAgICAgICAgICAgICAgICAgICAgICAgICAgICAgICAgICAgICAgICAgICAgICAgICAgICAgICAgICAgICAgICAgICAgCiAgICAgICAgICAgICAgICAgICAgICAgICAgICAgICAgICAgICAgICAgICAgICAgICAgICAgICAgICAgICAgICAgICAgICAgICAgICAgICAgICAgICAgICAgICAgICAgICAgICAKICAgICAgICAgICAgICAgICAgICAgICAgICAgICAgICAgICAgICAgICAgICAgICAgICAgICAgICAgICAgICAgICAgICAgICAgICAgICAgICAgICAgICAgICAgICAgICAgICAgIAogICAgICAgICAgICAgICAgICAgICAgICAgICAgICAgICAgICAgICAgICAgICAgICAgICAgICAgICAgICAgICAgICAgICAgICAgICAgICAgICAgICAgICAgICAgICAgICAgICAgCiAgICAgICAgICAgICAgICAgICAgICAgICAgICAgICAgICAgICAgICAgICAgICAgICAgICAgICAgICAgICAgICAgICAgICAgICAgICAgICAgICAgICAgICAgICAgICAgICAgICAKICAgICAgICAgICAgICAgICAgICAgICAgICAgICAgICAgICAgICAgICAgICAgICAgICAgICAgICAgICAgICAgICAgICAgICAgICAgICAgICAgICAgICAgICAgICAgICAgICAgIAogICAgICAgICAgICAgICAgICAgICAgICAgICAgICAgICAgICAgICAgICAgICAgICAgICAgICAgICAgICAgICAgICAgICAgICAgICAgICAgICAgICAgICAgICAgICAgICAgICAgCiAgICAgICAgICAgICAgICAgICAgICAgICAgICAgICAgICAgICAgICAgICAgICAgICAgICAgICAgICAgICAgICAgICAgICAgICAgICAgICAgICAgICAgICAgICAgICAgICAgICAKICAgICAgICAgICAgICAgICAgICAgICAgICAgICAgICAgICAgICAgICAgICAgICAgICAgICAgICAgICAgICAgICAgICAgICAgICAgICAgICAgICAgICAgICAgICAgICAgICAgIAogICAgICAgICAgICAgICAgICAgICAgICAgICAgICAgICAgICAgICAgICAgICAgICAgICAgICAgICAgICAgICAgICAgICAgICAgICAgICAgICAgICAgICAgICAgICAgICAgICAgCiAgICAgICAgICAgICAgICAgICAgICAgICAgICAgICAgICAgICAgICAgICAgICAgICAgICAgICAgICAgICAgICAgICAgICAgICAgICAgICAgICAgICAgICAgICAgICAgICAgICAKICAgICAgICAgICAgICAgICAgICAgICAgICAgIDw/eHBhY2tldCBlbmQ9J3cnPz7/2wBDAAcFBQYFBAcGBQYIBwcIChELCgkJChUPEAwRGBUaGRgVGBcbHichGx0lHRcYIi4iJSgpKywrGiAvMy8qMicqKyr/2wBDAQcICAoJChQLCxQqHBgcKioqKioqKioqKioqKioqKioqKioqKioqKioqKioqKioqKioqKioqKioqKioqKioqKir/wAARCAMMBEgDASIAAhEBAxEB/8QAHwAAAQUBAQEBAQEAAAAAAAAAAAECAwQFBgcICQoL/8QAtRAAAgEDAwIEAwUFBAQAAAF9AQIDAAQRBRIhMUEGE1FhByJxFDKBkaEII0KxwRVS0fAkM2JyggkKFhcYGRolJicoKSo0NTY3ODk6Q0RFRkdISUpTVFVWV1hZWmNkZWZnaGlqc3R1dnd4eXqDhIWGh4iJipKTlJWWl5iZmqKjpKWmp6ipqrKztLW2t7i5usLDxMXGx8jJytLT1NXW19jZ2uHi4+Tl5ufo6erx8vP09fb3+Pn6/8QAHwEAAwEBAQEBAQEBAQAAAAAAAAECAwQFBgcICQoL/8QAtREAAgECBAQDBAcFBAQAAQJ3AAECAxEEBSExBhJBUQdhcRMiMoEIFEKRobHBCSMzUvAVYnLRChYkNOEl8RcYGRomJygpKjU2Nzg5OkNERUZHSElKU1RVVldYWVpjZGVmZ2hpanN0dXZ3eHl6goOEhYaHiImKkpOUlZaXmJmaoqOkpaanqKmqsrO0tba3uLm6wsPExcbHyMnK0tPU1dbX2Nna4uPk5ebn6Onq8vP09fb3+Pn6/9oADAMBAAIRAxEAPwD6RooooAKKKKACiiigAooooAKKKKACiiigAprvtZBjO9sfTgn+lOqKX/Wwf9dD/wCgtQBLRRRQAUUUUAFFFFABRRRQAUUUUAFFFFABRRRQAUUUUAFFFFABRRRQAUUUUAFFFFABRRRQAUUUUAFFFFABRRRQAUUUUAFFFFABRRRQAUUUUAFFFFABRRRQAUUUUAFFFFABRRRQAUUUUAFFFFABRRRQAUUUUAFFFFABRRRQAUUUUAFFFFABRRRQAUUUUAFFFFABRRRQAUUUUAFFFFABRRRQAUUUUAFFFFABRRRQAUUUUAFFFFABRRRQAUUUUAFFFFABRRRQAUUUUAFFFFABRRRQAUUUUAFFFFABRRRQAUUUUAFFFFABRRRQAUUUUAFFFFABRRRQAUUUUAFFFFABRRRQB5Z42+Md14U8bT+HrPw/Y3pgt452uLzX4NPB354AlGDjHYmrngL4oaj4y8Qvp1zoOl2USQNMZrPxLa37DBAwY4vmA5+90H415X44F14o8c3Ov2fhnxhaGWCO3aG78CwagvyZ+ZTLJgZz2Aq98Pb7UvCnipL248N+KbiKaM27R2/w+tdP+8RgtLE+7aCMkdPypUrv4vP9bfoFT3dv67n0PeXdvYWc13ezRwW8KF5JZGCqijqST0rl/h34/tPiBok17BALO4gmaOW0aTc6r1jflVOHXDDj88VxvjjS/EmreNpJ3+G954j0y1KC3jl8URw2cxHIkNswxuySOcg46Vz7atr/AMQ4Ydf0j4UXEFxCzW8ep6b4pis5wI22tGSFBKggjBBHpRF33/rzHLTb+vI+gK4Xxn491nQPFmneHvDfhX/hIb2+tZLkL/aKWuxUYA8upB6+orr9JmurjR7SXUbI2F28KtNamYTGFscrvHDYPGe9eI/Ei38Ua/4/h+z+GNVs72yimjsZ9K8X2llNdW+7mTy2QuAcDI7dDSldSS9fyf6gtYtnX2fxJ8Vw+LtE0XxT4A/sSPWJnhhuf7ZiucFULn5UX27kda9Kr5i8FW/i3WLvSPGGmeGPFXiKGylka0/tTxnbyR7vmjb5HhDDuOMdK+mLSSaaygkuoPs87xq0kO8P5bEcruHBweM96uzS1Jv71iWopf8AWwf9dD/6C1S1FL/rYP8Arof/AEFqQyWiiigAooooAKKKKACiiigAooooAKKKKACiiigAooooAKKKKACiiigAooooAKKKKACiiigAooooAKKKKACiiigAooooAKKKKACiiigAooooAKKKKACiiigAooooAKKKKACiiigAooooAKKKKACiiigAooooAKKKKACiiigAooooAKKKKACiiigAooooAKKKKACiiigAooooAKKKKACiiigAooooAKKKKACiiigAooooAKKKKACiiigAooooAKKKKACiiigAooooAKKKKACiiigAooooAKKKKACiiigAooooAKKKKACiiigAooooAKKKKACiiigAooooAKKKKACiiigDivEXwf8AAvivXJtY1/Q/td/OFEk32udN21Qo4VwOgHasrw78H9L8G/E2313wpaW9hpY06S3nhNxLJI8rOpDDfuGMDH3h9K9KooWmwPXcDXKfDjwve+D/AAeNK1OW3lnF3cTbrdmZdskrOOSAc4PPFdXRStrcOlgrzzxx4V8YXvjvSvEngqTQ/Ms7Ga0kj1dpgrCRgcgRjPb1Feh0UNJtP+trfqPpY8w8D+HviR4WWw0k2vgq18PwylporKS9eYKzFm2GUnnJPU4r0+iiqbuT1uFRS/62D/rof/QWqWopf9bB/wBdD/6C1IZLRRVLWNLi1rR7rTbia5gjuYzG0trMYpEz3VhyD/k8Une2g1ucnZ/FXRJ/FPivSrqSK3t/DUKTS3SymUyrtJlIRVyNhAU43HJ7dKreCPilZ+PPHesafoE9vd6LZWcMsNysEkcjSMSHB344GBj5R9TXmviiXQPC2tpoWkeDNJhOiThrbUYvGlrp94xIDNv3HzBu6EMenTHFdb8LvFUPi/4oeIdRm0pbDUP7Pt0l+z6zDqEDIGbbtaJMBvX5j9BTjq4/10ev/AJnpf5fmht18afE0el6xrFl8O/tWi6TczW819/bcSf6ptpPllN3pwAeverel/G/SvFHj7wxoXhO5t7uHUUnOpCS3mWS3Kxb0CMwUHkEE4PTtXG+NvCmoeFbK/8ADi+P76W38QT3F0ugab4aS7uJFdtz4O/cAOBnK9OO9HgfS7aT4r+FXXV/FkVzYQ3LNp/jLekrqYimbVdpXHOSC2cAdcU6OrXN2/Gzv+I5aJ/P/gfM+iKKKKQBRRRQAUUUUAFFFFABRRRQAUUUUAFFFFABRRRQAUUUUAFFFFABRRRQAUUUUAFFFFABRRRQAUUUUAFFFFABRRRQAUUUUAFFFFABRRRQAUUUUAFFFFABRRRQAUUUUAFFFFABRRRQAUUUUAFFFFABRRRQAUUUUAFFFFABRRRQAUUUUAFFFFABRRRQAUUUUAFFFFABRRRQAUUUUAFFFFABRRRQAUUUUAFFFFABRRRQAUUUUAFFFFABRRRQAUUUUAFFFFABRRRQAUUUUAFFFFABRRRQAUUUUAFFFFABRRRQAUUUUAFFFFABRRRQAUUUUAFFFH0oA8V8U/8ACxtG8feH9Eg+JYWLxBPcCMnQ7b/RVjXcowcl8525yOnetLU9avvCHxK8GWfi3xer27afem9u7h1soLmQEbC0YbYCM4H/ANejVvhnrvjXUr3xF4hvV0nXLVwvh+O0mMkdiI33B2OBvLkc8cKcYzwKmp6dca/8VvAdt4+0jTZ7ptLvjdWm0XEBcbcMA4x745x6nrRDRRXXX7rO3/BFUtq/T7+ZHsSsroHRgysMgg5BFLSKqogRFCqowABgAUtAwooooAKKKKACopf9bB/10P8A6C1S1FL/AK2D/rof/QWoAlooooA8g8RfA691jxlq2u2fiTTbcanKsrQXnhq2vjHhAuA8pJHTsBXQfD34cah4J1S6ubvW9Nv4riER+VZ+HrbTyCDkMXi5bvweOa7+iiPuqyB67nH+LPAcmu63a6/oeuXOga7awNbJeQxJMrxE52PG/DDPI6VU0P4dahF4msvEHjPxVc+JdR05JFss2kdrDBvGGbYnViOMk13dFC02B67hRRRQAUUUUAFFFFABRRRQAUUUUAFFFFABRRRQAUUUUAFFFFABRRRQAUUUUAFFFFABRRRQAUUUUAFFFFABRRRQAUUUUAFFFFABRRRQAUUUUAFFFFABRRRQAUUUUAFFFFABRRRQAUUUUAFFFFABRRRQAUUUUAFFFFABRRRQAUUUUAFFFFABRRRQAUUUUAFFFFABRRRQAUUUUAFFFFABRRRQAUUUUAFFFFABRRRQAUUUUAFFFFABRRRQAUUUUAFFFFABRRRQAUUUUAFFFFABRRRQAUUUUAFFFFABRRRQAUUUUAFFFFABRRRQAUUUUAFFFFABRRRQAVnXOgaZd+ILLXLi236jYxyRW8/mMNivjcNoO05wOoNaNFAbhRRRQAUUUUAFFFFABUUv+tg/66H/ANBapail/wBbB/10P/oLUAS0UUUAFFFFABRRRQAUUUUAFFFFABRRRQAUUUUAFFFFABRRRQAUUUUAFFFFABRRRQAUUUUAFFFFABRRRQAUUUUAFFFFABRRRQAUUUUAFFFFABRRRQAUUUUAFFFFABRRRQAUUUUAFFFFABRRRQAUUUUAFFFFABRRRQAUUUUAFFFFABRRRQAUUUUAFFFFABRRRQAUUUUAFFFFABRRRQAUUUUAFFFFABRRRQAUUUUAFFFFABRRRQAUUUUAFFFFABRRRQAUUUUAFFFFABRRRQAUUUUAFFFFABRRRQAUUUUAFFFFABRRRQAUUUUAFFFFABRRRQAUUUUAFFFFABRRRQBF5T/8/En5L/hR5T/8/En5L/hUtFAEXlP/AM/En5L/AIUeU/8Az8Sfkv8AhUtFAEXlP/z8Sfkv+FHlP/z8Sfkv+FS0UAReU/8Az8Sfkv8AhR5T/wDPxJ+S/wCFS0UAReU//PxJ+S/4UeU//PxJ+S/4VLRQBF5T/wDPxJ+S/wCFRyxOJIf38hy/ovHyn2qzUUv+tg/66H/0FqADyn/5+JPyX/Cjyn/5+JPyX/CpaKAIvKf/AJ+JPyX/AAo8p/8An4k/Jf8ACpaKAIvKf/n4k/Jf8KPKf/n4k/Jf8KlooAi8p/8An4k/Jf8ACjyn/wCfiT8l/wAKlooAi8p/+fiT8l/wo8p/+fiT8l/wqWigCLyn/wCfiT8l/wAKPKf/AJ+JPyX/AAqWigCLyn/5+JPyX/Cjyn/5+JPyX/CpaKAIvKf/AJ+JPyX/AAo8p/8An4k/Jf8ACpaKAIvKf/n4k/Jf8KPKf/n4k/Jf8KlooAi8p/8An4k/Jf8ACjyn/wCfiT8l/wAKlooAi8p/+fiT8l/wo8p/+fiT8l/wqWigCLyn/wCfiT8l/wAKPKf/AJ+JPyX/AAqWigCLyn/5+JPyX/Cjyn/5+JPyX/CpaKAIvKf/AJ+JPyX/AAo8p/8An4k/Jf8ACpaKAIvKf/n4k/Jf8KPKf/n4k/Jf8KlooAi8p/8An4k/Jf8ACjyn/wCfiT8l/wAKlooAi8p/+fiT8l/wo8p/+fiT8l/wqWigCLyn/wCfiT8l/wAKPKf/AJ+JPyX/AAqWigCLyn/5+JPyX/Cjyn/5+JPyX/CpaKAIvKf/AJ+JPyX/AAo8p/8An4k/Jf8ACpaKAIvKf/n4k/Jf8KPKf/n4k/Jf8KlooAi8p/8An4k/Jf8ACjyn/wCfiT8l/wAKlooAi8p/+fiT8l/wo8p/+fiT8l/wqWigCLyn/wCfiT8l/wAKPKf/AJ+JPyX/AAqWigCLyn/5+JPyX/Cjyn/5+JPyX/CpaKAIvKf/AJ+JPyX/AAo8p/8An4k/Jf8ACpaKAIvKf/n4k/Jf8KPKf/n4k/Jf8KlooAi8p/8An4k/Jf8ACjyn/wCfiT8l/wAKlooAi8p/+fiT8l/wo8p/+fiT8l/wqWigCLyn/wCfiT8l/wAKPKf/AJ+JPyX/AAqWigCLyn/5+JPyX/Cjyn/5+JPyX/CpaKAIvKf/AJ+JPyX/AAo8p/8An4k/Jf8ACpaKAIvKf/n4k/Jf8KPKf/n4k/Jf8KlooAi8p/8An4k/Jf8ACjyn/wCfiT8l/wAKlooAi8p/+fiT8l/wo8p/+fiT8l/wqWigCLyn/wCfiT8l/wAKPKf/AJ+JPyX/AAqWigCLyn/5+JPyX/Cjyn/5+JPyX/CpaKAIvKf/AJ+JPyX/AAo8p/8An4k/Jf8ACpaKAIvKf/n4k/Jf8KPKf/n4k/Jf8KlooAi8p/8An4k/Jf8ACjyn/wCfiT8l/wAKlooAi8p/+fiT8l/wo8p/+fiT8l/wqWigCLyn/wCfiT8l/wAKPKf/AJ+JPyX/AAqWigCLyn/5+JPyX/Cjyn/5+JPyX/CpaKAIvKf/AJ+JPyX/AAo8p/8An4k/Jf8ACpaKAIvKf/n4k/Jf8KPKf/n4k/Jf8KlooAi8p/8An4k/Jf8ACjyn/wCfiT8l/wAKlooAi8p/+fiT8l/wo8p/+fiT8l/wqWigCLyn/wCfiT8l/wAKPKf/AJ+JPyX/AAqWigCLyn/5+JPyX/Cjyn/5+JPyX/CpaKAIvKf/AJ+JPyX/AAo8p/8An4k/Jf8ACpaKAIvKf/n4k/Jf8KPKf/n4k/Jf8KlooAi8p/8An4k/Jf8ACjyn/wCfiT8l/wAKlooAi8p/+fiT8l/wo8p/+fiT8l/wqWigCLyn/wCfiT8l/wAKPKf/AJ+JPyX/AAqWigCLyn/5+JPyX/Cjyn/5+JPyX/CpaKAIvKf/AJ+JPyX/AAo8p/8An4k/Jf8ACpaKAIvKf/n4k/Jf8KPKf/n4k/Jf8KlooAi8p/8An4k/Jf8ACjyn/wCfiT8l/wAKlooAi8p/+fiT8l/wo8p/+fiT8l/wqWigCLyn/wCfiT8l/wAKPKf/AJ+JPyX/AAqWigBqKVXDOz+7Y/pTqKKACiiigAooooAKKKKACiiigAooooAKKKKACiiigAqKX/Wwf9dD/wCgtUtRS/62D/rof/QWoAlqvf3MtnYyT29jcX8iY221s0YkfnHBkZV9+WHSrFU9Xs5dQ0W9sra4a1muLeSKOdesTMpAYfQnNKV0rocbXVzjLD4lXd74nvdMj8O3E5iRPLtbfUdOa6RufM8xPtfA+7jA9c9q6TRdZuNS17X7KeONI9NuYoodoO4hoI5Du5IJy5HGOMfWuYjtb7XdF0zQ7LQ49PXS7uDfqEVzA9vC0EgMiw7GMm47WTDImNxz6G74cs53+JHi27XUrqOGO8gVrJVi8qU/ZIvmYlC+R7MBx0qtL/f+moJaO/8AWp2F1M9vaSzQ20t08aFlghKh5CP4QWKrk+5A965lvGlwJ7mzuPDup6Xdpp897C161u8biPaCD5MzkcuvXGeeeK6LUdQttK0+a9vpDHBCu52Clj9AACSSeABya5VbO8utJ1/xFq0LW095YPDa2j/etrdUYgNzjexYs2Onyj+GsqkrQk10T/LT8Soq7S80WvDHie81rWJbS6igSNNIsL4GNSD5k/m7xyT8o8sY79ck0qeJ9Vv1nu9B0JL3TbeWSJpZb3yZpzGxVvJj2EMNwIBZ0zj0wa5v4Yx38fiK8GqXNtcSHw/pJja3t2hCp/pGFIZ3yw7tkA+grpE8L6rYLPaaDrqWWm3EskrRS2XnTQGRizeTJvAUbmJAdHxn0wK6Ky5ZtRMKTvBN+X5EsXilb/U/Dv8AZnlyWGs201x5jqQ4CorLjnj73IINdHXHSaZbaL4r8HaZYIUtrS0uoYlJyQqpGBk9zXY1l1djQ5IeMNRm0yTXLLQ1uNBjV5PPF5i5ljUnMiQ7CpUgEjMgJHbPFXYvEMlx42tdLt/JexuNKa/WUA7yfMVRg5xjDZ6Zrlb9oNHe68JQ61f/ANlpHiW1svD11d3FvFLkiNbiIFFXGQMoWA78ZrQ0a807UPiRbSaZ9pt47XRHt0tbzTrq1faJUwy+bGoZRwODnkcURu5L5/lLf52FPRO39ar9LmxN4h1K71S8tPDmkwXq6fKIbqe7vDbpvKhikeI3LkBlznaOcZ64hfxebnT9HurCDy/tmqCwuYbgfPAw3rIvynG4MmM8j61NN4e1K01S8vPDmrQWS6hKJrqC7szcJvChS8eJEKEhVzncOM465ytV0aHQbLw1ZwSSTE68k0s0pG+aRxK7ucADJYk4AAFH8vrH81f5bjez9H+T/Hb8Tc1XXrmDV10fRLCO/wBRMH2l1nuPIhhj3FQXcK7ZYggAKfunOMVlat4zu7Hwj4ku/sMdrrOh2jTPbSuZYmOwsjBhtLIcEdFPBGBWrqug3M+rrrGiX8dhqIg+zO09v58M0e4sA6BkbKkkghh945zmua8Z6G+m/DLxle3t2b3Ub7TZTcTiPy0AWMhURMnaoyeCSck5Jqobq/8AWv8AkP7St/X9M79DujUnqRmsPXta1Ox1PT9P0XTrS9ubxZX/ANLvWtkRY9ueVikJJ3DjA+tbcX+pT/dFcX4qsdT1bXLe3OmaY7RCRrGRfFF3p9y6YXzDthhzjO3I3MOnrUyveyJhqrss3PiPxNpd1p41jQdJjtry8itDJa6xLK6FzgNsa2QEf8CFa2v32t6fb+foum6fexxxu832vUHtiuBkbQsMm7v1xjjr28/0HStV1cR6lb+HopfsN9IkaX/jfUplE0MjJu2PCykblJGR07Cur8VXeo3ujw+HrWIQ6xrERjlNu5kjs4jxLLvKrkAEhcgFmI464Gny6b9Pu0/VjWk9dv8Agu/6Ff8A4S3xB/wr2/8AEtzpGm2appZv7NY7+S5LHy94WRTFHgdOjH+tdJqGpjTvDdzqs3lgW9o1w+8sqDam45KqzAcdlY+x6VwmpeZo3wp8SeFL3eJtL0i4W0lYcXNqEIjcHuyjCsOoIz0YVu3ugazJ4Im0+31ltUNzAwmXU7KOVpYmjwYU8l7YKT2Zm79R1FT2bh8vxKgrcvP53/D+vmYa/EzX3QOnhQMrDIIi1Ygj/wAFtdv4b1S61rw7aahf6dJplxOpL2ku7dHhiP4lVuQM8qDz0ryRfDfjZECJYa+qqMAC8mAA/wDB5XoPw5fUZ/C0FzeXq3FtIG8iOSCVZ4iHYOJJJLmcvyOPm4A9MYNDPW6NrXNZ/sZbA+R532y+itPv7dm843dDnHp+taZOAa5bx4Xj0/SrlLa6uEtdWtppVtbaSd1RWOW2RgsQPYVoWfinT9QkSOC31ZGkO1TPo93CAfcvEAo9zis7vll3v+i/W43pLysvzf8AwDNsfF1wfhOni28tYpbhdMN9JbxMY0YhC20E7iBx71asNQ8XXE1u15oWiw2shBkki1mWR0U9wptVBPtuH1ritD0e/f8AZ6uBHqGoam15oLrb2JiiIiJjbCxiOMO2cgfMWPStPR7nwzp9xazxJ43M8YAC3EGtyx5xjlHBQjnuMCtepdRJbef6HV6Dq8+qXWsxXCRqthqDWsWwEZURxtk5J5y56Y7U7w3rn/CQ6Q199n+z7bu5ttm/f/qpni3ZwOuzOO2cc9awfCFjcN4p8TXo1W8W3GrOpsAkPksfIi+Yny/Mz9Hxx0qPStDGn+JbzRNL8Ua/brAf7Se28qyaHFxNKxQM0BkxuV+pyARg+iVnGPml+RGvveTf3Xa/yH6B4y1DVdX0u1uIbZUvJNUWQorAgWtyIo8ZY9VOW9T0x0rorTWftXiXUtJ8jZ9hhgl83fnf5m/jGOMbPU5zXHaR4P0jwt8QNKaLyzqd4mqXElxFZIhuFknjkxI+7cSgcKvBzz93ob76tFoPxD1ubULLVWhurS0EMtppVzdIxXzdw3RRsARuHB9aNCpX6f1qbviTV59HtbGW2SN2uNQt7V/MBOFkkCsRgjnB4qpq+v6vB4mh0XQtKsb2VrNrt5LzUHtlUBwmBthkyefasnxHr1prenaf9jh1CLydasN323Tbi0zmYfd85F3dO2ccZ6ip9Y1BdF+JEF/eWepS2r6S0Ils9NuLoB/OVtp8pGwcDPOKlXur93/6TdfiRJvW3Zf+lWf4FnV9e1/R/C8moajp2m210t5bQpHBdyXUbJJNHGxJMcRBw5wMEcA+1dTXn/jfXLXxB4Hu4dPGqWjreWI8250ue1K5u4gCnnxhWI64we2RXbabaTWNisF1qNzqUikk3F0sSu2T0IjRF46cLTXX+uxp9lFl3WONnkYKiglmY4AHrWJqWvyp4eh1fRV06e3kAkMup3r2UaxYJ37vKc+nUAYOc+tfx2WfwyLQEBL69tbObPeKSdEcfipI/GofF/h+a++z39pLqjy2QAgs9Ot9PZgSeXVrqM7TjGcOOAOM0tbX87f196J0vb+v63MK0+I3iG5uxHN4e0eygmbbaXl5rU0UF7/1yc2nPsDgsOV3Dmuv1TW5tI0zT7i7tI2nurq3tZI4pyyRtK4UlWKgsAT/AHRn2rzm/ufFtlaatdeIv+E0/saCLzFIj0J2EQTMnmLg55BwFB4963fE2grYfD7T7FJNU1C0h1G1mY2tuEnihEqsdi2caEbRk5Rc+9UunqvzFK9nbs/yOu1DWfsOvaTpvkeZ/aTSr5m/Hl7E39Mc56dRUPhTV7jXfDNvqN0kSTStKCsYIX5ZGUdST0UVxmnWumy/EDQJ9Cg8UOsH2k3EmrJqZijBiIXBuvlBJ445q/4A0e+l8Eq8fiTU4FuHmESRx2pFri4c5j3QknOMfOW6npwRGtyU3zf15GgniLxP/bkmkTaDpK3hszdwbNYkaNgJFQh2NsCv3iRgN0xx1rQ8M67faxNqttqunW9jdabdC2dba6a4jfMSSAhmjQ9JAMbe1edX96y6zb6lofirxrfTtOLG8uY/DolRbdGffsK2OwkPxlc598cdV4FsbNtR1TUNL8Ta9fF7vOoWup2MdtmcxIAWQ20bj5BHjGB9eauGq18/zVvwdvUt6P8Ar+t/wO4rkNM8QeL9Y02DULHw7ogtrhd8Xna5Mr7e2QLQgH2BP1rpNSk1CKxZtItra6usjbFdXLQIRnnLqjkcf7P5V5VJp15ZjSI7LR4nttWnMFo1h4/1PyR+7eTI2xBQuEONo9OKnVsfQ9F8Na5ea3Z3xv7GCzu7K8ktHihuTNGzKAchyiHB3f3ax38S+ME8QxaMfDeh/aZbV7oMNdm2BFZVIJ+yZzlh29as+FNO1LQIriC80iwsLFme5lnTXLi/leQ4yWM0KnGB13HGOlYAGqXPiT/hYcUNybGFPscNhsPmSWB5ecJ13l9rhepRMYycU+qv21+635/gTrZ976ff/l+J1tlrN3P40vtHnihSK20+2uQUyW3yPKrDccZA8sY4B6/hHc+INQuNWu9P8OaZb3z2DIt3Ld3ht40ZlDBFKxuWYKQTwB8w564xIbeTVfizeXen6zdWkC6RYy7bVYWS6UyzkBjJGxxj+6VPJ56Y0L2ylsfFki6BrMFhf6whuJra7sWuY5fKCI0i7XTY2GjU5Yg4GF4JptbfMt2u/l+SFm8YPJpun3NpbeTNLq8em3dvcjLQsXKuMqcE9CDyCCDXVVw+uaNHoml6JAk0lxLN4ht57i4lxulkdyWYgcD0AHQACu1lMiwuYEV5Qp2K7FVY9gSAcD3wfpUxfutvv/7bH9bmevPby/WX6WM//hI9J+wWN79rAt9QmWC2cow8yRsgLjGQeD1x0q3Bf21ze3VpDJuntComXaRsLDIGcYPHPFeKX9x4nFtNpbaRpZPh+8u9VYJqspK7HWZVA+z84WfC+uD93GDuQaz4ot9B1rXIbbTrGTUdcgSKaG7a5zieG1ZSrQp8hVGwwOeeAOtVFN/Pb52X+f3Ff8N/X4Hq9ZlprP2rxLqWk+Rs+wwwS+bvzv8AM38YxxjZ6nOaxBeato3jzTtLudVk1O11a1uZQlxFGht5IjGQEMaj5CHIw24jA5rHvtF1nWNdubp9G0xNREccdyLHxtf2x2jJTekUCju2CR60gdz0aiuH0TRfEmk6kk6aRb7W+SQ3HjLULwKhIyRHNCVLccdPTIzXcE4GTwKOgHHt4k8VjxQNFHh7Ri5tzdCX+2pceWHCdPsv3uc46e9Jb+Lr+XxUmmtDbCFtXnsSwVt3lpaiUHOcbtxx0xjt3rOvY4r/AFJvF99afatHmX+zZLeaLer2JP8ArmjI5BkweR/q+azNEsLPTPGtrZ6ZawWdrF4kuxHBbxiNEH2AHAUcDk0Q7Ps/zX6P8yKja1Xdfk/1X5Hb6jr96Nak0jQNNiv72CFJ52ubk28MSuSFBcI7FjtY4CngckZGc6/8aXEOj3DpZLbalZ6laWV1bTHzFUTSxruRhjcCkmVPHPUcEUzxpDe+H7e/8WeH7uKC9W3jinguoTNDOqv8pKhlYMN7chuh5B4xS8UaJ/ZPhiW4uLpry+v9a0+a5uCgQMRcwqqqo+6oAAAyT1JJJzTjZySfdfmaK17f1sdtBqFrc31zZwy5uLXb50ZUqVDDKnkcg88jIyCOoNWa5vU/9F+ImhTxbg15bXNrLtHDKoWRSfoVYD/fPrXSUri6hRRRQAUUUUAFFFFABRRRQAUUUUAFFFFABRRRQAUUUUAFFFFABRRRQAUUUUAFFFFABRRRQAUUUUAFFFFABRRRQAUUUUAFFFFABRRRQAUUUUAFFFFABRRRQAUUUUAFFFFABRRRQAUUUUAFFFFABRRRQAUUUUAFFFFABRRRQAUHkUUUAVNLsP7L0yGz+1XV55Qx593J5kr85yzd+tW6KKACiiigAooooAKKKKACopf9bB/10P8A6C1S1FL/AK2D/rof/QWoAlooooA5Cx8NeKNHe9j0jxBpCWtzez3apdaNLK6GWQuVLLcqDgtjO0VvaRBrUKy/29qFhesSPLNlYvbBR3yGmkz29PxrRooWisD1d2FQ3lql9Yz2kpYRzxNExU8gMMHHvzU1FJpNWY02ndHP6V4St9L1S6uBN9otrjTbXTvs80YPyQeYMsejbhJgjA6e/DofAnhG3QrB4V0WJSckJp0QGfwWt6iqbcndkpJKyMJPCen2mtadfaVBbafFZecWt7a2VFlaRVXcduMEBB2OfwrdoopDOYufD2vQ+JtQ1XQta022S/SFZIbzTJLgqYwQCGWePrnpin6ZoGtJ4oXWte1awvGjs3tY4rPTntgAzqxYlppM/cx2610lFC02/q4mk1Ywl8DeEklkkTwvoqyStukYafEC59SdvJ5qO48GaUJbF9Js7PSzbXsd1J9mtVTztgYBTtx/fPPOPTmuhoo/r7h7mPdeD/DV9qMmoXvh3Sbm9l/1lzNYxvI/GOWK5PAA/CqGs+AdD1Dw9qWnabpun6XPfWklsLu3skDRh1IJ4wT16ZGa6eihabB1uIq7UC9cDFc/r+ganqGvaZq+i6naWNzYRTw7buya5SRZfLzwssZBHljuetdDRQC93Y5rTtJ8U2MyKdW8PraGYyTQ22hSwl9zbnIP2ogMxJO4g8nJBrpaKKAM3xFpP9v+GdS0jzvs/wButZLfzdm7ZvUrnGRnGemRSazo/wDa3hS+0Xz/ACftdlJa+ds3bNyFd23IzjOcZrTopNXVmUpNNNdP6/Q80i+E/lQpH9h8AvtULufwdknHcn7T1rutB02TSNEt7CUWCmEEBdOs/ssCjJICxb329f7x554rRoqrsiyCgjIIoopPVWGZfhnRf+Ec8L6do/n/AGn7FAsPnbNm/A64ycfma1KKKBt3dzM0fRv7JuNUl8/zf7QvTd42bfLyiLt6nP3M5461zXib4ef2/wCKn1r/AIkFxvtI7byNZ0T7cI9jO25D5qbc78EYP3RXcUUdvL/hhLS/n/nf8zhfDvw5/sPxZb61jw9beRbyweTo2hfYTL5hQ5dvOfdjZwMdzXdUUUAZmu6N/bVvaRef5H2a9gu87N27y3DbeoxnGM9q06KKOlv6/rQOtzK8SaL/AMJBopsPtH2fNxBN5mzf/qpkkxjI67Me2c81al0/zdYt7/7XdJ5ETxfZklxDJuKncy45YbeD2yfWrdFA76WMrxNpD654euLKCRYrjKS28jDISaNg8ZPsGUZ9qz/Evh+bxn4St7O7jt7KcywXMkF9bC7iDIwYxugdQ6nGOGrpaKBHm3/Cq/8AqH/D/wD8I3/7pr0aBHjt40lKM6oAxjTYpOOcLk4Htk/Wn0U76WDrcKzPDmjf8I/oMGm+f9o8lpG8zZtzudn6ZPTdjr2rTopAcfpnhvxXotm1lpniHRhaieWWMXGiyu6iSRnwWF0oOC2M4FaXhnQb7R5tVutV1C3vrrU7oXDtbWjW6JiJIwoVpHPRAc7u9b1FC0ACMgiuH0rwf4n0fR9N02DXNAnh0tQtrJc6BK8iYUruyLoYbBIyAOp9a7iigd3axR0qLVYbVl1y8s7yfflXs7RrdQuBwVaSQk5zzn8PW9RRQIyoNF8nxbe639o3farOG18nZ93y3kbduzznzMYxxj3qlrugapfeIdP1jRNUtLG4s7ea3K3di1yjrIYyThZYyCPLHc9a6Kigd3e5z9tZ+MVuomu9d0OWAODKkWizIzLnkBjdMFOO5Bx6GugoooEY6eF7Bdc1XVP3rTarbpBcISNgVQRkDGckEA5J+6vTvWh8GadB4QsfDqTXRtLGSGRJWcGV2ilEoLNjBJZeeOcnpXQ0ULTb+rB1uZ13odteeINO1iV5RcafHNHEqkbGEu3duGM/wDGCO/Wsm58Pa9D4m1DVdC1rTbZL9IVkhvNMkuCpjBAIZZ4+uemK6eilYDI0q28SQ3ZbW9V0u8t9hAjtNMkt3Ddjua4kGOvGPxrXoopgFc7/AMIhBHr9vqlvdSKyX8t/LG6ht7PB5O0EY2gAA857/h0VFG2omk9GYN54F8JajeS3eoeFtFurmZt0k8+nxO7n1LFck1TvPh34eNn5Wh6TpmizG4t5nns7CNGdYpkl2HaFOCUx1464OK6qihaWt0GYn9nXV341GpXUfl2thbNBaAsCZXkKmR8DoAEVRnnl+2CduiijpYAooooAKKKKACiiigAooooAKKKKACiiigAooooAKKKKACiiigAooooAKKKKACiiigAooooAKKKKACiiigAooooAKKKKACiiigAooooAKKKKACiiigAooooAKKKKACiiigAooooAKKKKACiiigAooooAKKKKACiiigAooooAq+fd/wDPl/5FFHn3f/Pl/wCRRVqigCr593/z5f8AkUUefd/8+X/kUVaooAq+fd/8+X/kUUefd/8APl/5FFWqKAKvn3f/AD5f+RRR593/AM+X/kUVaooAq+fd/wDPl/5FFHn3f/Pl/wCRRVqigCr593/z5f8AkUVHJNcmSLNpgh+B5g5+U1eqKX/Wwf8AXQ/+gtQBF593/wA+X/kUUefd/wDPl/5FFWqKAKvn3f8Az5f+RRR593/z5f8AkUVaooAq+fd/8+X/AJFFHn3f/Pl/5FFWqKAKvn3f/Pl/5FFHn3f/AD5f+RRVqigCr593/wA+X/kUUefd/wDPl/5FFWqKAKvn3f8Az5f+RRR593/z5f8AkUVaooAq+fd/8+X/AJFFHn3f/Pl/5FFWqKAKvn3f/Pl/5FFHn3f/AD5f+RRVqigCr593/wA+X/kUUefd/wDPl/5FFWqKAKvn3f8Az5f+RRR593/z5f8AkUVaooAq+fd/8+X/AJFFHn3f/Pl/5FFWqKAKvn3f/Pl/5FFHn3f/AD5f+RRVqigCr593/wA+X/kUUefd/wDPl/5FFWqKAKvn3f8Az5f+RRR593/z5f8AkUVaooAq+fd/8+X/AJFFHn3f/Pl/5FFWqKAKvn3f/Pl/5FFHn3f/AD5f+RRVqigCr593/wA+X/kUUefd/wDPl/5FFWqKAKvn3f8Az5f+RRR593/z5f8AkUVaooAq+fd/8+X/AJFFHn3f/Pl/5FFWqKAKvn3f/Pl/5FFHn3f/AD5f+RRVqigCr593/wA+X/kUUefd/wDPl/5FFWqKAKvn3f8Az5f+RRR593/z5f8AkUVaooAq+fd/8+X/AJFFHn3f/Pl/5FFWqKAKvn3f/Pl/5FFHn3f/AD5f+RRVqigCr593/wA+X/kUUefd/wDPl/5FFWqKAKvn3f8Az5f+RRR593/z5f8AkUVaooAq+fd/8+X/AJFFHn3f/Pl/5FFWqKAKvn3f/Pl/5FFHn3f/AD5f+RRVqigCr593/wA+X/kUUefd/wDPl/5FFWqKAKvn3f8Az5f+RRR593/z5f8AkUVaooAq+fd/8+X/AJFFHn3f/Pl/5FFWqKAKvn3f/Pl/5FFHn3f/AD5f+RRVqigCr593/wA+X/kUUefd/wDPl/5FFWqKAKvn3f8Az5f+RRR593/z5f8AkUVaooAq+fd/8+X/AJFFHn3f/Pl/5FFWqKAKvn3f/Pl/5FFHn3f/AD5f+RRVqigCr593/wA+X/kUUefd/wDPl/5FFWqKAKvn3f8Az5f+RRR593/z5f8AkUVaooAq+fd/8+X/AJFFHn3f/Pl/5FFWqKAKvn3f/Pl/5FFHn3f/AD5f+RRVqigCr593/wA+X/kUUefd/wDPl/5FFWqKAKvn3f8Az5f+RRR593/z5f8AkUVaooAq+fd/8+X/AJFFHn3f/Pl/5FFWqKAKvn3f/Pl/5FFHn3f/AD5f+RRVqigCr593/wA+X/kUUefd/wDPl/5FFWqKAKvn3f8Az5f+RRR593/z5f8AkUVaooAq+fd/8+X/AJFFHn3f/Pl/5FFWqKAKvn3f/Pl/5FFHn3f/AD5f+RRVqigCr593/wA+X/kUUefd/wDPl/5FFWqKAKvn3f8Az5f+RRR593/z5f8AkUVaooAq+fd/8+X/AJFFHn3f/Pl/5FFWqKAKvn3f/Pl/5FFHn3f/AD5f+RRVqigCr593/wA+X/kUUefd/wDPl/5FFWqKAKvn3f8Az5f+RRR593/z5f8AkUVaooAq+fd/8+X/AJFFHn3f/Pl/5FFWqKAKvn3f/Pl/5FFHn3f/AD5f+RRVqigCr593/wA+X/kUUefd/wDPl/5FFWqKAKvn3f8Az5f+RRR593/z5f8AkUVaooAq+fd/8+X/AJFFHn3f/Pl/5FFWqKAKvn3f/Pl/5FFHn3f/AD5f+RRVqigCOF5HQmWLymz03ZqSiigAooooAKKKKACiiigAorjDbSW3jywt9Cv9RuJFLSayLi8kmhWIxtsGxiVjkL7SBGF4DE8Yrs6Olw6hRRRQAUUUUAFFFFABUUv+tg/66H/0FqlqKX/Wwf8AXQ/+gtQBLSO6xozyMFVRlmY4AHrS1meJNJbXvC+p6THMIWvbWSBZCMhSykZI7jmhjW+pWsfGOiahexW1tcyhpzi3kltZYorg4ziKV1CScAn5CeBmtK01O0vrq8trWXfLYyiG4XaRscorgZI5+VlPGetctfwa34ktrHSrnQpNLW3u7a4uLx7iJ4sQusmIQjFySVC/OqYBJ9i/w7pF/H468TahLeX9taSX6GO0MUYguB9liXzNzR7zggj5XAyvTrVJLX5/p/mxdLm/feIdG0u9hs9T1ews7qf/AFMFxcpG8n+6pIJ/Cp7nUrS0vLO1uJdk167JbrtJ3sqliMgYHygnmuP0+RPD/wDbNjrui399c6hezyiW3sHuUvonJMas6gqm1MR4kKgbfTmobOwvdLfwBZanxcwzXCum/d5Y+zylU3d9owue+Klar+v60/qwpaO39f0z0CsTUPGvhXSb6Sy1XxLo9ldR43wXN/FG6ZGRlWYEcEGtiWaO3heaeRYoo1LO7sAqgckknoK8wi8dWOka7rU+leIPA99a6jdrco9z4oW3dMQxxlSqwuOsZOd3ejS9iraXO/0jxNoOvvKmg63p2ptCAZBZXccxQHpnaTjODVW98c+EtNvZbPUfFGi2lzC22SCfUIkdD6FS2Qa5Xwz4p07UfHtzqOoeIPCaTXllBY21npuvLdySMskjZ5SM8+YAAAelWviRrn9n6j4fihhM/wBlvl1K+2/8u9pGCjyn6GQH3Ab0o108/wDP/LUNNbf1p/nodVb+JNGvBYNY6lb3ceou8drLbOJUlZFLMA65HAU9T2x1rTrjfGV7LaeIvCVzZ2Fxqbfa59sFo8QdwbaTkGR0XHf71aWu6R4Y1HTxq/i/Q9NkW2g3O+p2sUzW69SuTuHXspIz0zQyVq7GtqWp2mkWRu9Ql8mASRx79pb5ncIowATyzAfjVqvKb7R49B+FF/dWmjrYf2hrFrfJpttEkXlqbqBY0C/KqsURcg4AYnJ716Zpt3NfWKz3WnXOmyMSDb3TRM64PUmN3Xnrw1H9fgiul/Uq6t4o0DQJY49d1zTdMklUtGl5dxwlwOpAYjIqgnxD8FSyLHH4v0F3YhVVdThJJPQAbqz/ABL4xs7TVJNKTxd4a0RkUCeS8vkNzETzgQsVCnBBDMT1+6e/JeE/Fnh7RdPnfQPGGhQwG7nWTTtZ1hGMrrIy+ek2dyeZjeRsZctkY7kddwadtD0/V/EWieHxEde1iw0wTZERvbpIfMxjONxGcZHT1qra+M/Dd+YBp2uWN/8AaLgWqGznWceaUZwpKZC/KjHnHSq3irVILj4d391YSw3gvrNobQwSh0nklGyMKw4ILMBmua1XVHfwv4BvrWxnvJk1GJWtIGQSeYtrOrpl2VQVYEHLDoaV3d37r8X+n6gknt2b+5XX3/oegadqNrq2nxX2ny+dbTDMb7SuRnHQgHtRY6ja6is7WUvmC3ne3k+UjbIpww5HOPXpXnlnpo1f4KaQG0O11ORNj+ReWkdyYVMhEjojZVnVC2Bnk+vQ1vDHhTRrXxVYTaHof2yFJHa6udU8Mw2D2mFJRoXFvCSd+BgBuCTkY5cdXr/X9f0xPRXR6Vpup2er2ZutOm86ESyQltpX543KOMEA8MpHvjirdcT8MY9RXRL17i6tXsW1TUPIhS2ZZYz9smyWkMhDZPTCLj3re8Ta/b+HtNWe4v8ASbF5JAkbarei2iJ74Yg5IGTjv6jrTlow6s02u7dbxLRp4hcyI0iQlxvZFIDMF6kAsoJ7ZHrUteXNqvhSfUl125+Juh/8JBGnlw3EV9CLeKM8mIQmQ5RiASS24kDDLgAdl4W8TW3iGG4SLVtE1Ga3YBm0i+FwNpHDMvVCSDxlunU0dAN+ivHfC/8Awqz+zrz/AISr/hD/AO1f7Vv/AD/7S+y+f/x9y7d2/wCb7uMZ7Yr0bwo3hQ6bKvgdtGNkJcyjRzF5YkwPveXxuxjrzjFFg62Nys638Q6Ld6pJplpq9hPfw58y0iuUaVMdcoDkflS69aXd/wCHNRtNNm+z3lxayRwS5xsdlIU59iRXG3W3VPDul+H9J8P31hqFnPbMolsniisPLdS7icjy3+UMMIzFt2OhNJb29P6+X9WH0v8A1/TO4h1G1n1K50+KXddWqI80e0jar52nOMHO09PSrVc7pdtPH8QNfuJIJFgltbNY5WQhXK+buAPQ4yM+mRUeueGfBLXiXuv+HdGnub64SAT3GmxyvLI3CgttJ7YyaCb6Ns6aiuH0DQ9K0L4qarBoWmWWmwNo1qzx2dukSljNPyQoAzgDn2ruKOl/63Kas7en4pMz9W8QaNoEccmu6vY6YkpKxteXKQhyOoBYjNZf/Cx/BH/Q5eH/APwaQf8AxVQ+KvF1ro95Hp6+I/DmkXDpukfVb1VkjB+6Vhyu8HnksvTvXDeHfE/h3S9U1mfR/HGjxzC923X9rapE8eqt5SN9oQgr5Ryxj+UMuI8bcjgjrf8Ar+v603YPQ9U1HXtH0exjvdX1WxsLSUhY57q5SKNyRkAMxAOQM1Qi8deFbmF5LLxDpt6qSRRv9juVuCjSOETIQkjLMBk8VNF4ksJfCT66t5Z3FrHA0kktjcCeIlR8yo4A3cgjoDntXnqzT23wK0m3mtJTfaZf2NrPaIVD+bHdxgoNxAycAgkgYYHIFNL3rPuvxdgSTSPUNP1O01SGWWwl81IZ5LeQ7SuJI2KuvIHQgjPT0otdTtL29vbS2l3z2Mix3CbSNjMgcDJGD8rA8Z61wGjXkCfDDxDqGq2uoQRxapqFxJbQXbW9wpFw5CeZC/BzwdrEe5FU/wDhE5PDN1baprM07QaleQQ3KWWs6kksMkhWOMs7XLCcBticqnHPQYpRTdvO33uwStFyXa/4M9Ls9TtNQ+0/ZJt/2SdrebKldjqASORz1HI4rFPxG8EAkHxj4fBHUf2pD/8AFVn+CtVt/wC3fEemeXd+f/bE8m/7HN5ONqf8ttvl5/2d2faqGo66qfGzTiIy1ha2b6ZPdg/LHdXBSVIz74hH4yIO4pQ95R80n+F/z0JvpLyb/O35anbRaxp899BaQXSSzXFsbqHy8sskQKjeGHykZZe/Oau1zE//ACViy/7Atx/6OiroL22+2afcW29o/OiaPevVcjGR+dDvycy8/wAG1+g18TT8vyT/AFMmHxnoU96tvHdyYkkEcdw1rKtvI5OAqzlfLYk8YDEk1pRanZzatc6ZFNuvLWKOaaLaflSQsEOcYOTG3Q9ue1cdPp2u3/g+LwhJobWxWCK2k1ITxG2CJgF41DeZuwuQpQAHHzcZqfSdLh1r4h33iiF7prD7Hb29rNFdywpJLFLcLKrxKw37SV++pHPHersv6/yJu7HU6nrGmaLbfaNY1G00+DOPNup1iX82IFJpmtaXrduZ9G1Kz1CEHBktJ1lUH6qSK4PVddS08Yy69pFhqF9cNaraG2vdB1GMR7GY7o5ktnwG3fMNpztU54pum68t54wt9f1jT9QsJ4bZ7Vbex0LUpfN3spzJK9smQu3gbeMk5qY6/wBf1cp6HpdMlmjt4XmnkWKKNSzu7AKoHJJJ6Cn15zq3izw/4gNxp+reOvDFlo8haOW3tNVjae5j/utIWXywRwyqpPo4pO+yGu7PRI5EljWSJ1dHAZWU5DA9CDTq890jxfoejzW2naf458M6lpgZYoo7nVY1uIE6BQ6lhLjgAEKfVieal+IH/CN/8JV4Z/4TL+y/7N23ef7V8vyd+xNv+s+XPXFOTtqhLszvaK4PR3+EkesWx0BvBa6l5gFsbI2gm3ngBNvzZ+ld5QBR1TXNJ0OFJda1Oz06ORtqPd3CRBj6AsRk0t5rFhYafHfXNyotpZI445UBcM0jBExtz1ZgM9Oa564k/sHxtqOq6pYXl1b3lvDFa3VpZyXTQhd26IpGrMoJO7OMHPJ4FY0+jagvgmdItOngS48QW93bWCx5e3g+1RMcqudvR5CP4QxzjBojq0n/AFql/wAEOv8AXb+kej1FDd29zJNHbzxSvbv5cyo4YxvgNtYDocMDg9iD3rm/FGuPaXkdlFe6pZKU3SyWPh+5vXOemyVEeNSMHIKsenTvzlvLoWkzyXXh2bxXYXkx3XUkvh7ULhLx/wC9Krw8tz1UocYGcAACA9Hubq3s4hLdzxwRl1QPK4UFmIVRk9ySAB3JqWuI8V339peALG5JlLNqenhzLZS2hZhdxAnypfnUZHAOeO56129O2l/P/L/MOhnw67pk+l3GorexJZWryxz3Ex8tIzExWTJbGACp56cZ6VRs/HXhHULyK0sPFOi3VzM22KGDUYndz6BQ2Sa4u7/5IT4z/wCumr/+j5q9Qi/1Kf7op2srjlo2l3f4Fey1K11E3Is5fMNrO1vN8pG2RQCRyOeo5HFWq4rwZf3I17xFZDSbw251idjfh4fJB2J8uPM8zP8AwDHvXa1EdYxl3Sf3olPVrs2vuYVg3njvwjp95LaX/inRbW5hbbJDNqMSOh9CpbINV7HVFm1fWtY1G+FppemObOPzZvLhXYA0sr5IGdx2gnoEOMbjXJWXj620aa/hsNc8C3ltPezXMcs3ioQviRy2CggcAjOPvGi92vS/5W+9aldPn/w/4noek+ING1+OSTQtWsdTSIhZGs7lJghPQEqTis6f4geDbW4kt7nxboUM0TlJI5NShVkYHBBBbIIPGKwPBniTTr/xXqtxc694Ye91TyVt7LStaW8YiJGyeUQk85wFPANO8Y66tp8QvDUaRGS30+RrjUZwfltUmUwRFvq7H6BSafVLuSno32Ott9f0q7urOCzvoblr6B7i2aA+YksaFQzB1yuAXXvznjvWjXE+Jr640/4meH5bTSrvVHOm3qmG0eFXA32/zZlkRcfjnnpWj4o0bwg1tJrXirQNLvHijC+bd2Mc8rc/LGuQSSScBR1J460P4U/63ZVtbG3fala6aIDey+WLidLeL5Sd0jHCjgcZ9TxVqvMLnSZPCvgDw9FHpRE516G7bTrMRpsaWZpPKTJVBt3beoHFekWVxLd2UU89nNZSOMtbzlC8fsSjMv5MaFs/J2/BP9SL+9byv+L/AMieiuBiivPEui6x4gTVL61ure5u4tOWG5dIYRA7RjdEpCybmjJO8N97AxgVevZPDHiDwLp/ijxXo2n38P2FLmMXVmk7J5iqdiBgTljgADknFHS/a34/8MX1t6/gdLd6rZ2N3bW11N5c11v8ldpO7Yu5uQMDA55p2m6ha6vpdrqOny+daXcKzQybSu9GGVOCARkHoRXmElrD4M0/wdFd2UltzfyyWthaSTeS8sbuUVIlJ2qXxkDAA7Cuz+HH/JLvC/8A2CbX/wBFLVJfF5Nfjf8AyIvt8/0/zOlorz7xtYaVP8QNFuvEugy6vpcem3cfGjyagkczSQFcqkb7SVV8Egd6yorHwcPE2qT614MmubWVLYaeX8KXE4jiWIDYoEB8vBGNpwR6VPRPv/m/8iutj1G5uYLO2kuLuaOCCMbnllcKqj1JPAqWuR+IOoaSvg280q81rSdIuNRtWS0Gp3a2yseP73OBkZwDjPSsQfFTAA/tH4f/APhZf/c1AanpNFZfh/X7DxDpq3On6hpt6yYW4/s28W6iikxkrvAGevcA47Cs3x5/b48N3Unh7UoNNENtNLPcNCZJQFTKiME7QSQcsc47Cpm+RNvoOK5nZHTVW1HULbSdMudQ1CXyrW1iaaaTaW2ooyTgAk8DtWbo9tBrfgbTYdZhj1CK6sITPHdIJVlJRSdwbIbnnmuA1LRdGh8PePdV8OaTY6dp6aRLYRNZWqQrcOiu0r/KBuAYqgPqjVclyycX0FStUUX3t+J6faapZ311c21rNvltdnnLtI2713LyRzkHPFW6898MyL4kufFY0+a+sGk+yrFM9vLbSxuIFw2yRVbGQOoww45BrrvDeqSa14bsb+dFjnli/fIvRJAdrgfRgRSFF3SZqUUUUDCiiigAooooAKKKKACiiigAooooAKKKKACiiigAooooAKKKKACiiigAooooAKKKKACiiigAooooAKKKKACiiigAooooAKKKKACiiigAooooAKKKKAMnSrU2+sazJ/Zf2Nbi4ST7T9o8z7WfKVS+3+DG0Ljvtz3rWoooAKKKKACiiigAooooAKil/wBbB/10P/oLVLUUv+tg/wCuh/8AQWoAlooooA8hgsPA7eNNau7/AMDzS2c8UHkM/g65cGQGTzSB9nOCcrk9/fFdF8KbTTbHwittpuiSaRfqg+1mbR5bMyNltpJdE8zA9Cce2a7yihaB1MCGz8Xqp+0a5ojtngpo0y/zujVG/sdZbxP4Zlv5Ib0Q3k7PLaWbxJEpt3A3Zd+pOM5HUCutooE1cK861nVpr6HxZ4f19dZijnufKsJ7fQbm5jWAwRHIaKMhv3nmdWz+lei0ULQe6MrSPEVlrMrw2cGpRtGu4m80q5tVI6cGWNQT7Ak0+y0Gysr3ULwK09zqDZnlnbeSoGFjHogBOFHHJPJJNaVFAHIXOg/2XrfhS302O5ksrS7uG5y62yNBIFXOOFBIUZ9h6VuX2gWeparb3uoGW4FrhobZ3/co4ORJs6M47Fs4xxg5NadFHmK25zfj61uLzwk0NnBLPL9tsm2RIWbC3UTMcDsACT6AGukoooKvpY5fxNqc+keJtDuWj1OTT9twtyLG0nuRuKrs3pErHrnBIqxb+NdLubmOCO11xXkcIpk8P30agk45ZoQFHuSAK6CihaCKV3pNtfalZ3tzvdrIs0MRb92HIxvI7sBkA9txrn9Y8LuNZ0m60mKRoxrQvruPzAEiH2eVGdQfVmXIGck5x1NdbRSt/X4/oO/9fK36nL+Ebe7sfhraQzW0sd1HbSfuXVlcNliBjgg/rXmdlbajPp9vLeaz4gtbiSJWlg/sTxK/lMRyu4XmDg8ZHWvdKKErCOd8CQS2vg+2huNRvtSkWSUm5v7W4t5SDIzBdlwTIAoIUFiSQBzXRUUVTd3cRzN5aXDfFTSbtYJTbR6PeRvMEOxXaa3KqW6AkKxA74PpW9fvex2MjaXb29zdDHlxXM7Qxtzzl1RyOM/wn+tWKKL+6l2/zb/UfW5xGs2vjfV5NNb+xfD8P2G9S7x/bc7b9oYbf+PQY+9156VvabdeJ5b1V1jSNJtbXB3S2uqyzuD2+RrdAf8Avr862aKS0/r+uwPURjtUk5wBngZriodQ8RQ61deIZdNvZtJuYlt4NLU/6RFsJKzeWTgFyxUjgqAhb+IL21FAzlPDLeItOF1Za9C1zc3Ly3ttMJWaGPed32ZnwSuwnAOMFeg4Iqlrlp431lbAf2L4fh+x30V3/wAhudt+w52/8egxn1/Su4opdvK34bCeqafW/wCO5y1jD4kXxC2o3fh7RIHuUjgubmHXJ5XESFiNqG2VSQXY9Vznk9K2NB1R9a0eLUGt/s6Ts5iXfv3R7iEfOB95QGx2zjmtGiqA5jxpe3enPoN3bLqD28WqKbxbC3lnYw+TKPmSIFmXds7EZxTx480g/wDLn4g/8JzUP/jFdJRSWg272/rv/mUdR0m21c2v23e8VvMs4h3YSRl+7vHcA4YD1APasDxZ4Wa8hludIidrq6vbGS4iEgVHENwjGTBwNwRSM9SFA5wK62imtGmvULnKeFdI87w7rVhrFk3kXeq6hvhnjKiWJ53wcHqrKcg9was2vg+KK6tXvdW1PUoLJxJaWt5JGY4WAwrZVFaQjsZGfnnrzXRUUlol5W/AJPmbb6t/ic34UtLiBvEIuIpoPP1eeSNmQqWQqgDLkcjg89OKtQ+EtIi8Ny6G9u09pPlp2mctJM5OTIz9S+ed3UEDGMCtqikklFR7JL7kJaO/m397ucvFp1xa/EDTWAubi3g0WWBruYFtzebFgM+MFiAT74JrqKKKq+iX9atv9RW1b/rZL9DyqPZe+AZtBn8OXF9qFvezTGHUdClkiRDdNukjaWPyncRuWUBjnoM9K0Ph94e0/TPEF1NpGjgWQtgE1G80KLTrrzCx3RgLDEWTABzsHOOW7ei0Ulo7j6WPLfHFul744lj1Dw/pU1vHZQmG+u/BtzrDysWk3R+ZEwCBcKcH+/TPBeiafB45tNQtra1s5IraaER6f4Ju9JSTfsOZJZCVONnAOPvGvVaKFoD1CsvxNFJceEtXhgjaWWSymVERSWYlCAAB1NalFTOPNFx7lRfK0ylosbxaDp8cqMjpbRqysMFSFGQRWffXfiyO+kXTdF0a4tQf3ctxrEsTsMd0FswHP+0a3aKuT5pNkRXLFI4Xw3ZeN/D2kNY/2N4fuN13c3O/+250x5szy7cfZD034z3xnjpXa2rXD2kTXsUcVwUBljikMiK3cBiqlh7kD6CpaKG7jOa8Xf2zqEC6N4c821uptsr6iwZYrdFbO3IILMxXbtHQEk9gc+7vvE99qtlqNrpdzaWuk7vttk0nzXzMu1ljwcMEHzAt944Axya7WipB6nG+Pb7VoNO0K90F7yD/AImKPO0en3F1tiMMv+sgiIdl3FeOMHGelcxrvibxTd6LPBY6lcyTyFQqWvgrVLSQ/MM7ZmkKpxnkjFes0U1oEveVvK35/wCZR1nRrHX9Mew1SOSS3d0ciOZ4mDIwZSHQhgQwByCOlZkPgjSoJ45ku9dLRsGAfxBfOpIOeVaYgj2IINdDRRsHkch4Z0JL7wbquk67Zyi3vdQ1BZYZA0ZkikuJCCCMEAqcgjscirkfgXSYnVku9eyhBAbxFfkcexmwfpXR0U7g9W79b/ict4ejv9PtPE8yWEks7apcTW0Eh8r7R8ibcM3GCRjd0rpbZ5ZbWKS4h8iVkDPFuDbGI5XI64PGakoqUrJLskvuVhW39W/vdzm/Czm21PXtKmG2aG/a5QH+OKb51ce27ev1Q1zV5rL6npd5pXiNdbhubfWzNFJF4du50MEN0JIgGii2sCiKN2T1yc16KbaA3QuTDGbhUMYl2DcFJyVz1xkA49qkpx921uiX4Wt+RV9/W/5/5/kZuka9aa35v2OHUIvJxu+26bcWmc5+75yLu6ds44z1FMs/Dem2lpfwPCboak7vePcnzGuNwxhv9kLhQOgAxWrRQ7C1ORTRpdP8d+HkgF3cWdppd5CbibMmzMkBRWfHXCkDPJC9+TW3LoFlc69Hq155tzPAP9GjlfMVucYLInQMc/eOTjgEDitOind6f11b/UDnfGFrPdR6L9mgkm8vWLaR/LQtsQMcscdAPWuiooqVomvO/wCCX6Ct71/K35/5nERafrui2Gq6Dpultcw3txcTWeoedGIrcTsXYSqWD5V3bARWyMcjJxtWvhLT4BpAkM06aPbpDawu/wC6RlXaJNnQvjgE5x2xW7RT/wCB+Gw3q7+v47nOeI9MvLzxBot3bQmSG0F15zBh8u+EqvGcnJ44zT/ANtPZ/Dnw5bXkMkFxDpdvHLFKhVkYRqCpB5BB7GugoprRNd7fhf8AzFb+vu/yMbUrrxPFesuj6RpN1a4G2W61WWBye/yLbuB/31WBotp430dtSP8AYvh+b7dfSXf/ACG512bgo2/8ehzjb1469K7iipSs7/1/Wg3r/X9dznfEV9rtp4Du7yC2EOsRxhhDYbrvB3DITMYL/L/sfhTf+E80j/nz8Qf+E5qH/wAYrpKKfW4iK1uUu7SK4iWRUlQOoliaJwD6owDKfYgEVT8Q2s194Z1S0tU8yeezljjTIG5mQgDJ4HJrRoqZRUk49yotxaZhWmhtc+B9P0fUZLi1ZbSGK4FtNsf5VUMm9egOCCVOcdD3pnijRGn+HWq6JoVoitJp0tta20e1FBMZVVGcADoPSugoq5NybfcVP93y26HJ6Ru0bWPE+oamj21oiW8hmkUhCqW43EHocYI4q94Is5rLwbYJdRNDPMr3MkTdY2ldpCp9xvx+FbU9vDdQmK6hjmjJBKSKGBIORwfQgGpKQkkkkFFFFAwooooAKKKKACiiigAooooAKKKKACiiigAooooAKKKKACiiigAooooAKKKKACiiigAooooAKKKKACiiigAooooAKKKKACiiigAooooAKKKKAIvtVv8A894/++xR9qt/+e8f/fYqWigCL7Vb/wDPeP8A77FH2q3/AOe8f/fYqWigCL7Vb/8APeP/AL7FH2q3/wCe8f8A32KlooAi+1W//PeP/vsUfarf/nvH/wB9ipaKAIvtVv8A894/++xR9qt/+e8f/fYqWigCL7Vb/wDPeP8A77FRy3MBkhxNGcPk/MOPlNWail/1sH/XQ/8AoLUAH2q3/wCe8f8A32KPtVv/AM94/wDvsVLRQBF9qt/+e8f/AH2KPtVv/wA94/8AvsVLRQBF9qt/+e8f/fYo+1W//PeP/vsVLRQBF9qt/wDnvH/32KPtVv8A894/++xUtFAEX2q3/wCe8f8A32KPtVv/AM94/wDvsVLRQBF9qt/+e8f/AH2KPtVv/wA94/8AvsVLRQBF9qt/+e8f/fYo+1W//PeP/vsVLRQBF9qt/wDnvH/32KPtVv8A894/++xUtFAEX2q3/wCe8f8A32KPtVv/AM94/wDvsVLRQBF9qt/+e8f/AH2KPtVv/wA94/8AvsVLRQBF9qt/+e8f/fYo+1W//PeP/vsVLRQBF9qt/wDnvH/32KPtVv8A894/++xUtFAEX2q3/wCe8f8A32KPtVv/AM94/wDvsVLRQBF9qt/+e8f/AH2KPtVv/wA94/8AvsVLRQBF9qt/+e8f/fYo+1W//PeP/vsVLRQBF9qt/wDnvH/32KPtVv8A894/++xUtFAEX2q3/wCe8f8A32KPtVv/AM94/wDvsVLRQBF9qt/+e8f/AH2KPtVv/wA94/8AvsVLRQBF9qt/+e8f/fYo+1W//PeP/vsVLRQBF9qt/wDnvH/32KPtVv8A894/++xUtFAEX2q3/wCe8f8A32KPtVv/AM94/wDvsVLRQBF9qt/+e8f/AH2KPtVv/wA94/8AvsVLRQBF9qt/+e8f/fYo+1W//PeP/vsVLRQBF9qt/wDnvH/32KPtVv8A894/++xUtFAEX2q3/wCe8f8A32KPtVv/AM94/wDvsVLRQBF9qt/+e8f/AH2KPtVv/wA94/8AvsVLRQBF9qt/+e8f/fYo+1W//PeP/vsVLRQBF9qt/wDnvH/32KPtVv8A894/++xUtFAEX2q3/wCe8f8A32KPtVv/AM94/wDvsVLRQBF9qt/+e8f/AH2KPtVv/wA94/8AvsVLRQBF9qt/+e8f/fYo+1W//PeP/vsVLRQBF9qt/wDnvH/32KPtVv8A894/++xUtFAEX2q3/wCe8f8A32KPtVv/AM94/wDvsVLRQBF9qt/+e8f/AH2KPtVv/wA94/8AvsVLRQBF9qt/+e8f/fYo+1W//PeP/vsVLRQBF9qt/wDnvH/32KPtVv8A894/++xUtFAEX2q3/wCe8f8A32KPtVv/AM94/wDvsVLRQBF9qt/+e8f/AH2KPtVv/wA94/8AvsVLRQBF9qt/+e8f/fYo+1W//PeP/vsVLRQBF9qt/wDnvH/32KPtVv8A894/++xUtFAEX2q3/wCe8f8A32KPtVv/AM94/wDvsVLRQBF9qt/+e8f/AH2KPtVv/wA94/8AvsVLRQBF9qt/+e8f/fYo+1W//PeP/vsVLRQBF9qt/wDnvH/32KPtVv8A894/++xUtFAEX2q3/wCe8f8A32KPtVv/AM94/wDvsVLRQBF9qt/+e8f/AH2KPtVv/wA94/8AvsVLRQBF9qt/+e8f/fYo+1W//PeP/vsVLRQBF9qt/wDnvH/32KPtVv8A894/++xUtFAEX2q3/wCe8f8A32KPtVv/AM94/wDvsVLRQBF9qt/+e8f/AH2KPtVv/wA94/8AvsVLRQBF9qt/+e8f/fYo+1W//PeP/vsVLRQBF9qt/wDnvH/32KPtVv8A894/++xUtFAEX2q3/wCe8f8A32KPtVv/AM94/wDvsVLRQBF9qt/+e8f/AH2KPtVv/wA94/8AvsVLRQBF9qt/+e8f/fYo+1W//PeP/vsVLRQBF9qt/wDnvH/32KPtVv8A894/++xUtFAEX2q3/wCe8f8A32KPtVv/AM94/wDvsVLRQBF9qt/+e8f/AH2KPtVv/wA94/8AvsVLRQBF9qt/+e8f/fYo+1W//PeP/vsVLRQBF9qt/wDnvH/32KPtVv8A894/++xUtFADUkSRcxsrDplTmnUUUAFFFFABRRRQAUUUhOFJAJIHQd6AFormdA8XSa1r1/p506eEW7gBmMf7sbRncRIdx3h1ymQCMHBBrpqA8gooooAKKKKACiiigAqKX/Wwf9dD/wCgtUtRS/62D/rof/QWoAloorL8T/2l/wAInqv9h7v7S+ySfZdmN3mbTtxnjOemaGNK7salFeYN/wAIt5mmf8IH9m/4SL7Zbef9m/4+vK3jzvtf8ePL3583+LGPmxW14Yl1IePvFscVpatpx1GMy3DXTLMr/ZIcAReWQw6clx1PHHNJX/r0/wAxdLna0Vwunxp4g/tm+13Wr+xudPvZ4hFb372yWMSEiNmRSFfcmJMyBgd3pxUNnqF5qr+AL7Uh/pE01wzNt2+YPs8oD47bhhsds1K1X3fj/X+Qpe67f1oegUUV5tefYP8AhK9e/wCEk/4TD/j7T7H/AGb/AGr5Hk+RF937N+7+/wCZnvnOaOpVtLnpNFcH4N2/8JrqX9l/8JF/ZH9nwbf7Z+3Y8/zJd+z7Xznbszt46VW+IFnpunatoUs2p6zbSatrEVvKsGt3cSFCrZARZQqDOwfKByR60dvP/OwPS/l/lf8ArzPRaK4TxJJpPhPV/CBvtR+yWMN7cA3Op37PgtbyfelmYk8nAyfYV0d/p9xrSwXel+J7/T7dowy/2etrJHKDyHzLDJnj0IGKPQnrY2KK8s1W+um+GGp3+raxLf2K63bG1vLxYYz9nS6hUsxjRF27ldg2Pukc16TpuqafrNit5pF9bX9q5IWe1mWVGIODhlJHBo3/AK8kVbS/qvuLVFcX45/5DOh/bf7d/sv/AEj7T/Y32zdu2rs3/ZfnxnOM8VhXH9m/btK/4Rn/AITb7X/aNvv+2f2x5Pk+YPM3+f8Au9u3Od1EdXbzsKWiueo0VyXjT+0JLqxstI1bUre8vg8cVram2SJwoyzyPLBKygAgfKCeRx1Nc1p1hf6H4X1jw9qep6jv03QnENjJLbT25h8tkVklS3ikJXYQQ2OvfOaiUkot9v6/r/gFKN2l3PUqK5rQbyz8TeCbRfD/AIgVdkMUT3mmSwzNE6qpKfMroDjqCM4PauT11tS/4R3xlb3OuXmr2NmtvBG93FArLPuDSAGKNARhoxyDgg1pJcra7GXN7nMeo0Vyng3/AJGDxn/2Gx/6R21YcmuQXNxPJaeMvGzRCZ0H2Tw2JolKsVKq4sG3AEEZ3Hp1ND0t5pP70mX3PR6K5LwPfajeXOsLeXmr31lFNGLOfVtO+xysCgLgL5MWQGzzt/GupndY7eR5A5VUJYRqWbGOwXkn6c0noC1JKK8i1vQ7u6msH0OfXtGtjcqqNquvaiG1FyCRAEExaFSAcyMAwIHykV3PhSC2tGuIUs9dtLllUyx6re3F2oxkfJJJI6dzwpBIxkULUGdJRXnV1oumt8VYNGOqa6Em0uW8kt11++Ub/NQKeJuON+FGBweOKzNL1Kwf4lQabHe27X0XiO+le1EymVUNpgMVzkDPeiOtl5N/c0iZvl+9L71c9YorzLxDpuueIvEV7p+j61qEq6ZdQ3EkVzd2lqkL8SJ5eLKV3VeOXOCQRk4NQXOq3M2j+F9REmra7OviN4zDMbQSlo4biNljZBFGy5UkMTyO/ahar7vxsjTl1fo/wTf6HqlFMgkaW3jkkheBnUM0UhBZCR0O0kZHsSPesXVdY1CSSfTtA0y4lvMbPtdxGYraEkfeLNgyYz0jDc8EjqB6ErU3aK5XQ7rVvDtja6R4igvNSMKrDHq9ujTi47BpEBLo3qSCvfd2DvGVzqKXfh+x0zU7jTP7Q1EwTT28cTvsEEr4Hmo6jlF5xTtroC1Ooorn7fw3qkNzHLJ401y4RHDNFJDYhZAD907bYHB6cEH3FdBSAKK5LVd2reOl0PUL26s7D+zxcQR2t09s93LvYP8AvEKv8gCHapH+syc8VgavdzP4C8b2AvJb+y09jDa3Mr72x5aM8Zc8vsYkbjk9iSQaFr/Xnb+v8wen9eVz0yiqmoWc99p5gtdRudNkbBFxarEzrjsBIjrz7rXJeJtJ13RfCer6pa+OdceeyspriNZLewKlkQsAQLYHGR6ik3ZNscU5NJdTuKKgsJXm062lkO53iVmOOpIGanJwCT29BVNWdmSndXCivJfFGlS39uJ9EufEOgwNcx7tR1LV9QVZHdwqQpbiXeod2VSxVQqklfbr/CltFY3jwzWOvWd80f7xb7Ubq+tyARkpI8joOemdrkdutJarUb0OrorzzxDpOnL8SNCsH1PWov7WF3JLBFrl7GrsqqwwqygIBlsBcD24rGuL7T7X4kXOkfboRenxHYvHbSXAaZ4xYqN+GO5h6tzz1NJPVLv/AJ2HbST7K565RXnnj59e1C5m0HSry3uTMkdyLG20nzZ4o1cEM8r3cUYBdTgEAkA4BwTUN3qWparodlNql/aXLR6/ZQtBDpslnJbSLOu5ZA00mTypBGBjkEgg046teq/F2Jl7qb8v0uek0Vi+J9O0+70uW71S5vraKxiklL2moz2mAFyS3lOu7GO+cfjXM/De0trr4c6frovdVur2607bcte6pczr5gGH/dySMqsGUjgAjkUm7Jvt/wAH/ItK7S7noFFc18OP+SXeF/8AsE2v/opap+Mvsf8Ab2l/8JP5f/CNeRP9o+04+zeflPL87PG3b5mN3y5xnnbWk48s3HtciL5lc7GivLrr7L/wivjr/hGvL/4Rn+xG+y/Z/wDj38/ypfM8nHy7NvlZ2/LnOOd1dlp0evReCWBurG61X7ITaPFbNBEG8v5AytI5PPU559BUPS/lb8b/AORdtvO/6f5m/RXm8P8AZ/kRf2p/wnX9teUPM2fb9vmY5x5X+i9f+A9K7Pwx/a3/AAjNj/wkX/IS8v8Af/dznJxu2/LuxjO3jOccU7EXNWiqmpaimmWwle3urks2xY7WBpWJ/AYUcdWIHqa5lW8XLrj6+9mWsGhEA0ITr5yKDu87du8syZOCmcYx85PFLqM7Giqun6gmpWpnihuYMMVKXMDRMCPZgMj3GQexrj/DGn67r/hqz1S58a61DLdKztHBb2IRPmIwN1sTjjuTS62A7qiqmm2c9hZCC61K61KQEk3F0sSufbEaIvH+7VLxbf3ul+D9UvdLXN3BbO8WE37SB97b/Fjrjvim9AWpsUVwl7HHoTaHf6Hrd/f3Go3sEJjn1B7iO+ic/vGVGJVNqZkzGFHy+hxWj4ZOPGXjQgZ/0+34Hf8A0SGj+vy/zBa/dc6qiuT1S28UeJbdYLRj4XgV1l85pBNcuyncEKo2xUJA3fOxZcrgZzWtpd7rLzi21nSVhYISbu1uFeByO2Gw6k9cbSB03HuAa1Fc34durifxb4thmnlkit72BYUdyVjBtYmIUdgSSeO5NQ+M/wDkLeEf+w4v/pNPSvt52/Erl39G/wALnVUVxN1pia78TdRtL+91RLa20u1kihs9UubVQzSThmIikUEkKvJz0pnjG10/wz4Y08veTRWcWtWcss+o38k2wecuSZJnYhePXAp9r9WvzsTL3b+Sv+FzuaKr2OoWeqWMd5pl3BeWsozHPbyCRHGccMMg8iq2vasuiaLNemMzSLtjhhBwZZXYKiA+7ED8aHoC1NGiuR8YC8Gg6QNRbUHH2yP+0W0NblXK7HztEBMoXdt6E9s1ymu/2T/Ys/8AwjX/AAnv9qZX7N5n9ubd24dfM+TGM/e4pLVvyYpOyv5XPWaKoaxpNpq9osd9NeQxxt5m60v5rVuh6tE6kjnoTiuK+GENjqfhFddg1DVryZ3uY83erXU6bRKwT93JIV+5twcZxz3obsm+w+x6JRXDfDbVNO1v4Y6Xp2ka5B9tttNhjnNlNFJNaMUxypDBTkHhlPQ8VJLb6zpnjDQ7GDxZqmpee8k13bXcNntFuiEFsxwIwPmNGBz3NXKNpcoHa0VxXgzW9KXXvEWkHU7Mam2sTyCyNwvnFdifNszuxx1xW94j1mTSLO3FpEk17fXKWlrHI2FLtkktjnCqrMcckLioTvGL7pfj/VhLVvyv+H9XNeiud03VdTh8RPoGvy2ktzLaG7trqyhaFXQMFdTGzvgqWTncQd3QYrO+z6vpvjXRrBPFeqakkwmnu7e7gtNnkKm0HMcCMD5jx455w1Utf6/rsPudnRXlngf/AJGTwx/2CNV/9LYa9OuZxbWk07AkRIzkDvgZpNpQU31/za/QI+87Ly/FXJaK85P9oWvw7Hjd9UvpNWWzGpSxG5c2zR48wwCHPlgbPlDbd3Q5zW6riT4qwuvRtCYj/v8ArTaakovz/BN/oS5Ll5ltp+aX6nU0VxPiDxJJF4u0+TT2mm0vSXk/tqaBz5cAdNqBgPvFSd7D+BfmOMik8R6i8HxE8K3Wn2Fxqwlsb7atnJFnaTb/AD5kdVK/Qk88A1K1LS1sdvRWRpWrT3Gs6npWoJGtzZsssZjBAlt5M7GwSeQVdTz1XPGcDXpiCiiigAooooAKKKKACiiigAooooAKKKKACiiigAooooAKKKKACiiigAooooAKKKKACiiigAooooAKKKKACiiigAooooAKKKKACiiigCGKztoXVobeKNkDKpRACoY5YD6nk+pqaiigAooooAKKKKACiiigAqKX/Wwf9dD/AOgtUtRS/wCtg/66H/0FqAJaKKKAOFtrHXb3xnrWnHxprUNtaQ280Qjt7HIMnmZGTbHIGwY7+pNW/h3Ddt4WGr3+oT6jd6kPOmLwW8WWXKceVGmSQqjLE9ByBVs/DrwSzEt4O0AknJJ0uHn/AMdrS0jw5ofh/wA3+wdG0/TPOx5v2K1SHzMZxu2gZxk9fU0IOphXBh1i7ivdW+G15NdW5/cy3aafJJH7q3nkj86Zqd5PeeLfCjXOm3Wnlb24AS5aIlh9lk5Hluwx9SK7KopLaCaaGaaCOSWAlonZAWjJGCVPbIJHHY0CauOliWaF4nLBXUqSjlGAPowIIPuOa81uvD6avpfii28PyeIIdT0u4+yWzf8ACT3rea/kxyBsNMFH+sxg56ZzzivTaw7/AMEeFNVvpL3VPDGjXt1KQZJ7jT4pJHwMDLMpJ4AH4UK1/wCv67/eN7DLPwZplldRXMV1rbSRMGUTa9eyoSPVHmKsPYgiq9x4QXWtU1G88SyJcrNA1nZww5UWsBIJYN18xiFJYYxtUDpk6Wk+FvD+gTSTaFoWm6ZLIu13s7OOFnGc4JUDIrVoBaHFXcGoWuv+DbfVriO6uIry5QXCDBlUW0m1mHZiOuOM9PStvW9J1HWplsvtq2ekMn+kiDP2i455jDdEQjqRljnAK9TqyW0E00M00EcksBLROyAtGSMEqe2QSOOxqWh67iStscl8QIIrXwGsFtGsUMV7YJHGgwqqLuEAAdhXW1Fc2tveQ+TeQRzxblbZKgZcqQynB7ggEehAqWgrokYd/oGpXl9JPb+LdZsI3I221vFZmOPjHBkt2b35Y9a53wtp+v65pdxc3fjjW0eK/urZRFb2AG2KZ41PNsecKM+/pXfVFb2tvaRtHaQRwIztIyxIFBZiWZsDuSSSe5NCDocz4utksPC0F9cXN5Pe6a8Yhvkkjin3OwjLHCeWchuVKbTjp0xPJ4SC6Rq6rfXF/qmo2bWrXt+y7iNrBFxGqqqgsT8qjqTzW7e2NpqdlLZ6law3drMNskE8YkRx6FTwawv+FceCP+hN8P8A/grg/wDialx5k0+oJ2s10Lc9hq8Xhm10/Sbq3trtIo4ZLmRC4jULhmReNzccZwO59DheM9FstI+Emp6baxbrcRDf5nzGVmkBdnP8RYkknuSa7K2toLO1itrOGOC3hQRxRRIFVFAwFAHAAHYVJVS96/mRa0eVHCeDI9O8NS+M0s7EWtja6yCttp9mzbQbW3J2RRKSeTnCj1Nc5dXc2kwW0HhbXfHMVvJf7poP+EYZlhhkkZ5Cpex3HBY4yWP1r1mG0t7aSaS3giie4fzJmRApkfAXcxHU4UDJ7ADtUtNu7Xkl+FvzsO2/nf8AE5Pwvq8T3z2r6r4n1OSYZRtW0J7VIsAk4cWsS8/7RPQY9+kv7GLUrGS0uHuEjkxua2uJIJBg54eNlYdOxHpViik9Rq6PPvDnhHSPEugwX+ptrDSx3U3lgeINQIQxyvGrDM5w2B19zXT6b4V0/Sb0XVrcatJIoIC3Ws3dwnPqkkrKfrjioJvh94MuJ5J7jwjoUssjF3kfTYWZ2JySSV5JPetLSdB0fQIZIdC0qx0yKRtzpZ2yQq56ZIUDJoQrGE3hO8eNtUe6hPiL7ULpJ8HylABQQevl7Cynvli2M8Vzum/8jtaZ6/8ACT3/AP6SV6dUUltBNNDNNBHJLAS0TsgLRkjBKntkEjjsaFpK/lb8v8hSjzJet/z/AMzg/iNH9r1nSbC08P6frV9NFNMqXejwXpRIygJDS3MATmQdC2c9sc1bBfG1/r2hQ6v4dgTTbK780ubKG2FsBE6hlMeoS5PzbdpQjDE8YFdzq/hzQ/EHlf29o2n6n5OfK+22qTeXnGcbgcZwOnpVOz8C+EdPvIruw8LaLa3MLbopoNOiR0PqGC5BojoXJ6adjernL3wXpczXFw13rqyOWkIj8QXyKCeeFWYAD2AAFdHQQCCCMg9QaTV1oCPPvBPhSy1fwLomo6hqPiCa6urKKWaT/hIb9dzFQScCYAc+lafiufw9cyW+n63a6/K9k4nhl06y1ElG2lcie3Xk7WIPzd+a6m2toLO1jtrOGOCCJQkcUSBVRR0AA4A9qlqpO7uhHkugSaRDcX8uqjx8SmoO1kHTXGUwALsyBkEZ3cNz616lY3sWo2Md1bpOkcgyq3Fu8DjnHKOAy/iBViiktkhW1ucx4/msk8LzQ3GmWOr3s/7vT9OvYVmW4uCPkGw9QOpPGFBJIArI1DxbpkWk6TY6bp1rPZOQdVsjbfLYWgBVy8fATbJtGCDwH4OCR3LW0DXSXLQxmeNSiSlBuVTjIB6gHA49hQltBFLLLFDGkkxBldUAMhAwNx78cc0f1/X6/wBMr+v6/QzdS8TafpTQiePUJ1mTzI3sNMubtCv+9DGwH0Jrg4dVtL3w74t0q6tvEFl/bF3c+TN/wjd/JiOSNVD4EQ9+CQeK9Pgt4bWBILWKOGJBhI41Cqo9AB0qSlbW/lb8U/0F2fZ3/P8AzMbT/EOmS29jHEbyE3MhtreO6sJ7d3ZULH5JEUgbVJ3EAds5rUurZLy0ltpmlVJUKMYZWicA+jqQyn3BBFNksbeW/gvJI91xbo6RPuPyh8buOn8I56/manqnqJK2x59o3g/R/EdrqC6o2rypaanLBGh1/UCuInBRiGnPzAgHPqARiulsfCGm6dfR3dvc6y8kRyq3GuXk6HjHKPKVb8QabeeBPCOoXkt3f+FtFurmZt0k02nRO7n1LFck1b0jw1oXh9pToOi6fphmwJTZWqQ+ZjOM7QM4yevrSjdJJ/0xvdmRd+E7nUGv7+6u411d5VewmRSUtFiJMS46kHLb+md5HQCuXl8w+NLzzwol/wCEnsN4QkqD9gXOM9q9SqKa2guTGbiGOUxOJI96BtjDowz0PJ596VrNeTX4NP8AQd9H5powNQ0jVbPxNNr3h5LO5lurWO1ubS9neFWEbOyOsio5BHmOCNpzkcjHPOeIfDXlaGP7fW2vptZ8RWc95D5e6DG+OMRhW+8AiKCSOTk4GcD0eop7aC6VFuYI5lR1kQSIG2spyrDPQg8g9qpbp+n3XT/QUrtNd1+ljA1bwol/Y2Oh2aWun+Hozm6s7eLYZlBBWFQMKqE5Leo47k0sWhT6NqOqTafNGNKvo5J5bRlOYrgjl4z02sMllP8AFyOpro6RlDKVYAgjBBHWpkrprvf8Rx0aOb+HH/JLvC//AGCbX/0UtTeI9Tu7DWfDcFpL5cd9qRguF2g70+zyvjkcfMinIweK27a2gs7WK2s4Y4LeFBHFFEgVUUDAUAcAAdhVXVdE0rXbVbbW9Ms9SgV96xXlusyhsYyAwIzgnn3rSpLmm5d2TBcsbPt+h594sttV1LxTcyabq+obNAdb11e8s7dbctEw/dBrSQv8jMP3jAZPXjjf1ODRNW+GC6n4hgk1i0h09r9ZtQsbeS4UeWX3iNkEYkCnGNoHr3rYfwh4akitI5PD2lOlkMWqtZRkQc5+Qbfl554xWpPbw3VrJbXMMc0EqFJIpFDK6kYKkHggjjFZ291xKT99Sf8AX9a/eeJxfD2zmhSWPwd4gZHUMp/srwzyD0/hr0X4eeGo/D/he3NxotnpmqTKRdmC1t4Xkw7bN/kAISFI6ccmp/8AhXHgj/oTfD//AIK4P/ia2tO0yw0ixSy0myt7G1jyUgtoljRcnJwqgAZJzVX7EW1uQavoVprYiF5NfxeVnb9i1G4tM5x18l13dO+cdutcevhSyPxBl006j4g+yLpaXAj/AOEhv/8AWGVlJz52egHGcV6DUX2aAXZuhDH9oKeWZtg3lc52564zziptqn/WzKeqt/W5kx2uneENNnnVtYuIWZd4ea81OTPQbVJkcDnnaMdzXnOow6Fb6nokegweOrfThdyHUIoI9bjRYTDIQAuBgeb5fCD9M17DRT63DpY5vwtqWkHdp2kp4g4zKX1e01D2GBLdL9Pl3euB1rpCQASeB3opssSTRPFMiyRupVkcZDA9QR3FDBHA6LrvhvT/ABNrN6umaZpdg65ttYitUj+37AfO/eD7+1sYHfBI3YzWr4VvrbxLpWoQ63pFrbahcO39oWMtuAZYmyImkU53Bogo5yMgr/CQOkaytXgige2haKEqY4zGCqFfukDtjt6U828JuhcmGMzqhQS7RuCk5K564yBx7UaWsxanl2n6V4fuLjUoh8IbHUEtL+a2juLHT9OVGVGwMiWVW3evAHpWp4P0zQ5fGGpLH4B03w9PpkcEluzWFqtypkEgZt8LOoGFwMEHrmujvPAnhHULyW7v/C2i3VzM26SabTondz6liuSau6R4e0XQFlXQdIsNMWYgyCytkhDkdM7QM4yaI6JX3sEtXoYzeHPENn4h1bUdC1vTLeHU5Y5nhvNKknZGSJI+GW4TghM9O9UNdh1iHUPCo12+sbyQ68uxrOye2VR9mn4IaWTJ98j6V3NRTWtvcvC1xBHK0EnmRGRAxjfBG5c9DgkZHYmltbyt+DL5t79mvwsc9qHh7W/+EsuNb0HWLC0NzaRWssN7pr3H+raRgwKzx4z5h4IPSs3xJBrUOmad/b2oWF6x1uw8s2Vi9sFHnLnIaaTPb0/Gu4qKe2gulRbmCOZUdZEEiBtrKcqwz0IPIPamtGn2af3O5EveT81b8LEP9qWf9sjSfO/002/2nytp/wBXu27s4x14xnNY/jRljs9KnmH7mHV7VpD2AMm1SfozLXR1W1HT7bVtNuLC+j8y3uIzHIucHB9COh9D2pdn2af3O497rvp+Bzfi2ysP7W0h7v8AtVpNSvFsf9E1u7tEjHlySbtkUgUn5MdAeevFU9J8Bj+1NZ/tS88QfZPtS/2f/wAVHe/6nykz92fP+s3/AHufwxXT3mgabqulQ6fr1nb6zDDtONQgjm3MBjeQV27uTyAOprNHw58EDp4N8P8A/grg/wDiaa0b/rt/XzG3dIdqnhma50GLQtOvZ4LCVyt7LcXUtxcNCclkWSRmbLfdyTwpOO2HReH20fV5rrR2ih0+6h23dmRgK6JtSSPHQ7QFYHggKeCOegAwMDpQQCCCMg9QaUldPzBdDkvA32z/AIVHoP8AZogN1/ZcPlfaCRGDsHLY5x7D9Ota2h6D/ZTT3V5dNf6ndkG5vHULuA+6iKPuIuTheepJJJJOlbW0Fnax21nDHBBEoSOKJAqoo6AAcAe1S1cpXk5dxHMeCv8AW+JP+w5P/wCgpR41jeE6Hq21mg0rU1uLnapYrE0ckTPgdl8wMfYE10UFrBbGT7NBHD5rmSTy0C73PVjjqeBzUtQrqMV2S/Cwlpfzv+N/8zi4LiHxJ49h1rw7c299a6dpU9utzHJugkmlkjIUOuQcCI7sZxuHetvQNCk017i/1O4W81e92/ablU2qFXO2NBztRcnAySSSTya2aKrol/W9/wBRnkXw90ywsvF+hXVnY21vcXmk6o1zNFCqvOReQgF2AyxAPevW5EWWNo5BuVgVYHuDTGtLdrxLtoIjcxo0aTFBvVGILKG6gEqpI74HpUtLTkjDt/m3+olo7/1sjiR4V1x/DyeE55rJtDVBAbzzXNzJbA/6kx7doJUBDJv6ZO0GrxGPizEB0/sNv/R611FRfZYPtYuvIj+0BPLE2wb9mc7d3XGecUa8yk+l/wAU1+oSV4ten4NP9Dlbma4m8WS+GtOvk8P20VolzG1rBF51yzu+7Z5isgC7Ru+UnLjOO9bT7JdJ8faVppuxqxhsbho5HjjimsVZo87lhVIyrkADKA5U4J5rrdS0nTtZtfs2safa38Gc+VdQrKv5MCKTTNH0zRbb7Po2nWmnwZz5VpAsS5+igCgZjxky/FK48o/LBo8azADu8zFOfoj8e9dJVLT9Kg06e8njaSWe9m86aWUgseAFUYAwqgAAfzJJN2klaKX9au/6g92/62t+gUUUUwCiiigAooooAKKKKACiiigAooooAKKKKACiiigAooooAKKKKACiiigAooooAKKKKACiiigAooooAKKKKACiiigAooooAKKi+zp/ek/7+t/jR9nT+9J/39b/ABoAloqL7On96T/v63+NH2dP70n/AH9b/GgCWiovs6f3pP8Av63+NH2dP70n/f1v8aAJaKi+zp/ek/7+t/jR9nT+9J/39b/GgCWiovs6f3pP+/rf40fZ0/vSf9/W/wAaAJail/1sH/XQ/wDoLUfZ0/vSf9/W/wAajlgQSQ8ycv8A89G/un3oAs0VF9nT+9J/39b/ABo+zp/ek/7+t/jQBLRUX2dP70n/AH9b/Gj7On96T/v63+NAEtFRfZ0/vSf9/W/xo+zp/ek/7+t/jQBLRUX2dP70n/f1v8aPs6f3pP8Av63+NAEtFRfZ0/vSf9/W/wAaPs6f3pP+/rf40AS0VF9nT+9J/wB/W/xo+zp/ek/7+t/jQBLRUX2dP70n/f1v8aPs6f3pP+/rf40AS0VF9nT+9J/39b/Gj7On96T/AL+t/jQBLRUX2dP70n/f1v8AGj7On96T/v63+NAEtFRfZ0/vSf8Af1v8aPs6f3pP+/rf40AS0VF9nT+9J/39b/Gj7On96T/v63+NAEtFRfZ0/vSf9/W/xo+zp/ek/wC/rf40AS0VF9nT+9J/39b/ABo+zp/ek/7+t/jQBLRUX2dP70n/AH9b/Gj7On96T/v63+NAEtFRfZ0/vSf9/W/xo+zp/ek/7+t/jQBLRUX2dP70n/f1v8aPs6f3pP8Av63+NAEtFRfZ0/vSf9/W/wAaPs6f3pP+/rf40AS0VF9nT+9J/wB/W/xo+zp/ek/7+t/jQBLRUX2dP70n/f1v8aPs6f3pP+/rf40AS0VF9nT+9J/39b/Gj7On96T/AL+t/jQBLRUX2dP70n/f1v8AGj7On96T/v63+NAEtFRfZ0/vSf8Af1v8aPs6f3pP+/rf40AS0VF9nT+9J/39b/Gj7On96T/v63+NAEtFRfZ0/vSf9/W/xo+zp/ek/wC/rf40AS0VF9nT+9J/39b/ABo+zp/ek/7+t/jQBLRUX2dP70n/AH9b/Gj7On96T/v63+NAEtFRfZ0/vSf9/W/xo+zp/ek/7+t/jQBLRUX2dP70n/f1v8aPs6f3pP8Av63+NAEtFRfZ0/vSf9/W/wAaPs6f3pP+/rf40AS0VF9nT+9J/wB/W/xo+zp/ek/7+t/jQBLRUX2dP70n/f1v8aPs6f3pP+/rf40AS0VF9nT+9J/39b/Gj7On96T/AL+t/jQBLRUX2dP70n/f1v8AGj7On96T/v63+NAEtFRfZ0/vSf8Af1v8aPs6f3pP+/rf40AS0VF9nT+9J/39b/Gj7On96T/v63+NAEtFRfZ0/vSf9/W/xo+zp/ek/wC/rf40AS0VF9nT+9J/39b/ABo+zp/ek/7+t/jQBLRUX2dP70n/AH9b/Gj7On96T/v63+NAEtFRfZ0/vSf9/W/xo+zp/ek/7+t/jQBLRUX2dP70n/f1v8aPs6f3pP8Av63+NAEtFRfZ0/vSf9/W/wAaPs6f3pP+/rf40AS0VF9nT+9J/wB/W/xo+zp/ek/7+t/jQBLRUX2dP70n/f1v8aPs6f3pP+/rf40AS0VF9nT+9J/39b/Gj7On96T/AL+t/jQBLRUX2dP70n/f1v8AGj7On96T/v63+NAEtFRfZ0/vSf8Af1v8aPs6f3pP+/rf40AS0VF9nT+9J/39b/Gj7On96T/v63+NAEtFRfZ0/vSf9/W/xo+zp/ek/wC/rf40AS0VF9nT+9J/39b/ABo+zp/ek/7+t/jQBLRUX2dP70n/AH9b/Gj7On96T/v63+NAEtFRfZ0/vSf9/W/xo+zp/ek/7+t/jQBLRUX2dP70n/f1v8aPs6f3pP8Av63+NAEtFRfZ0/vSf9/W/wAaPs6f3pP+/rf40AS0VF9nT+9J/wB/W/xo+zp/ek/7+t/jQBLRUX2dP70n/f1v8aPs6f3pP+/rf40AS0VF9nT+9J/39b/Gj7On96T/AL+t/jQBLRUX2dP70n/f1v8AGj7On96T/v63+NAEtFRfZ0/vSf8Af1v8aPs6f3pP+/rf40AS0VF9nT+9J/39b/Gj7On96T/v63+NAEtFRfZ0/vSf9/W/xo+zp/ek/wC/rf40AS0U1ECLhdx/3mJ/nTqACiiigAooooAKKKKACiiigAooooAKKKKACiiigAqKX/Wwf9dD/wCgtUtRS/62D/rof/QWoAloorM8Sas2g+F9T1aOETNZWsk6xk4DFVJwT2HFA0ruxp0Vxl/Prfhu2sdVuddk1Rbi7tre4s3t4kixM6x5hKKHBBYN87PkAj3FjQvE0lz408QaLeNdSNbXiLalbGQwxx/Z43KmZU2A7mY4Zs8j2p2v/Xa3+Yulzq6K5S21bxDr7Xd1oL6ZbWVrdS2yR3kEkkl00TFGO5XURDcpA+V+BnHao4vFM+pz+Eriz3W0GqTTpdQMFY5SGQld2Ozp1GM49KQno7M6+iiuRivfFWr67rUGlalo9ja6ddrbIlzpctw75hjkLFluEHWQjG3tRuVbQ66iuX0TU9eXxlfaHr11p14sNhDdxzWVlJbEF5JEKkNLJn/Vg5461V8Uah4q0nUrAWOraIltqWoJZwx3GlSu8e5WOSwuVDn5TwFWlfbz/wA7fmDTV79P8r/kdlRXMXV9rOn6x4Zsr6+t55Ly5nS6a2tTCkirC7qArO5XBA6Nzj04rS1a48QQzRjQtM028iK/O15qMlsyn0AWCTI98j6UyVqatFcJfeLtZk8Jajdta2+mXtlrFvYbra4+1RyKZ4VchnjT/no6H5eCDg13dHn/AF3K6X/rQKK5H4ga34i0Lw3qN5odnp7RxWblLme9dJkmIIUJCIHWQ5K4BYbice9Z994o8R/8Kq1bX3h020kj0lrqyurK9a6LPsJ3MjwIq9uPm7jtRH3nZBbbz/4H+Z31FNjJaNSepAzWLpfii21TxVrGiRKok0sREvvz5m8EtgY/hOAcE8nnFHWxN9Lm5RRXMeMNf1bQolOnWmmyxzKUje4vZkmaXBO2OGO3lMmAM8c8HjjNJuxSVzp6K85tfF3iSXwDrN1cpp0V5pmkyu9zFcTfaFuFiJVntpraPYCQWweO2CK7+wlebTraWQ7neJWY46kgZqratf11/wAhdE+9/wALf5k9FZmrz67C0X9g6dp16CD5pvdQe229MY2wybu/XGPeuZg8W6pqDeH5jDHp4vZL9J4IpBOj+SrhGV2RSQSoYcDg81MnaLkHVI7misTwVqF1q/gPQdR1CXzru706CaaTaF3u0aljgAAZJ6AVHrOrakdcttD0AWyXk0D3M11dxtJHbxghR8ispdmY4A3LwrHPGDcouMuR7iTTVzforjtQ8S6lD4R8Viby7fWdDtJXEsK5jf8Acl45VVs4Bx905wVIyRyemguwmix3l3KqqLcSyyNwB8uST6VDaSb7frf/ACKs7Lzv+Fv8y3RXOeE/EcviTwDaa1L5aXU1uzTJEpURyrkMu1iSMEdDTPh74mg8U+B9KvRqlrqN8bOE3zQSIxScxgsHVOEbOflwMelVZ6+Vvxv/AJCeh01FZ2uS3cGlvLY6jYaa8Z3PcahAZYlXvkCSPH13fhXn1r4z8Vzas4udW0W00STCWetzaFOtvdSfxKM3Y2jkbWJw/OOgylq7B0uepUVntHq0mhqlvqFiNSKj/SjZu0BOeSIhKGwR0Hmcep6Vw48ReLn8D+JtZudU0kHTFv4IltNMdH8yAuqybnndcZXO0qeuM0dbFRi5Wt1dvvPSKK5XRNY1a91DxNEpiunsZoFtIZn8lButYnIZ1RiAWZjnDYz+Fc5D498SSeIGk+zaK2nyxRwQhr27W287ewLC6NjsYtlVC7uq8cmjrYXS56bRXKWHihV+IN/oOrajZwTtaWslpYmZNzOwkMvl5AZx8o5x0HQVo6JrFxqWs6/aTpGsem3qW8JQEFlMEcmWyeTlz0xxinb+vwEtUbVFYHiPU7uw1nw3BaS+XHfakYLhdoO9Ps8r45HHzIpyMHiqN3qXiS/8caho2iXulWNvY2VtcFrvT5Ll5GlaUEZWeMADyh2PWiztcb0/rzsdbRXLate67pGn6QL3ULWa6uNXgt5ZLSzMKNE7YK7HeQg+4b8q6mktU352/BP9Sb62+f5r9AoqtqF/b6Xp099ev5cFuhd2xk4HoO59B3rD1/WNWjTQYdGFvYXOrXXlOdRtjP5CiCSUgoki/NmMD72OT1o32Kt/XodLRXE67feMvDumpqNxq+hXkK3VvDJDHo80TMskyRnDG6bBAfPQ9K6bV4dYmhjGhX1jZyBiZGvLJ7kMPQBZY8H3yfpSvpcLGhRXF+FdX8Sav4SGvalqWkyQT2ckkUNlp8kTI4zg72ncEcHjb36+uxot/qd74E0y/iSG81K4sIZiJ5fISR2RSSWVG29T0U/Sn0flb8b/AOQuqXf9Lf5m5RXLR+IfEdv4i0vTdY0PS4Y9QaQebZ6tJO8YRCxYo1ugIztX73VhVrwfqd3qmn6hLfy+a8Oq3lvGdoXEcc7Ki8AdAAM9fWjrb+v61H0v/XX/ACN+iqupapY6Np8t/q15DZWkIzJPPIEVfxNUvD3iSy8VaH/aui73t2kljjMyGMsyOUPB5Ayp6jPt2oEa9FcvDr/iKDxDp2m6zomlwR35kxLZ6rJO8YRCxYo1unGdozu6sKzvCPiLVdU1DRIr6681LrSJ7mYeWq7pFnRQ3AGPlJGBxRvJL+tm/wBBN2V/61dv1O5oqK6uYrO0mubhtkUKNI7HsoGSfyrkU8SeILbR7bxHqlvZJpNwY2eySNxcWsUjACRpS+1yAyllCLgZwxxybsex2dFYEGp3b/Ee90tpc2cWlW9wkW0cSNLMrNnGeQijGccUzU/Ew0/x5ougloRHqMFw7lgdyuu3ywDnA3DzOo528dDSWtvP9L/5Das2u3+V/wBToqK5TWvFMWi/ETR9O1LVbWx0+90+5YJcyJGJZ1lgVAGbkth3+UHnPTit3TNWg1QXIhWSOW1na3nhlADRsOecEjBUqwPcMKq2if8AWjsLrb+u5eooopAFFFFABRRRQAUUUUAFFFFABRRRQAUUUUAFFFFABRRRQAUUUUAFFFFABRRRQAUUUUAFFFFABRRRQAUUUUAFFFFABRRRQAUUUUAFFFFABRRRQAUUUUAFFFFABRRRQAUUUUAFFFFABRRRQAUUUUAFFFFABRRRQAUUUUAFFFFABRRRQAUUUUAefeKbrxQPG3hwQaPpDol7cfZWfVpVMo8iT74Fsdny88F+ePeu7s3uns4m1CGGC5K/vI4JTKin0DFVJHvtH0pZLaCaaGaaCOSWAlonZAWjJGCVPbIJHHY1LR0F1uFFFFAwooooAKKKKACopf8AWwf9dD/6C1S1FL/rYP8Arof/AEFqAJaR0WRGSRQysMMrDII9KWigDzPTrLUbbxdeWemeFNLaXSljlh+0+Jbt4YVk3hTFE1uyRHCkEKBjOATW54Bnub2w1HxBfWMGnrq8y3e1L83GNsaxnOYY9oxGD1bqeR0p8fga8h1S61CHxrr6XN2qJM4isTuVN20YNtgY3H8+a0vC/ho+F9P+wprOoajbKAIUvVg/cjJJ2mONCc5/iz0GMUK4dTm2vvBl1c3M+j/EG3sILqQyXVvYarbGOVyPmOWDNGT3MZUk89ealkn0R9d8G2vhu6tJ7O0up4VFpOsqx4tZMAkE8/Xmu6qje6RBf6np19M8iy6dI8kQUjaxZCh3cejHpjmhaaCldluUSNC4gZUlKnYzqWVT2JAIyPbI+teS+J9Haax1/XLmLwPrN/pR2XhufCT72kEaMFMjXJJ+R05GR27V67XMP4Nmj1bUb7S/FGs6Z/aM4uJ4LdLR494jSPI8yB2HyovGaFa+v9f1qPW2hT8O+DtR8PXol08+E7KGUr9pTTfDbWskqjtvFyR3OCQcZ6VB4g8Pah421p3k83TbXRSW0ySQYMt6CCJyo58tcbQP4tz9sE9LpOkXunTSPeeItS1ZWXAjvI7ZVQ56jyoUOfqSK1aARwGuRt4k1LwhFrNteadMb24WeKC6lt3V1t5M7JY2VihIyCDyDz3FdDqtzqkCw6N4ctJWnaIA6hdEvDbJ03MzHdLJxkLzk8sRnJ0L3SIL/U9OvpnkWXTpHkiCkbWLIUO7j0Y9Mc1eo3ElY4Xxrolrpfwv/sqAy+SLyzV5PMKySM15EXcuuCGJJJYYOTkYrsNN06HSrFbS1e5kjUkhrq6luH5OeXkZmP4niotb0e317TDY3jypEZopsxEBsxyLIvUHjKDPtmr9Hcr7KRwXjnxF4W0eS+1G+1/TX1rSbR5bLSry/QKk4QsjeTuBLnIAJ5wflxnnE8Q6z4Suvhz4p/4R7xFp091e6RPPLptnqEcqLJ5ZLusQJKnJOcYBPJGea9Yqhruj2/iHw/faPevIlvfQPBI0RAcKwwSCQRnn0NOHuu7/AK/r9B31X9f1/wAES+tL29toYrTUDYxkfvnjiDSkY6IxOF+pVvbHWsC00vTbnVbvRdPtpNNn0MRvb38EuZSZgWfO4Hdkrlt+7ceTyAa2dU8K+H9ckik1zQtN1OSJNkcl7ZxzMq+gLA4FUf8AhXHgj/oTfD//AIK4P/iaWpCTSSN6zS5jtUS+njnnH3pI4jGrc8fKScce/wCXSue8XxtYT6f4ignt0m05mgEV0XEcwnZEC7kVih37MNtbGTkYORt6Xo+maHaG10XTrTTrcsXMNpAsSbj1O1QBngc1B4h0OHxHokum3FxcWyu8cgmtivmI0ciyKRuVl+8o6g0MqO+py+t6Bq1x4f8AFuq6hDCdS1DRHsobHT2eZVCJKVAYqrSOzSH+EdgB3rp/DmlRaPodvbQtdn5FZvtd1LcOG2jI3SszAcdM4HpWf/wi+r/9D34g/wC/Gn//ACLXQwRtFbxxySvOyKFaWQAM5A6naAMn2AHtQtL/AC/X/MG27J9L/ov0MTxHNqt0yaNokM0Ml2h87UyAI7SPoSufvSH+FcYHU8DB5zxZoq29/wCEtK0i8uNKito7qOKS1WNnVFtyNv7xHXkDnjPvXoNU73SbO/ube4uYi01qJBC4YjZvXa3HQ8euaicW4NLqHVMxvhx/yS7wv/2CbX/0UtM1jztG8YQa8bS4urGWxa0uTawvNJCQ+9G8tAWZTlgdoJB28YyRtaLpUGg6DYaTZvI9vY28dvE0pBYqihQSQAM4HYCr1bVGpVHNd3+N/wDMiKtHlZ55rNvcXPhLx5rtzbS2sd/pkkVtFMpWQwxQPh2U8qWZ3+U8gYzg8Db1qLTl8IWt9rjXEthZwJJJZxH5blsKFVl/j+bACk7STyDW5q+mQ61ol9pd00iQXtvJbyNGQGCupUkEgjOD6Gi50qzvdGbSryLz7R4fJdHP3lxjqMYPuKz728vwuaO1kvX8bf5HKPBr9tf3urw+HIIIbmA/aLe31fdLMcYDGExCPzABjIlGRgEkAY2vBENtb+AdBhsLo3dtFp0CRXBj8syqIwA20k7c9cZOKhfwlPKrQTeKNdksmXYbQywqCvp5qxCb8fMz71vWlrBY2cNpZxJDbwIscUaDCooGAAPQCrT91r0/C/8AmT2/rt/kcx48+02+n21+j6X5FvcRLtvtJN6wlkkWNHT9/GFwX5PJxnHoasXhXxbFr99q3/CRaG819bQ20sb6DKY9kZkK4H2vOT5rZyT2/Ho/EOhw+I9El024uLi2V3jkE1sV8xGjkWRSNysv3lHUGs7/AIRfV/8Aoe/EH/fjT/8A5FqVpdDdrC28Oq+G/DE0Udvp9/d+Zi0t9LsDZxBnP8SmR8DcSzNkcZ4z15DWNEu/CXgPxVpbCW7s7/Sri8N2Bwl15WJgw/hDnDr7lx6Z9OtongtYopZ5Ll0QK00oUNIQPvHaAuT14AHoBUWo6fbatplzp+oReba3UTQzR7iu5GGCMggjg9qHuxwaUk30d/6/rucZ4C0u3tNS8W2EbXEkDXVuCbi5knchrOHOXdix6+vHQViDVNEWzuvCWs+O9IsNK06QWElnerFb3jxoFIHmGbBUjA3CNScHoea9G03RLbS9Q1G7tmlL6jKksquwKqUiWMBeM42oOpPOayf+ENuIL6+uNM8Va1pyXtw1zJbwR2bIHYAHBkgZscDgk0XfNfpb8dLfqS17qX9ba/jYg8L6routeNNfvNB1WHUl+z2iSPbOkkS483AEiscnnkEDHHXPEFpNrOgeJ/Eci+FtT1K31C9juIJ7Oe0ClRbxIQRJOjA7kPatrQ/Df9jahfX0+rX+q3d6saSS3ohUqse7aAIo0H8Z6g1t09noKOiaOH1jUbnUda8JSXmj3uksutMoivHgZnH2SfkeVI4x25IPtUtwdX0f4iapqdv4c1DVbO90+0hjksprZdrxvOWDCWZD0kXoD3rpNR0e31O8025uHkV9NuTcwhCAGYxvHhsjkYc9Mc4q/RfQp629P1bOB8W3E2v6VpcGpaNqmjK2t2iYmuY0kcFjyj28zFceuVPpXb2VnFp9lFawNM8cQwrTzvM5+ruSzfUk1X1XSINXW0Fy8i/ZLqO6TyyBl0OQDkHipBpdmNZbVhD/AKa0AtjLuPMYYsFxnHUk5xmpjomu7v8Agl+aIa96/l+r/wAzH8YqJV0S2kP7ibV4BKOzBdzqD/wNFqh4y06bVL+x0++uvDslpez7LOz1bQJL4mZY2cnd56qPlVzkqPTJzW94i0g63oslrFL5FyjpPbTEZEc0bB0YjuNwGR3GRVbWvDr+IYtLmnv7rSr7T5vtEc2ntG+yQxtGw/exsGXDsOVB6HiiKVnfvf8ABL9C3vp2/wA/8zg9A8Ey3uoag1vpngK0m0q/+zxyx+EjuLKiOHBFyNpy/wCmc12eunxA2gQ6Task+q6gGhl1G2tzDBap/FLtZ3IIU4VdxJbHQZw9PDOrJIrN4415wCCVaCww3scWwP5V0dN6qz/r/hxK6d/6/pHE6Vo8vg/TdQ8O20Ej6L9mlm0+YZbyPly8Lnt8xLKehDEfw8v8F2tv4c+G+m3trFql882n2ztB9qmumZigwI1kchBk9BtUDrgDjr7iBbm1lgkJCyoUYr1AIxUOl6fFpOkWenWzO0NpAkEbSEFiqqFBOABnA9Kd3rfrb8L/AOaFbVeV/wBP+CZWiaXfS6nLruvrGl/LH5NvaxtvWzhzkru/idiAWYccKBwuTj/D3SbZJNY1QSXn2h9Z1BChvZjCB9pfpCW8sHjqFz155NdvVDR9Ht9Et7iG1eV1uLua7YyEEh5XLsBgDjLHHt60lv8AL9V/wSvs280/wf8AwC3Pbw3KBLmGOZQwcLIoYBgcg89wea4/4dTi28FX87JJII9W1JykSFmbF3KcADkn2rtKp6ZpVlo1o9tpsPkwvNJOy72bLyOXc5JPVmJx0GeKfRoX9fmZGhWF9e6rN4i1uE21xLF5FnZMQxtIM5O4jjzHIBbBIG1QM4JPF/De0mt9f0WWbUbm6SbQ7lo4ZljC24+0x/KmxFJH+8WPvXq9Y9j4X07TNQtLqwWSH7JaPaRQ79yBHdXPXJJyo7+tJaTT6K/4p/qxS1i16fg1+he1SyGp6PeWLNtF1A8Jb03KRn9a4m4m1DWvBsHhOTSb2DVJIorW9d7d1t4owQJJFmI2OCqkqFJbJGQOcegUULR39Pw/4cb1X9dTlbYf8Xd1IDj/AIkdr/6Pnqhd2EEtzqmh6TpP9s3reXNqF7qN80GHPzRgSojOGUDcoRQE4IwTXVJo9vH4jn1oPL9pmtI7RkJGwIjuwIGM5zIe/pVXUfDcd5qD6hY6he6TfSxrHLcWTITIq52hkkR0JGTg7c89aS0S+f5tlSd5XXl+CSMDS0u/+E/0tdfVrbUbbR7iKILKLiO7VpIS7+btQhlKLkGMZ3gg8GtKxYx/FLWYY/8AVyaXZzSYP8fmTrn6lVH/AHyKv6X4ch0+/OoXN7eanqBi8n7XeMu5UzkqqoqouSATtUZwM5wKNH0ma01HU9Sv3je7v5hxGcrFCg2xoCQCepY/7Tt2xV328r/m/wDO5Oln52/T/Kxr0UUVIBRRRQAUUUUAFFFFABRRRQAUUUUAFFFFABRRRQAUUUUAFFFFABRRRQAUUUUAFFFFABRRRQAUUUUAFFFFABRRRQAUUUUAFFFFABRRRQAUUUUAFFFFABRRRQAUUUUAFFFFABRRRQAUUUUAFFFFABRRRQAUUUUAFFFFABRRRQAUUUUAFFRbbj/npH/37P8A8VRtuP8AnpH/AN+z/wDFUAS0VFtuP+ekf/fs/wDxVG24/wCekf8A37P/AMVQBLRUW24/56R/9+z/APFUbbj/AJ6R/wDfs/8AxVAEtFRbbj/npH/37P8A8VRtuP8AnpH/AN+z/wDFUAS0VFtuP+ekf/fs/wDxVG24/wCekf8A37P/AMVQBLUUv+tg/wCuh/8AQWo23H/PSP8A79n/AOKqOVZ/MhzJH9/j92f7p96ALNFRbbj/AJ6R/wDfs/8AxVG24/56R/8Afs//ABVAEtFRbbj/AJ6R/wDfs/8AxVG24/56R/8Afs//ABVAEtFRbbj/AJ6R/wDfs/8AxVG24/56R/8Afs//ABVAEtFRbbj/AJ6R/wDfs/8AxVG24/56R/8Afs//ABVAEtFRbbj/AJ6R/wDfs/8AxVG24/56R/8Afs//ABVAEtFRbbj/AJ6R/wDfs/8AxVG24/56R/8Afs//ABVAEtFRbbj/AJ6R/wDfs/8AxVG24/56R/8Afs//ABVAEtFRbbj/AJ6R/wDfs/8AxVG24/56R/8Afs//ABVAEtFRbbj/AJ6R/wDfs/8AxVG24/56R/8Afs//ABVAEtFRbbj/AJ6R/wDfs/8AxVG24/56R/8Afs//ABVAEtFRbbj/AJ6R/wDfs/8AxVG24/56R/8Afs//ABVAEtFRbbj/AJ6R/wDfs/8AxVG24/56R/8Afs//ABVAEtFRbbj/AJ6R/wDfs/8AxVG24/56R/8Afs//ABVAEtFRbbj/AJ6R/wDfs/8AxVG24/56R/8Afs//ABVAEtFRbbj/AJ6R/wDfs/8AxVG24/56R/8Afs//ABVAEtFRbbj/AJ6R/wDfs/8AxVG24/56R/8Afs//ABVAEtFRbbj/AJ6R/wDfs/8AxVG24/56R/8Afs//ABVAEtFRbbj/AJ6R/wDfs/8AxVG24/56R/8Afs//ABVAEtFRbbj/AJ6R/wDfs/8AxVG24/56R/8Afs//ABVAEtFRbbj/AJ6R/wDfs/8AxVG24/56R/8Afs//ABVAEtFRbbj/AJ6R/wDfs/8AxVG24/56R/8Afs//ABVAEtFRbbj/AJ6R/wDfs/8AxVG24/56R/8Afs//ABVAEtFRbbj/AJ6R/wDfs/8AxVG24/56R/8Afs//ABVAEtFRbbj/AJ6R/wDfs/8AxVG24/56R/8Afs//ABVAEtFRbbj/AJ6R/wDfs/8AxVG24/56R/8Afs//ABVAEtFRbbj/AJ6R/wDfs/8AxVG24/56R/8Afs//ABVAEtFRbbj/AJ6R/wDfs/8AxVG24/56R/8Afs//ABVAEtFRbbj/AJ6R/wDfs/8AxVG24/56R/8Afs//ABVAEtFRbbj/AJ6R/wDfs/8AxVG24/56R/8Afs//ABVAEtFRbbj/AJ6R/wDfs/8AxVG24/56R/8Afs//ABVAEtFRbbj/AJ6R/wDfs/8AxVG24/56R/8Afs//ABVAEtFRbbj/AJ6R/wDfs/8AxVG24/56R/8Afs//ABVAEtFRbbj/AJ6R/wDfs/8AxVG24/56R/8Afs//ABVAEtFRbbj/AJ6R/wDfs/8AxVG24/56R/8Afs//ABVAEtFRbbj/AJ6R/wDfs/8AxVG24/56R/8Afs//ABVAEtFRbbj/AJ6R/wDfs/8AxVG24/56R/8Afs//ABVAEtFRbbj/AJ6R/wDfs/8AxVG24/56R/8Afs//ABVAEtFRbbj/AJ6R/wDfs/8AxVG24/56R/8Afs//ABVAEtFRbbj/AJ6R/wDfs/8AxVG24/56R/8Afs//ABVAEtFRbbj/AJ6R/wDfs/8AxVG24/56R/8Afs//ABVAEtFRbbj/AJ6R/wDfs/8AxVG24/56R/8Afs//ABVAEtFRbbj/AJ6R/wDfs/8AxVG24/56R/8Afs//ABVAEtFRbbj/AJ6R/wDfs/8AxVG24/56R/8Afs//ABVAEtFRbbj/AJ6R/wDfs/8AxVG24/56R/8Afs//ABVAEtFRbbj/AJ6R/wDfs/8AxVG24/56R/8Afs//ABVAEtFRbbj/AJ6R/wDfs/8AxVG24/56R/8Afs//ABVAEtFRbbj/AJ6R/wDfs/8AxVG24/56R/8Afs//ABVAEtFRbbj/AJ6R/wDfs/8AxVG24/56R/8Afs//ABVAEtFRbbj/AJ6R/wDfs/8AxVG24/56R/8Afs//ABVAEtFRbbj/AJ6R/wDfs/8AxVG24/56R/8Afs//ABVAEtFRbbj/AJ6R/wDfs/8AxVG24/56R/8Afs//ABVAEtFRbbj/AJ6R/wDfs/8AxVG24/56R/8Afs//ABVAEtFRbbj/AJ6R/wDfs/8AxVG24/56R/8Afs//ABVAEtFRbbj/AJ6R/wDfs/8AxVG24/56R/8Afs//ABVAEtFRbbj/AJ6R/wDfs/8AxVG24/56R/8Afs//ABVAEtFRbbj/AJ6R/wDfs/8AxVG24/56R/8Afs//ABVAEtFRbbj/AJ6R/wDfs/8AxVG24/56R/8Afs//ABVAEtFRbbj/AJ6R/wDfs/8AxVG24/56R/8Afs//ABVAEtFRbbj/AJ6R/wDfs/8AxVG24/56R/8Afs//ABVAEtFRbbj/AJ6R/wDfs/8AxVG24/56R/8Afs//ABVAEtFNQOF/eMrH1Vcf1NOoAKKKKACiiigAooooAKKY88UcscUkqJJKSI0ZgC5AycDvxzT6ACiiigAooooAKKKKACopf9bB/wBdD/6C1S1FL/rYP+uh/wDQWoAloooJwKNgCiuS0vxxd6zp9tf6d4N16WzulDxTmWxUMp6Ng3O4fln2rYg1vz/Ft7on2fb9ls4brzt+d3mPIu3bjjHl5znnPtTsNpq/l/wxq0Vz8/i6Nbu4i07SNT1SK0kMV1c2ccZjhcfeX53VnI7iMNg8deKlfxPbPdaCtiq3VtrTuI51fAVViaQHGOc7cY4x+lJa6iem5t0UVzc3i+c6tf2Om+GNY1P7BMIJp7Z7RE3mNZMDzZ0Y/K684oA6SisHRvFB1XWrnSbrRdR0m8t7eO5KXrQMHjdmUEGKVx1RuDiq2s+MbjRb6O3l8Ka1cpPcC2t54JLPZM5BIwGnVgOD94DpR2/ryD+v1OnorCPiOZLvRbe50i4spNUmliMVzLHvg2Rs+T5bOpzt7N3/AAq9q2s22iwJNeRXsiu20CzsJ7pgcZ5WJGIHuRih6BuX6K5l/iDocIVriPWbdGdU8yfQb6JFLEAZZoQByQMk101ABRWPrniA6NcWVvBpV9qlzeFxHDZmEEBRkkmWRBjn1zWfJ4zubWe1XU/CWt2EN1cx2y3E0lmyI7sFXIjuGbGT2BoWrsgeiudRRWXrWr3Wkxo9toWoaqpDFzZPbr5QHr5sqZz7Z6Vi23jx7zwbeeI4/DmpW1lDprajbveS26rcqE3hR5crspI/vKMfpSvo32Gk20l1OuorL1HXrfSvDZ1i7R/LEaMIo8Mzs5AVFzgElmCjOOT2rKuPFt9ojQP4p0Y2lvdSeVbvpskt++/BIV40iDAkA/dDjjkjjLejsxLVXR1NFYPhfxTF4ot9RuIrWa1isr17UfaEeN3Cqp3MjqrJ97oR2qC18cWNy0E32K+h0y6lWK21WVEFvO7HaoHzbwGPAZkCnIwTkZFrbzt+Owf19x0tFZUeteZ4vudD+z48ixivPP3/AHt7yJt247eXnOe/TitWjdXG1Z2f9dQoqjb6vBc65e6XGkgnso4pJGYDaRJu24Oc/wABzwO1QQa353i290T7Pj7LZw3Xnb/veY8i7duOMeXnOec+1AulzVorkJvHd1BrEGlv4M1/7ZcRSTRRiWx+dEKhmz9pwMF1688/WthNcZvElppMlk8LXFg94xkkG6Mq6LsIXIJ+fqGI479aFr/X9dgem5r0Vz+p+K3sfEDaNY6DqerXSWqXUhs2t1VEZmVcmWVMnKN0zTb7xTcWGiQX93od3ZvNqFvZfZruaIOBLMkfmZieRcDfnGcnGOOtOPvNJdf87fmD03/rS/5HRUVQvNXgstW07TpUkM2oGQRMoG1di7ju59PTNT6jd/YNLurzZ5n2eF5dmcbtqk4z26VEpKKbfQFq7IsUVz914sSz8N6Tqh026updUMKQ2lo0ZffIm4DdIyLgYPJIqfTtcv72aRLvwzqmlokZcTXctqyEj+H91M7Z/DHHWqel79BRakk11Nmiszw3rH/CQeGNN1fyPs/262Sfyd+/ZuUHGcDPXrgVp02mnZjCiiikAUUUUAFFFFABRRRQAUUUUAFFFFABRRRQAUUUUAFFFFABRRRQAUUUUAFFFFABRRRQAUUUUAFFFFABRRRQAUUUUAFFFFABRRRQAUUUUAFFFFABRRRQAUUUUAFFFFABRRRQAUUUUAFFFFABRRRQAUUUUAFFFFABRRRQAUUUUAFFFFABRRRQAUUUUAFFFFABRRRQAUUUUAFFFFABRRRQAUUUUAFFFFABRRRQAUUUUAFFFFABRRRQBxGsaNqGvarfaxDC8V3oxCaKsoKb5Fw0rc/wycRZ/ugkda7Cwuvt2n292IZoPPjWTyp0KOmRnaynkEdCKnooWit/Xn94Pe4UUUUAFFFFABRRRQAVFL/rYP8Arof/AEFqlqKX/Wwf9dD/AOgtQBLUF9cSWtjLNBZzXsiLlbeAoHk9gXZV/Mip6KTV1YDyLT21fRZLbw5py/ECA29r5kNqBob7YQ237xznkgcnNdZodxLd/EzVJ57SeykfRrItb3BQyR/vbjg7GZc/Qmt46Nnxaut+f92xNp5Oz1kD7t2fbGMfjVeHRZ08bajq8jx/ZrvT7e1VVYiQMjysx6cDEgwQc8HpVRbtrvr+tvwsO7fNfy/NN/qZ9tpPiHQGu7XQU0y5srq6luUkvJ5I5LVpWLsNqowlG5iR8ycHGe9UW0ddA1PwNpiTNP5Fzc7pWGPMY28rM2O2WJOO1bUPg3TIFKpda2QTn59evX/nMajm8LeXrWi3VhNM0NjcyzTC7vJp3IaFowFLlu7DjIHWkiJa6nQSu0cLukTSsqkiNCAzn0GSBk+5ArzDV7rVNIk1bXVsfHGjWs7i6u0tm0aRFYRrHuAdnf7qLxk16lXCXHh3xDHeeJbdNI0bVNL1u7FwRcatNbSBfIijKkJbv3jJyG70Ld+n6r/h/kXrbQb4bh1Sz8Syahf6P4su7i8hjtXutSk0oRwRqzMDtt5FPV2J+VjUXjSfUte161tfDA89vDc66lebeRLKowlqD03sjOT6fJnrXW6RceIJZnXXNM02yiC/u2s9RkuWY+hDQR4GO+T9K0YYIbcMIIkiDuXYIoG5jyScdz60dvL+vz1Ffe/9f0tDh/EN/LrupeDbzwzfW0Lz3U7RzXVs0yr/AKPJuVow6HcOQRuGD16Yq54yvNXsU0NIr/U7aGSZl1C60XS/tLgCJiCIzHMVUuB2OM4zWpqOgtPr+i3tktvDFY3U1xcLjaZC8TJkYHJywJzin6loeoX1609r4p1bTYyABb2sVoyD3zJA7c/71D8hJa6nCSX+ma3BJa3Pi3xzqFtHOqzwDw0Qu9GDbGKWAYcgZGQa9UByK5Gy8C3mnG5Nn428QRm6na4m/dWB3SMACebbjoOBxXTWNtLaWMcFxez30iDDXFwqB356kIqr7cKKOnmGtzk/FY1O91a3Nho/iaKSwZvJv9Kk03bIHUBhtuZCcduUByPSucs59V19op5bbx3qltp+oZaCY6JGhngk5U7SjYDL2IB9a7TxHpusy67o+q6Fb2N09iJ1khvLt7cMJFUAhlik6bemKr6RD4m02QwxeHNDtrae6e4uGj12eVg0jlpGCtajJySduQO3FKPxf1voVKzj/W2o/wAU67cReGUtrO1kg1vV0NvZWUxRnjdhyz7GZdqAlmIJGB15Fc5ubS/g74h8K3zj7foejT2/PHnwCJhFMB6FQAfRgw7V6OYITcLcGJDMqlFkKjcFJBIz1wSBx7CszxPov9t+G9Us7ZIFvbuwntIZpRjZ5iEYLAEhc4Jx6dKU78kkuv8AS/rzLptKpFvo/wDh/wCvIoWehXuseC/7N8S31tcefHG0UthatbmHaFZD88kmWVgGB4HA4rlNTup9UvLZda8QeIIxptx5sDaT4Ou42aQAqGdpIpkfAJ+6oHOfSvS7OFrexghcgtHGqEjpkDFeb2/g3xTFGy3lv9vlMjsbj/hONUt94Lkr+7SIqmAQMDjirn/EujKF1BJlvwjZyXPg/wAWxWWpXOoXF3e3Oya6tntpw7QoAJEaKPa3Q8KBginapf2mofByyg09h519Bb2dpCBh1nyq7dvYoQSR/DsOeldD4P0efRdOuYrrT4bKSa4MzeXq0+oGUlQCzSzIrZ+UDHIwBWlFoekwatJqkGl2UeoSjbJdpboJnHoXAyfzpJJaeUfwX/BFa617v8WYdt/yV7Uf+wHa/wDo+eulubmCytZbm8mSCCFC8ksjBVRRySSegrKh0e4j8d3etF4/s02mw2ioCd4dJJWJIxjGJB39a1p4IbmFobmJJom+8kihlP1BpK/Kl6/mzSVnO/p+SOB0e9vLLxXc+KtV3QaP4gMdtAsqlTarHxA7g/dEu5zzjBaMHk1sWX/JWdax1/sey/8ARtxXTzQRXMDw3ESSxSKVeN1DKwPUEHqKyLXRZ7fxvf6wWi+zXFhb2saKTuDRvKxyMYxiRcc9jVLsLo/O35r9DjNTbRLXWJdQ8R+N9D0/xfbsDb+ZdxpHZJg4h8tnDMjBvmJwWyCNu1cX7U6L408a6dqVr4j069lsNOZZoNG1l9wkMkbZIiYbo/lIw/ByMiu+rHk0id/G9vrAeP7PFp8tqy5O8s0iMDjGMYQ9/SlHRr5/k/6/Emeqfy/Nf1+Bx/jfQNZ1jWpv7LtrGz1O4tjBZ3sfim7s53iQ7smCKLawVpD3bG4c80X+jazbeHILW+s7a0T+2dOnVpfEc9+zEXUZYbrlE28Lwqk7icAZPOr428L6nreuaPqGmRxzJYxXEcsTavc6c58zy8ESwIzEDYcqcA5HpWFceBPEF7cafusorZLfULa6eSXxjqN8NsUyuwEMsQRiQpAyRg806TtKPqvz/plT1V/L/gG94x1XT9G8X+FLzWL+1sLVZbpWnupliQEwnA3MQOan1Dxn4X1jRdRs9I8SaRf3T2UxWC1v4pXYCMk4VWJPFdXVXVbV77R7y0iKiSeB4lLHgFlIGfbmsakW6cl3T/IcLKafmcNql9aab4H8DXmo3UNpaw3Nk0k88gREHkNyWPAro7fxt4V1WX7FpfibR726lVhHBb38UjvgEnCqxJ4BNaWiWUmm+H9PsZyrS2trFC5QkqSqAHGe3FXJVLwuo6spAzW1XVzt1bf4JfoZUk1GF+iS/r7zjvhXFqsfw90ZtRvLOe2bT4DbRwWjRPEu3o7GRg5xjkKvQ8c8dnXOaJoGqaX4H0TR4tRjtLuwit455oohKsipjeg3Y4YAjdjIzmujqptOTa7lhRRRUAFFFFABRRRQAUUUUAFFFFABRRRQAUUUUAFFFFABRRRQAUUUUAFFFFABRRRQAUUUUAFFFFABRRRQAUUUUAFFFFABRRRQAUUUUAFFFFABRRRQAUUUUAFFFFABRRRQAUUUUAFFFFABRRRQAUUUUAFFFFABRRRQAUUUUAFFFFABRRRQAUUUUAFFFFABRRRQAUUUUAFFFFABRRRQAUUUUAFFFFABRRRQAUUUUAFFFFABRRRQAUVV+3f9Otz/AN+6Pt3/AE63P/fugC1RVX7d/wBOtz/37o+3f9Otz/37oAtUVV+3f9Otz/37o+3f9Otz/wB+6ALVFVft3/Trc/8Afuj7d/063P8A37oAtUVV+3f9Otz/AN+6Pt3/AE63P/fugC1UUv8ArYP+uh/9Baovt3/Trc/9+6jkvMyRH7PcDa+eU6/KaAL1FVft3/Trc/8Afuj7d/063P8A37oAtUVV+3f9Otz/AN+6Pt3/AE63P/fugC1RVX7d/wBOtz/37o+3f9Otz/37oAtUVV+3f9Otz/37o+3f9Otz/wB+6ALVFVft3/Trc/8Afuj7d/063P8A37oAtUVV+3f9Otz/AN+6Pt3/AE63P/fugC1RVX7d/wBOtz/37o+3f9Otz/37oAtUVV+3f9Otz/37o+3f9Otz/wB+6ALVFVft3/Trc/8Afuj7d/063P8A37oAtUVV+3f9Otz/AN+6Pt3/AE63P/fugC1RVX7d/wBOtz/37o+3f9Otz/37oAtUVV+3f9Otz/37o+3f9Otz/wB+6ALVFVft3/Trc/8Afuj7d/063P8A37oAtUVV+3f9Otz/AN+6Pt3/AE63P/fugC1RVX7d/wBOtz/37o+3f9Otz/37oAtUVV+3f9Otz/37o+3f9Otz/wB+6ALVFVft3/Trc/8Afuj7d/063P8A37oAtUVV+3f9Otz/AN+6Pt3/AE63P/fugC1RVX7d/wBOtz/37o+3f9Otz/37oAtUVV+3f9Otz/37o+3f9Otz/wB+6ALVFVft3/Trc/8Afuj7d/063P8A37oAtUVV+3f9Otz/AN+6Pt3/AE63P/fugC1RVX7d/wBOtz/37o+3f9Otz/37oAtUVV+3f9Otz/37o+3f9Otz/wB+6ALVFVft3/Trc/8Afuj7d/063P8A37oAtUVV+3f9Otz/AN+6Pt3/AE63P/fugC1RVX7d/wBOtz/37o+3f9Otz/37oAtUVV+3f9Otz/37o+3f9Otz/wB+6ALVFVft3/Trc/8Afuj7d/063P8A37oAtUVV+3f9Otz/AN+6Pt3/AE63P/fugC1RVX7d/wBOtz/37o+3f9Otz/37oAtUVV+3f9Otz/37o+3f9Otz/wB+6ALVFVft3/Trc/8Afuj7d/063P8A37oAtUVV+3f9Otz/AN+6Pt3/AE63P/fugC1RVX7d/wBOtz/37o+3f9Otz/37oAtUVV+3f9Otz/37o+3f9Otz/wB+6ALVFVft3/Trc/8Afuj7d/063P8A37oAtUVV+3f9Otz/AN+6Pt3/AE63P/fugC1RVX7d/wBOtz/37o+3f9Otz/37oAtUVV+3f9Otz/37o+3f9Otz/wB+6ALVFVft3/Trc/8Afuj7d/063P8A37oAtUVV+3f9Otz/AN+6Pt3/AE63P/fugC1RVX7d/wBOtz/37o+3f9Otz/37oAtUVV+3f9Otz/37o+3f9Otz/wB+6ALVFVft3/Trc/8Afuj7d/063P8A37oAtUVV+3f9Otz/AN+6Pt3/AE63P/fugC1RVX7d/wBOtz/37o+3f9Otz/37oAtUVV+3f9Otz/37o+3f9Otz/wB+6ALVFVft3/Trc/8Afuj7d/063P8A37oAtUVV+3f9Otz/AN+6Pt3/AE63P/fugC1RVX7d/wBOtz/37o+3f9Otz/37oAtUVV+3f9Otz/37o+3f9Otz/wB+6ALVFVft3/Trc/8Afuj7d/063P8A37oAtUVV+3f9Otz/AN+6Pt3/AE63P/fugC1RVX7d/wBOtz/37o+3f9Otz/37oAtUVV+3f9Otz/37o+3f9Otz/wB+6ALVFVft3/Trc/8Afuj7d/063P8A37oAtUVV+3f9Otz/AN+6Pt3/AE63P/fugC1RVX7d/wBOtz/37o+3f9Otz/37oAtUVV+3f9Otz/37o+3f9Otz/wB+6ALVFRwy+chby3TnGHXBqSgAooooAKKKKACiiigAooooAKKKKACiiigAooooAKil/wBbB/10P/oLVLUUv+tg/wCuh/8AQWoAlooooAKKzrPxDouoajNYWGr2F1ewf622huUeSP8A3lByPxq5FdW9xLNFBPHLJbuEmRHBMbEBsMB0OCDg9iKAJaKKikuYIZoYZp445ZyViRnAaQgZIUd8AE8dhQBLRRRQAUUUUAFFRSXMEM0MM08ccs5KxIzgNIQMkKO+ACeOwqWgAooooAKKKKACiio7i4htLaW4upY4YIULySyMFVFAySSeAAO9AElFIrq8YdWDIRkMDwR61R07XtH1iWaLSNVsb+SA4mS1uUlMZ9GCk4/GjyAv0VFBd2900otriKYwyGKURuG8txglWx0PI4PrUtABRUQurdrxrQTxm5SMSNCHG9UJIDFeuCQRn2NS0AFFFFABRRURuYBdrameMXDIZFh3jeVBALY64BIGfcUAS0UVFc3VvZxCW7njgjLqgeVwoLMQqjJ7kkADuTQBLRRUVzdQWdu9xeTxwQoMvJK4VV+pPAoAlooooAKKKKACiiigAooooAKKKKACiiigAooooAKKKKACiiigAooooAKKKKACiiigAooooAKKKKACiiigAooooAKKKKACiiigAooooAKKKKACiiigAooooAKKKKACiiigAooooAKKKKACiiigAooooAKKKKACiiigAooooAKKKKACiiigAooooAKKKKACiiigAooooAKKKKACiiigAooooAKKKKACiiigAooooAKKKKACiiigAooooAKKKKACiiigDzvwpqd94m8X3GoNrLwS2wlgm0pIotsASdlCPlfM3FQGzuA+YEDHB9ErzDxEo1bxzDNoGnanaeIIEhH2gWskC7BMN4kkI8uWPZu4y3bHNen0o/w18/zB/G/l+QUUUUwCiiigAooooAKil/1sH/XQ/wDoLVLUUv8ArYP+uh/9BagCWsvxPZXmpeE9VstLl8q9uLSSKB9xXDlSByOnPftWpRSew07O5wN66a3ZaNpOiaHf6feWF5bS7prB4I7FEYGQLKQEfKBkxGWzu54yas+GItSPj7xbJFd2q6cNRjEtu1qzTM/2SHBEvmAKOnBQ9Dzzxy0Gq+BZ/GmtR3vjp0skige3/wCKwuI08xjJ5gUi4A7Lx0HHArovhTf6Zf8AhFZdN1xtX1AoGvFm1eS8aNsttyHd/LyB2AzjviqUt2/6vb/IW3u/IoL/AMIt9t1P/hYf2T+2vts/2b7d/rfJ3Hyfsmfm+5t/1XO7Oeat2Z1Ev4AOteb9s8643+f/AKzH2eXbv/2tu3PvmuhhvPF7KftGh6IjZ4CazM387UVmanJqMni3wodVtbW2kF7cbFtrlpgR9lk5JaNMH2waS0ViZ66nZV5teeG7X/hK9eu9a+G3/CR/bLtJba98mwl/diCJNv7+VXGGVuMY5z3r0aWKO4heGeNZYpFKujqCrA8EEHqK8Z1mx+HlzD4s0G9svA+g6la3P2axa4it7aTYYInDkn5vvO4yo7exoW79P1X/AAC72R1vg3QBp/jXUtQsfB//AAi+nzafBAItlqnmyrJKzNtt5HH3WUZOD+VZfxM0nwla614fmvvDml3F1e6qkl5M1jGztAAVd5DtyUDPGDnjkVueHdM+GN/qCyeFbLwldX1riUPpsVs8kODw2UGV571sR+FrWXUNUvdXf+0pNRjNsVmQbIrb/niq+hySx6sfYAAtt5a/jf8AP8BXve/XT8Lfl+JgeJF0rwnq/hBbLTvslhDe3G220yweTaWt5PuxQqT1OTge5rQ8XX9lLa6TDLYa7eyahKfs0GlXj2M2RGXO8maEgBQflY9e2aq3eny6Vr/g2ylvJLxYby5WKSUfOI/s0m1WP8RA43dTjnmrHiyEaleQQXHhTX9RWzbzYLzS9RitNrMpU4b7TFJ0JByMfWiRMb3Oav8AR9RltlXRfDfjezvfOiKT3XibzIkAdSxZftz5G3PG0/SvUq8o0vRtSha9OqeGPHc4e7d7XZ4p/wBXDgbVP+njkHPr1616fYXEt3YxTT2U9jI4+a3uGRpE57lGZffhjR0uPqcv440ddT1DRprnwx/wktnavMZrTZbvtLIArbZ3VTznvmueuPDFlcX2lNonws/sO4g1G3na+8jTo/KjSQF+YpmfoDwAc1o+MrXwVp3ivTJvFOjeGEi1MTfab/VbWEMWRV2DzH7845zwBisXwxpPwmiWazu5fAeoXd1qM72yRtaStsklJijAIzkKQu0cDoKUPiuvX5qw5K8Xf0++52/jfT/D03hy71LxNpNhqEen28kkZu7VJinHRdwOCSAOOpxXE6Joui2P7Pd7d6do9lY6ifDs1tfSxWqRzNLHCyyLIwGSQ6nOe9d7e+FbO8bTLcbLfSdOYSJpkESpE7qQY84/hQjIUDGcHtisfxloi6f4U8X31nO0cF7pNy9xabcoZhER5qn+EkDDDocA8HOZnpTl5/pf87/l8taWtSHk1+a/L/MS+lfxZ8NJrbRILwyiOFXgurSW0M6qUZ4x5qrkOgZd33fm61meKLoeIZNGh0Pw14hlayud1ybaKTTJIYNjBo0ld4Q2SV4RyPlz2Ge+0z/kEWf/AFwT/wBBFeMp4l0q/aW4fUdKsmaaRTBefEy/t5UKuV+aIKQnTO0cAEVpUt7Rr5/cY037i/rc6jwLcvpPhPxhdRWl5bva6ldSrb39x58ylYUIDyb33Hjrub60t5oVpoXw/h8TWa/8T63hhvJtSx+/u2yrOkjdWVgWG08DIwBgY0/hy0d5oGoo+r2OrwyXj7VtNZk1RYIyijyjNIAxPU4I/iqxB4Mu1tLXSLvWftGg2bxtDafZsTsI2DJHJNvIZAQvAQEhQCTzlJWtftH8Fr+n3C6O3eX4vT+vMdbf8le1H/sB2v8A6PnrodQvYdOsJbq6SeSKMDctvbSTucnHEcaszdewNc9bf8le1L/sB2v/AKPnrqqS+BfP82az+N/L/wBJR5LFB4Lj8YTvF4LuodIl00Qyxp4PuhHcSmUNhkFvztCKckd+O9bPw8m0yx1vxBY6Vot/pVrd34ns4m0O4s4DGLeJSwLRqi5ZX4OCSOnNcTYa7ayx3J1PXdK+0i8uVYXvxFvbGUATOADAilY8AAAA9MV6Z8Prq0utGuHsr2zuwJyGNn4im1hV+UcGWUAqf9kDHfvVQ+H5fm7/ANeRm9/X/KxneEddg0W0vtO1Gw1qK4GqXsg26LdujK9xIysJFiKkFSDwe9LPdXmrfEzSbjQ7hbNP7LuPOGo6bMHdBPECqozRshPZiCO+DVLWvG0/h34jataSX+gxwNZ2rxxa3rpsQpPmbjGvlODnjJ46DrUvhjxjP4k+Iywi+0aa3i0qV2i0XWjfx7vNjAZ/3aBWxkDg8E9KI6yXz/JhUekn3a/GSNqx/wCStaz/ANgey/8ARtxR8RP+RXg/7Cun/wDpXFVjUfCb3niCTWLDX9U0m5mto7aVbNbZldUZ2XIlhcg5duhFYfi7SbzTfDSteeINR1YPqmnBVvY7ZRHi7i5HlRJ1989Kcfij6r8y95N/1tYk8RaLpWu/FbRLbXNMs9St10e9kWK8t1mUN51sNwDAjOCefejxpoWi+HPhprn9iaRZabG8aPKljaLHvIdeSqD5j+tbeteF/wC1tatNVttZ1HSby1glt1kshA29JGRmBEsTjrGvIxWD4x0i907wFrL3niLUtWVoUAjvI7ZVQ+YvI8qFDn6kipk/3dl2f5tmc+r/AK2sdhpmqQavZ/abSO6jj3FcXdnLbPkf7Eqq2PfGKuVUn1DyNUtLL7JdSfalc+fHHmKLaAcO38JOePXBq3QUFFFFABRRRQAUUUUAFFFFABRRRQAUUUUAFFFFABRRRQAUUUUAFFFFABRRRQAUUUUAFFFFABRRRQAUUUUAFFFFABRRRQAUUUUAFFFFABRRRQAUUUUAFFFFABRRRQAUUUUAFFFFABRRRQAUUUUAFFFFABRRRQAUUUUAFFFFABRRRQAUUUUAFFFFABRRRQAUUUUAFFFFABRRRQAUUUUAFFFFABRRRQAUUUUAFFFFABRRRQAUUUUAFFFFABRRRQAzyo/O87y183bt37fmx1xn0p9FFABRRRQAUUUUAFFFFABUUv8ArYP+uh/9Bapail/1sH/XQ/8AoLUAS0UUUAFFFFABRRRQAUUUUAFFFFABRRRQAUUUUAFFFFABRRRQAUUUUAFFFFABRRRQAUUUUAFFFFABRRRQAUUUUAFFFFABRRRQAUUUUAFFFFABRRRQAUUUUAFFFFABRRRQAUUUUAFFFFABRRRQAUUUUAFFFFABRRRQAUUUUAFFFFABRRRQAUUUUAFFFFABRRRQAUUUUAFFFFABRRRQAUUUUAFFFFABRRRQAUUUUAFFFFABRRRQAUUUUAFFFFABRRRQAUUUUAFFFFABRRRQAUUUUAFFFFABRRRQAUUUUAFFFFABRRRQAUUUUAFFFFABRRRQAUUUUAFFFFABRRRQBF9lt/8AnhH/AN8Cj7Lb/wDPCP8A74FS0UARfZbf/nhH/wB8Cj7Lb/8APCP/AL4FS0UARfZbf/nhH/3wKPstv/zwj/74FS0UARfZbf8A54R/98Cj7Lb/APPCP/vgVLRQBF9lt/8AnhH/AN8Cj7Lb/wDPCP8A74FS0UARfZbf/nhH/wB8Co5beASQ4hjGXwflHPymrNRS/wCtg/66H/0FqAD7Lb/88I/++BR9lt/+eEf/AHwKlooAi+y2/wDzwj/74FH2W3/54R/98CpaKAIvstv/AM8I/wDvgUfZbf8A54R/98CpaKAIvstv/wA8I/8AvgUfZbf/AJ4R/wDfAqWigCL7Lb/88I/++BR9lt/+eEf/AHwKlooAi+y2/wDzwj/74FH2W3/54R/98CpaKAIvstv/AM8I/wDvgUfZbf8A54R/98CpaKAIvstv/wA8I/8AvgUfZbf/AJ4R/wDfAqWigCL7Lb/88I/++BR9lt/+eEf/AHwKlooAi+y2/wDzwj/74FH2W3/54R/98CpaKAIvstv/AM8I/wDvgUfZbf8A54R/98CpaKAIvstv/wA8I/8AvgUfZbf/AJ4R/wDfAqWigCL7Lb/88I/++BR9lt/+eEf/AHwKlooAi+y2/wDzwj/74FH2W3/54R/98CpaKAIvstv/AM8I/wDvgUfZbf8A54R/98CpaKAIvstv/wA8I/8AvgUfZbf/AJ4R/wDfAqWigCL7Lb/88I/++BR9lt/+eEf/AHwKlooAi+y2/wDzwj/74FH2W3/54R/98CpaKAIvstv/AM8I/wDvgUfZbf8A54R/98CpaKAIvstv/wA8I/8AvgUfZbf/AJ4R/wDfAqWigCL7Lb/88I/++BR9lt/+eEf/AHwKlooAi+y2/wDzwj/74FH2W3/54R/98CpaKAIvstv/AM8I/wDvgUfZbf8A54R/98CpaKAIvstv/wA8I/8AvgUfZbf/AJ4R/wDfAqWigCL7Lb/88I/++BR9lt/+eEf/AHwKlooAi+y2/wDzwj/74FH2W3/54R/98CpaKAIvstv/AM8I/wDvgUfZbf8A54R/98CpaKAIvstv/wA8I/8AvgUfZbf/AJ4R/wDfAqWigCL7Lb/88I/++BR9lt/+eEf/AHwKlooAi+y2/wDzwj/74FH2W3/54R/98CpaKAIvstv/AM8I/wDvgUfZbf8A54R/98CpaKAIvstv/wA8I/8AvgUfZbf/AJ4R/wDfAqWigCL7Lb/88I/++BR9lt/+eEf/AHwKlooAi+y2/wDzwj/74FH2W3/54R/98CpaKAIvstv/AM8I/wDvgUfZbf8A54R/98CpaKAIvstv/wA8I/8AvgUfZbf/AJ4R/wDfAqWigCL7Lb/88I/++BR9lt/+eEf/AHwKlooAi+y2/wDzwj/74FH2W3/54R/98CpaKAIvstv/AM8I/wDvgUfZbf8A54R/98CpaKAIvstv/wA8I/8AvgUfZbf/AJ4R/wDfAqWigCL7Lb/88I/++BR9lt/+eEf/AHwKlooAi+y2/wDzwj/74FH2W3/54R/98CpaKAIvstv/AM8I/wDvgUfZbf8A54R/98CpaKAIvstv/wA8I/8AvgUfZbf/AJ4R/wDfAqWigCL7Lb/88I/++BR9lt/+eEf/AHwKlooAi+y2/wDzwj/74FH2W3/54R/98CpaKAIvstv/AM8I/wDvgUfZbf8A54R/98CpaKAIvstv/wA8I/8AvgUfZbf/AJ4R/wDfAqWigCL7Lb/88I/++BR9lt/+eEf/AHwKlooAi+y2/wDzwj/74FH2W3/54R/98CpaKAIvstv/AM8I/wDvgUfZbf8A54R/98CpaKAIvstv/wA8I/8AvgUfZbf/AJ4R/wDfAqWigCL7Lb/88I/++BR9lt/+eEf/AHwKlooAi+y2/wDzwj/74FH2W3/54R/98CpaKAIvstv/AM8I/wDvgUfZbf8A54R/98CpaKAIvstv/wA8I/8AvgUfZbf/AJ4R/wDfAqWigCL7Lb/88I/++BR9lt/+eEf/AHwKlooAi+y2/wDzwj/74FH2W3/54R/98CpaKAIvstv/AM8I/wDvgUfZbf8A54R/98CpaKAIvstv/wA8I/8AvgUfZbf/AJ4R/wDfAqWigBqRpGuI0VR1woxTqKKACiiigAooooAKKKRs7TtIBxwSM0AYtj4mt7iHVL28NvY6Zp9w9v8Aa57kKGaMlZCwIAQBhgEsc88DvkXviTWL3VLO98MWM17odoWN9IFCtdhhhfs4YZfafmJBAbopY8VF4Psbi/8AB91bR6pdaderq14Lq7s0iJklFw+8qsqOqox5AIJA4yepr6rbajp3iPR9Nk+JOpQG+aQNDPDY+bJhfl2YtcD5uu7r0HNLt8vn/XyHKybXm/zOu0/WLDXLab+zLw70G2RdmyaAkcbo3GVPfDDt0rj0g1hviFL4d/4TzWisemJe4+z2G/JlZP8An2xjAHbNdRY6VqOkieebXtU1xvKPl212lqgLdRgxwxnJ6cnHNc7D4P1SBh4m3Qv4qaczyqG/dPEVC/ZAx6IFAw398bsckU/tJ/1/XX5C+zb+u/8AwPmbGmXNy3j3X7Zp5JYobSzaKN3O1WPm5IHQZwMkDtV7w5rZ17SmuXt/ss0NxNazwh94SSKQo2GwNwyuQcDjsK56x0bTNT+KesX+paTaT3lraWL28txAkklu370/KxB2nIHIParvgcZXXHgZRZNrF0IYyvzq4kIlJbuDJuIGOB3PY628v1X+Yl8N/P8AR/5HU0UUUDCopf8AWwf9dD/6C1S1FL/rYP8Arof/AEFqAJaZLNHbwvNPIsUUalnd2AVQOSST0FPqvqFrLeWMlvb309hI4GLi3WMunOeBIrL7cqetA1uctqnibUtVa1fwFCNTt7eZZry5VlWG4hHWKKRhtdznIKnaNuCwzW9pXiDT9YZ4rWVkuY13S2lxG0U0Q6ZZGAIGe/Q9ia5TxDa6job6YJviTqVoLu8SBvtcNiN6kHITFrw2dvJ+X16iuk03Q9QsbwT3PinVtTjCkfZ7qK0VG98xwI3H+9QrWf8AXQTOY1OLWLbx/pGhx+OdYjj1K2up2TyLHcpjMe0Lm26YduuTwOa2oJbqD4iW2nyX1xcxJohZvNYDzJBMo8xlUBdxHcAdeMCs1/CGpatcXHiO/aK08QiRH05d29LKOPdtiYj728M+8j+/gZ2g0240mx8QfErT28R6JaTSx6IZRBdxRz+RJ5y52kgjI9RSj8UV6/8ApMv69UKo/ddvL/0pf16E1vFrOveLvEcCeKNT0220+5hhggs4bQqA1vG5JMsDsTuY96yH8S39t4Y8KX+pX99cudemt7mS3gZ5LiNBcqAYoE+b7ikhVxkZxxWvq+h6M/j22t3h1OK51qGa4nns9au7VcwLEgzHFIqklWAzx93vmrN/4WFnH4Xs9Btn+x6bq32mUPOXZEMUwZi0jFmJeQdyeaFsvVfnqaPe/k/y/wAy94jub+bRIJNFh1oyTMrbtMS1SdFxn5lvMKB2IxuB9Oa4TXtR8Y6ToN3fxy+NYWt494kvF0NoV56uIwXK/wC7z6V0nju1SO50yW3gvrq+1G7WxjiTxDeadCv7uR9x8kkdEI+5k5HPFc14g8PX+naDdXWuaE1zp6KBcRL481SUspYD7jRgN16Eimt7kS0jr2PWRyo+lcnqniz+xvHn2C9+3S2T6asyRWemzXREnmsCx8qNmHAA5wK6PTtPh0uxS0tnuHjTOGubmS4fk55eRmY/ieK5zxRpscWv2GqR61q+l3V4U0xTp6Wzq2SzgsJo3xyDyPypP4lb+rppfjYPsv8ArZ3/ACOfu/F95qHhLxffxXN9FFYatDDa5tZLeeKLbbMy7CqyZJd+CMkNxkYro/FniWW2+G+o69ozy2skUW+Jr22e3ZCHAO5JUBUdeSvTmqmo+C57Twnq9rYXd5q1/qd7DdzS3jQqzMrRKcbERAAkQ4xWz4ntNSls1uNK1DWYJIRza6StmXnyR3uUKjHJ+8vfrxRLay7L77a/iG/4nG3fxXdbKdotR8BBxGxUp4w3MDjjA+zcn2rp5tXvo/h1Zax/aVrZ3H2OGee4urJrhW3ICQI43QliTwAepxiuQax8QWeoXWstH8QEuHt1imm3aCcxxlmA29OC7HgZ5+ldlpOnRa34NA1LUtR1e01SBJ1N+sMUsaMoZQDAiAEcHPJB6HpTfwt+n6/n+gvtr5/p+X6nM6JfeMrPXimt6gLSHVL0ND9v0YlCfLUeVEUvn8oFULAOo+YtwScVveDNb+232uWE730s9tqdzh5reXyljD4VVlK7Dj+6GyPSua8N+I9L1Sx0zWNZn8W37qBcQWs2jXE8Nu5UjKyQWqiXAJwzFuuRzzXVeBLy01DTdTubCG6hjk1W5JW6Vkctv5OxkVk/3WGR6mhfF8n+cbDkmtH3/wA7lrwbqN1qvhlLu/l82c3NyhfaF+VJ3VRgADhVAqKa5nHxMs7UTyC3bSJ5Gh3nYWE0QDY6ZAJGfc1maJZ+M/D+mnT7fSNCu4kuJ5EmfWZomZXlZxlRatg4bHU9KltpL6T4k6c+q29vbXZ0W43xW1w00a/v4sYdkQnjH8I/HrTjrJfP/wBJZMrqD+X/AKUiHS7bWvEGoa3K3i3VrCO11OW2ht7SCz2IiqpHMkDMTyepq5cyXln488M2DahdXEbafemZpGVfPZTBh3VAqEjceijGTjGagsrHxbol/qw07S9Fvba9v5LuOSfVZYHAYKNpQWzjPy/3jVDWdLTxD458L2/jHRdLnP2PUHa0LfbIQQ0G1gZI1ycH+6MZNRG/LH0V/W2v4lx+J38/1segUVBb3NpK0sFpNC7WrCOWOJwTEcAhSB904IOD2IqeqEFFFFABRRRQAUUUUAFFFFABRRRQAUUUUAFFFFABRRRQAUUUUAFFFFABRRRQAUUUUAFFFFABRRRQAUUUUAFFFFABRRRQAUUUUAFFFFABRRRQAUUUUAFFFFABRRRQAUUUUAFFFFABRRRQAUUUUAFFFFABRRRQAUUUUAFFFFABRRRQAUUUUAFFFFABRRRQAUUUUAFFFFABRRRQAUUUUAFFFFABRRRQAUUUUAFFFFABRRRQAUUUUAFFFFABRRRQAUUUUAFFFFABRRRQAUUUUAFFFFAGNp/h4WMeqWrXJexv55J1jjDRSRNISZP3isDyxyCACMnk8YktvC+h2tjcWkWlWrQ3QxcrLGJDcf8AXQtkv/wImtWijpYOtyjpej2WjQyRadHJFE7bvLaZ3VeMYUMSFHsuB7VeoooAqx6bbQahdX8EYS7ukRJZCSdwTdt4zjjcemM5qr4d0X+wtKa2af7TNLPLczzBNgeSVy7ELk7RluBk4Hc9a1KKA6WCiiigAqKX/Wwf9dD/AOgtUtRS/wCtg/66H/0FqAJaRlDoVbOGGDg4paKAMqw8MaNpvnG2sI2knTy5ppyZpZV/uvI5LMPYkipNK0DTdEaT+yrc2qSAAwpI3lIB/cjztTr/AAgZrRooAKqnTbU6sNT8r/TBAbcSbj/qy27GM46jOcZq1RR5h5GRrXhjTNfubW41AXaz2iusM1pfT2rqH27huidSQdq8H0qvaeDNMsruK5hutbZ4mDKJtevZUJHqjzFWHsQRW/RQtNgeu5m634f0/wAQ28EOppORbzCeF7e6lt3jkCldweNlYcMw696ypfh5oVxGY7qTWriIkFop9fvpEbBzyrTEEZHQiunoo2B6qzCs7WtCsPEFpHb6mkxSKVZo2guZIHRxnDB42Vh1PQ1o0UAc2PAekD/l88Qf+FHqH/x+ukHAoooAZLEk8LxSjckilWGcZBGDUdlZW+nafBY2cfl29vEsUSbidqKMAZPJ4Hep6KAOWt/h1oNnbpb2cmt28EY2xxQ+IL9EQegUTYA9hWzo2iWOgWLWmmJMsTytM5muJJ3d2OWYvIzMSfc1oUUA9dwqq2nWrasmptFm8jha3WTceI2YMRjOOqjnGeKtUUAFVZtMtJ9UttRli3XdrHJHDJuI2rJt3jGcHOxeo7VaooAhhtLa3lmlt7eKKS4ffM6IFMjYAyxHU4AGT2AqaiigAooooAKKKKACiiigAooooAKKKKACiiigAooooAKKKKACiiigAooooAKKKKACiiigAooooAKKKKACiiigAooooAKKKKACiiigAooooAKKKKACiiigAooooAKKKKACiiigAooooAKKKKACiiigAooooAKKKKACiiigAooooAKKKKACiiigAooooAKKKKACiiigAooooAKKKKACiiigAooooAKKKKACiiigAooooAKKKKACiiigAooooAKKKKACiiigAooooAKKKKACiiigCLyn/wCfiT8l/wAKPKf/AJ+JPyX/AAqWigCLyn/5+JPyX/Cjyn/5+JPyX/CpaKAIvKf/AJ+JPyX/AAo8p/8An4k/Jf8ACpaKAIvKf/n4k/Jf8KPKf/n4k/Jf8KlooAi8p/8An4k/Jf8ACjyn/wCfiT8l/wAKlooAi8p/+fiT8l/wqOWJxJD+/kOX9F4+U+1Wail/1sH/AF0P/oLUAHlP/wA/En5L/hR5T/8APxJ+S/4VLRQBF5T/APPxJ+S/4UeU/wDz8Sfkv+FS0UAReU//AD8Sfkv+FHlP/wA/En5L/hUtFAEXlP8A8/En5L/hR5T/APPxJ+S/4VLRQBF5T/8APxJ+S/4UeU//AD8Sfkv+FS0UAReU/wDz8Sfkv+FHlP8A8/En5L/hUtFAEXlP/wA/En5L/hR5T/8APxJ+S/4VLRQBF5T/APPxJ+S/4UeU/wDz8Sfkv+FS0UAReU//AD8Sfkv+FHlP/wA/En5L/hUtFAEXlP8A8/En5L/hR5T/APPxJ+S/4VLRQBF5T/8APxJ+S/4UeU//AD8Sfkv+FS0UAReU/wDz8Sfkv+FHlP8A8/En5L/hUtFAEXlP/wA/En5L/hR5T/8APxJ+S/4VLRQBF5T/APPxJ+S/4UeU/wDz8Sfkv+FS0UAReU//AD8Sfkv+FHlP/wA/En5L/hUtFAEXlP8A8/En5L/hR5T/APPxJ+S/4VLRQBF5T/8APxJ+S/4UeU//AD8Sfkv+FS0UAReU/wDz8Sfkv+FHlP8A8/En5L/hUtFAEXlP/wA/En5L/hR5T/8APxJ+S/4VLRQBF5T/APPxJ+S/4UeU/wDz8Sfkv+FS0UAReU//AD8Sfkv+FHlP/wA/En5L/hUtFAEXlP8A8/En5L/hR5T/APPxJ+S/4VLRQBF5T/8APxJ+S/4UeU//AD8Sfkv+FS0UAReU/wDz8Sfkv+FHlP8A8/En5L/hUtFAEXlP/wA/En5L/hR5T/8APxJ+S/4VLRQBF5T/APPxJ+S/4UeU/wDz8Sfkv+FS0UAReU//AD8Sfkv+FHlP/wA/En5L/hUtFAEXlP8A8/En5L/hR5T/APPxJ+S/4VLRQBF5T/8APxJ+S/4UeU//AD8Sfkv+FS0UAReU/wDz8Sfkv+FHlP8A8/En5L/hUtFAEXlP/wA/En5L/hR5T/8APxJ+S/4VLRQBF5T/APPxJ+S/4UeU/wDz8Sfkv+FS0UAReU//AD8Sfkv+FHlP/wA/En5L/hUtFAEXlP8A8/En5L/hR5T/APPxJ+S/4VLRQBF5T/8APxJ+S/4UeU//AD8Sfkv+FS0UAReU/wDz8Sfkv+FHlP8A8/En5L/hUtFAEXlP/wA/En5L/hR5T/8APxJ+S/4VLRQBF5T/APPxJ+S/4UeU/wDz8Sfkv+FS0UAReU//AD8Sfkv+FHlP/wA/En5L/hUtFAEXlP8A8/En5L/hR5T/APPxJ+S/4VLRQBF5T/8APxJ+S/4UeU//AD8Sfkv+FS0UAReU/wDz8Sfkv+FHlP8A8/En5L/hUtFAEXlP/wA/En5L/hR5T/8APxJ+S/4VLRQBF5T/APPxJ+S/4UeU/wDz8Sfkv+FS0UAReU//AD8Sfkv+FHlP/wA/En5L/hUtFAEXlP8A8/En5L/hR5T/APPxJ+S/4VLRQBF5T/8APxJ+S/4UeU//AD8Sfkv+FS0UAReU/wDz8Sfkv+FHlP8A8/En5L/hUtFAEXlP/wA/En5L/hR5T/8APxJ+S/4VLRQBF5T/APPxJ+S/4UeU/wDz8Sfkv+FS0UAReU//AD8Sfkv+FHlP/wA/En5L/hUtFAEXlP8A8/En5L/hR5T/APPxJ+S/4VLRQBF5T/8APxJ+S/4UeU//AD8Sfkv+FS0UAReU/wDz8Sfkv+FHlP8A8/En5L/hUtFAEXlP/wA/En5L/hR5T/8APxJ+S/4VLRQBF5T/APPxJ+S/4UeU/wDz8Sfkv+FS0UAReU//AD8Sfkv+FHlP/wA/En5L/hUtFAEXlP8A8/En5L/hR5T/APPxJ+S/4VLRQBF5T/8APxJ+S/4UeU//AD8Sfkv+FS0UAReU/wDz8Sfkv+FHlP8A8/En5L/hUtFADUUquGdn92x/SnUUUAFFFFABRRRQAUUUjHCkgFiB0HegCraapaX91d29pKZXs3EcxEbbVbGdobG0kdwCccZxWPrfjSw0PxFp+lXOCLkn7TOGO2yBGI2kOMKHb5Rkjn1rG8OR6hf+BL42Fuk11eapePLbTajLZvb7rh8xmaJXYOvT5ePRsYJSH/hJdGMOlWngjQ2h1BpPOkXWZ5EJC5LTu1pklhxlsknil2v5f1/VxuybXm/zO7kLiJjCqu+0lAzbQT2ycHA98GuOXxL4wbxC2jf8I3of2hbUXRb+3ZtuwuVx/wAemc5B7fjVvw7a3uhR3bahpGmaPp6R+Ziy1aa5SPb2WJ4UWNcZPy/lXPQDVU8Rt8RJoLhbKdfsbWDIRJHp45Wcp1378uV6hGPGRin9pdv6/X8EL7Pn/X6fidhYavc3XizVdLmSJYbK3tpEKg7i0nmbgT3HyDHA71afW9MTXYtGa9h/tKWJpltQ2X8sYBYgdByOT1rmLG0mvvinrF3aaxd20EdpYu0FusLR3IPmkbi8bNj/AHWXrVd9D0zRvjDor6ZZQ20l5ZajPcyIvzTOXgJZm6nr36dqOqQo6pnfUUUUDCopf9bB/wBdD/6C1S1FL/rYP+uh/wDQWoAlooooAKKKKACiiigAooooAKKKKACiiigAooooAKKKKACiiigAooooAKKKKACiiigAooooAKKKKACiiigAooooAKKKKACiiigAooooAKKKKACiiigAooooAKKKKACiiigAooooAKKKKACiiigAooooAKKKKACiiigAooooAKKKKACiiigAooooAKKKKACiiigAooooAKKKKACiiigAooooAKKKKACiiigAooooAKKKKACiiigAooooAKKKKACiiigAooooAKKKKACiiigAooooAKKKKACiiigAooooAKKKKACiiigAooooAKKKKACiiigAooooAKKKKACiiigAooooA5vw/pmo6Xba1Yogt3kvri6tbuQCWN/OdpB8gYN8pOCDjPGCezZPBz308V7q2uX8+pQZNrcwFYVtSRgmOMAqcjr5m/06cV01FJKyS7foNu7bfXUo6XbajawyJqeoR353fu5Ft/KYLjo2GIY+4Cj2q9RRTEZlpo32XxLqWrefv+3QwReVsxs8vfznPOd/oMYp1xoltc+I7HWpHlFzZQTQRopGwrIULEjGc/uxjkd60aKA2M7SbK7tHv5b+5aaS6u3lRPMZkhjwFRVB6fKoJA43M3XrWjRRQAVFL/rYP8Arof/AEFqlqKX/Wwf9dD/AOgtQBLRRVTVba5vNLntrKS1jmlXaGu7YzxYPUNGHQsCMjG4dfwoGtzB8ReL5NOvre00OzfVpoZlbU47ZDI1rb/xMcEfP0ITlmAOFOK3tO1Sx1izW60u7hu4G43wuGAPcHHQj0PIrj5bLxb4btdPs9J1Hwnb2010tuIY9Ee3SIMCcqv2sBjx90cn8K2dK0bW7TWn1DVLzQp/Mj2SvZ6K9vPIB0BkNw/APYg/hQrWf9dP6/ETMi/v/Gdr4v07RY9Z0DGoQXE6u2jTZjERjwuPtXzZ8zrx93pzxrwahqSeObfSru5jlj/sgzyiKHYrzCVVLgEsyjBPy7j+PWsCfQtZ1zWD4zWB7XULFguk2E7bSbcZ8xZP7rS5PX7u2PPIIqa4sbbxF8StPnuhqNqBohmWOO7mtJFPnL8riN1Jx/dORSjfmin5/wDpMmv67r5iqP3Xby/9KX9ehuXnjfQbPxVZeHGvVm1W7kMYt4fnMXyM+ZMcJkKcA8nsMZNb9cX4vt4YfF3gx4YY42m1qR5GRQC7fY5xk+pwAPwrtKq2g3v/AF5nMy6trWq69qFj4cewt4dLZI7ie8hebzpWQP5ahXTbhWQlyW+9jbxVW68VXN34Y0rUbMfY55tWgsrqI4fYRceVMmSORkMA2AcYPFEM7+E/EmuPd2F/c2urXKXlvNZWklx+88lImjYICU/1QIZsL83Xisu50y50zwfpQ1CPyrq78SQ3s0QYHymmu/M2ZHBKhgCRxkGiNrx9Y/fdXX5/h3FPSMrb2f3Wev5fj2On8aa+3hjwfqGrQiNprePMKSKWEjkgKuAQSSTjAqHxfrx03wLNrWn3kcKgQyLcnaUEbSJlsnjG0nmmeIzZWGsadf3MNzqWoTTfZtNsfMAjWXYzM4BwAQisS5yQAQvXB5zVbHUdN8O3ttqumwaZo9xcwuWsdQa8Wz/eqxYRPFEVQnGQrNjOQvWpd7Demp6Bp+pWOr2Md7pV5b31pJnZPbSrJG+Dg4ZSQcEEfhRf6jZ6VZPd6lcxWtvH96SVgoHt9farNczq3h/WLzxAuqWFz4eieFNlvLeaG9xcRDuBKLhOCcnAA/HrTe+gIi8P+MmvbqW18Q2zaPcTTsdOS6Tyvtdv1Rhk/fx95OGHdRW1rEWsSQodDv7CyZSTK17ZPchh2wFljx+Zrl7W28Y+ILO9g1HVPCskEdzJbtE2ivcJIFOMsBd4BP8AdPI71oa5DrbeHbbQLEI19fIYJr+0tzBBaRdGcKWba204Rdxy3PQHCesdPK3/AAf1Gvi1/r+uhn+G9a8Tap4D/wCEj1LUNLKXGmPcxQWenvE0Um3IJd5nDAYPG0Z/Q71hrMieD9L1C7iuL25ubWFjHbxAvLIyAnA4UdzkkKPUVg2ulS+E/D2r+HIbeRtHSynm06cZYQoVJaBz2IYkqe6nHVeZfDsml+DPh7pt7JLqEv2m1tgsMl3NdPLKyALHEsjttJJ+6uB64A4LpuXb3f8A27+vu3Id+aP/AG9/7b/X3m7o3iKHV7m5s5LO607ULVUeazvAnmKjZ2sCjMjKdrDKseQQcU/xHrQ0DQ5b4Q/aJdyQwQbtvmyyOEjTPOMswGccdao+H9Lv21m+8Q63GlveXsUdvFZxvvFtAhZlVm6M5Z2JI4HAGcZMnjPS7nVvDZTT4xLdWtzb3sMRYL5rQzJLsyeBu2Yz71Wml/n/AF6FLf8Ar+tyCDVda0rWdPsvEj2FxHqbvFBNZQPF5MqoXEbBnbcCqvhxt5XG3ml0fWb+b/hI3khm1BrDUmht7eARq5QRRsEBYqucsTlmH1qpNcP4s1/RDaWF/bWul3TXlzLe2klv84ieNY1DgFzmQksuVwvXkU3QoJ7mHxpBZy+TcS6nMkUv9xzbxAH8DUu6v6P84/1/w4O1469Vf7pf8Ay7L4hajN441Cw/sS8njFvCIdMiv9MNxDKpkMrMout2CDHjJP3TwO/SeHtVvL/xF4ktrtmEVldQJBEyqDErW0TspK9fmZj1PscVzEkZvfBmneGNO0C+stXtWt9pezdYbORGUtMLgjy3xhj8rFmzjHJrR8PWNxL8SfFl3Hqt3BBFewB7KNITFMfskXLFoy4PP8LgcD3zX2rf10/r+mEdU35FSDXfGV/4X1TX7bUtCghtJr1Y7WTSZpGKwSyIAZBcqMkR5ztHXpV2fxktj4u8OQavqlpp9nqmkzTGOd0jWW43wBArNznDvhQeffFU4PC8Uupaz4WsfFPiG1gEZvJ7dI7IxbbuSZmVGaBn+8r9TwCMH01Tpktr8R9CMEMz2drod1bmcoSqt5tttVmAxuIUnHfB9KqC9/Xb/gS/4HzFLZ2/rVW/C5L4t1u/0ua2j026a3Z1ZnP/AAjl5qYYdubdlCHrwck+1c7b+NddTXdItp7yO5hvbxbeRH8Jahp+FKsciWaQoDx0IOau+Jp9TsvE0Fhp+seK7q4vopbqO00yPSxHDGjIrfNcRqesi4+ZjWNdwand6ro1rr9745sfOvlFncXC6KUScRuwz5Ss33VfsRWcb6Pz/X+kVLZry/T+meq1yCfELRrHxRruleI9a0jSzYTxJbJc3aQySI0KOWIdufmZhkADiusgjaK3jjkledkUK0sgAZyB1O0AZPsAPauNuNP1bTPG16NI8Q6Zay6832pLW80iW4YeTFFE5EiToMfdOCM/N3xR1HGzTKUvj9v+Eb8Na5dalY2NjfazJbXNxvVYGgUXAU73JAB8tDkHk9ODiug8TeJZtJ0/SrzR7Uaqt9exQiO3ZC0sbqxzGzOqZ4BBLYxWNL4bvdIsvCNjvbUHtdce5uZ4LdkVQ8dwxYrltqhpAOWPUc81Z8e21zPbIt2dMudLdlAtLrwtc6u3mAE7iIpBge5Tj15o6fP8NBdF/h/G7DWPGms2OlyXCeDdWtSrovnXctm0SBnCksI7ktjB7A1reKNZv9DsY7qyttOmi3bZDfX0lvgkgKqBIZC7EnGMA9MZzXkdnoejaHdXV+8GixedcrcCW7+Gl+kdodqIAjFwI1yobr95ic816b4mtp7fwadT16/R73RC2orc2FpsXdGrcCJ5GzlCVIL85yCvGG9Ff+vMUdZW/ryM/wAGeKPEepzrY6xa6d5i+ZLK7z3NvcCMsdpW3ltItwGVXdkDv1OKn8H+MV1v4ZJqqanaajqltYeZeCN0YxzBCdrqmNpyOnFZuneKvC8ur2+s+IPiF4ZvLu3t5IbdLW4ito41kKlyVaaRi3yKPvYGOlavhS3juvg1YW2kvJcxzaTst2lRY2kyhC5AYhc5/vEe9RUuoStvb8dS6drq/dfcdHol7JqXh/T76dVWW6tYpnCAhQWQE4z25rP0vUru48Za/YzS7razS2MCbQNhdGLc4yckDrWXomt63pvh/T7GfwNrzS2trFC5S4sCpKoAcZuunFT+HZGm8deJpJIXgd4bFjFIVLITG/B2kjI9iR71pUtzPl2uc8HLljzb/wDAKugXfjXxBodtqkes6DapcgssLaLNIUG4jBb7UM9OuBWrZ6leSfELUtMlmDWkGm2s6RhAMSPJMGOevIReCe1YvhjUNd0Dw1Z6Xc+CtamltVZGkguLEo/zE5G65Bxz3Apttp0Ws/Fa7u72PULKaHSLGVbdL6SEoxlnO2QQybJMY6EsvXsaI9P66G32Zf11R3lY+teIW0UNI2j6leW0SGS4uLVIysKgZJIZ1ZuB0QMa2KwvE1hf6wtppdvvj027d11KeJwsixBSdinORvOFJGSBnGM5Eu/QFbqbNtcRXdrFc2ziSGZBJG46MpGQfyqjrev6f4fsHutSnRNqM6Rb1Dy7RkhASMmr8MMdvBHDAixxRqERFGAoAwAKqavo9prlmtpqKtJbeYHkhzhZcfwt6rnBx3wO3FN76Eq9tSxaXtrf24nsbmG5hJKiSGQOpIOCMjjgjFTVBZWosbGG1SWWVYUCB5W3OwHcnufenXTXCWkrWUUU1wEJijmkMaM3YFgrFR7hT9DQ7DJa5fxrrmraSum2/h+Lz76+naNI/saT7gqM5+9cQBeF67j6YrF8OXfio+OvEPm6No6hp7X7SV1eU+UPKHKf6MN5xzg7eeM96h+Kejwz28Fzqeu6fFavMBHaa3PYwW0bBOsbTWczFjzxnueccVL2uNDoNZ+JzXlqr6JG0LXEazmXT4IQsRcB23LqUhBC5IwjZI6V6NXzcmn6HaX1i0Go+EriWS8ghRdKv9JnuFLyKgdEGlrkru3dRwK+irK3ltLKKCe8mvZEGGuJwgeT3IRVX8lFafZuT1MXU9W1O58RnQvDzWkNxDbLdXV1eRNMkSsxVEEashZm2Oc7hgL3zWZqninUF8C+IrhdlprGjF4ZTGN6BwqurqGHRkdTg5xkjnGasX3meHvHFzrk1pd3NhqNjDbSPZ2z3DwSRPIVzHGCxVhKeQDgrzjNYet2Vyvw/wDGur3lu9q+rMZ44JRh0iSKOJNw7EhN2O24A8g0lb+u9/8AL/Mcrf16f5/5Hc6pFq09rGNDvbKzn3Zd7yze4UrjoFWWMg5xzk/SuU0zxq+naxq9t4z8QaBDaWckdvb3YjNiJZ9paSMebM4baDH0PViD0rpdatdXvreK10i9i0+OTIuLrZvmRfSNT8u48/M2QP7p7Y+lavpGheIYfBum2/lwxwE/aWkLBrg/MYmJHzSspMhyckc45qXfW39f1+f4nRf1/X+RN4U8RNP8MNO8Q69dhidPF1dXG0AEBdzNhRjp6Cnxaz4nuo47q18NWq2ci7wlzqZjusdR+7ETID7GT64pvhXw+8Xwy07w/r9sA39ni1u4C4PVcMuVOO/UGnQ6L4mtI47S08S2rWUabFe60wyXWAMD94JVQn3MZ9803uypWvoaui6xb67pMd/aLIiOzI0cow8bqxV0YDPIZSDgkcVmzXvjNZ5Bb6DoTxBiEd9bmVmXPBIFocHHbJ+prT0XSLfQ9KisLQyOiFnaSU5eV2Ys7sRjlmJJ6da8tuPCf/COQxJqnw+8G61Je6m0SXtxcfvZGmlZkLhrRsYBAPzN04ofxEbK7PQvDuuahqd/qljrGnWtjdadJGrC1vGuEcOgYHc0cZHXGMVoa3eyab4f1C+gVWltbWSZA4JUlVJGcduKy/CWkSaPDcwnwzoOgROysqaNNvWU8glx5EWCOMdc+2OdHxDazX3hnVLS1TzJ57OWONMgbmZCAMngcmoqXUHbexdO3Mr9zK0h/FMmnxahquq6TNbyWvm+Ta6XJC4YpkfO1w44P+zz7VleBPEeq6zdaempXXnrN4ZsL+QeWi7p5DJvfgDrtHHQY4ArQ0rVNU/sWGwvfCuq2PlWgieeea0aMEJgn93OzYyPTvXJfCOwh0++sTA9y/n+EtNmfz7mSbDFpchd7HYvoq4UdhWztzO21/0n/XyREb+zu97frE6QeONX/wCEtGlHwZq4RrTzwvm2fmf6zaWz9p27eRx97PaobXxHqsnjKOxe6zbNrlxaGPy0/wBUtmJFXOM8Oc569s4qrcaXqWoapL4s1HSZLi3uIzp8mhzRq7PYE53Mh4Mm/wCcr/c+XrWdolhZ6Z41tbPTbSCztYvEl2I4LeMRog+wA4Cjgcmoh2fZ/wDpS/R/miaje67r8n+v6Gp4p8X+JbHVDYaXY6cWhuY3Y2813dSGHdnbIkVlIIi6jqW4zkE0+/8AHF1baXoGq6ld6Tpdjdav9nuJoL/zoTD5MpIeSWKPY3mIARjIIxnkio/HN/p/hLUkvl1TUdKm1Rt0/wBjvdOhWZkVVyResBnbtGY+wGe1YGl+LvDGp6z4Z0XSluIZE1d7sOdQsLxp5WimLl/Jundcl2O7aQDgYGRhR1svNfmv6/TU1dld+T/J/r/w+h69BPFc28c9tKk0Mqh45I2DK6kZBBHBBHesvXfEdloluVdxPfyKfstjF801w3YKg5IzjJ6Ackgc1r1yUujeJrG5vr/TtS8N27TFpHI8PyeZIB03uLobjgAZx+Aok18hRuXfDHiT+1LGC01nyrLxBHCv27Tz8rJJj5igJO6MnOGBII75zXQVwGjweKvGHhfRtYv7/wAMN9qt4b2OGbw/LL5DMocYY3XUZ64HSu+Gdo3EE45IGK0kmm09yVtocyNU1/WtS1GPQJNOs7bTbn7Mz3tu87XLhFZsbZE8sDcBk7ieTjpmk3iy7v7LwvdWo+xtfaw9jewjDjMaTh0DEdPMi4YYJA98U/xNa6dot/BejWNS0d9ZvorWVbBodtxKw2qWEqttOAAWTDYA64FSyWmgQ6/oPhaLz4J9OVtUtERwVYIDEd5bLEnzmPqSCc9cwtbeq/DV/gPZu/Z/jdL8epr6p4k0zSZvs1xM0t4VDpZ20ZmncE4BCKCcZGMnA9SKx9M8YXNpDIvjmx/sKUyM8Uz825hJygaUEosgBAYMRkglciq3iy+g0bWrX+1fHepaDBqBfyc/YEtoiijK75oS2TnIyTznpWRJ4h0fz7W3sfi5falcXdzHbRQWM2lSyFnYKDtFvnAzknsKI6sHojste1qfTLzQY7VYpE1LURayM4JwhhlfK4PXKD1GCa2zwprkvFOn6pHbeHJrG2vNdl0vUknuNrwRzSoIZULfMY485deBj2FX7TxBqV1dxwT+ENaso3OGuJ5rIpH7kJcM35Kal/C/66Ip9PT9X/wDBg8U6yvwh0bW0mt5dVvRZxtNcwbk3TSpGWKIUzgOTgEV0WnWviiK+VtX1jSLq1AO6K10mWByccYdrhwOf9k/hXG6bY32ofAjw7HpdnJe3ES2FwII3RWdY5o3YAuyrnap6kV1tp4i1O4u4oZvBut2iOwVp5prIpGPUhLhmx9AT7Vp39f8v+COpa47wbqN1qvhlLu/l82c3NyhfaF+VJ3VRgADhVArdri/hrpNtbaE+oxyXhnuLq7V0kvZniH+kyfdiZiiHjqqjv6mu0qTNbBRRRQMKKKKACiiigAooooAKKKKACiiigAooooAKKKKACiiigAooooAKKKKACiiigAooooAKKKKACiiigAooooAKKKKACiiigAooooAKKKKACiiigAooooAKKKKACiiigDmta1PUNUhu9G8OWt5FdOGgk1GeF4IbXIwXVmAMhAOV8vIJHLL1p+i6jqljHbaV4isriS5QLEuo28ZlgucD75xloycZO8AAnhm61ieJNC8OaXp1wsmt67b300braxReIb6SZ5MHAji8/5zn+Hp64FSeHdE8N6pawNa6zrk95CqfaIZfEN8ssb4GRJCZ/kOeqkfpRH/AC/r5fr1CXl/X/D/AKFb4rQWOmeH21qXUtWsrhru1hza6vdQpsMyB8RpIF/1e/Jxnqe2am8W22meF9D0iR76aKyTXLWaW41LUZZwg3dTJM7FV46Zx+dbl54bbWfEn23XGhuNPtYmjsrIKSu512ySSZ6tglQBwAW6luMPV9OvNI0nQtPurkXUFvr1olpKxJk8nd8qvnqy9N3cAE85qVo1/ij/AOlL/hxVH7kvR/k/+GOhuLzUtYt4LjwlqGkmzlTet9KrXaSc42qsboMcH5t34Gse28ZX81jpV5Jb26CTVX0m+hXcx8wSNGHjfI+XcmcEEkN1BHMXjDxpbWHiGHw42vad4faS2+03GoX08cbJGWKhYVcgM5KtychQMkHIqtqf9hS+B9HsfCd/bz2jarbW8F9Z3CzmGXzQzSb8kNJnJO7IJb5gQSKqOrXa6/O3/A/EJe7F33s/yv8A8E9BooHT1ooGFRS/62D/AK6H/wBBapail/1sH/XQ/wDoLUAS0jDchUMVyMZHUUtFAHPDwVpc/wA+stc61NjAl1CXfsPqiKAkbf7SKp960NK0f+yWkWPUb+6gYARw3c3miLHo5G85/wBpm6Vo0UAFUDpEB8RLrO+T7QtqbULkbNhcNnGM5yPWr9FHW4PVWKd7pVlqF3Y3N5D5k2nzGe2bew8tyjITgHn5XYYORzVyiigAqjq2kQaxDbxXLyItvdRXSeWQMtGwZQcg8ZHNXqKPMN1Yoavo1prVvHFeCRWglE0E0LlJIZACAysOhwSPQgkEEEisweETO6jWte1XWLdJFkW1ujAke5TlciGJC4BAOGJHHSuiooB6hWbquj/2s8Yk1G/toFBDw2k3kiXPq6jeMf7LL1rSooA54+CtLt8NorXOizYwZdOl2bz6ujApI3+06k+9dAowoBJOB1PelooAhvLVL6xntJSwjniaJip5AYYOPfmsm88IaVqGi6bpl6t08WmbDbSRXckEqMiFA2+JlOdpI9Oa3KKVv69Ng/r79zK0nw5ZaLNJLZz6lI0i7SLzVLm6UDPZZZGAPuOa1aKKYBVHTdIg0ua/lt3kZr+6N1LvIOGKquBgDjCDrnvV6igNwqhYaPb6fqep30LytLqcyTTByCqlY1jG3jgYQdc85q/RQBzuoeEnuvEVxrOn+INV0m4ubeK3mW0W2ZHWMuVOJYXIP7xuhFWdM0TULC88668Uatqce0j7PdxWipn1zFAjZH1xWzRQBg614X/tbWrTVbbWdR0m8tYJbdZLIQNvSRkZgRLE46xryMVWXwbPLqen3mp+KdZ1IafcfaYYLhLREMmxkyfLgRjw7cZrp6KO3l/w4BWHrnhn+2dTsNRg1e/0q7sUljjlshC25ZNm4ESxuP4F6AVuUUDTsYFp4d1O3u4ppvGWt3aIwZoJobIJIPQlLdWx9CD71v0UUCKGt6RBr2jXGmXjyJDcAB2iIDDBB4yCO3pTta0qDXdCvtKu3kSC9geCRoiAwVlIJBIIzz3Bq7RSsC0d0cynhTVUjVF8deIAqjAHkaf0/wDAWtbQdGg8PeH7LSLOSWWCyhWGN5iC7ADGTgAZ+gFaFFMPIKoWukQWms3+pxvIZr8RCVWI2r5YIGOM9+ck1fooAKoRaPbw+IrnWVeQ3FzbRWzqSNgWNnYEDGc5kOefSr9FAeRU0zSrPRrM2umw+TCZHl27i3zOxZjkknliTRdaXZ3t9ZXl1DvuLF2e3fcRsZlKk4BweCRzmrdFAGdZaStprOpak8nmzXxjUfLjy40XCp15+Yu2ePvVo0UUAZx0hX8TLrEsm9orQ20Me3/V7n3O2c87tsY6cbfetGiijpYOtyKO2ginlmihjSWYgyyKgDSYGBuPfA45rL1/w6NdlsJ49TvdMubCVpYZ7MRFsshQgiWN1Iwx7Vs0UAc4nhnVkkVm8ca84BBKtBYYb2OLYH8q6OiigAqjrWkwa7ol3pd28iQXUZjdoiAwB9CQR+lXqKAKt/ZNfWLWy3dxabsZltmCvjPIBIOM9Mjn0IPNVB4Y0caH/ZH2Jfse7ft3Nv35z5m/O7fnnfndnnOa1aKAMebwvpd/pUWn69bR67BDIXj/ALVhjuCp5x1XqAcZPOOpNU/+FceCP+hN8P8A/grg/wDia6SigDEtvBfhaytbm2s/DWj29vdqEuYorCJUmUHIDgLhgD61W/4Vx4I/6E3w/wD+CuD/AOJrpKKAMXTvBnhfR75bzSPDekWF0gIWe1sYonUEYOGVQelbVFFADXRZI2RxlWBBHqKyNK8Labot+lzpqyxLFp8OnRwF9yJDEWKYz8xPzkZJPQVs0Uf1/X3sOlv6/rQKxz4X00avBqMSyRTxXcl4Qr5WSV4vKJYHP8OOBjkVsUUA1fcw9b8Mf2vq1lqVvrGoaVd2cUsKSWQgbckhQsCJY3HWNegFNs/D2p215FNN4x1q8jRstBPDZBJB6Epbq2PoQa3qKNgeoU2WMSwvG2QHUqce9OopNXVmGxR0XSoNB0Gw0mzeR7ext47eJpSCxVFCgkgAZwOwFXqKKptt3YkrKxk3fhrTtR1GW81NHvTJAYFhnbdFEh+9tXoC3djk9sgcVUj8FaXHA2JLs3ZmWddQectcIyghcOewUldpGCCcg5OehopLTYe5i654c/tm8sbyHVr/AEu6sfMEU1mISSHADAiWNx2HYVRk8GXN1Patqfi3W7+G1uY7lbeaOzVHdGDLkx26tjI7EV1FFC0dweqsFB5FFFG4FDQtHt/D+g2Wk2byPBZwrDG0pBYgepAAz+FX6KKA3MaLwppi+Gn0KdJLmxkkeR1lchmLSmQ8rjox49hWzRRQAUUUUAFFFFABRRRQAUUUUAFFFFABRRRQAUUUUAFFFFABRRRQAUUUUAFFFFABRRRQAUUUUAFFFFABRRRQAUUUUAFFFFABRRRQAUUUUAFFFFABRRRQAUUUUAFFFFABRRRQBWh02xtr2e8t7K3iubjHnTpEqvLgYG5gMnoOtE2m2Nxew3k9nby3VvnyZ3iUvHkYO1iMjgnpVmigAqKe1guhH9pgjm8txInmIG2OOjDPQj1qWigAqhqOjw6neWE91LKUsZfPSBSAjyYwrNxk7eSACBk8g4GL9FABRRRQAVFL/rYP+uh/9Bapail/1sH/AF0P/oLUAS0UUUAFFFFABRRRQAUUUUAFFFFABRRRQAUUUUAFFFFABRRRQAUUUUAFFFFABRRRQAUUUUAFFFFABRRRQAUUUUAFFFFABRRRQAUUUUAFFFFABRRRQAUUUUAFFFFABRRRQAUUUUAFFFFABRRRQAUUUUAFFFFABRRRQAUUUUAFFFFABRRRQAUUUUAFFFFABRRRQAUUUUAFFFFABRRRQAUUUUAFFFFABRRRQAUUUUAFFFFABRRRQAUUUUAFFFFABRRRQAUUUUAFFFFABRRRQAUUUUAFFFFABRRRQAUUUUAFFFFABRRRQAUUUUAFFFFABRRRQAUUUUAFFFFABRRRQBF9nT+9J/39b/Gj7On96T/v63+NS0UARfZ0/vSf9/W/xo+zp/ek/wC/rf41LRQBF9nT+9J/39b/ABo+zp/ek/7+t/jUtFAEX2dP70n/AH9b/Gj7On96T/v63+NS0UARfZ0/vSf9/W/xo+zp/ek/7+t/jUtFAEX2dP70n/f1v8ajlgQSQ8ycv/z0b+6ferNRS/62D/rof/QWoAPs6f3pP+/rf40fZ0/vSf8Af1v8alooAi+zp/ek/wC/rf40fZ0/vSf9/W/xqWigCL7On96T/v63+NH2dP70n/f1v8alooAi+zp/ek/7+t/jR9nT+9J/39b/ABqWigCL7On96T/v63+NH2dP70n/AH9b/GpaKAIvs6f3pP8Av63+NH2dP70n/f1v8alooAi+zp/ek/7+t/jR9nT+9J/39b/GpaKAIvs6f3pP+/rf40fZ0/vSf9/W/wAalooAi+zp/ek/7+t/jR9nT+9J/wB/W/xqWigCL7On96T/AL+t/jR9nT+9J/39b/GpaKAIvs6f3pP+/rf40fZ0/vSf9/W/xqWigCL7On96T/v63+NH2dP70n/f1v8AGpaKAIvs6f3pP+/rf40fZ0/vSf8Af1v8alooAi+zp/ek/wC/rf40fZ0/vSf9/W/xqWigCL7On96T/v63+NH2dP70n/f1v8alooAi+zp/ek/7+t/jR9nT+9J/39b/ABqWigCL7On96T/v63+NH2dP70n/AH9b/GpaKAIvs6f3pP8Av63+NH2dP70n/f1v8alooAi+zp/ek/7+t/jR9nT+9J/39b/GpaKAIvs6f3pP+/rf40fZ0/vSf9/W/wAalooAi+zp/ek/7+t/jR9nT+9J/wB/W/xqWigCL7On96T/AL+t/jR9nT+9J/39b/GpaKAIvs6f3pP+/rf40fZ0/vSf9/W/xqWigCL7On96T/v63+NH2dP70n/f1v8AGpaKAIvs6f3pP+/rf40fZ0/vSf8Af1v8alooAi+zp/ek/wC/rf40fZ0/vSf9/W/xqWigCL7On96T/v63+NH2dP70n/f1v8alooAi+zp/ek/7+t/jR9nT+9J/39b/ABqWigCL7On96T/v63+NH2dP70n/AH9b/GpaKAIvs6f3pP8Av63+NH2dP70n/f1v8alooAi+zp/ek/7+t/jR9nT+9J/39b/GpaKAIvs6f3pP+/rf40fZ0/vSf9/W/wAalooAi+zp/ek/7+t/jR9nT+9J/wB/W/xqWigCL7On96T/AL+t/jR9nT+9J/39b/GpaKAIvs6f3pP+/rf40fZ0/vSf9/W/xqWigCL7On96T/v63+NH2dP70n/f1v8AGpaKAIvs6f3pP+/rf40fZ0/vSf8Af1v8alooAi+zp/ek/wC/rf40fZ0/vSf9/W/xqWigCL7On96T/v63+NH2dP70n/f1v8alooAi+zp/ek/7+t/jR9nT+9J/39b/ABqWigCL7On96T/v63+NH2dP70n/AH9b/GpaKAIvs6f3pP8Av63+NH2dP70n/f1v8alooAi+zp/ek/7+t/jR9nT+9J/39b/GpaKAIvs6f3pP+/rf40fZ0/vSf9/W/wAalooAi+zp/ek/7+t/jR9nT+9J/wB/W/xqWigCL7On96T/AL+t/jR9nT+9J/39b/GpaKAIvs6f3pP+/rf40fZ0/vSf9/W/xqWigCL7On96T/v63+NH2dP70n/f1v8AGpaKAIvs6f3pP+/rf40fZ0/vSf8Af1v8alooAi+zp/ek/wC/rf40fZ0/vSf9/W/xqWigCL7On96T/v63+NH2dP70n/f1v8alooAi+zp/ek/7+t/jR9nT+9J/39b/ABqWigCL7On96T/v63+NH2dP70n/AH9b/GpaKAIvs6f3pP8Av63+NH2dP70n/f1v8alooAi+zp/ek/7+t/jR9nT+9J/39b/GpaKAIvs6f3pP+/rf40fZ0/vSf9/W/wAalooAi+zp/ek/7+t/jR9nT+9J/wB/W/xqWigCL7On96T/AL+t/jR9nT+9J/39b/GpaKAIvs6f3pP+/rf40fZ0/vSf9/W/xqWigCL7On96T/v63+NH2dP70n/f1v8AGpaKAGogRcLuP+8xP86dRRQAUUUUAFFFFABRRSNnadoBOOATigChpusQ6pcXsdtDMI7OYwNO4ASRx94Lzk7TwSQBnpnmsLVvG32TXbeHTbZr/TLd2XWLy3jMi2fHyDIPJ3csAGKrycdaz/DenXOseA7+0jOnJc3GqXpvYb+yN5bhzcP5kYQOm9QejEjIGSozgSvD4z0m+0vSrLVvC8VtceYihdGki8oIm4BI/tmX+i9OppdFfy/r0HKybXm/zOvt7yDUtPFzpV3bzxyrmKeNhLGfQ/KeR9DXHrfeNW8YSaD/AG54e3pYreGT+xZs4MhTG37X/s9c1saTpuqaNNfX2pzaTcrKnmSLpWjvbTSuvQsTNJvOMgDGeetc7BoWtw6qfHcltIdXlbZLpYfLLYYGIRg4MoI8z0LFlBwQaf2k+n9W/HX0XyF9n+v68vmdLpuo3k/jbWtPnmD29rbWrxIEA2s/mbjnrztHUnGKu3utQafq+n2FzHMp1BmjgmABjMiqW2HnIJVWI4x8p5zgVzVjpdtqXxT1i+le+je3tLF40ivJoFOfNPzxqwV/o4NXfGgIvvDMkGHvE1dfs8TnakhMMofc3JXCF2yAeQBjmn1VxR1T+f5HU0UUUhhUUv8ArYP+uh/9Bapail/1sH/XQ/8AoLUAS0UVU1W2ubzS57ayktY5pV2hru2M8WD1DRh0LAjIxuHX8KBrcwfEXi+TTr63tNDs31aaGZW1OO2QyNa2/wDExwR8/QhOWYA4U4re07VLHWLNbrS7uG7gbjfC4YA9wcdCPQ8iuPlsvFvhu10+z0nUfCdvbTXS24hj0R7dIgwJyq/awGPH3RyfwrZ0rRtbtNafUNUvNCn8yPZK9nor288gHQGQ3D8A9iD+FCtZ/wBdP6/ETMi/v/Gdr4v07RY9Z0DGoQXE6u2jTZjERjwuPtXzZ8zrx93pzxrwahqSeObfSru5jlj/ALIM8oih2K8wlVS4BLMowT8u4/j1rAn0LWdc1g+M1ge11CxYLpNhO20m3GfMWT+60uT1+7tjzyCKmuLG28RfErT57oajagaIZljju5rSRT5y/K4jdScf3TkUo35op+f/AKTJr+u6+Yqj9128v/Sl/Xod3XGf8JH4gutKu/EWnW9k2kWzSmOyeNjcXcUbEGRZd4VCdrFVKNkbcsM8dnXAWlzqOieE7jwtHpN7NqkazQWTpbu1vMjM3lyNMBsQAMNwYhsg4B4ynzfZ3LVrq+xtTa5NN4x8OwWNxnTtRsLq5Zdo/ebfJMZzjIwHboe/NP8AFPiYeHr7QYd0IXUtRW2l8wElYyjfMMEY+fyxk8fN7issaeuk+NvBenI29bTSLyAN67RbLn9Km1S3tYteubG30067q2pWrNML+cJDBbbsbC207EJ6KqEkgk5xmqdr6d3+D/y/ASvyJy3t+ehP4x8Sr4a1Tw293qVvp2nXWoPDeS3LokZT7NKygu33fnVOhHp3xSajqmu3vi1NK8O3+l2tv/Z63hmurF7rzNzlQF2TRgDAz3rIjtr+21vwnZ+IYjaG1vppLOWO8N8srfZ5VELSMkbqQrMwYq2QmC2SCdTxRpscWv2GqR61q+l3V4U0xTp6Wzq2SzgsJo3xyDyPypy3j/XdL8bCez9P11/C5lXPizW7Pwr4nm1O9sUutE1KK1F5bWxhjMZWB2YpI8mOJWGc9BniupvdftZvC8mraHfw3ULDEF1aWsmooTu25EcB3OAcg7SMYOSMVz2s+E5NK8GazFaXWoaxealfQXc0k6RmR2DQpwsSKAAsY6L2JrW8ayTWOjNqkesavYR2oAaHS47V3nLMqqP9IjYZyfVRyc1MmvwX5a/iC3OYl8Y+IY4XcaqCVUnB+H+rDP4+bxXaeE9Wn17wbo2rXiRpcX1jDcSrECFDOgYgAknGT3JriblvFKWsrXH/AAsARKhLn/iQfdxz09q6vwJp0OneDNNjstR1C+sWtYmtBqCwiSGLyxtT90ig4GOu457mrVuV/L9f6+Qnuvn+gniPxbaeGtd0eDVb2xsLC+E/m3F5KIgrIqlQGYgc5PBzWT/wnsWrT+Ko/Duo6fe2ulaTHcwXdlKs2JnE+QxBKnHlocY7nOc1o+MbO4in0/XrXV7XTG00uha7sHukcTbUxtSRCDnHOT1qjceGdYgtPFOp6pqFtqV7qWlC1jhsbB4ABGsxGFMshZiZcdR0FYyf7ufezsaRtzL5fmammeKLXVPA76vpWo2epSW9oWlkglWRBMsYYq2w8HJGRx1qlpPjLWb7RbK7k8D627z28crPDNYhGLKDlQ11kDnjPPrV25h1OPwTaLZTW1q8Von2lLzTJb3cgj+ZBFHIjFvbnPTHNeUyeGNIk1a3vv7N0hPJiki+zr8LtQEUm4qdzLu5YbeD23N61tL+JLt/w/5mULuEX/XQ9Y0PXNS1fwWmqpZW637mXFtcTGFF2yMuGdRJjAXkjcM9OK5Ky8d+Jp9fkcWuivYXSQxWiyXt3Hb+ZlsslybEJIX3IAAx+7xnNb/hC1Op+E3ga60ufRLiF4IINN0eXTfKGWV1KPKxHORjapBBrmIdf0S6tpNC1/x7o1rp+m3X2V7O6WG2vH+zyYG9zMV2koDkRqSPTNT9pr+vP9O41fkv/X9bnW6V4mjk8dazoWoalapcx+S1pYmVBIVMQZyo4ZxnPOPyrQ0HV59UutZiuEjVbDUGtYtgIyojjbJyTzlz0x2rL8Jano+seJPEl7oWpxajE81uHkt2R4gRCBhXVju9+Bg8c9arafc6zoGsa8v/AAieq6hDeai1zDcWk9mEZDFGvSSdGByp6ilHfXt+q/QHsrd/0f6mxrWo3Vp4m8O2lvLsgvbmZJ02g71WB2AyRkfMAeMVQlv/ABNqXi7VdN0a/wBJsbbT44CPtemyXDyGRWJ5WeMADHpVe+v7nUfFHhOW70m80p1vrhRDePCzMPsr/MPKkdcc45OeOlPaTV9F8ba1eQ+GtS1S1vo7byprOa1ABRWDAiWZD3Hah7oWtyxql/relP4agu7+2mnvNW+z3UlraGFJIzDM4UK7yFeUXkNnjtnFdTXn/it5PEX/AAjEGqaTqmjq2uqhSS7SKVh9mnO5ZLaZivp94Hr2rurS1jsrOK2haVo4lCqZpnlcgeruSzH3JJprZ+v6I0l9m3b9WTUUUUEhRRRQAUUUUAFFFFABRRRQAUUUUAFFFFABRRRQAUUUUAFFFFABRRRQAUUUUAFFFFABRRRQAUUUUAFFFFABRRRQAUUUUAFFFFABRRRQAUUUUAFFFFABRRRQAUUUUAFFFFABRRRQAUUUUAFFFFABRRRQAUUUUAFFFFABRRRQAUUUUAFFFFABRRRQAUUUUAFFFFABRRRQAUUUUAFFFFABRRRQAUUUUAFFFFABRRRQAUUUUAFFFFABRRRQAUUUUAFFFFABRRRQBg6Pod3psOr2QnWG3urua5trm3bMyGVi7ZV1KgqxOD8wPcDHLP8AhCNHlBfUFudQuz0vbq5dp4z6xuCPK/7Z7a6GihaId2yjpemvpkMkTaheXqs2U+1urmMY+6GCgke7En3q9RRQIzo9Hig1fUNTt5ZFur6GOJt2CieXu2kDg/xnPPp0rITwlJA/hm1gkj+xaI7TvIxPmTS+U8f3cYAJkZic5zxjnNdRRQtHcAooooAKil/1sH/XQ/8AoLVLUUv+tg/66H/0FqAJaRhuQqGK5GMjqKWigDnh4K0uf59Za51qbGBLqEu/YfVEUBI2/wBpFU+9aGlaP/ZLSLHqN/dQMAI4bubzRFj0cjec/wC0zdK0aKACqB0iA+Il1nfJ9oW1NqFyNmwuGzjGc5HrV+ijrcHqrBRRRQBQuNHt7nX7HV5HlFxYwzQxqpGwiUpuyMZz+7GOR361DqugQandRXsdzc2F/AjRx3lo4DhGIJUhgysMgHDKcEcVq0UDuYdj4XSDUIL7U9U1DWbq23fZ5L0xgQlhglUiRE3YyNxUnBIzyan8QaCmv2ttEb66sJbW4W5huLTyy6OoIHEiOpHzHqK1aKHqI5seF9X/AOh68QH/ALYaf/8AItaevaNF4g0OfTLieeBJtp86ArvQqwYEblK9QOoIrRooeqsBzEvhLVJ4Xil8c+IGSRSrDybAZBGD/wAutbul6fFpOkWenWzO0NpAkEbSEFiqqFBOABnA9KtUUAZ2vaNF4g0SfTLiea3SbafNgK70KsGBG4EdQOoNZn/CL6v/AND34g/78af/APItdJRQBHbRPBaxRSzyXLogVppQoaQgfeO0BcnrwAPQCpKKKAKOjaRBoemLY2jyPEskkgMpBbLuznoB3Y49qw4fBVxZTXR0vxbrdhDdXUt01vFHZsiPI5dsF7dmxknqTXVUUdbh0sY2g+Hf7EuL65l1S+1O5v3R5p7wQhvlXaABFGigYHpWzRRQBRvdIgv9T06+meRZdOkeSIKRtYshQ7uPRj0xzV6iigChqej2+q3GnTXDyq2nXYu4hGQAzhHTDZB4w56Y5xUkelWcWsT6rHDi9uIUgkl3H5kQsVGM4GCzc4zzVuijYbd/6+YUUUUCCiiigAooooAKKKKACiiigAooooAKKKKACiiigAooooAKKKKACiiigAooooAKKKKACiiigAooooAKKKKACiiigAooooAKKKKACiiigAooooAKKKKACiiigAooooAKKKKACiiigAooooAKKKKACiiigAooooAKKKKACiiigAooooAKKKKACiiigAooooAKKKKACiiigAooooAKKKKACiiigAooooAKKKKACiiigAooooAKKKKACiiigAooooAKKKKAKv8Ap/8A07f+PUf6f/07f+PVaooAq/6f/wBO3/j1H+n/APTt/wCPVaooAq/6f/07f+PUf6f/ANO3/j1WqKAKv+n/APTt/wCPUf6f/wBO3/j1WqKAKv8Ap/8A07f+PUf6f/07f+PVaooAq/6f/wBO3/j1RyfbfMi3fZ87/lxu67T/AEzV6opf9bB/10P/AKC1AEX+n/8ATt/49R/p/wD07f8Aj1WqKAKv+n/9O3/j1H+n/wDTt/49VqigCr/p/wD07f8Aj1H+n/8ATt/49VqigCr/AKf/ANO3/j1H+n/9O3/j1WqKAKv+n/8ATt/49R/p/wD07f8Aj1WqKAKv+n/9O3/j1H+n/wDTt/49VqigCr/p/wD07f8Aj1H+n/8ATt/49VqigCr/AKf/ANO3/j1H+n/9O3/j1WqKAKv+n/8ATt/49R/p/wD07f8Aj1WqKAKv+n/9O3/j1H+n/wDTt/49VqigCr/p/wD07f8Aj1H+n/8ATt/49VqigCr/AKf/ANO3/j1H+n/9O3/j1WqKAKv+n/8ATt/49R/p/wD07f8Aj1WqKAKv+n/9O3/j1H+n/wDTt/49VqigCr/p/wD07f8Aj1H+n/8ATt/49VqigCr/AKf/ANO3/j1H+n/9O3/j1WqKAKv+n/8ATt/49R/p/wD07f8Aj1WqKAKv+n/9O3/j1H+n/wDTt/49VqigCr/p/wD07f8Aj1H+n/8ATt/49VqigCr/AKf/ANO3/j1H+n/9O3/j1WqKAKv+n/8ATt/49R/p/wD07f8Aj1WqKAKv+n/9O3/j1H+n/wDTt/49VqigCr/p/wD07f8Aj1H+n/8ATt/49VqigCr/AKf/ANO3/j1H+n/9O3/j1WqKAKv+n/8ATt/49R/p/wD07f8Aj1WqKAKv+n/9O3/j1H+n/wDTt/49VqigCr/p/wD07f8Aj1H+n/8ATt/49VqigCr/AKf/ANO3/j1H+n/9O3/j1WqKAKv+n/8ATt/49R/p/wD07f8Aj1WqKAKv+n/9O3/j1H+n/wDTt/49VqigCr/p/wD07f8Aj1H+n/8ATt/49VqigCr/AKf/ANO3/j1H+n/9O3/j1WqKAKv+n/8ATt/49R/p/wD07f8Aj1WqKAKv+n/9O3/j1H+n/wDTt/49VqigCr/p/wD07f8Aj1H+n/8ATt/49VqigCr/AKf/ANO3/j1H+n/9O3/j1WqKAKv+n/8ATt/49R/p/wD07f8Aj1WqKAKv+n/9O3/j1H+n/wDTt/49VqigCr/p/wD07f8Aj1H+n/8ATt/49VqigCr/AKf/ANO3/j1H+n/9O3/j1WqKAKv+n/8ATt/49R/p/wD07f8Aj1WqKAKv+n/9O3/j1H+n/wDTt/49VqigCr/p/wD07f8Aj1H+n/8ATt/49VqigCr/AKf/ANO3/j1H+n/9O3/j1WqKAKv+n/8ATt/49R/p/wD07f8Aj1WqKAKv+n/9O3/j1H+n/wDTt/49VqigCr/p/wD07f8Aj1H+n/8ATt/49VqigCr/AKf/ANO3/j1H+n/9O3/j1WqKAKv+n/8ATt/49R/p/wD07f8Aj1WqKAKv+n/9O3/j1H+n/wDTt/49VqigCr/p/wD07f8Aj1H+n/8ATt/49VqigCr/AKf/ANO3/j1H+n/9O3/j1WqKAKv+n/8ATt/49R/p/wD07f8Aj1WqKAKv+n/9O3/j1H+n/wDTt/49VqigCr/p/wD07f8Aj1H+n/8ATt/49VqigCr/AKf/ANO3/j1H+n/9O3/j1WqKAKv+n/8ATt/49R/p/wD07f8Aj1WqKAKv+n/9O3/j1H+n/wDTt/49VqigCr/p/wD07f8Aj1H+n/8ATt/49VqigCr/AKf/ANO3/j1H+n/9O3/j1WqKAI4fO2H7Rs3Z42Zxj8akoooAKKKKACiiigAooooAKKKKACiiigAooooAKKKKACopf9bB/wBdD/6C1S1FL/rYP+uh/wDQWoAlqG7uobGynu7p/LggjaSR8E7VUZJwOTwKmrI8Wf8AIma1/wBeE/8A6LaoqScYOS6FQXNJJkGneMtL1VwtlDquGjMqvPo93BGygZ/1kkaryOnPNLoPi6w8Qy28dlFcobjTINTTzlUYimLBQcMfmGw5HTpyan0848G2uf8AnwT/ANFivPPhNJqL3dl9ttbWJl8I6aLYRXLSCRN0u1nzGuxj3UbgPU1s0lJrt/lL/JERd4c39bx/zZ3V1400uzupbea11tnicoxi0G+kQkejrCVYe4JBqSw8WaZqd/pltYGaZdTsZL+2m8sopiRo1OQ2GBPmrgY9c4rjdY8W6xpPipH1i/8AB2mlLNon0258WPEWLspWXDWw5AUgfL3PNUvDEVvq3iTwza6H4k0+MaNo9xbzDRdXtr92XzbfYrl4gSGCElljXBGAwyMqmlJ6+f5P/JDlon/XY9aqtp2o2urafFfafL51tMMxvtK5GcdCAe1cN490fQbvxBbP4g0/SbKzlt3M+uXemwTurKQFi8yVGSMYJOXBBxgVjaD4e8HReI9LXwzHoXiqN5ibiePTLJmsgqlllE1vEiqQwUbSMndkdKmOoPT+v6/rzPW6wrvxSkWoz2enaXqGrPasFu3slj225I3YYu67mwQdqbmGRxyK3a5WBNX8N6lqaWujTata6hdm6hltpoYzCzKAyyiRl4BXIZdxwcY45XX+v67h0NAeK9NkGitbmWePWpmhtnRMBWWN5DvDYK4EbDGMg8EdcW9V1uw0WKN9QmZTKxWKKKJ5ZZSBkhI0BZjjnABrgdS0TVNI/wCEKsrW7tIdTl1u7uXllgaeGN5YLqV1CB0LKN5UHI7H2rp9YsNStvEmna/Z2g1RrazltJ7WJljkO9kbfFvYLnMeCrMOCOeObkkrf1/Xb8Q6/wBdy/F4o0y40a91K2kkljsY2e4hMTRzR7V3bWjcKysRyAwHWtG0uUvLKC6iDBJ41kUMOQCMjP51xWoWGoT2firxBqNmdNW60b7LFZvIryARrKxeQoSobMmAAzcDrzgdZoP/ACLmm/8AXpF/6AKhat/L8b/5A9LW8/0/zZFrPiLT9BNuuofame5ZlijtLKa5dtoyfliRiAB3IxVBPHmiNc28EiavbtcTLDG11ol7AhdjhVLvEFGTxyRWV4u1Xbrlk+nXF9aXumtICzeGL6/gkEiAYDQhQccchj3FYD+I7jxA1r9t1qW6s7O/jmkWx8Daojl4ZMmPeXcKdy4PykiiOstdr/hpcJXUXb+meiax4gstCWNr6K/cSAkGz064utuOu7ykbb174z+FZtv4+0W80G81iyTUprO0smvjI+mXECyxBd2Y2lRFckdMH9Kf4m8QpZ+DZL2zile5vYxDYW0sTxSSzSDCIUYBlOTk5AwASelcvbu9t8B9Z0O8wmoaHo8+n3UY9Y4CFcf7LptYH39QaUnaEn2/r8NPvLhFSnFd3/X6/cehG+hXTTfyEpAIfOYkZKrjJ4Ht6VgRfEHRLiFJoLfXpYpFDI6eHb8qwIyCCIeRUUV3rbeDFi1Pw49y9xCIBDo1/HKwjaPG8tcCEA9sDd2684520tfFFjZQWlqnxASCCNYo0zoB2qowBk8ngVctJtdP+H/4BlFtxT/r+tz0axvYtRsY7q3SdI5BlVuLd4HHOOUcBl/EClvbyLT7KW6nWZ44hllggeZz9EQFm+gBrK8MXepS2httV07WYZIRn7VqzWZefJPGLZyoxwPurxjqc1L4knvYtNCadZ6rcySOATpb2yyxgc5/0hlXBxjjJ54x1pS02KXmZTfEvw4moR2DjWVvJIzKludAvhI6A4LBfJyQCRz710Om6lBq1kLq1S6jjYkBbq0ltn4/2JFVh9cV581zp8eoR6PP4A8RyaldRteLPJeWjXLCMqpcT/a9ylTKAAGGAxAGM113hea/aGeHUNP1u1VWDRvq0tpISD/CpgdiQMZy/PPU9nbQXUvat4g0bQI45Nd1ex0xJSVja8uUhDkdQCxGayPD/wAR/CfiVki0zXdPN1JNLDHaNeRedIUdl3KgYkghdwPdSDU/jO5u7XRYntZZreBrqJL24t1zJDbk/Oy8HHYFgPlBJ4xkY3h+9sm8VwW/hDWZ9Y0lraVr521B76KGQFfLxM7MVY5cbA3QZwMcynv/AF0uN6HV6Lq0Gu6Pb6laJIkNwpZFlADDkjnBI7etGra5pOg26XGuapZabDI+xJLy4SFWbGcAsQCcAnHtXOfDCXUn8FWa31paw2yofs0kN00jyje2S6GNQh6cBm+o79PqepWmj6bNf6hMsNvCu52P6ADuScAAckkCi+lx9bGYPGWhTWltdaZqFvqkFxex2Il0+dJlSV+gYhsDqCe/PSreka7aazpMmowb4beKeeFzPhcGGRo3PBIxlCQfT0rhdUhvtP8ADenareadNJqOpeI7e+ksYigkGSFjiyzBdwjVAcsBkHmrHhfTJfEvwf1PTgGspr+61OMLMA3lM13N8r7SQcHg4JHXBNUtYSfVO34J/m2Tf3kun/Bl/kjqLLxjoeoXkVtb3Uoac4t5ZrWWKK4OM4ildQknAJ+Unir1nq0F7quoWESSCXT2jWVmA2tvTcNvPoe+K5rUodc8S2VrpE+gyaUIrq3nnvZLmJ4gIpFk/c7GLkkoANypgEn2q7oH/I8eK/8Arra/+iBSYzpHdY42dzhVBJPoK5mD4h6Hc28c9tBrs0Mqh45I/Dt+yupGQQRDggjvWxreo2+m6a8l2l46Sfuh9ksprpwSDzsiVmx74x7815vp/ifVND0/TtHj14DyoVgtlm8A6r5kojUDp5oyQBk4FC6/1/XQHpb+v66no2l6/p+s6O2qac80tsrSK262lSQMjFXXy2UPuBUjGM1kL8RtAa8a0WPWzcqgkaH/AIR+/wB6oSQGI8nIBIIz7H0qL4fzwwaXLpwlvri58+e7mnn0S60+NjLKzkKJh2LYxuJwM1kadrckvxUudZZFGhXsa6LbXeeHuIWZ856bWZ5EB7smO4p/aS6f1+ugaWb7f5/5anbWmsW95rF/psSSiawWJpWYAKfMBIxzntzkCqmoeLdH027e2uJ53ki/132a0mnWDjP7xo1YR8c/MRxzWJp0uqp8U/ECWNnZzWbJZ/aZprto5Ixsf7iCNg/4stMXUb7wVfPpr6PcamNY1OaSxuLeaJQzyBpSku9gV2hWAIDDao78VCbf9eYR1X9banTHX7E6hplrC5uBqccktvNCVaNlQAk7s9CGGMZrSrzZtN1jw7qHg6ysLexvtQjjvmkjmunghXftZgriNzhd2ANvQdq9IUsUG8ANjkA5AP1p9xLYwv8AhOvCP2/7D/wlOi/a/N8n7P8A2jF5m/ONm3dndnjHXNLB4tsLjUILNIrgST309ipKrgSQqWYnn7pCnHf2FcZJ/wAkaX/sNp/6dBUGkSagfH1jHLbWy2A8RakY51uWMrP5MmQY9gAHvvP0FEdZW8n/AO2/5hLSHMu9vwZ2PiL4h+FfC5kj1XW7BLqKSNHsxdxCdd7KASjMCAAwYnsoJqaTxx4fbTVvtN1K21aA3kFkzadPHPskmkWNdxDYAy4J747Gsf4n3d1Po9vomh2327VriaO7W2DYIit5FlZj6ZKKg9Wce9L4v1S11rwVo+o6fIJbe41jTHRuhH+mRZBHYg5BHYgiqprmkk+6X3tf8EcrJfJ/ka/iPx14a8Kw3J1rWbG3uYIGn+xNdRrPKoBICIzAknBA9TUI+IXhibRbvUtO1iz1NbO3+0TwWN1FNKie6huOuOTUXi37V/adl9s/tT+wfJl+0/2R53nedldmfI/e7cb/ALnfGeKwtRtNUvvAfiq1so9Wl0+W3VdMS9SR7stt+fAkBkK5xjzBuzu7YpLZthLyO91DU7TSrRbm/l8mFpY4Q20t88jhEGAD1ZgPxq3XF+MrSay8D2kFzf3GoSLqlhm4uVjV2/0yLqI0ReOnCiu0p20v5/ov8w6IxYvFemN4dv8AXJ2ltrHT5LhLh5I8lfJdkdgFySMoSMckdu1R2fjLTL+8itoLbWleVgqtNoV7Eg+rvEFUe5IFcXd/8kJ8Z/8AXTV//R81eoRf6lP90U7aXHLSTS7v8GUtL1eDVmvRbJIv2K6e1k8wAZdQCSME8fMPSr9cV4Ml1X+3vEUQs7M6Z/bE5NybtvODbE48ry9uPff+FdrUR1hF90n96JT1a7N/mFFcj4bsLSDxD4u1WHToJNROoGMzJGgmkQW8JEe844z2JxS6Z44+0+KG0K+i01btreS4iGn6kLrCoVBEg2IY2+cY4IODzxT0SXpf8LjWt/W342OtpskiQxNJK6pGilmdjgKB1JPYVw8PxEvf+Eb0nxDd+HjFpWpCFB5d3vuEklIVB5ZQAqWKqG3g8glQM1avtfvpYtY0bWtMisbk6XNdW7290Z0ljAKnJKIVYErkYI54JqajcIt9r/grlJe8k/L8XY62KWO4hSaCRZYpFDI6NlWBGQQR1FRX+o2WlWMl7ql5b2VrFgyT3Mqxxpk4GWYgDkgfjXJ+F9Zi1fSNM0K1sI9Rs49Mij1OeVh5MWYVxDggiRyDyvAAPJ5AOZoGpJ4P+Huqz6VpsDrb6/c21vZq/wBniXfemJRlVbao3Dop4HSrkuWbj/W6X6kU3zwUu9vxV/0Ou03xl4Y1m9Wz0fxHpN/dMCywWt9FK5A6narE8Va0bWLfXLOW5tEkRIrma2YSgA7opGjY8E8ZU49vSsFLDxPqfivR9Q1jT9JsbXTjMzfZdSluHcvHtA2tBGB9c1V+HMuqm31GOWzs100arqBjuVu2MzN9qk4MXlhQOvO89BxzwIf2W/NfkzXufH3g6zupba78WaHBPC5SSKXUoVZGBwQQWyCD2rQ0nxBo2vxySaFq1jqaRELI1ncpMEJ6AlScUajrNvpmo6XZTpK0mqXDW8JQAhWWJ5CWyeBiM9M84+tZOhjPj/xS46Ys0/ERsf5MKW24nvob97fWmmWUt5qV1DaWsI3STzyCNEHqWPArl4vit4Il1a5sP+En0lPIijl+0PqEAhk3lhtVt/LLs5HbcvrXT6g9zHpl09giyXSwuYUboz4O0H8cV5vDqlmLOwl0XxDf3viySS3Fzp8t9I7HLr5oktCdsKhd/IRduBz6i3t6fj/Wo3tc9BsdZttQ1K/srcOXsTGJHONr70DgqQeRg+1ZP/Cf6GZpo4U1e58iZ4Xe20O9mTejFWAdIipwQRwT0qlo0upL8TPEkdvaWr2DPb+fO90yyofIGAsYjIYdOS649DVn4e/8i9e/9hjUP/SqShaq47Wjfz/R/wCRrx65bS6zbaasc4mubNrxC8RQBAyrhg2GVsuOCPXOKqal4x0jStWfTLj+0JryOJJpIrLS7m62I5YKWMUbAZKN1PY1ka1LqsXxS006NZ2d3IdInEi3d21uFXzouQVjfJ9sD60twdX0f4h6pqdv4c1DVbO90+0hSSymtl2vG85YESzIeki8gHvTVnFP1/NonW7Xa35I1D400k+Hn1mD7VLbJdJaOrWzwypI0qxYKShWGGcZyOmetb9eI6z4OvksLzxFqekaPYSz6/BcIl1pccmoIjXcQX/So52VevQKeMjvmvbqlaxTe/8AwEU/1YUVyPifxu3ha4Ml/b6clgjKGMupql04JAzHBsIfr03gnHTPFdd1p9Li62Mefxf4atdW/sq68Q6VDqO9Y/scl7Gs25sbV2Fs5ORgY5yKbZ+M/C+oakun2HiTSLq9Ziq20F9E8hIySAobORg/lWFp8+q+HfEXiR7jw5qFxZX+pC6jvoJ7QRJH9nhQsweZXGDG2fl6DvTvAl7qlloOmaVdeGtRSNUI/tBbi0e3Kklg42zlypBGML36UdvRA+p1dzqNraXlpaXEuye9dkgTaTvZVLEZAwPlBPOKtVwvjLUlfWtPawn1C0vtJnaQOfDF9fwSb4ihAaIKDw/UMeRiqlv4v1pbmNrrUpJIA4MiR+AdWRmXPIDGQgHHfBx6Ghahqei0VDaXUd7ZxXMKyrHKoZRNC8TgH1RwGU+xANctP4y1M/22+naAtzDoly0Vw0l55bSqsayExDYQzYb7pKjp83UA23Dc6+iuUtvGV1NcaRcS6QI9H1l1js7r7TmYMyF0MkOwBVYLwQ7HkZA5x1Z6UO6C6MKLxz4Tmmmih8UaLJJAjPKiahEWjVRliw3cAAck9KsaT4p8P6/NJDoWu6bqcsa7nSzvI5mQZxkhScCvP7xdbh+Ed74Wu/DV9a3EtjNaR3c93ZLbvK+4RqD5+75mZVGV6sM4rvtG1a+v5DFe+HNT0pUTIlvJLZlc9MDypnOfqAPemtrg9C6up2j6xJpay5vIoEuHi2niNmZVbOMclGGM54q1Xm+raxIvjCbWdDvNQtHks47KWK78GaldKfLkdgysnl/89CO/SreleMNRXUE/te8uLq2OQY7bwRqlu5PY72ZwB9V/EUo6ocrJ6f1pr+J3tRW11BeW6z2k8c8LEhZInDKcHB5HuCKlrz7wP4gMehaVo2l2v268Mk0l1+82JaQmeT53bB+Y/wAKYy3PQAkLrYlux6DXL6r8RfD+iLM+q/2taxQSeW876He+UG3bRh/K2kE8AgkHIxnNdJcSNDbSyRwyTuiFlijKhpCB90biBk9OSB6kV53e3402M6r4l8HeKNSELBVkv7jT5EiLnaNsSXAQH5tu4LnB5OM0dSuh2OleJrDWbpoLODVI3VN5N5pN1aoRkDhpY1UnnoDn8q164vQje2WrQR2vhrxPp1ixKtBcXdlLbRZ74895FA7KnA/u11t7DBcWE8N3bpcwSRsskMiBlkUjlSDwQRxinJpK4lq7EA1aA+IG0cJJ9oW1F0WwNm0sVxnOc5HpRb6vBc65e6XGkgnso4pJGYDaRJu24Oc/wHPA7V5IPCOjf8K+Xx0dH0AE2YvzpP8AYln9mEeN3lbvL83zNvy7t+N3O3HFdfo9wdO+JWp2OnaFcNZtY2CB7XyY4bNAJQAys6tgDsit0quVrR7ik7arY7Cy1K11E3Is5fMNrO1vN8pG2RQCRyOeo5HFRXGsW9tr9jpEiSm4voZpo2UDYBEU3ZOc5/eDHB79Kx/BX+t8Sf8AYcn/APQUqh4rl1OH4jeGW0W0tLu5+xX48u7umt025t8ncschz042/jWad1F90n96uVDVtdm/wbN/VPF3hvQ7sWut+INK064KBxDd3scTlTkA7WIOODz7U2TxXpH9l2mo2N3FqNnd3cdpFPYypKhd32D5gcYBPOOR6Vn3fiPXn8VXWiaJounXLWdpBczS3epyQDMrSAKoWB848o8nHUcVzmp6XrGieC7ZbmCxfU7jxNHeLBHdOYQZbveqGUxhuN2Cdn4VS+JJ91+aX5Ey0i2t/wDgN/5HoeoalY6TYyXuq3lvY2seN89zKsaLk4GWYgDkgVif8LG8Ef8AQ5eH/wDwaQf/ABVU/Gv9pT+BYZbzTybuO/s5prfTvMu9qpdRsxXEau+FBPCZ68VOnxF0GW4lt44tceaEKZY18PX5aPd0yPJyM44zR/X5FdEzqAwZQykEEZBHeqGra1a6LDHJeRX0iyNtUWdhPdEH3ESMQPc4FXo3EkauoYBgCAylT+IPI+hrmPFWsva3UVlFfarYqyFpZNP0C5vXIPA2ypG8aHg5BVjyOncYlqNg+JHh65mnitk1qaS2fy50j8P37GJsA7WAh4OCDg9iK27/AFq103Tor64ivnilKhVt7CeeQZGRmONGdffIGOh5rzPR7jTdP1PUp9OtPEejSpOFgvI/D1/M2oxlFZnuVaI728xpBu+VgOAQOvoC+I4YPB7axdtM3lRHd5ljLaPLIOAFhl+cbmwADnORgmh6RuP7VilH8RNDuNKbUbRNTmtg8SCR9MngV/MlWJSrSoithnGcEnAPFbel6tBq6XTWySKLW6ktX8wAZZDgkYJ4rzSVr60+Cx0m8ihGsaVqFpBPAXKoXN5E6HdgkKyspzg9+DjFaFnOsXwz8XXniDRrK/NvfX1xNpzH7RC7I24LlkG4ZA5Kj6UteZry/wDkf8xpXin3dvwZ3dnq0F7quoWESSCXT2jWVmA2tvTcNvPoe+KNN1eDVJr+K3SRWsLo2su8AZYKrZGCeMOOuO9eaXngHRPDltp2rXOmaFqi3V3bW9xZtodmkX75wmYCkYcYLBvnZ8gEe46XwhfXC+KPE1kulXZtzqzsb8ND5KnyIvlI8zzM/RMc9apLV/P704/5mbeia6/5P/ItyfEbw9HHcSA6rJDbPJHLPDol7JEpjYq/7xYipAKkEg44Nax1+z/tbTLBBK76nby3MEir8myPZnOTkE+YuOPXOK4i1TxDp3gvWNAPg/Vbia4m1DyriG4svKYTTSujfNcBgMOM5XI54ql4Z8IyeFviH4bE9roNvLNpV2rjStJ+xuSvkZ8xhK/mHnrx39aX2rf11/yRdtfvPV6wbbx14Rvb2Ozs/FOi3F1K4SOCLUYmd2/uhQ2Sfat1vun6V5hpv/JHvBH/AF96b/6NWhayS80vvdhPSDl2/wAmzsNM8Zafqt9Z2tvDcq9414sZdVABtZRFJnDHqxyvqOuOlQa38R/CXh+4FtqOv6ctyLhLeS3F5EJISxA3OpYFVGck9hXD+B5L9vGmjpc21vHZrLr/ANnljuGeST/TV3b0KAJg9MM2fbpXR/EfVLnzNN07RrU393a3UWq3cMfLR20Lbif95iAqjuQfQ0Pddr/hf9ENrR231/W36HQL4x0O5gtJ9L1C31SC6vVsllsJkmRJSpbDENgcD68jirurazbaLAk15FeyK7bQLOwnumBxnlYkYge5GKwfEl9balb+Fb2wmS4trjV4JIpUOVdTG5BFc18W7qEy6b/ael24tbK5LxzatHYy2d0zREbdk15C2RuJ+q9xzSu7P1t+C/zF1+V/xZ1h+IGhpJEs6axbCaVIVkudCvYU3uwVQXeEKMsQOSOtdNXzxpet6ONYszZaH4Je5E6eUtppWlLMW3DAQjVSQ2ehAPOOK+gLK4lu7KKeezmspHGWt5yheP2JRmX8mNVbS4r62KmreINO0Vo0vpZDNMCY7e3t5LiZwOpWONWcgZGSBgZFV7jxXpcPhm71yKR7m1s1YzJGmJFK9UKNgqw/utg1S1G01HS/F8mv2OnSatDcWKWkltBLGk0RR3YMnmMqEHec5YH5V69sDxHp19H4L8Z6vqMC2b6nCpS0DhzEqIFBcj5d574JAAUZOKSHLTb+tD0YHIzRSL90fSloEtgooooGFFFFABRRRQAUUUUAFFFFABRRRQAUUUUAFFFFABUUv+tg/wCuh/8AQWqWopf9bB/10P8A6C1AEtMlijuIXhnjWWKRSro6gqwPBBB6in0UAYNv4I8MacXl0jw3o9jc7SEmt7GKNlJBH3lXPesfwZ4X1Lw/qlmt8kbRWvhyx05p4nBV5omk3gA4bGGU5IHX6121FNO39eTX6sfS39bp/ocJr/8Awl3/AAlV59j/AOEj/svy4vsv9jf2Xt3YPmb/ALV8+c4xjil8M6bqT+Lo9U1m38UtNDZy28U2rvpnlIrujMALU7ixMa8kEcGu6opR93+u4nqYF1Z+MHupWstd0SG3LkxRy6LNI6r2BYXShj7gD6CszRfDfjDQtHt9NtPEmhvDbqVRpdCmLHknnF2B39K7KikAyISCFBOyvKFG9kUqrHHJAJOB7ZP1rldYGqad49g1az0G+1a1OmNbMbOW3VkfzQ3IllTjA7ZrraKPtKXb/Jr9RW0t/Wjv+hy63s+s6xpr6j4K1q1aznMsF1PcWmyBijIWIjuWY/K7DG1uvTvWjfaNfXeofabfxLqljFgD7Lbx2pj+uXhZ/wDx6teimM5rVvD2py6HqEUevalfvLaTRpbTJaqkjNGygErEpHJH8Q9+K2tJgktdFsoJ12yxW8aOuc4IUAjirdFC0v52/C/+YPW3l+tv8jnPEcus2mu6Pe6Xp19qVpEJ1urazniQksq7CRLIitgg9yRVLQLu80oyWkPg3xDFFd3stzJNc3FgyxtLIXY/JcZ2gseACcDua7CiktHcd9LFWbTLO41O31Ce3WS6tVZIJGyfLDY3YHQE4xnrjjvWR4u0BdT8Pa29haK+q3elT2UbBtpk3I21CSQD8x4J6ZPTJroaKGrqw4ycZKSMm9tbs+Dp7S2iV7w2DRxxuFZWk8vABDfKRn14rySD4cR/Zo/tXg3XPP2DzPL0vwzt3Y5xlc4zXuNFN6ycu/8AX6krSKj2MDwRpUeieELTTobK9sY4C4WG+MHmjLlufIJjAyeAuMDAwK1NWt7q70a9ttPufsl3NA6QXGM+U5UhWx7HBq3RRL3twj7trHnMXh2xjWKO8+GAu9QWMK+peZaS5fH3vPeQTnnndt3c9K7Lw1Y3+m+GrGz1e5+03kMW2WTez5OeBublsDA3Hk4yetalFO4rFHW4rqbw/qEWnFhePayLAUfYwkKnbhsjBzjmsGw8R67BpttDdeCPEEk0cSrI/wBpsDuYAAnJusnmusoqbavz/wCD/mPsZvh6CO20G2hg0u40mOMELZ3MiPJENx6sjuDnrwx6/hU95pVjqF1aXF7bJPLZuZLcvyI3IxuA6Z9D1HardFMDH8R6RPq6aYLZ41+yajBdP5hIyiHJAwDzWX4c8P6nb+EZNPmvbrRrptSvJxLaeTI+x7qV1++jrgqynpkexrrKKFomu7v+X+Qut/66/wCZhroGpKgB8W6wxAwWMVnk+/FvUegaVe6f4i1y4uy8sVy1v5VxIU3TbIQrMQuADkegHoMV0FFAyC+WV9PuFtsiZomEe04O7Bxz25rhbC41r7P4fn1bwd4kn1HSLfY0i3ensssjRBHZi1zubuc8H1r0Gijv/Wwmr2/r+tjPtnbWtHkXUtMu9PE6tHJbXMkfmbTx96F2AyPRs/SnSaNpsui/2Q1lD/Z4jEQtlXaiqOgAHTGBjHTFXqKBmBpOl3Vp4u168kjKW11HarBIXDFtiMG7k8Ejr1qheeBbvULmznuvGviB5LKYz258qxHluUZM8W3Pyuwwc9a66ijYForI5b+wNSg8V6LdSX93qsFstz5txdeQrRb0QKAI0TIJUnoep5xiupoooAwf+EF8I/b/ALd/wi2i/a/N877R/Z0Xmb8537tud2ec9c1kW/hfUrTxDptwVjlhTWb29keN/wDVxyxOEyDgk5IGBmu1ooWjv/XT/IT1Vn/X9XKltpVjaahd39vbIl3eFfPm6s+0YUZPQD0HHJPUmuf8UeGBNp6jQrFBPPrFje3KowQMI7iNnfBIGdqknHJx3NdXRTTtJPtb8NR7po5X4g6bqepaHZDRoruS4t9RguD9iaATKqtklPPPlkj0biuQ17TvGOraDd2EcXjWZriPYI7xtDWFuejmMhwv+7z6V6zRUx9377/kv0E1f8vz/wAyrf6bY6tp72WrWVve2sgG+C5iWRGwcjKsCDyM1kQ/D/wZbTxz2/hHQopYmDxyJpsKsjA5BBC8EHvXQ0Ux9LHN+GNCeDw3f6drtlE8d1f3sjwTBZEkilndlyOQQVYcH1waVPh54KikWSPwhoKOpDKy6ZCCCOhB210dFHmD1bv1/U5vRdN1XTrTxEYooY7u61Ce4svPbMbbkUIW2nIGRyOtdBbef9li+1+X9o2DzfKzs3Y5255xnpmpKKSVkl2SX3aCt+bf36nnyxW/iA+OPDVrqdrFqc19vNu0gZgnkQcugO7y2xtJ9Ca0Lbw/rlx4m0vU7630nT7Wxsrm2FnZSvJhpDHhgxjTj5Om0Y9Wzx2NFDSaS8kvwsON07ru395xUng3UG+Gug+HhNbfa9OlsHlfc3lsIJY3fadueQhxkDnGcVpaz4eu9R16S9gkhWJtHuLEB2IbzJGQg8D7vynPf2ro6Kc/fTT63/FWf4B1v6fg7/mcToXhm78Dx2r2N5Zw6QLYHVraeUpFBIqfNcQtj5ckEsrYU/eypzmHwdY6V4s8FarBO63unXet3sqSW1wyhwLtnR0kjYHqAQVNd5RTbvK7/rVP9Aj7sVFeX4Jr9TnofBGlQTxzJd66WjYMA/iC+dSQc8q0xBHsQQaj8MaVqmm+G762PlWd7LqF7NA0yecgWS4d0YqrjIKsDjcD9K6WikPpb+uv+ZxWo+F/F+p6jpd7P4k0RZNLuGuIQmhTAMzRPGQ2bvkYkPTHOPpWrpel+I7XVGuL7U9DlhmbdcraaLJBLMQu0HzDcuMjAGSp4GK6CincQVx2n6p4h0m41KC78L61qitfzSW9xDdWhQws2UA8y4VgAOxAxXY0VPW/9dP8g6WMPQHNxfaheS+HdQ0ae4MbSvezQP55C7RtEU0gGAB129R15qO58A+Dry6lubvwnoc88zl5JZdNhZnYnJJJXJJPeugop6Ac1beHl03xpYzaXp8FnpNtpc1uqW6pGkbtLGwUIMYyAx4GKZ4yttRe78P32maZcan/AGfqJnmgt5IkfYYJUyPNdFPLrxmuoop3dl5f53BaNvv/AJWOSv8AVLvWbUWepeAdfe3aWOQg3NioDI4dTlbrPDKD+HeutoopAed33gvxA+ha5otl/ZOzUp5pxqc0j+fIJJC/lugTHAOwPvPygfLXoYGFA9qWijpYOtzltQ0jxlf2t1anxDoaQXCPH/yA5iyqwI6/a8ZweuPwpumaJ4x0zT7Sxj8RaG8FrEkK7tDm3MqgDk/a8ZwPT8K6uihabf1YHqc54lk1m11jRb3SdPvtRtoJJvtltZzxRlg0eEJEsiKwDc9eKfb+JNUmuY4pPBeuW6O4VpZJrErGCfvHbck4HXgE+xroKKFowCuctvD13DY+JoWkhLatcyywEMcKGhRBu44OVPTPFdHRUyipJp9Vb+vuHezT7O5yy+GbweHfCtgZYPN0eW2e4O47WEcRRtvHPJ4ziukuluHtJVspYobgoRFJNEZEVuxKhlLD2DD6ipaKtu7b7u/9fcSkkkl0Vji9a8M+MNdsEtLvxJoiRrcQ3AMWhTA7opFkUc3Z4yoz7elbFjaeK476NtT1rRri1B/eRW+jywuwx2c3Lgc/7JrcopDOUvrvXtL8b3dzBomqavpc9jAkS2dxbhYpVeUuSksyYJDJyAc49q0tN1zUL69WC68LatpsZBJuLqW0ZB7Yjnduf92tmigHq7hXB6D4H1TwslrdaJPaJdySsNUtWdhb3aGRiJAQuVlVSBuxhgNp7Ed5RR1uAVweq+H92s6hceIPCP8Awl8NxMHtDm3l+zR7QPL8u4dFTBDHKk5zzXeUUutwOX8J6Pd6dqGoXC2I0fS50iW10oSK3ksu7e+EJRN2VG1CR8ueprqKKKq9wMH/AIQrQPtv2j7E+PN877N9pl+zeZu3b/I3eVu3fNu25zz1pdO066g8b63qEsW21ura1SGTcDuZPM3DGcjG4dfWt2il0sD1MS58FeFb3UJL+88NaPcXkjbnuZbCJpGPqWK5Jqk/hxbPxpodzo+nW9rptpa3iTC3RI1R5DDt+UYznY3IHbntXUUUbDvrcwtS8HaRqurPqdx/aEN5JEkMktlqlza70QsVDCKRQcF26juazdV8Hi3s7RNFOoXLDU7OeYXuqT3O2OOUMxXz5G24GeF5PHXArr6KFo0/T8Hclq6afUytWt/EE00Z0LU9Ns4gvzreadJcsx9QVnjwPbB+tYNr4a8YWms3+px+JNDM1+IhKraFNtXywQMf6XnvzkmuzopWGU9Li1OG0K61d2l3cbiRJaWrW6bew2tJIc9ed34Vj+M7a/mg0m40zTptRey1KK5kt4HjVygVwSDI6r/EO4rpKKb1t5W/AOjX9anN/wDCUav/ANCJ4g/7/wCn/wDyVW3c2FrftbSXkAka2lE0Qc/cfBAOOhIyfXB5FWaKAOc8V+F11yykaxSGLUJJLXdNIxUNHFcJLtOAc8BscdT2yal8M6XcWNtq0WoQBRdanczIrEMHjduDxnqOxreopJWd/wCtbf5DbbVvO/4WMOx8G6Hp15Fc21pJutzm3jlupZYrY4I/dROxSPgkfIBwcUnhvTrqwvNfku4vLW71NriA7gd8ZijXPB45U8Hnit2in1v8vyf6EtX/AK9f8zjrw6tpPxCvtUtvDt/qtpd6dbwLJZTWy7XjkmLAiWVD0deRmrtndS6r4is7q/8AB+r6fPbRSxxXl1PalI1faWBWK4YnOxf4TjHbmukooKbbd/67BWDbeBfCNlex3ln4W0W3uonDxzxadEro394MFyD71vUUdbi6WOF0PwnqekeIdGlnWKWC2bVpJpYn4T7TcrLEMHBJ25zgYBB56Z6+z0qx0+4u57O2SKa8k824kHLStjAJJ54HAHQdqt0UDbucxq3hpI5NL/sOySNF1lL66WNgqj5WDuATjkkEhepJOMkmk8a/8JFt03/hHP7S8rz2+2/2Z9k8/wAvY23H2r5Mb9ue+K6iilbS3z/JfoJ6u/8AXX/M8ym0/X9Te3h1a28d3VtHcwzmKZ9DVC0ciuu4xkPjKgnBzXptFFVfSwGNc6HqE+oy3MXinVraJ/u2sUVoY4+OxaAv+bHrWV4m8Nard+E9VtbbWNQ1Se4tWjitrhbZFZjjHKxoQf8AgWK66ikD1EHCj6UtFFABRRRQAUUUUAFFFFABRRRQBk6Drw1+O5li068tIIZ3gSa5MW2co7IxQI7EDKn7wU9OKbd+IVsvE1jo8+nXgF/uEN6DEYSyozlCN+8HCnnZj3qr4F/5Fc/9f97/AOlUtReI/wDkcvCP/X3cf+k0lPqTd8tzp6KKKRQUUUUAFFFFABUUv+tg/wCuh/8AQWqWopf9bB/10P8A6C1AEtUdbvZNN8P6hfQKrS2trJMgcEqSqkjOO3FXqzvENrNfeGdUtLVPMnns5Y40yBuZkIAyeByaipfkfLvYqFuZXOTvNY8Y6XoWnaxdanodzBcz2iSW8ekTRttmlRDhzcsAQHznaenSt+x1K9m8aa5YNIHgtbW1kgiYBQrP5u75gM87V9cY4rmdQbX9W8M6Xoq+D9WtpIbmxaWee4svKRYpo2c/LcMx4Q4wpNbuk/8AJSvEn/XpY/8AtatpW1t3f3aGSvyq+5zV/wCO/E1vr0ZNpoyWdossd4sV7dy2+/5cF7lbEpEUw2QWH3ucYrcfxY9h4z0ew1+/07TU1DTpHW3F2rRyz+bGqCOR1RnJVjgADOelYV3qenaBqep+Fm8a6XoVmuZWi1OKNZsXBZ28mRplBAJb70bYyOtaXh/UfDF7440+28Ma1baiNP0R7dUs5o50SMSRAbnVyQ3AwMc8nPGDELNr5/k/19fwHNu39d1/wTobbWLibxxqGjMkYt7awt7lGAO8tI8qkE5xjEYxx61F4z1O70nQYrnT5fKla/s4S20N8klxGjjBB6qxH41m3h1bSfiFfapbeHb/AFW0u9Ot4FksprZdrxyTFgRLKh6OvIzVPxdq15qXhpVvPD+o6SE1TTirXslswkzdxcDypX6e+OtVGzlH1X5mjtzf12X6mpruqa7/AMJlpuhaDc6daC5sbi7lmvbJ7j/VvEoUBZY8Z80nJJ6VFr934k0LwTqt7e6pYz3kSobeWz09oAnzAHKySyhuvtRr8eqWfj7StasdDvNWtYdNurWUWcsCsjvJAy5EsiZGI26E1n+NdUvNV+H2tw33h7VNITyFxJdTW+HzIowphmdge+ePrUv4NN9fzf6WM59f66HfVR1rVYtD0O81S5jllis4WmeOEAuwUZwMkDP1Ip2maXBpFn9mtJLqSPcWzd3kty+T/tyszY9s4rK8f/8AJPNd/wCvGX/0E0x3srmzYXMt5YxTz2U9jI4ybe4ZC6c9yjMvvwxqxXJ+IZhqusLodnFf3F1DbLcyrBqUljFGrMVQtJGfMJJRsAAjAOe2avhDV/El94BtbiC2sdR1CO7ubaX7XqDxLsinkjBEiwuXOEUZKrnk8dKOlw23/rqdtWNqniJdJ1zTNPuNNvHj1KXyIr2MxGFJNrtsYFw+dqE5CkdOawfF8bT6bY/bIrpPEV5m2s7LTdbu4oS/JLsYzHuRB8zMVBwMDkjMWpaS2hW3gbTpL661CSDWVD3V5M0skrfZrgklmJPXoOw4pdV6pfiUrNP0b+5GxNqmsarreoaf4flsbNNMeOOe4vbd5/MkZA+xUV0wArL8xY8nGOM1nt4p1CeLTo2WO0vI9dXTb5IsOjgIzfKWGQGGxvUZxnisTx34n8O6bPLe6J42stL1lru2tb2K3v7ZmdPOVH3xSBgGRGb5sAjHJwMU/VB4W1LS9D0vw9rMV/C2txS3EtjqhaZmcSEyNLG+8FiDyCOmBwMUlfR+aX4r8LBLZ+j/ACf43PTK5XxXfa/otrdanDrmj2thGB5UFxpEs8rMcAIGW5TczNwAFHUDmuktLWOys4raFpWjiUKpmmeVyB6u5LMfckmvPvF2sWXhfxtp73n9nXN1dQz3Nvc+Ida+x29psKLshHlOu8iQ84DYByTRu7AtrmlqPibVdFh8Iya6rxz3zMupW+nWUlxl/s7NtVEV3wHA5HpycVqarrOoS6vaaP4eWCO6uLdrqW5vYXdLeIEAZjDIzMzHAG5cbWJ6YPO6V4li8W+LtID3vhWWSxeWZE0nxMLuU5iZD+6+zruGG/vDHXnGDt6x52jeMINeNpcXVjLYtaXJtYXmkhIfejeWgLMpywO0Eg7eMZIp/Er7O/5P9SFeztv/AF+hW1DxLqUPhHxWJvLt9Z0O0lcSwrmN/wByXjlVWzgHH3TnBUjJHJ6qwlebTraWQ7neJWY46kgZrg9Zt7i58JePNdubaW1jv9MkitoplKyGGKB8OynlSzO/ynkDGcHgdzpn/IIs/wDrgn/oIpK93fy/Ut/DH1l+hha14vXQ/F9ppt3Bcy2lxYyz5s9PnupQ6uijiJWIXDHkjrjmuT1z4qSf2X4pTT4tRtZ7CSKOxmOiXS7Q0cbEymSPahyzY37eMHuCeh8c2ws7ux1y3vtbt77I06GLSFtGabzXBAP2lSo5Qc5Fcrq8F1Y+D/Ea6po3iwjVCs15qV6dMkMW1UQHy4Z0BAVBwBmktV9/53/JoT0b/r+tUz0LxDrNxpiadb2EcT3mp3QtYGnJEcZ2M5ZscnCo2AMZOBkdRUstW1ex8S2+h6/JZXkl5ay3MF1ZQPAB5bIGVo2d8f6xSG3c8jA7zeJtF1PXLWO1srzTIbbAZ0vtPkuG3g5VkZJ4yhHqMnPIIrlvAOka89omrjUtK/eTSQTGayu7i4aOOZlKrPNeOVB2kgYIBPQ0PZ/P8v8APULrQ3vDmv3dx8KbPXtSm827OmfapZfKB3MELE7AVB6dAV+ornIPEPxKubaOeDSN0UqB0b+x7YZBGQedWq74ZsJdQ+CeiJFqsumqmmq0joINki7DlZDNFIoT1O3PH4Hy3+xfD/8A0Gfh/wD+DfSf/lTR9t/13Lnvp5nvvhq41m68PW03ia1jtNTbd50MQAVfmIXgO4GVwSA7YJ61a1OPUZbIro91a2tzuGJLq2adAO42LIhz77q5P4VW6jwbb3lreO1pOZBFaRra/Z4SsjqWjaC3h3BiM5I710niC/v7DSWbR7B76/lYRW8Y4RXPR5D/AAoOpPXsMkgVU9zOGqMDwlqXijWrm6lvtW0SS0sb+azlitdLlR5PLOMhzcsFOcHBU/1q94Y1HUtX0XVXe6j+1Rane21vLLCGWNUmdIwVUruAAHcE4696yfDPhu88B6nHbWyzalp+rEPezry8N7j55iP7knfH3SB2JIteDLY3nhzW7cTzW5l1nUU82Bgrpm4flSQcGp8vL8dP69GX9m/mvutL+vkZNj4p8ST+MNX0abXdEkXSIo5pTb6DcO846yIircsSyjYDgMcuOOx2NC8VS65421e0s/tYs7XT7aSKC9sZbRhKzzBjiWNXIIVRnBHHHOazprCO8X+y/B+hxsNCutq38+otaFJyA0gVxHK7k7vnLDDEnOa0dBkkn+IGrzalEbPUv7PtY3tFYSRmMPMVlSXjcCWZcFVIK+hFUrP+vx/r1J6P+uq/r8Dn73x74mi1yJ0stIFjarNHdiG6vJrdnyuC1ytgUj2bXBG7+LnGK3H8Xmx8YaPZ6/qOm6bFqGmySLCLtWjln82MII5HVGclWOAAM56d65rxPrGjeEtWl0Q6tq1rZyK0slhBqulQRESElgPtMizqCSfukAZ+U1e8G+J9C8R+OraPRI3tv7P0d4I7dbm0uIxH5kePngnk2kbQMMBnrnilDVr5/k/1tYVS6X3fmv8AgnpNcz4o8VPp1vLZeG4U1bXzgxWEZDFRnlpOQEXAOCxGTgDJro5hI0LiBlSUqQjOpZQexIBGR7ZH1rgtXi8V+DfC93fadf8AhhIrfDm3g8PywqxLAE8XXXnPSkN2SudfpGu6drcLPp9wrvGcTQMNssDf3XQ/Mp9iKzdX1/V4PE0Oi6FpVjeytZtdvJeag9sqgOEwNsMmTz7VHBofiJ9atb/U9Q8O3LQHHmR6DIkwU8MEkNy2zI74P0NO1vQ9Xk8RJruharY2csdk1q8V5YPcKw3h8grNHg8Y70N2afTW/wBz/Wwa2aW+n5q/4XLmm3XieW9VdY0jSbW1wd0trqss7g9vka3QH/vr862a5HwXe+Ktc0bSda1XUtHNpe2yzyWttpcsci7lyAJGuGHBI52c47V11VJWdmBzA1TX9a1LUY9Ak06zttNufszPe27ztcuEVmxtkTywNwGTuJ5OOmaTeLLu/svC91aj7G19rD2N7CMOMxpOHQMR08yLhhgkD3xT/E1rp2i38F6NY1LR31m+itZVsGh23ErDapYSq204ABZMNgDrgVLJaaBDr+g+FovPgn05W1S0RHBVggMR3lssSfOY+pIJz1ylrb1X4av8A2bv2f43S/Hqa+qeJNM0mb7NcTNLeFQ6WdtGZp3BOAQignGRjJwPUisfTPGFzaQyL45sf7ClMjPFM/NuYScoGlBKLIAQGDEZIJXIqt4svoNG1q1/tXx3qWgwagX8nP2BLaIooyu+aEtk5yMk856VkSeIdH8+1t7H4uX2pXF3cx20UFjNpUshZ2Cg7Rb5wM5J7CiOrB6I7LXtan0y80GO1WKRNS1EWsjOCcIYZXyuD1yg9Rgmts8Ka5LxTp+qR23hyaxtrzXZdL1JJ7ja8Ec0qCGVC3zGOPOXXgY9hV+08QaldXccE/hDWrKNzhrieayKR+5CXDN+Smpfwv8Aroin09P1f/AMGDxTrK/CHRtbSa3l1W9FnG01zBuTdNKkZYohTOA5OARXRada+KIr5W1fWNIurUA7orXSZYHJxxh2uHA5/wBk/hXG6bY32ofAjw7HpdnJe3ES2FwII3RWdY5o3YAuyrnap6kV1tp4i1O4u4oZvBut2iOwVp5prIpGPUhLhmx9AT7Vp39f8v8AgjqWuO8G6jdar4ZS7v5fNnNzcoX2hflSd1UYAA4VQK3a4v4a6TbW2hPqMcl4Z7i6u1dJL2Z4h/pMn3YmYoh46qo7+prtKkzWxkaF4gGvm8aHTry2t7a4kt0uLgxbbhkdkcoFdmADIfvBc5GM1r1wWk6hHYeBpEcXTy3muXttDHaOEkkdr2XgMSAowDk5BAzjnFHhubWdO8Ya1o/l7o49Ngu7W1utXmu8SM8qndNIhdAdi5A3gYyOuKbte39bX/IuSs35P9bHe0Vztw93c6Bft41httItIVErTaZrM+Qi/MSZFjhZMY6AnPOfQ87oizeGfDWs+LbqTVSlxFusNLvdRnuTGnSIETO2JZGIyO2VXscy9L+RPY6fR/F+l634j1jRLIy/a9IZFnLoAr7h1Q5+YAgqemCCK3a8g05dS8K3HhjUb3w1qlibdmtNYvriW1Mcv2lwWciOd24nKkfLwGbpXpL3HiEa0Io9L0xtM3gG5bUpBNtxyfK8grnOePM59R0qraIV9W+hl6x42utDs7y8v/CGtrZWas8lyJ7HYUX+IA3IbB7DGfbPFT6d4wF9rNhp1xoeqae+oWjXdvJdiEKyqELKQkjMrDzFGCoHXms2/H/Ca+MRpa/NoehTLLfHHy3V2MNHD7qnDt/tbB2NW9X/AOSpeGv+vDUP529Stl5/5f1/TLSu7f1/X9dDQh1i4k8d3eilI/s0Omw3auAd5d5JVIJzjGIx29a2q881XwzceI/Ek1rqk/g3UdQtYEkxfeFJJ3jhdnCDe1zg8q/A9zgZqbSvAF/ouoJe6UngqxuFyPOtPCjQyBT1AZbrIyKcdlcUt9PL8l/w53tcRBd65q3h+58SQa81j5f2hodP8iJrcLGzKBKSvmE/JyVdcZ6cc9vXmnjOXQ9J8RtHP/wjUX2hBPNbap4ql09Z2JILPaiNo5Adv3mByc+lS79ARpv40lXxT4ZE6Xcdlq+jy3L2sFk9wyy77fYW8tGZQBI4JOF557Vcv7zxI3i59J03V9Kt1a1N3Gtxo0kxVAwQguLpMtk54QDFYXhzxVbeJPifZgtos9xBpFzsk0TXBfRohlgysi+ShUkhdpz0Dcemje3uuRePhqUHg7V7i0hsZbMyRz2QMrGRWVlDXAO3Cnrg8jitJ/ZaX83/ALdb8bIjVJ99P0v+FxLTxFrNxoXh3UpNRtZ01bUYVDW9gbfMDIx2srSy85GchhWhrvjD+wfGWm6ZcwTy2d3Y3E7G0sJ7qYPG8Sr8sSsQuJGySvXHI6Hj4LC/Pgnwh4e8QaNqWkvaX9rBJJ9sjTzSEkz5clvMXXGOp2nn612t/wCDUub7T7yw1vVtMuNPtZLSOWCSOdnjcoxDtcRyFjmNfmznrzUx0bv3f/pK/UuVr2Xb9X+hyqfE3+1NatLCx1C3t7r+2p7Z7F4vKuWtktpHVnhlHmJ84XnavQevPZ+CtQutX8B6DqOoS+dd3enQTTSbQu92jUscAADJPQCuUttJ0t/FA8PW+tXd1qmn3b6xcTXiRH7Q8sLxGMGMIFKh0YgLwGX+9x1/hPSp9B8G6NpN48b3FjYw28rRElSyIFJBIBxkdwKqNlT13938nf8AEl35l8/zuvwKHjjUNc0Xw/e6vot9psEdjayStBe2Ek7TOBlVVlmTbk4HRuT+Fc/qPjTU9L8A3uqX2oreXF1pLXenTaT4fuvLhby2YGR90yddv3ioGCTkdOg8WR21tJaavrM9xNptnPCE0+FF2vcPKqJI5JG4KXUhegI3ckDFXxB4clsfBfiu30l5pre90+4NvpyR7vKmaN9wjxzhiQdnY5x1xWUrqErf1/w/4fPTaCTnG/f/AC/I2LvV72y0K1urfSbzV5pI1LpaNApX5c7j5siDGfQk+1cmnjnWtS+G1prX9lXWk3Mx08/aJPIaKbzZ41k8tRI7AYY/fAIBHfp0GsPqi+GLPTdHtZDe30S23nsuEswU+aV/90ZwO7YHHJHD674Xs9I8Lpp97osM02i3dhHpery26O/2Y3ke2MSEblZAWUjuMH+IgaytzP1X/B/T8exlT2jf+v6/rc7zwhqd3qmnajLfy+a8Oq3lvGdoGI452VBwB0AAz1PeuN0/xZ8QtY06DUNL0vz7O5QSQSf2NbrvQ9DhtVB/MCt7wlZzX3hvWILbUbnTZG12/IuLVYmdcXL8YkR1591rySTRdA81t2teASdxyW1bSQfx/wCJT1rOOy9F+RpNJOXq/wA2e5eErrxDeaPJJ4sso7O8E7rGkcapui42sVWaUAnnjeau69q8egeH77VZo2lSzhaUxoQC+Bwoz6niuI+ENpD/AGTeXOnX8f2SO7lgNtYGyezlcBf3yvBawljjA59O/GO18QXWi22iXA8T3VlbabOpgma9mWONgwxtJYgc1ctl6IyhZ/e/zMW71fxHoMEGpa6dMnsZp4YZre0hkSS181wgIkZyJcMy5+ROMn2q7pmp3c/iTxHbTS74LFofs6FQNm6EMeRycn1rAt5fB7SWzXnj2LU7K2dJbW0utUtmijZeUbcoDyY4I8xn5APUZrR8PTRXninxVNaSpPFMbVo5I2DK4NuMEEcEH1qJ3tp5lR3V/wCv6/pGIviPxr/wriLxc2paCUeyS8NmNImBwQDs8z7V79dv4V1cepXTeP5NNMv+iDS0uBHtH+sMrKTnGegHGcVxSw+JD8JYvCZ8GasL1dOSzMxubLyQwUAtn7Ru28f3c+1dXFx8VJf+wJH/AOjmq5W9oktrv8mS9n8vzRh+JfiBqGleINItjpF1YxG6f7RFc3+mxteReW6qIg9zuP7wo38JwD9Dsrr+pT+MNBtZbO60uC8tb2SezuvJZy0ZhCNujZwPvt0bvyKo28segahr8OtaNf3sup3byxTW1jJcrdxFAFjZlUhNoBXDlR3zyax4dC1SLV/A+mXGp3elXkGmX26S08mR413QYizIjqQAQucZ+Xg1MXdK/wDWn6f10LXxff8Ah/mdxq2rz2Gv6FYwpG0WozyxylgdyhYWcbefVR1zxWxXE+K9IutX1S003Ubvw1cwXLsbG01Xw694wZEy5L+eq5xk52rwcc1Qt/hlNaXMdxa2ngOGeJw8csfg8qyMDkEEXWQQe9NEHotcpqPjRNI8cTaPfW91Jarp0V1G1lptxdSb2kkVg3lK21cIuMgc55PbpbRblLOJb6WKa5CgSyQxGNGbuQpZio9ix+tcZ40tv7O1+z1exvtfi1HUgmmJb6OtkfNCCWUE/alKjA38hh24pdV/X9alqzi/66r9LmNqXxRmn0+/TT47+1uYtbtrO3kbRrlF8lpIQwkaSPYjEO4w209MDJBPb6/q15Z3em6bpawfbdSkdI5bnJjiCIWZioILnjhQRn1GK4HUoZ7HwzNa6po/iiJL3WLS7uNTv/7OkIk8+EKCkE64UlFX5VOM5wa7bxToOq68EitL7S4LVMOFutPmllSQZ+dJY7iIocHHHI555oekf67K/wCol/n+ZDHrWr2eoXmj6w9nPdppz3sF5ZQtEpAO0q0TM+0gkEHcQeeBjlsXiW7tvh7oupNGL7VNRgtY4kYiNZZ5VXk4HCjJY4HQHArm/Bmna3L4Lj1177SvL1Kw825U2VzLcsuxiE+0S3TsQMnGQQMnjmtWGxu7n4YeFbrToDc3GnRWV4tuCAZVVAHUZ43bWbGe4FUut+8fuu7/AIfkTK6lbyl99l+v5mxZ6pq9hr9rpPiJrO5N9HI9tdWUDQqGTBaJkZ3OdpyGB52twMDOQfFep2fw58Ua4XiuLvS7nURbiaP5NsMriNSFxkAKB1yfWrsc0nifxZpV7a2V5b6fpSzSvLe2slszzOvlqipIoYgKXJbGPu4J5xhRabd6x8KfGem6bD593d3urRQxbgu92mkAGWIA59TSj8WvZ/mjRfD81+TNDWdZ8VeF4tPv9W1LSr+ynvYbeaGy0O4E21zglNtxISR6BDmtLwr4jfX9d19UN0LS1lhS3jurKS2dMxAt8siK/J5yR9KyPEDa/wCKIdL0+38Oa3opi1CCeS/kmsD5CoclgBNJk+g2H6Vd8HWc9j4r8UwXWo3WpSCa2JuLpYlc/uRxiNEXj/dpK+t++npZf8Ex1uvRfr/wDsa5rXdQ1z/hKdO0fQbrT7T7RaXFzLNe2b3H+reJQoCyx4z5pOST0rpa4TxNoc2v+JINN1K48K3cjRS3Flban4aku3jiVkVz5huAucumcBc+nFNbr+un9P5GitbUtXd/4r0TWNDj1PUtGvrXUb/7JIlvpcsDqDFI+4Mbhx1jxjb3rQ8X3Ou6do91qei6hpltDZWsk8sd7YSTmQqpbhlmTaMD0NcZ4P8ACV5dWcGuaZZeBtLuo55o45LfwoQ8ZSR48hxcgjIX9cV1Piiy1LX7e18MmJjbXaK2q36IY4/JB+aJASTukIxjJ2qSSc4ypJuNk9f+B+m4Jq6dtP8Ag/0infap4msfhxqOt3mqadLcGxW4tTZae0PlMRk53yyB+o7D8c8bfivV7nSNDjlsfKW4ubqC0jlmGUiMsipvI743ZxkZOBXJ67a3mk/C3xD4dvopWgsbJlsrxc7Zbc8IpbqJEHyn1wGHXjs4PD+nW+hzaZIk15ZzAmRNQu5brdkdC0rM2OOmcDtVyavdbf1oRG6dnv8A1qYOo3fiLw1qml2dner4hfVZpIli1R0tjCyxtJuDwQn5MKRgoTkr83rFoHi7UIvh7q+u+IUWe6sLy9QwQMCP3czIkattXPQKGKgnqa4p9Q8KyzFtRh+HuqsuQn9r+N5L7yx3CCeB9g46Liui8I6VZ+IfhBqem6DHa2MdzdXiwfZ7gXFskgmYgxuqIDFuAwAo+X1qe/p+qLei+f6M6JNY1zTtTgsdfaxkN/bTSW8tnE8fkyRqGMbBnbfwSQw2/dPyis3wB4j1XW57RdUuvPEnhzTr1v3armaXzfMb5QOu1eOgxwBS6po1x4yuraTxT4cjgsNMgmdre/MNwtxOyBQyKpYbFG4gttbJHArL+FX/AB82P/Yo6T/7Wq4L3ZX8v/bv6+SF9n+u8TuPFGrS6J4avNQtkR5olAj8zOxWZgoZsfwjOT7A1kXUmr+Gr/S5LnW59Xi1C9S0mt7iCFNhdSQ0XlopABGSGL/LnnjNdTPBFdW8kFzEksMqlJI3UMrqRggg9RXlEfiLSNB1uVra58GGW1keOEX/AI5mdrcfdIWOSFhCcDBVcY6Vn9oHrE7Dw/4jm1DXvEOkzPcNc2l66W0jWEnkRxiKMgGUKEY7mJ2l91ZMniDxRFptxevruj+Xb6iunMP+Efl3GUyrECP9N+7ucHPXGeO1WvAetR6jpHiDVLK1ju5W1KR3j03UEu47hxFH/qZWWJcEAD5sYOeawbuLxPcaNf2aeCdWDXGuxajF/pNiAIlnjkIP+kfe+RvbJHNOK96KfZX/APJf0uJNa+r+7X/gHY6dqOp/8J5caTf3Uc0cOj21wwih8tDM0squwBLMAQi/KWOMfjWRefEcWEfiaO5tLx7nS5pY7Y2+k3c8LBYVdfMkRGQHcxz8wwMdOtR2tmmvfFaS81G11PTJoNGtZFtvtzRMpFxPxIIJSkgOAcEsMHpyRWlf+BfPfVjD4o1jT7XVXaW6toFtDHlkCNgyQMwBVR/FUu7h8n999DSVlP8A8B/9JOah+Idxq+tH+xdZtLqzB0dXFoY5UjeeaVZ03DJBIVRgnI7YzXZavq2pPr0OhaB9lju2tzdT3V3G0scEe7ao8tWUszHdj5gAFJ9q5XStJs/Frf234cvt0EdxYWzQ3K7WVLKaRt+VJz5iyBl4GQVPfjodV83Q/Go197S5ubG5sBZ3DWkDzyQsjs6Hy0BZlPmOCVBIIHY5Gs7c2m1393KrfiZRvr6L776/gVdU8T6lD4J8VO/l2us6Jby5khXMbHyvMjlUNnggj5TnBBGTjJ6+2dpLWJ3OWZASfU4rz3Xba5m8D+PdburaS1GpWMi28My7ZBDHAVVmX+EsS5weQCM4OQPQLP8A48YP+ua/yqdba+Rb2Xz/AEJqKKKQgooooAKKKKACiiigAooooAwfCenappNjdWWqQ2axrdzy28ttctI0iSSvJ86tGuwjcBgFu/NM1TTNVv8Axlot0kNmmmaa8krym5fznZonTaI/L24G4HO/8K6GigVlawUUUUDCiiigAooooAKil/1sH/XQ/wDoLVLUUv8ArYP+uh/9BagCWiiigAqjb6RBba5e6rG8hnvY4o5FYjaBHu24GM/xnPJ7VeooA5y88JSza7d6rp3iPVtKlvEjWaO0S1ZG2AhT+9hcg4J6GpNL8LPYa9/a97r2p6tcrbNbJ9sW3VURmVjgRRJzlR1zW/VVdTsHnEKXtu0rStCIxKpYyKNzJjP3gOSOoHNC0en9f1cTtbUtVQ1rR7fXbBLS7eRI1uIbgGIgHdFIsijkHjKjPt6VanuYLVUa5njhV3WNDI4XczHCqM9STwB3omure3khjuJ44nnfy4VdwpkbBbaoPU4BOB2Bo8xktUNb0iDXtGuNMvHkSG4ADtEQGGCDxkEdvSr9NkkSGJpJXVI0UszscBQOpJ7Ck7W1C19CtPpdnc6paajPDuurNXWCTcRsDgBuAcHOB1qp4q0y41rwlqmm2RiFxdWrxRGZiqbiMDJAJA+gP0rTiljuIUmgkWWKRQyOjZVgRkEEdRT6ewaMwX8OW+tfZb7X7MW2pxx+W50/UJlUrnOwuvlmRO+1lxknitHSNG0/QdNWw0i2W1tVd5FiQkhS7l2xnoNzE46DoMCpbjULO0kEd1dwQuYnmCySBTsTG58H+EZGT0GRU0ciSxrJE6ujgMrKchgehBp+gepiat4O0jWtXj1S9+3pexwmBJbTU7m2IQnJXEUijk4z64HoKz9Q8NagdU8PW+mLG2laXe/bJbi91Kee5Y+XKmwB1YsP3gOTIMYxjpXUW13b3sJls54riMOyF4nDDcrFWGR3BBBHYgii2uoLy3We0njnhYkLJE4ZTg4PI9wRS2t/XmO+/wDXkS1R1PSYNVeya4eRTZXS3UewgZZQQAcg8fMfSr1FAgrB1rwv/a2tWmq22s6jpN5awS26yWQgbekjIzAiWJx1jXkYreoo63Aw7HQNStL6Oe48XazfRoctb3ENmEk46Epbq3vwwrcqKG7t7mSaO3nile3fy5lRwxjfAbawHQ4YHB7EHvUtAFPV9Mh1rRL7S7ppEgvbeS3kaMgMFdSpIJBGcH0NWIIVt7eOFCSsaBAT1wBikW7t3u5LVJ4muIkV5IQ4LorZCkr1AO1sHvg+lD3MEdxFbyTRpNMGMcbOAz464HU4yM0bB5Gf4h0FPEFjDbve3Vi9vcR3MVxa+XvR0ORxIrKR7EGse/8AA95qthNY6j401+4tZ12SxGKxUOvplbYEfgRXUNd263iWjTxC5kRpEhLjeyKQGYL1IBZQT2yPWpaFpt/X9WB6gBgYqrp+m2mlWQtLCLyoA7uF3FuXYsxySTyzE1Lc3VvZw+deTxwRblXfK4VcsQqjJ7kkAepIqWjcDHs/DVnY+Dk8NRSTmzS0NoJGYeZsKlc5xjOD6fhWfB4Q1O2to4IPHPiBYokCIvk2BwAMAc2tdHc3MFnbSXF3NHBBGNzyyuFVR6kngVLR1uNu+5V020msbFYLrUbnUpFJJuLpYldsnoRGiLx04WrVFFAgqho+j2+iW9xDavK63F3NdsZCCQ8rl2AwBxljj29av0UB0sYV34WWS+uLzSdX1HRZ7pg9wbIxMsrAAbiksbqGwAMgAnAz0q1pOg2+lT3Fz51xeXtyFE93dOGkcLnavACqoyTtUAZJOMk1p0UbAc5eeEpZtdu9V07xHq2lS3iRrNHaJasjbAQp/ewuQcE9DVzStFv9PuzNd+JtU1RChUQXcVqqA/3sxQo2fxxz0rXooWgBVDW9Ig17RrjTLx5EhuAA7REBhgg8ZBHb0q/RQAVz0/gDwbdXElxc+EtCmmlcvJJJpsLM7E5JJK5JJ5zXQ0UAc3/wrjwR/wBCb4f/APBXB/8AE10aqqIERQqqMAAYAFLRQBk3fhrTtR1GW81NHvTJAYFhnbdFEh+9tXoC3djk9sgcVUj8FaXHA2JLs3ZmWddQectcIyghcOewUldpGCCcg5OehooWmwbmLrnhz+2byxvIdWv9LurHzBFNZiEkhwAwIljcdh2FUZPBlzdT2ran4t1u/htbmO5W3mjs1R3Rgy5MdurYyOxFdRRQtHcHqrBQeRRRRuBQ0LR7fw/oNlpNm8jwWcKwxtKQWIHqQAM/hV+iigNzGi8KaYvhp9CnSS5sZJHkdZXIZi0pkPK46MePYVs0UUAclo/ha4fSb/R/EtnZyWRv5ru1mtruTzT5k7yhj8iGJ13LgqzHOeRWvpfhjSdGvpb2wt5BdzQpDLcTXEk0kqqSV3M7EsRuPJycYGcAVrUU/Mbd233/AOHM7XdB0/xJpbadq8cslszq5WK4khJKnI+aNlPBAPXtVCLwRosZXzf7Su1WWOZUvdXurlQ8bBkbbJIwyGAPTtXQUUlo7oT10ZV1PTbTWNLudO1KET2l1GY5YyxG5T1GRgj6jmrCoEjCLnAGBkkn86dRQBytt8N/D1lG0dk2s20byNIyQa/fRqXY5ZsCYDJJJNLH4f1JPG2l3SJAukaVZz28Ust/LcXMzS+UfmDp2MZ5MjE5HSupooHfqc9qPhN7zxBJrFhr+qaTczW0dtKtmtsyuqM7LkSwuQcu3QirGm6HqFjerPdeKdW1KMAg291FaKh98xwI3H+9WzRQJ67hXO6h4Se68RXGs6f4g1XSbi5t4reZbRbZkdYy5U4lhcg/vG6EV0VFAGPpei3+n3nnXfifVdUj2lfIu4rVUz/ezFAjZ/HHPStiiigCjqekwaq9k1w8imyuluo9hAyyggA5B4+Y+lSahZNf23kreXNoCwLPbMqsw7rkg4B9Rg+hFWqKVgMg+FdH/s2OxSz8qOGQyxyRuyypIesgkzv3nJy2cnJznJrQsrd7S0SGW6mu2XP76fbvbnvtUDjp07c5PNT0UwMzxDocPiPRJdNuLi4tld45BNbFfMRo5FkUjcrL95R1BrO/4RfV/wDoe/EH/fjT/wD5FrpKKB30sMgjaK3jjkledkUK0sgAZyB1O0AZPsAPaoNS0y01eyNpqEXnQGSOTZuK/Mjh1OQQeGUH8KtUUCWhn6Ro1vottcQWryutxdTXTmQgkPK5dgMAcZY49vWsHTfAt3pGm2+n6b401+C0tkEcMQisW2KOgy1sSfxJrrqKB3bv5lHStPudOtnivNXvNVdn3CW8SFWUY+6PKjQY78gnnrV6iigQVRs9JgstV1C/ieQy6g0bSqxG1dibRt49B3zV6igAqiNJgHiBtYDyfaGtRalcjZtDFs4xnOT61eoo63DpYKoXGj29zr9jq8jyi4sYZoY1UjYRKU3ZGM5/djHI79av0UBsY2veHBrd1YXUWqX2mXVg7tDNZiEn512sCJY3UjHtUFv4b1SG5jlk8aa5cIjhmikhsQsgB+6dtsDg9OCD7iugooWjuAVj+IfDq6+tiw1G806ewuftMFxZiIsrbGTkSI6kbXbtWxRQByl34IutSiSDVPGGu3lss0UzQSR2Sq5jdXUEpbq2NyjoRXV9aKKPICjaaNZWGgpo9jGYLKODyI0VyxRMYxlsk/jmpNL0+LSdIs9OtmdobSBII2kILFVUKCcADOB6VaooB6u7CqGj6Pb6Jb3ENq8rrcXc12xkIJDyuXYDAHGWOPb1q/RQHSwViXnhqK4i1z7PdSwTa1GI5pCAwjxH5eVHHb1PWtuik0nuCdtURwQR21vHBAgSKJAiKOiqBgCsXWvC/wDa2tWmq22s6jpN5awS26yWQgbekjIzAiWJx1jXkYreoqru9w2VjBs/D2p215FNN4x1q8jRstBPDZBJB6Epbq2PoQa3qKKQFHWtJg13RLvS7t5EguozG7REBgD6Egj9KuMgaMoehGKdRQ9VYOtzktO8DXmk6bb6fp3jXxBBaWsaxQxeVYtsQDAGTbEnj1NdDpdjcafaGG71S71R9xbz7tYlcD0xEiLj8M89auUU7sBroskbI4yrAgj1FZGkeFtN0K++0aYskSrYQafHCX3JHFCX2AZ+Yn5yCST0FbNFF7AFcpaeCbrTong0zxjrtpbGWSVYEjsmVC7lyAXti2MsepNdXRSAo6Vp9zp1s8V5q95qrs+4S3iQqyjH3R5UaDHfkE89avUUUAUE0e3j8Rz60Hl+0zWkdoyEjYER3YEDGc5kPf0qPVNCt9ZlUajPcS2YXDWIcLDIc9XAAZh2KklT6Vp0UDu27mVd+HrSe7W8tJJtOvFVU+0WbBSyDorKQVcDnG5TjJxitWiigRS1nSoNc0O+0q7aRIL2B4JGiIDBWUgkEgjPPoatxxiKJI1yQihRn2p1FABRRRQAUUUUAFFFFABRRRQAUUUUAFFFFABRRRQAUUUUAFFFFABUUv8ArYP+uh/9Bapail/1sH/XQ/8AoLUAS1HOStvIRC05CE+UuMvx90ZIHPTkgVJVe/06y1WxkstUs7e9tZcCSC5iWSN8HIyrAg8gH8KT2GtzyXxF8PdLvrjTJZ/DGieG43vEjs4LbTbeeSaYglftPAXysBgUUsTkHcMV33hTR4NFa4hh8J6boUjqpln0tIlhuMZx90K+RknDLgZ4JrhfDbfCc6OV8RQ+BoNRjubiOWK4gsonQLM6qCuBj5Qvb3rtfC+meAZZ21LwVY+G3lhJja60mGAtGSOVLxjjI7Zqo7EvU5q78MeDZPjJb6fL4X0dxJpcssu7ToijTNKrLn5eXKpIfXGfWqul38LfEqDT1S4EsfiO+kLG2kEWDaYwJSuwn/ZByPSu0Pg+M6a6teyHVGuxff2kUG9ZxwCF6bQnybf7uRnJJrmrS1uLbxtYfaYZIvN8R30kZdCu9TaHDDPUHB5qYaSS7J/i4v8AryRFXa/mvya/rzYviXTNZ8ReIbnT9E1jU7gadcQ3MySXFpbQW0nEkaI32SV3YDDYbjBGSc4qrd6zb2sHhbU9c166McOvSRXMutNbQm0dbedGQtEiJjcOCc5yMHkV2V34f1CHWbrU/DuqQWMt8E+1xXVmbiOQoNodQsiFX24XOSMKOOKxNR0aPQr7wfaxzSXEkmuyzzzy43SyvbXDMxxwOTwBwBgU4XVl/XT9Pnsbaavyf5P9f1Kfja58JXnjHwpc+KZtFn0aayvZIpdReJrdyfIKspf5SSM4I7Vydx/Z/wDbXir/AIVv9p/sn+zYfO/4RT+zPsu/bLnzPN5zj/nnzj3xXqnjfVptC8H3mo21ytq8DREzOF2oplUMTu4xtJ5NUdR8eeCL/S7qz/4TXw/H9oheLf8A2nAdu5SM4389azmrwlGPn+I09Y36Gv4U/wCRM0X/ALB8H/otaxNU01Nb+I5sr281KO2i0pZlis9SuLVd5lYFj5Trk4AHOa6HQI7eHw3psVldx3tvHaxJFcxEFJlCgBwQSMHGeCao6r4XfUNcXVrLXdS0m5FuLZvsa27K6BiwyJYn5yT0xW1TWrfpd/kzCkmqSi97L9DymbVfsOnWzahLqN5jT/ENpG5Se9lwt0qIGYB22hVA3NwMDJr1SPSbPVfCOmLqE95BFDaxyb7S/mtCP3Y6tE6kj2JxXIaz4Xbw8EgtGvLy1h0PWXmvLhVJMszxyncUVVBJL4AA4HtXVNof/CQeEdIsp7uSGxa3iN3BEADdJsH7st1VSeuOSMjjNS9b28vzmbS3j8/0OX+EGmaTd+HRqlncaqZo9QuyIptVumQK8rvGWhaTYSY3RslSTu3ck5rW8K6tp+jfC22udVv7SwhL3CLLeTJFGWM0mBlyBz6Vv/8ACPRweIo9W02drNmQRXcCIDHcooITI/hZezDtwcjGMzwC/l/Dm2cgkKbk4Bxn99J37VNR3+4iP8RHh+m/8IZ/Zdr/AGv9n+3+Sv2n7L/winleZj5tm7nbnOM84r2D4V3/AIZXw6dJ8N38bvFLLO9q95ZSzKHfcW22jGNUy2AABjpiuE03xLpGo6Xa3v8Aaej2v2iFZfIuvilqCSxbhna67eGGcEdjXpXw4kL+Ezu1i01f/S5ystpqj6ikSlyyRee/zMVUqOea11u7r+ri6LUv+NP7Q/4Q++/sjzvtGE3fZ8+b5W9fN2Y53+XvxjnOMVysZ8LDV9K/4V59i/tP7bH9t/s7G7yMfvftW3nO3p5nzbsY5zXc6rLqsNsraHZWd5OXwyXl49uoXHUMsUhJzjjA+tUhd+KcDOjaOD3xq0v/AMjVmt7/ANf8MU9Y2Oe07/UfEf8A6/5P/SCCsLUvB3hmx+FujanZeHdJt78Npbi7hsYklDNPDk7wucnJyc85NdN4Wtvt9745tbr5Bcar5cnltnbusrcHBI9+uPwpx+H0kmm2um3Xi3XbnT7VoWW1kSzCsImVkUstuGxlF6MCfWqtZp+UPwWv5h9pPs5fi1/kS6aN3xY8Rg5wdJ08cHH/AC0uq47/AIRsaql5rtrfyWcGkz3MAh1DWtSadRGxViZhdAQ79ufuN8pU812Wl/8AJWvEX/YK0/8A9GXVcp4n1rTbD4nXq6nZ+DZZLe1tpbaXX76KzmjY+ZuMbmB2b7q55GMDHWie69A6v5fkXLWe7PjTwdPolizLcaBcyyRarqEvmwxvLas2XZZGdxnG1iP94YroLb/kr2pf9gO1/wDR89YHh3xi/iT4oWcAm8OTxx6TdOW0fU11BlPmwABpPKRoxyflBIbGT90V1Op+FHvvEDazY69qek3T2qWsgs1t2V0VmZciWJ8HLt0xVS+w/X8XII6KS9Pw5X+hV+I//ImN/wBf9j/6VxVT8TaNpeu/Ezw/a63ptpqNuum3riG7gWVAwe3AOGBGeTz71X8Y6Te6b4Qma88Q6lqwe+sAqXkdsoT/AEyLkeVCh/Mmui1vwx/a+rWWpW+sahpV3ZxSwpJZCBtySFCwIljcdY16AVEdHf1/Iu/u/wBeRh+MtA0Tw78MvEX9h6PY6aklozSrY2iReZjpkIBk9a6vSdUt9XsvtNpHdxoG24u7OW2fI/2JVVse+MVyPjDR77Tvh/r8l54j1PVVayZRFeR2yqpyOR5UKHP1JHtXXz3/ANnv7K0+yXUv2rf++ij3Rw7Vz87fw56D1NMy6lyiiikUFFFFABRRRQAUUUUAFFFFABRRRQAUUUUAFFFFABRRRQAUUUUAFFFFABRRRQAUUUUAFFFFABRRRQAUUUUAFFFFABRRRQAUUUUAFFFFABRRRQAUUUUAFFFFABRRRQAUUUUAFFFFABRRRQAUUUUAFFFFABRRRQAUUUUAFFFFABRRRQAUUUUAFFFFABRRRQAUUUUAFFFFABRRRQAUUUUAFFFFABRRRQAUUUUAFFFFABRRRQAUUUUAFFFFABRRRQAUUUUAFFFFABRRRQAUUUUAFFFFABUUv+tg/wCuh/8AQWqWopf9bB/10P8A6C1AEtFFFABRRRQAUUUUAFFFFABRRRQAUUUUAFFFFABRRRQAUUUUAFFFFABRRRQAUUUUAFFFFABRRRQAUUUUAFFFFABRRRQAUUUUAFFFFABRRRQAUUUUAFFFFABRRRQAUUUUAFFFFABRRRQAUUUUAFFFFABRRRQAUUUUAFFFFABRRRQAUUUUAFFFFABRRRQAUUUUAFFFFABRRRQAUUUUAFFFFABRRRQAUUUUAFFFFABRRRQAUUUUAFFFFABRRRQAUUUUAFFFFABRRRQAUUUUAFFFFABRRRQAUUUUAFFFFABRRRQAUUUUAFFFFABRRRQAUUUUAFFFFABRRRQAUUUUARfZbf8A54R/98Cj7Lb/APPCP/vgVLRQBF9lt/8AnhH/AN8Cj7Lb/wDPCP8A74FS0UARfZbf/nhH/wB8Cj7Lb/8APCP/AL4FS0UARfZbf/nhH/3wKPstv/zwj/74FS0UARfZbf8A54R/98Cj7Lb/APPCP/vgVLRQBF9lt/8AnhH/AN8Co5beASQ4hjGXwflHPymrNRS/62D/AK6H/wBBagA+y2//ADwj/wC+BR9lt/8AnhH/AN8CpaKAIvstv/zwj/74FH2W3/54R/8AfAqWigCL7Lb/APPCP/vgUfZbf/nhH/3wKlooAi+y2/8Azwj/AO+BR9lt/wDnhH/3wKlooAi+y2//ADwj/wC+BR9lt/8AnhH/AN8CpaKAIvstv/zwj/74FH2W3/54R/8AfAqWigCL7Lb/APPCP/vgUfZbf/nhH/3wKlooAi+y2/8Azwj/AO+BR9lt/wDnhH/3wKlooAi+y2//ADwj/wC+BR9lt/8AnhH/AN8CpaKAIvstv/zwj/74FH2W3/54R/8AfAqWigCL7Lb/APPCP/vgUfZbf/nhH/3wKlooAi+y2/8Azwj/AO+BR9lt/wDnhH/3wKlooAi+y2//ADwj/wC+BR9lt/8AnhH/AN8CpaKAIvstv/zwj/74FH2W3/54R/8AfAqWigCL7Lb/APPCP/vgUfZbf/nhH/3wKlooAi+y2/8Azwj/AO+BR9lt/wDnhH/3wKlooAi+y2//ADwj/wC+BR9lt/8AnhH/AN8CpaKAIvstv/zwj/74FH2W3/54R/8AfAqWigCL7Lb/APPCP/vgUfZbf/nhH/3wKlooAi+y2/8Azwj/AO+BR9lt/wDnhH/3wKlooAi+y2//ADwj/wC+BR9lt/8AnhH/AN8CpaKAIvstv/zwj/74FH2W3/54R/8AfAqWigCL7Lb/APPCP/vgUfZbf/nhH/3wKlooAi+y2/8Azwj/AO+BR9lt/wDnhH/3wKlooAi+y2//ADwj/wC+BR9lt/8AnhH/AN8CpaKAIvstv/zwj/74FH2W3/54R/8AfAqWigCL7Lb/APPCP/vgUfZbf/nhH/3wKlooAi+y2/8Azwj/AO+BR9lt/wDnhH/3wKlooAi+y2//ADwj/wC+BR9lt/8AnhH/AN8CpaKAIvstv/zwj/74FH2W3/54R/8AfAqWigCL7Lb/APPCP/vgUfZbf/nhH/3wKlooAi+y2/8Azwj/AO+BR9lt/wDnhH/3wKlooAi+y2//ADwj/wC+BR9lt/8AnhH/AN8CpaKAIvstv/zwj/74FH2W3/54R/8AfAqWigCL7Lb/APPCP/vgUfZbf/nhH/3wKlooAi+y2/8Azwj/AO+BR9lt/wDnhH/3wKlooAi+y2//ADwj/wC+BR9lt/8AnhH/AN8CpaKAIvstv/zwj/74FH2W3/54R/8AfAqWigCL7Lb/APPCP/vgUfZbf/nhH/3wKlooAi+y2/8Azwj/AO+BR9lt/wDnhH/3wKlooAi+y2//ADwj/wC+BR9lt/8AnhH/AN8CpaKAIvstv/zwj/74FH2W3/54R/8AfAqWigCL7Lb/APPCP/vgUfZbf/nhH/3wKlooAi+y2/8Azwj/AO+BR9lt/wDnhH/3wKlooAi+y2//ADwj/wC+BR9lt/8AnhH/AN8CpaKAIvstv/zwj/74FH2W3/54R/8AfAqWigCL7Lb/APPCP/vgUfZbf/nhH/3wKlooAi+y2/8Azwj/AO+BR9lt/wDnhH/3wKlooAi+y2//ADwj/wC+BR9lt/8AnhH/AN8CpaKAIvstv/zwj/74FH2W3/54R/8AfAqWigCL7Lb/APPCP/vgUfZbf/nhH/3wKlooAi+y2/8Azwj/AO+BR9lt/wDnhH/3wKlooAi+y2//ADwj/wC+BR9lt/8AnhH/AN8CpaKAIvstv/zwj/74FH2W3/54R/8AfAqWigCL7Lb/APPCP/vgUfZbf/nhH/3wKlooAi+y2/8Azwj/AO+BR9lt/wDnhH/3wKlooAi+y2//ADwj/wC+BR9lt/8AnhH/AN8CpaKAIvstv/zwj/74FH2W3/54R/8AfAqWigCL7Lb/APPCP/vgUfZbf/nhH/3wKlooAi+y2/8Azwj/AO+BR9lt/wDnhH/3wKlooAakaRriNFUdcKMU6iigAooooAKKKKACiiigDF8Nazfa5bXN1d2FvaW63MsNuY7ppXkEcjRlnBjUIcrnALdetM8PeKrfxDe6hbwwSQfZJMRNIRi5iyVEqf7JdHX/AIDnuKz/AA1aT3/gG7tLS6NnNPdX0a3CpuMebmUbgMjn0961P+Ecgt7zSJ9McWY0yM24jVMiWAqB5Z5GMFUYHnG33NPr/X9f8OyU7xMfxvrK6bq+j2934p/4RmyuVnMt1vtk3soTau6dGUfebgDJrAk8T2cGraNHonxQ/t6a51KGCSx8/TpfMjY4biKFX6dwRXSatBdN4stdPj8V69ZSajFNNDDbQWTQxLFsDDMkDPz5gIyT35HFUvD2i+J9Q0+aXVvGPiC1mS8uIkT7JYpuiSVljbDWufmUKc9DnI4qYrW/nf8AHYuabj+H56m54qtrs6VPfWviC+0dbO3klf7LHbssmFzlvNifpjtjqa5UT6sPgtf+IJfE+pX9zd6CbpGdYIhBIYd26MwxIw5PcnGK6HX9E1HWrOz0CSZpdMkUHU72YoJbhFI/dBUAGX/iIAAXIA54w/EelXegfD3xbpkcavox026msnDAG33KxaAr/dBJKkdjtOMDItL/ANbX/O/4ehUNZx9f8vy/X1N/Xtfv9A03TbuCwgvbaaa3t7l5btopI/NkSNWVRGwfl8kFl6d810dcF4k0XS9D8A2kOi6bZ6dFJqenSPHaQLErN9phG4hQMngc13taPZ+r/JGcfhXoFRS/62D/AK6H/wBBapail/1sH/XQ/wDoLVAyWqupz3Vrpk89hFbSzxruVbu4MEWO5ZwjlQBk/dPT8atVn69pMev+HdQ0iaR4o762kt2kT7yhlIyPzpPYcbXVzhfDHijX7zXtQWeLTng1Cbz4N2oXiiOJYkVhb+baIkw+Uv8AIwHzfibHw+1K+vZ9FF5e3FwJPDNtO4llZt8hcgucnlj69a1G0bXdSudNfXl063g0d2njeymd2uX8p4wSrIoiXDsdoL9hn15f4UadDY3ulPA9yxufDFtK4nupJgCZDwodiEX/AGVwPaqVuZL+vhkDv7Nv0/NG14ZtNd8SaXPqNx4y1i1Y6heQrDbW9l5aJHcyRqBvt2b7qDqTVu/1ltH+Iuk2N3cajcwzaXIuIraSYPKJYgJJFiQqvBPzEKoyelZVx4esn1nUdO8K6fqMk1tL5t3v8UX1jbLLMTIQqxs/J3bjhAvzdc5A1NDRbfxdaWuq2k9pqkGlyLBjUGvYZofMQufNkUSlw2z7wHDcZ7EbOSa8/wAn/X4kz2f9dUdlXm154ktf+Er1601r4k/8I59ju0itrLzrCL92YIn3fv4mc5Zm5zjjHavRpUaSF0SRomZSBIgBZD6jIIyPcEV53qC67Jo/iF9A8X+JbjUNGlNuIXs7BxLL5aSDaq22WGJB6HINJbv0/Vf18yr2Rb8G6+NQ8a6lp9j4w/4SjT4dPgnEu+1fypWklVl3W8aD7qqcHJ/Ol8Z/2npeqaS9v4x1SxTVtUjsxbrDZskasrHCFoC2flHLE9a3LPw7qlvdRTTeMdbukRgzQTQ2QSQf3Tst1bH0IPvWZqvhG48W6vdXGv8A+i29qjQ6SkThnickE3R7B8qu0c4AOfvEA7eX+d/+AG9/P/K3/BJr4Xuma94Usn1a9vfNurgTSzlEaYeRIwDrEqIQDjHy9h35qr8TPENzoNjpK2epppT316YDdzXsNrFGBE7/ADySwTAA7MDCg5I5qtrmntrepeELHxjpllduL24WaKSNZoZitvJiQK2cA4BweR07Zo8eaXp1hDYPb6pf6TNPItrbwWn9pTxuFjY7I7aznj2kKpOcYwpoZMd2cpB4q1qS9tVj+Jfhw5uI96v4ksZg6bxvUIunxkkrkDDryRzXtVeHS2upRtB9j1LxBqDvcQxtb/2Z4jtdyNIqufNe7KptUs2SMcV7TY2UWnWMdrbtO8cYwrXFw87nnPLuSzfiTT6Brc5Px42p2DWF3YeKdQ0xbvULayNvFFatHiRwrEGSFm3YyeWxx0rkvGHiG9tW1KxsNZ115bHw1qcklzd20lmzyrJDskUiONHKgsA6DgHrzk99q+gzeI9Tmj1EeRp9vAyWhRgWaZ1wZv8AZKDhfcsfSuB+Ib6g9rP/AGzFHFfL4P1VZvKbKMRJbjevoGxuweRnB6VdD40n5/8ApL/yv8/Irrf0/Nf5/gd/4l1W9sv7FsNOkWCfVrwWpupE3iBRE8hIB4LER7RnjLDIPQwRXGqaH4p0/SrvVZtYttSimYPdRRLNA0YDZzEqKUIOOVyDjk5qz4jvtGjsYbLXrC+vIpgHVbXS7m6ClSCG3Qo2xgcEHIPcVy3gLUNNsLVPt1h4ibWbiaWE3WoaVqEriIzN5amaWMhU27TywA6nnNZS2dvMhfCvkW9H1nU4fg/oeqjV4ILg20JmuL+0kvWnLfKFCrKjF2YqByc9Mc5qHwzfeLbfXEsdf1BLb7bcSTxRX2kndMv3mjikjvZFTA6KwyADwcGp/Cukwaz8FNCtrmSSIR2cFxHLFjdHJGRIjAHg4ZQcHg1e8OWl34mh0TxPq+pR3cSwi70+CGx+zeX5seN0gMsm5wjsOCF+Y8HirS95v+vL8jSpvb+v61LPgC7uL3wvJLeTy3Eg1K/QPK5Y7Vu5VUZPYAAAdgAK1fEN1NY+GdUu7V/Lngs5ZI3wDtZUJBweDyKxfAfhaLw/p95Pc6Va2mqXd9dyTzpGnmzRtcyPHudeW+RlwCeOnFaHi1nt/Dt1qC6tqOmR6fDJdStp8cDySIiElcTRuvb2571FXVPWwQ+Pa+v6nGWviLQpbOGSb41bJGjVnX7ZpIwSORj7PXTeDL688Q/Dy0uZ9VlkublJVGoQrFvOJGVZANnl5wAfu49qyjpfiWTxHpdvbeMPELabd2U0805tLEmNwY/LXcLbaMh34PJ28dDXRQWGq6NYXkq6rqHiG5MeYIL37NEAwzwGiiTGc8k56ce9S7maT0dzm9Ii1a68eaxo7+ONYmj0uK1l8swWIZjJvJVyLccYVemDyea2/DN1cXHiPxXFPPJLHb6lGkKO5IjU2sLYUHoMknA7k1mWfg/UNClg12yeO912SR31UZ2LerIRuRSfu+XtXZnsuDjcSG+HNC0m88eeLdSutNtJNQh1GOOK8aFfPiU2kOQsmNy/ePQjqaI/p+qLXU57xT4v1GLxvq2n23i2x0SOyeJBDf65Z2m/dEj7kSSxlbHzYyXPIPTpWp8Ptb1LUvEVzFe+MtH1u3FruW0s9WtryVXDj5/3VtAQuDjndyRWNrunwW/iK9sdM8R62otSiyQJa6/qDRMyBsNLDdhCSGBxgYBFW/Bml3N34saK8utcurOC3FwlxINasFEocAIVubllkBHOMY9aUOl/60FU2+79D1Q15zF4o8XDw7pPiCe90V7W+v7a3ezTTJVkVJbhYjiU3BGQGznZj2r0Y15zF4X8XN4d0nw/PZaKlrY39tcPeJqcrSMkVwspxEbcDJC4xvx70R/iRvtdfdfX8AfwsXw3qd/Prukxz31zIkmoayjq8zEMqTkICCeQo4A7dqm+Ik3imxtbaaw1/TrO1m1axhijGnyiUbp0BDSC4AZeu5do3LkZHWsTwjpdhb+M9N1CCxtor251HW1nuUhUSShZyFDMBlgO2eldXrnhWfxnqksXiFPs+kWYYWMUUuZJJiuPtBI+6UyQg9cse1JOzT7Wf5FS+KS83+omtya7p9lpA1PVLeaeXW7aMvp9s9qpiJ5RlMshbPOecH0qp47ufEc0s+i+HtSVZby0YpBZaaXu4E+6ZRO11FGhyflzg56ZwaNZbV10vQoNfSI3Vvr1pGLmFvkulB4k29UJ7qehBwSMGp/Hs9vpN1pOpCXU7S7urn+zzdaWnmzLGyPJ/qfKlEvMfTZkZJBHOUv/AG7/ANtjb8f16kq/Pp/L+sr/AIGVqPiDXB4I1m41LUkW6sZbeOSC002W1uLdjIhIOJ5fM3KRjZweRk9K6TXdflXRdKvtKae3W61O1gYXFq0TmN5QrApKoZcjPUA9xXKatq/h+18M3sJt/El5cX1zA9xc3ek3du0riRApaR7cRoBgcYA7DBOa7LxfpWoarpNsmkLbPdW19b3SpdTNEjiOQMVLKjkZA/umqXxJvuvz1Ja91pdn+WhvV58us6nbfB2+1KC/mW/jmuVjuXxI6f6U6j74IOF4AII4FdDbXnjFrqJbvQtDigLgSvFrUzsq55IU2qhjjsSM+orntM0m6134P3em6eYRcz3F0I/PcqmRdueSASBx6GlL4WEr30OlsdA1K0vo57jxdrN9Ghy1vcQ2YSTjoSlure/DCq/ge6uLvTNTa6nlnZNZvo1MjliqLcOFUZ6AAAAdhT4b3xk1xGLjQdCjhLASPHrczsq55IU2gycdsj6isTwNp2h2EOu+ILmz0+2vF1fURPqUkSJIIxcPw0pGdoAHU44pr4vk/wA0afY+a/KR3lFIrK6hkIZWGQQcgiloJCiiigAooooAKKKKACiiigAooooAKKKKACiiigAooooAKKKKACiiigAooooAKKKKACiiigAooooAKKKKACiiigAooooAKKKKACiiigAooooAKKKKACiiigAooooAKKKKACiiigAooooAKKKKACiiigAooooAKKKKACiiigAooooAKKKKACiiigAooooAKKKKACiiigAooooAKKKKACiiigAooooAKKKKACiiigDF8NaNfaHbXNrd39vd27XMs1uIrVonjEkjSFXJkYOctjIC9OlbVFFAbGRrXhjTNfubW41AXaz2iusM1pfT2rqH27huidSQdq8H0qtbeCtLtbqK4iutcZ4nDqJdfvpFJBzyrTFWHsQQe9dBRQtNg33Cq2o6fbatplzp+oReba3UTQzR7iu5GGCMggjg9qs0UAm1qjA8TeHrzXbWxsrS/t7OzguYZ50ktWlkkEUiSKqt5ihOUwSQ3Wt+iii+lgCopf8AWwf9dD/6C1S1FL/rYP8Arof/AEFqAJaKKKAAgEEEZB6g1RtdF06yvEubO0jt5I7ZbVBENqpEpyECj5QAT2FXqKA8jJ1PwzperXH2i5iniuSgQ3FndS2srKDkKXiZWIGTwTjk1Jpfh/TdGkeWygczyKEe5uJnnmdR0UySFnIHoTWlRRsG4Vz1z4G0W51K7v8AdqlvPeSCW4+x6xd2yyOFC7ikcqrnaqjOO1dDRQBlaT4cstFmkls59SkaRdpF5qlzdKBnsssjAH3HNatFFAFW5061u7y0u7iLfPZOzwNuI2MylScA4PykjnNVdb8O6d4hS1GppcbrSUzQSW13LbSRuVKEh4mVvusw6961KKAOcXwLpKOGF3r+VORnxFfkfkZua6OiigArP1XQtM1u2mg1SyiuFnt5LV2I2v5T43oHGGAOBnBHQelaFFG2oAAFUAdBwKOtFFG4FPT9KstL0eHS7CHyrKCIQxxb2bamMYySSfzrCtvh1oNnaxW1nLrkFvCgjiii8Q36qigYCgCbAAHYV1NFAblTTdNg0myFravdSRqSQ11dy3L8/wC3IzMfpmn39jb6pptzYX0fm211E0M0e4ruRgQwyMEcE9KsUUPXcFo7o5lfAOjIgRLrX1VRgAeI9QAA/wC/9bun2EOmWMdpbPcPHHnDXNzJcSHJzy8jMx69ycdKs0U7sAqraaZaWN1eXNrFslvpRNcNuJ3uEVAcE8fKqjjHSrVFIDn7zwTo17ql1qLnU4Lm7ZWnaz1e7tlkKqFBKxSqudqgZx2qzpXhmw0e7NxaT6pI5QoRd6vdXSY/3JZGXPHXGa16KFpsD13CiiigCguiaal5b3UVnHFNbNK0RiGwBpTmQ4HBLHkkjrzV+iigCrfaba6kIBexeYLedLiL5iNsinKng849DxVfW/D+n+IbeCHU0nIt5hPC9vdS27xyBSu4PGysOGYde9aVFAdbnMv8PtDmCrcSazcIrq/lz69fSoxUgjKtMQeQDgiumoooAKq6dp1rpVmLSwi8qAO7hdxb5nYsxySTyzE1aooAKoQaHptvYXVklnG1rdyyyzwy/vFkaRiz5DZ4JJ46e1X6KAuIqqihUAVVGAAMACloooAKKKKACiiigAooooAKKKKACiiigAooooAKKKKACiiigAooooAKKKKACiiigAooooAKKKKACiiigAooooAKKKKACiiigAooooAKKKKACiiigAooooAKKKKACiiigAooooAKKKKACiiigAooooAKKKKACiiigAooooAKKKKACiiigAooooAKKKKACiiigAooooAKKKKACiiigAooooAKKKKACiiigAooooAi8p/+fiT8l/wo8p/+fiT8l/wqWigCLyn/AOfiT8l/wo8p/wDn4k/Jf8KlooAi8p/+fiT8l/wo8p/+fiT8l/wqWigCLyn/AOfiT8l/wo8p/wDn4k/Jf8KlooAi8p/+fiT8l/wo8p/+fiT8l/wqWigCLyn/AOfiT8l/wqOWJxJD+/kOX9F4+U+1Wail/wBbB/10P/oLUAHlP/z8Sfkv+FHlP/z8Sfkv+FS0UAReU/8Az8Sfkv8AhR5T/wDPxJ+S/wCFS0UAReU//PxJ+S/4UeU//PxJ+S/4VLRQBF5T/wDPxJ+S/wCFHlP/AM/En5L/AIVLRQBF5T/8/En5L/hR5T/8/En5L/hUtFAEXlP/AM/En5L/AIUeU/8Az8Sfkv8AhUtFAEXlP/z8Sfkv+FHlP/z8Sfkv+FS0UAReU/8Az8Sfkv8AhR5T/wDPxJ+S/wCFS0UAReU//PxJ+S/4UeU//PxJ+S/4VLRQBF5T/wDPxJ+S/wCFHlP/AM/En5L/AIVLRQBF5T/8/En5L/hR5T/8/En5L/hUtFAEXlP/AM/En5L/AIUeU/8Az8Sfkv8AhUtFAEXlP/z8Sfkv+FHlP/z8Sfkv+FS0UAReU/8Az8Sfkv8AhR5T/wDPxJ+S/wCFS0UAReU//PxJ+S/4UeU//PxJ+S/4VLRQBF5T/wDPxJ+S/wCFHlP/AM/En5L/AIVLRQBF5T/8/En5L/hR5T/8/En5L/hUtFAEXlP/AM/En5L/AIUeU/8Az8Sfkv8AhUtFAEXlP/z8Sfkv+FHlP/z8Sfkv+FS0UAReU/8Az8Sfkv8AhR5T/wDPxJ+S/wCFS0UAReU//PxJ+S/4UeU//PxJ+S/4VLRQBF5T/wDPxJ+S/wCFHlP/AM/En5L/AIVLRQBF5T/8/En5L/hR5T/8/En5L/hUtFAEXlP/AM/En5L/AIUeU/8Az8Sfkv8AhUtFAEXlP/z8Sfkv+FHlP/z8Sfkv+FS0UAReU/8Az8Sfkv8AhR5T/wDPxJ+S/wCFS0UAReU//PxJ+S/4UeU//PxJ+S/4VLRQBF5T/wDPxJ+S/wCFHlP/AM/En5L/AIVLRQBF5T/8/En5L/hR5T/8/En5L/hUtFAEXlP/AM/En5L/AIUeU/8Az8Sfkv8AhUtFAEXlP/z8Sfkv+FHlP/z8Sfkv+FS0UAReU/8Az8Sfkv8AhR5T/wDPxJ+S/wCFS0UAReU//PxJ+S/4UeU//PxJ+S/4VLRQBF5T/wDPxJ+S/wCFHlP/AM/En5L/AIVLRQBF5T/8/En5L/hR5T/8/En5L/hUtFAEXlP/AM/En5L/AIUeU/8Az8Sfkv8AhUtFAEXlP/z8Sfkv+FHlP/z8Sfkv+FS0UAReU/8Az8Sfkv8AhR5T/wDPxJ+S/wCFS0UAReU//PxJ+S/4UeU//PxJ+S/4VLRQBF5T/wDPxJ+S/wCFHlP/AM/En5L/AIVLRQBF5T/8/En5L/hR5T/8/En5L/hUtFAEXlP/AM/En5L/AIUeU/8Az8Sfkv8AhUtFAEXlP/z8Sfkv+FHlP/z8Sfkv+FS0UAReU/8Az8Sfkv8AhR5T/wDPxJ+S/wCFS0UAReU//PxJ+S/4UeU//PxJ+S/4VLRQBF5T/wDPxJ+S/wCFHlP/AM/En5L/AIVLRQBF5T/8/En5L/hR5T/8/En5L/hUtFAEXlP/AM/En5L/AIUeU/8Az8Sfkv8AhUtFAEXlP/z8Sfkv+FHlP/z8Sfkv+FS0UAReU/8Az8Sfkv8AhR5T/wDPxJ+S/wCFS0UAReU//PxJ+S/4UeU//PxJ+S/4VLRQBF5T/wDPxJ+S/wCFHlP/AM/En5L/AIVLRQBF5T/8/En5L/hR5T/8/En5L/hUtFAEXlP/AM/En5L/AIUeU/8Az8Sfkv8AhUtFAEXlP/z8Sfkv+FHlP/z8Sfkv+FS0UAReU/8Az8Sfkv8AhR5T/wDPxJ+S/wCFS0UAReU//PxJ+S/4UeU//PxJ+S/4VLRQBF5T/wDPxJ+S/wCFHlP/AM/En5L/AIVLRQBF5T/8/En5L/hR5T/8/En5L/hUtFAEXlP/AM/En5L/AIUeU/8Az8Sfkv8AhUtFADUUquGdn92x/SnUUUAFFFFABRRRQAUUUUAUNF1eDXdJi1G0SRIZS4VZQAw2sVPQnupq/XMfDn/kQ7H/AK6T/wDo966ektUKLukwooopjCiiigAooooAKil/1sH/AF0P/oLVLUUv+tg/66H/ANBagCWiiqWtapDomh3up3WfKtIWmYAZLYGcD3PSk3ZXGld2I7DxBpep6tqOmWF4k17pjIl5CoOYi67lzkYOR6Z9KqT+L9Ks4NanvWmt4NFnWC6kMRfLMiONqplm4kUdM5zxXm3hzUINB1zw7qclvqsV7qZe11yS50i6gj82d/MRjJJGq/LKfLHPR6u+KC48N/EcxqrP/alttDHAJ8m1xk4OPyqrO2vb8br/ADFdatHoWleJ9L1m6e2tHuYrlE8w295ZzWshTONwSVFYrnjIBGTVI+ItVvp7k+HdGgvrW0ne3lmuL7yDI6cOIlEb7sNlfmKDIPbmsqOfUh8RtIuPFdla2UsltcWunCwujcRs52ySB3ZI2B2x/KAhHDZOSBSaxb6t4c1qwtfDupQW9nr+pSLLFcWnmtbO0UkrvEwdQMlCcMGGWJ6cUrPT+uv+Q+/9aW1NO18Wf2lqXh8WEYW11WK4eUTLiWJogPk4OAQxYHr04rpq8/1Pw59i17wjpGlarfaeIYrw/a4RC8zkqhYt5kbLliST8vU8Yrv1BVACxYgYLHGT78Uu5K2OQ8S+JvE/h2yur46Do9xaxvsgX+2pUmuCWwihPsxG9iQNu4jJ696taj4vttH8Y6dpOsXlhp8F7ZPKhuZwjPMJEURqWIDcMeMZOKxprl4PG8kN5pmseKdU0+FLpDbC1htrJZS6rsSSZMviNhuO4gZwQDitXTft2qeNotVu9B1TSUg0+S2H2xrVlctIjcGKd2B+Xptx7joajur+f5P9Qns7eX5r9C5qOv3w1t9I0DTYr+7ghWe5e5ujbxQqxIUbgjkudrEDbjA5IyM0tR8Yuvg06xp1uI7hL6Gzmt7pcmJzcpDIpweo3HBBweDyKhbVLLwt421iXX7mKwtNTSCW2u7lwkTuqlGi3HgOMKQOpDcZwaw9Tilb4f6rqMsMkCan4gtrqGOVSrCP7VAikqeRuCbsHn5uala7/wBarT8/uLXxL1/T+vvPTaoX2sW2n6lptlcbvO1KZ4YMYxuWNpDnJ6YQ9M84q/XKat4Om17W5NT1G+8mazK/2OYBn7GRgtIQfvMxG0jpsGO5NPqT0Nsazat4kfRBv+1paLdnpt2Fyg75zlT2x71V1nXbiy1G10vSLFb/AFO6jeZY5Z/JijjTALu4ViBlgAApJJ6YBIyx4Sv11z/hIxeQ/wBtmfaxwfKaz4H2f16Dfn+/nscU7WLy38PeO4NY1aRbbTLnTmtXvJWCxQSLJvAdjwoYM2CcDK46kUl0v53+5tfogfW3l+if6sku/Fs0fhLxDeraLbarolvK01rKxdBIsXmIQwwXRhgg8HqOCCA/WvEuoafDoMWm6dbXt7rM3kqtxdNbxxkQPKSWEch6RkYx361zmrP/AGl4a+IOuW4b7Bd6W0FrLjCzrFBJmRfVSXKg99uRxg1f8RyNaP4I1BrW9uLazuy9wbOzluWjU2cyAlI1ZsbmUZx3qo2bd/L9Rv4U/wDF+FrEx8enRfEI0vx0ND0AS2huYLj+2d6SYcKU/eRRc854zW14R1mTxD4S0/Vp/J33ce8+RnYeSARknjA9a5ZrvVfEPxCS98LNLp8UOlNFLPrGgXaozGUEKodoecc5BP0rb+G4cfDnRxIys/kncVXAJ3HOBk4/OpjdpX31/N/oT9pr+tkdFd3UFjZTXd3IsVvBG0ksjdEVRkk/QCodJ1Wy1zSLXVNKnFxZXcYlhlUEb1PQ4OCPoea5T4majENN0/QpUupE1e5CXS2lrLcSC1TDSnZGrMQfljJxx5lQ/DvUreLVtd0C0hvILSG4N9YJd2M1q3kzHLqFlVSQsu/kDGGUU1rf+v6/4DHLS39f1/wUdbr2sW/h7w/f6xeJLJb2MDzyJCAXZVGSACQM8dyKxbjxpcWdrHLeeE9bgknuI7e3gaSzLzu4Y/KVuCoAC87iOoxmtTxPov8AwkfhTVNFFx9m+32slv52zf5e5SN23IzjPTIrltasvEUuoaLp2oa7phu3u/tFjJBosgjVokYsJAbokgg8bSOaH09V919Qei+//gHYaVqFzqNs8t5pF5pTq+0RXjwszDH3h5UjjHbkg8dKi0fWf7WuNUi8jyv7PvTaZ37vMwiNu6DH38Y56UlnHr9tplwb+503Ur7k24ht5LKI8cKxLzEc/wAQ7djXEHw9q2o6hfXlto9gs0twTdCw8dajCnmhQDlIoAobAXPAPSjr8v8AL+vmLp8/8z0uquqanaaLpN1qepS+TZ2kTTTybS2xFGScAEnjsBXNeGtL8QaRfkTaXbx2sxAmll8VXuoOgAONiTw46nnDL+OBUvxQ/wCSUeKP+wXcf+gGh7FR1djR0rxZpOsXYtbWS6iuGQyJFe2M9o0ijGWQTIpcDIyVzjIqC58Qahcavd6d4c0uC+ksCi3ct3eG3jRmUMEUrG5ZtpBPAHzDn0wBc6ovijwxceKrGzsoMvBYmwu2uQ1w8Rx5jNHGVGxXAADZJ5IwK37nw/qFvq93qPhzVILGS/KNdxXdmbiN2VQodQsiFW2gA8kfKOPVtakxd1qVbnxg76NaXdnbeTO2rQ6ddW9yMtCzShHHynBODkHJBBBrqq4bXtGj0Pw/pkCTSXMs3iC0uLi4lxulkedSzEAADsAB0AAruaS+HXv+kf1uLXmt5fq/0sc7N4h1K71S8tPDmkwXq6fKIbqe7vDbpvKhikeI3LkBlznaOcZ64hfxebnT9HurCDy/tmqCwuYbgfPAw3rIvynG4MmM8j61NN4e1K01S8vPDmrQWS6hKJrqC7szcJvChS8eJEKEhVzncOM465ytV0aHQbLw1ZwSSTE68k0s0pG+aRxK7ucADJYk4AAFL+X1j+av8tyns/R/k/x2/E0dQ8Q63/wllxomg6PYXZtrSK6lmvdSe3/1jSKFAWCTOPLPJI61Sk8ZamvhfV72fTrS1v8ATL9LN4kuGuImy0WWDFIz0k9ByO9MutTTQvibqN3f2WqPbXOl2scU1npdzdKWWScspMUbAEBl4OOtYt27XHgnxVefZru3hu9bilhF3ayW7um63G7ZIqsBlSOR2p9Pl+N1+gT0at5f+k3/ADO38V6+fDXh+TUViimcSxxJFK0oDs7hFUeVFK5JLAABDk+nWuLuPid4jhtpZY/Bklw6IWWGOLVQ0hA+6N2nAZPTkgepFb/xB0fWNZ0XydNENzbq8chtFtnNw0iyBldJRd24TaQD97PHXtXnF/pfi/S9Nub++tfEEVtaxNNNJ9ruG2ooJY4GuEngHpSvo7lWu0ke4wSNLbxyPGY2dAxQ9VJHSqGr6reaa0Qs9A1HVxIDuNlJbr5eMdfOlTrntnpzijw9Hfx6LANUvLe7kKgpJBbvD8mBgMHlkYt6sW5qPXNfGltHaWdrLf6ncg/Z7SIHntud+iIM8sfoMnANS0diI6oxr3xxOPDHiG9t9JubC/0VQHt9R8pwWKBxzDIwI2sP4gea6TUZdRjsd+j2trdXWRiO6uWgQjud6xufw21x3ifRpNJ+EniFLm486/u4ZLi7uUXG+VsZKg5wqgBVBzwozmugl0nUIvDslofEd/K5JaS9lhh88R45VPLREU+jFSRk+2FLRAtZWMvwp4t1zxLeXQOkaPFa2N7LZXUsGsSTOjp12p9nUMOR1Yf0rR0LxBcajouqX11FHusr68gVY8qGSGVlXOSeSFGT69qo+FtG0x7HSdf8J+bplre2ULyWzoGFxEV3J5gycSgH74JPJB3cYPDcULeFdeSxeaffqWo5DxBW3maTKgBmyM8A8E+g6VM+aKa6pP71Y0hZpPu192p0Gial/bGgWGp+V5P2y2jn8vdu2b1DYzgZxnriqtjq89z4u1bS5EjEFlBbSRsoO4mTzN2TnH8AxwO9c94X8YWGneEdIsryw8QR3FtZQxSp/wAI7fnayoARkQ4PI7Ve0C4S6+IGv3EQkVJbGwdRLE0bgETHlWAZT7EAjvWs0uZ22MIt8sb7kOleJPFmuacuoab4d0X7LI7rH5+tyo5CuVyVFqwH3emTWtb6zdSeOLrRZY4Vgh02C7DLktveSVWGehXEYxwD1rm/B/ia00Pwvb6dqen69FdQSzB1TQL6QcyuRhlhKkYIOQTTo4pda+K8l3YapqOmxDRLSUxpbpG0ymec7ZEniLr9Btbk/hlHXl/rozVfBJvey/NHe0UUVQgooooAKKKKACiiigAooooAKKKKACiiigAooooAKKKKACiiigAooooAKKKKACiiigAooooAKKKKACiiigAooooAKKKKACiiigAooooAKKKKACiiigAooooAKKKKACiiigAooooAKKKKACiiigAooooAKKKKACiiigAooooAKKKKACiiigAooooAKKKKACiiigAooooAKKKKACiiigChoukQaFpMWnWjyPDEXKtKQWO5ix6Ad2NX6KKA2CiiigAooooAKKKKACopf9bB/wBdD/6C1S1FL/rYP+uh/wDQWoAlrP1rRbfXbOK1vJJlhS4iuGWJgPMMbhwrZBypKjI74rQooAoa5o1t4g0O60u9aRIblNpeIgOhzkMpIOGBAIOOorLv/BNhqGma1ZS3d4g1qaOa4lRk3o6JGoKZUgf6pTyDyT9K6OigDCsPC62+oxX+qatqGtXUCssD33lKIQww21Io0XJHGSCcZGcE1Afhz4IJJPg7w+Sep/suH/4mukooAwIfB+mWOtade6Pa2mmRWYm3W9rarGspkVVyduMEBB2Pb0rfoooA4XxJ8Of7d8Wza3/xT9z51rFbeTrOh/bvL8tpDuRvOTbnzORj+EVd8K+DZfDepSXCQeGII5IyjjSNANjI3IIy/nPke2PxrraKFoD13CsrxJov/CQaKbD7R9nzcQTeZs3/AOqmSTGMjrsx7ZzzWrRQNOzuFc9P4J0q5uJJ5LrXQ8jl2EfiC+RQSc8KswCj2AAHauhooEc3/wAIHpH/AD+eIP8Awo9Q/wDj9dGqhECjOFGBkkn8z1paKAM/X9L/ALc8N6lpXneR9utJbbzdu7ZvQruxkZxnOMirdrD9ms4YN27yo1TdjGcDGalooHe6S/r+tArM8O6P/YHh600vz/tH2ZSvm7Nu7knpk46+tadFAjPGi2//AAkh1tpJXufsotURiNkabtzFRjOWO3Jz/CtJc6JbXXiCx1gvLHdWUcsK7GAWRJNu5XGORlVIxjBFaNFAFPU9Lg1ez+zXcl1HHuDZtLyW2fI/24mVse2cVhSfDnQZbiGeWXXHmgJMUjeIb8tHkYO0+dxkccV1NFAGTpPhux0W4eazn1ORnXaRearc3SgZzwssjAH3AzWTB4d8S6bfalJo2vaTFbX14935V3pEkzoWABG9blAR8v8AdFdZRR1v/X9aAZmkQa7C0v8Ab2o6feg48r7Fp7223rnO6aTd26Yx70/XtGt/EPh6/wBHvXljt7+3e3keEgOqsMEgkEZ57g1oUUbgtDn7HwksF5a3OqazqWsvZEtai98lVgYqV3BYY0BO0kZbOMnGM1J/whHhQ3EtwfDGjedMxeWT+z4t0jE5JY7ck5PU1uUUAc7e+CtJeK3XSbKy0toryC5d7a0RTIInDhTtx1x17Z6V0VFFHSwra3MJfA3hJJZJE8L6KskrbpGGnxAufUnbyeajuPBmlCWxfSbOz0s217HdSfZrVU87YGAU7cf3zzzj05roaKP6+4e4VmeIdH/t7Q5tO8/7P5jxt5mzdja6v0yOu3H41p0UAYHjTwz/AMJd4bbSvOt4s3EE+bq2+0RP5civsePcu5W24IyODXK/8Kq/6h3w/wD/AAjf/umvSaKAIraN4rWKOYxtIiBWMUexCQOdq5OB6DJx6mpaKKNw2MzxHo//AAkHhu+0nz/s/wBriMfm7N2zPfGRn86vzRebbPFnG9CucdMjFSUUmrqzBaO55bpvwe/s7S7Wy+z+B7r7PCsXn3XhDfLLtGNzt9p5Y4yT3Ndn4M8M/wDCJeHzpvm20mbma4/0S1+zRJ5jl9iR7m2qM4Ayelb9FVdt3DpYKzLTRvsviXUtW8/f9uhgi8rZjZ5e/nOec7/QYxWnRSAKyo9F8vxfc659oz59jFZ+Rs+7seR927PfzMYx2681q0Udbjvo1/Xcqabp/wDZts8P2u6u980ku+6l3su5i20HH3RnAHYACrdFFAgooooAKKKKACiiigAooooAKKKKACiiigAooooAKKKKACiiigAooooAKKKKACiiigAooooAKKKKACiiigAooooAKKKKACiiigAooooAKKKKACiiigAooooAKKKKACiiigAooooAKKKKACiiigAooooAKKKKACiiigAooooAKKKKACiiigAooooAKKKKACiiigAooooAKKKKACiiigAooooAKKKKACiiigAooooAKa6bmQ5xsbP14I/rTqKACiiigAooooAKKKKACiiigAooooAKKKKACiiigAooooAKKKKACiiigAooooAKKKKACiiigAooooAKKKKACiiigAooooAKKKKACiiigAooooAKKKKACiiigAooooAKKKKACiiigAooooAKKKKACiiigAooooAKKKKACiiigAooooAKKKKACiiigAooooAKKKKACiiigAooooAKKKKACiiigAooooAKKKKACiiigAooooAKKKKACiiigAooooAKKKKACiiigAooooAKKKKACiiigAooooAKKKKACiiigAooooAKKKKACiiigAooooAKKKKACiiigAooooA//9k=)\n",
        "\n",
        "출처 : https://wikidocs.net/21703"
      ]
    },
    {
      "cell_type": "markdown",
      "metadata": {
        "id": "bSrWYpOPwSp-"
      },
      "source": [
        "### 2.1 .기호\n",
        "\n",
        ".은 한 개의 임의의 문자"
      ]
    },
    {
      "cell_type": "code",
      "metadata": {
        "id": "pxJMbNY5woWA"
      },
      "source": [
        "# Python에서 정규표현식은 re\n",
        "\n",
        "import re"
      ],
      "execution_count": null,
      "outputs": []
    },
    {
      "cell_type": "code",
      "metadata": {
        "id": "8yxXdm7DwzLo"
      },
      "source": [
        "# re.compile --> 특정 패턴을 저장\n",
        "\n",
        "r = re.compile('a.c') # a.c --> a와 c 사이의 어떤 1개의 문자"
      ],
      "execution_count": null,
      "outputs": []
    },
    {
      "cell_type": "code",
      "metadata": {
        "id": "v_b4K1sLx0iI"
      },
      "source": [
        "r.search('kkk')"
      ],
      "execution_count": null,
      "outputs": []
    },
    {
      "cell_type": "code",
      "metadata": {
        "colab": {
          "base_uri": "https://localhost:8080/"
        },
        "id": "verPpjlbx15s",
        "outputId": "dcda73ff-2d8f-4b22-d8a3-ff85980ad217"
      },
      "source": [
        "r.search('azc')"
      ],
      "execution_count": null,
      "outputs": [
        {
          "output_type": "execute_result",
          "data": {
            "text/plain": [
              "<re.Match object; span=(0, 3), match='azc'>"
            ]
          },
          "metadata": {
            "tags": []
          },
          "execution_count": 10
        }
      ]
    },
    {
      "cell_type": "markdown",
      "metadata": {
        "id": "b004hptGyMBx"
      },
      "source": [
        "### 2.2 ?기호\n",
        "\n",
        "?는 ? 앞의 문자가 존재할 수도 있고, 존재하지 않을 수도 있는 경우"
      ]
    },
    {
      "cell_type": "code",
      "metadata": {
        "id": "YXu9bzMzymPq"
      },
      "source": [
        "import re\n",
        "\n",
        "r = re.compile('ab?c') # ab?c --> b가 존재할 수도, 안 존재할 수도 있음"
      ],
      "execution_count": null,
      "outputs": []
    },
    {
      "cell_type": "code",
      "metadata": {
        "colab": {
          "base_uri": "https://localhost:8080/"
        },
        "id": "43SsmuOXy1Pi",
        "outputId": "10ed1ea7-71a8-4510-d519-951c83822b9e"
      },
      "source": [
        "r.search('abc')"
      ],
      "execution_count": null,
      "outputs": [
        {
          "output_type": "execute_result",
          "data": {
            "text/plain": [
              "<re.Match object; span=(0, 3), match='abc'>"
            ]
          },
          "metadata": {
            "tags": []
          },
          "execution_count": 12
        }
      ]
    },
    {
      "cell_type": "code",
      "metadata": {
        "colab": {
          "base_uri": "https://localhost:8080/"
        },
        "id": "e7xIzFZcy4PB",
        "outputId": "0aa1f769-37d2-4c34-e50d-3d0aa3f5c28e"
      },
      "source": [
        "r.search('ac')"
      ],
      "execution_count": null,
      "outputs": [
        {
          "output_type": "execute_result",
          "data": {
            "text/plain": [
              "<re.Match object; span=(0, 2), match='ac'>"
            ]
          },
          "metadata": {
            "tags": []
          },
          "execution_count": 13
        }
      ]
    },
    {
      "cell_type": "code",
      "metadata": {
        "id": "GLB6VdzQy6IQ"
      },
      "source": [
        "r.search('abbc') # 문자가 하나가 아닌경우"
      ],
      "execution_count": null,
      "outputs": []
    },
    {
      "cell_type": "markdown",
      "metadata": {
        "id": "XsiEkJdJu2pt"
      },
      "source": [
        "### 2.3 *기호\n",
        "\n",
        "*은 바로 앞의 문자가 0개 이상일 경우. 앞의 문자는 존재하지 않을 수도 있으며, 또는 여러 개일 수도 있음"
      ]
    },
    {
      "cell_type": "code",
      "metadata": {
        "id": "_h5WZnm90BWh"
      },
      "source": [
        "r = re.compile('ab*c') # ab*c --> b가 존재할 수도, 무수히 많을 수도 있음"
      ],
      "execution_count": null,
      "outputs": []
    },
    {
      "cell_type": "code",
      "metadata": {
        "colab": {
          "base_uri": "https://localhost:8080/"
        },
        "id": "l4dAB6Pu0Q_L",
        "outputId": "5619def6-5d38-48c7-b965-4e3ae49b0012"
      },
      "source": [
        "r.search('ac')"
      ],
      "execution_count": null,
      "outputs": [
        {
          "output_type": "execute_result",
          "data": {
            "text/plain": [
              "<re.Match object; span=(0, 2), match='ac'>"
            ]
          },
          "metadata": {
            "tags": []
          },
          "execution_count": 16
        }
      ]
    },
    {
      "cell_type": "code",
      "metadata": {
        "colab": {
          "base_uri": "https://localhost:8080/"
        },
        "id": "AoJjDgQn0cVi",
        "outputId": "7cbc5f14-918f-4bd0-ba7f-5947da76ab82"
      },
      "source": [
        "r.search('abc')"
      ],
      "execution_count": null,
      "outputs": [
        {
          "output_type": "execute_result",
          "data": {
            "text/plain": [
              "<re.Match object; span=(0, 3), match='abc'>"
            ]
          },
          "metadata": {
            "tags": []
          },
          "execution_count": 15
        }
      ]
    },
    {
      "cell_type": "code",
      "metadata": {
        "colab": {
          "base_uri": "https://localhost:8080/"
        },
        "id": "YtBlc-Vf0S7D",
        "outputId": "15af9435-7998-49e8-d1d4-eb351e8b0ca7"
      },
      "source": [
        "r.search('abbbbbbc')"
      ],
      "execution_count": null,
      "outputs": [
        {
          "output_type": "execute_result",
          "data": {
            "text/plain": [
              "<re.Match object; span=(0, 8), match='abbbbbbc'>"
            ]
          },
          "metadata": {
            "tags": []
          },
          "execution_count": 16
        }
      ]
    },
    {
      "cell_type": "markdown",
      "metadata": {
        "id": "WJ44nyEfuFlJ"
      },
      "source": [
        "### 2.4 + 기호\n",
        "\n",
        "+는 *와 유사하지만 앞의 문자는 무조건 1개 이상"
      ]
    },
    {
      "cell_type": "code",
      "metadata": {
        "id": "UIPSMxAg0oGQ"
      },
      "source": [
        "r = re.compile('ab+c') # ab+c --> b가 1개 이상 존재해야함"
      ],
      "execution_count": null,
      "outputs": []
    },
    {
      "cell_type": "code",
      "metadata": {
        "id": "tlYAVDJU0wsg"
      },
      "source": [
        "r.search('ac')"
      ],
      "execution_count": null,
      "outputs": []
    },
    {
      "cell_type": "code",
      "metadata": {
        "colab": {
          "base_uri": "https://localhost:8080/"
        },
        "id": "Fj5-L1Fw0yZR",
        "outputId": "a7597979-d6ee-4464-8372-c314a705041e"
      },
      "source": [
        "r.search('abc')"
      ],
      "execution_count": null,
      "outputs": [
        {
          "output_type": "execute_result",
          "data": {
            "text/plain": [
              "<re.Match object; span=(0, 3), match='abc'>"
            ]
          },
          "metadata": {
            "tags": []
          },
          "execution_count": 19
        }
      ]
    },
    {
      "cell_type": "code",
      "metadata": {
        "colab": {
          "base_uri": "https://localhost:8080/"
        },
        "id": "hynTTS240zgE",
        "outputId": "022d7ba6-1297-4c6f-bb45-6b94271173ee"
      },
      "source": [
        "r.search('abbbbc')"
      ],
      "execution_count": null,
      "outputs": [
        {
          "output_type": "execute_result",
          "data": {
            "text/plain": [
              "<re.Match object; span=(0, 6), match='abbbbc'>"
            ]
          },
          "metadata": {
            "tags": []
          },
          "execution_count": 20
        }
      ]
    },
    {
      "cell_type": "markdown",
      "metadata": {
        "id": "5NNu7tI703qI"
      },
      "source": [
        "### 2.5 ^기호\n",
        "\n",
        "^는 시작되는 **글자**"
      ]
    },
    {
      "cell_type": "code",
      "metadata": {
        "id": "RXglezrM1DDA"
      },
      "source": [
        "r = re.compile('^a') # ^a --> a로 시작하는 글자"
      ],
      "execution_count": null,
      "outputs": []
    },
    {
      "cell_type": "code",
      "metadata": {
        "colab": {
          "base_uri": "https://localhost:8080/"
        },
        "id": "Mthy-tZC1JNS",
        "outputId": "51b1861a-f09a-4373-cdc5-f4c8ac0ec36f"
      },
      "source": [
        "r.search('abc')"
      ],
      "execution_count": null,
      "outputs": [
        {
          "output_type": "execute_result",
          "data": {
            "text/plain": [
              "<re.Match object; span=(0, 1), match='a'>"
            ]
          },
          "metadata": {
            "tags": []
          },
          "execution_count": 22
        }
      ]
    },
    {
      "cell_type": "code",
      "metadata": {
        "id": "64-9gWUN1LDS"
      },
      "source": [
        "r.search('bbc')"
      ],
      "execution_count": null,
      "outputs": []
    },
    {
      "cell_type": "markdown",
      "metadata": {
        "id": "thz__EtJ1Q55"
      },
      "source": [
        "### 2.6 {숫자} 기호\n",
        "\n",
        "앞의 문자를 숫자만큼 반복"
      ]
    },
    {
      "cell_type": "code",
      "metadata": {
        "id": "Yp2CdDva1Nnl"
      },
      "source": [
        "r = re.compile('ab{3}c') # ab{3}c --> b를 3번만큼 반복한 abbbc"
      ],
      "execution_count": null,
      "outputs": []
    },
    {
      "cell_type": "code",
      "metadata": {
        "colab": {
          "base_uri": "https://localhost:8080/"
        },
        "id": "o9k62U361mX4",
        "outputId": "fead97da-261f-41af-df64-20a8a0f3ab6e"
      },
      "source": [
        "r.search('abbbc')"
      ],
      "execution_count": null,
      "outputs": [
        {
          "output_type": "execute_result",
          "data": {
            "text/plain": [
              "<re.Match object; span=(0, 5), match='abbbc'>"
            ]
          },
          "metadata": {
            "tags": []
          },
          "execution_count": 25
        }
      ]
    },
    {
      "cell_type": "code",
      "metadata": {
        "id": "gjhZQ51R15lX"
      },
      "source": [
        "r.search('abc')"
      ],
      "execution_count": null,
      "outputs": []
    },
    {
      "cell_type": "markdown",
      "metadata": {
        "id": "4oU0b4Kt19oQ"
      },
      "source": [
        "### 2.7 {숫자1,숫자2} 기호\n",
        "\n",
        "앞의 문자를 숫자 1 이상, 숫자 2 이하만큼 *반복*"
      ]
    },
    {
      "cell_type": "code",
      "metadata": {
        "id": "89uUAbOq16Xs"
      },
      "source": [
        "r = re.compile('ab{2,8}c') # ab{2,8}c --> b를 2번이상 8번 이하 반복하는 글자"
      ],
      "execution_count": null,
      "outputs": []
    },
    {
      "cell_type": "code",
      "metadata": {
        "colab": {
          "base_uri": "https://localhost:8080/"
        },
        "id": "yZ85SAKu_tmb",
        "outputId": "e45fa431-0f17-40e2-d5bf-9170a2d8b207"
      },
      "source": [
        "r.search('abbbc')"
      ],
      "execution_count": null,
      "outputs": [
        {
          "output_type": "execute_result",
          "data": {
            "text/plain": [
              "<re.Match object; span=(0, 5), match='abbbc'>"
            ]
          },
          "metadata": {
            "tags": []
          },
          "execution_count": 28
        }
      ]
    },
    {
      "cell_type": "code",
      "metadata": {
        "colab": {
          "base_uri": "https://localhost:8080/"
        },
        "id": "EjwgnXATAA4c",
        "outputId": "9eefb054-dfac-4ce0-c045-0aa4cf9c27f0"
      },
      "source": [
        "r.search('abbbbbbbbc')"
      ],
      "execution_count": null,
      "outputs": [
        {
          "output_type": "execute_result",
          "data": {
            "text/plain": [
              "<re.Match object; span=(0, 10), match='abbbbbbbbc'>"
            ]
          },
          "metadata": {
            "tags": []
          },
          "execution_count": 29
        }
      ]
    },
    {
      "cell_type": "code",
      "metadata": {
        "id": "teisV9F8ADe7"
      },
      "source": [
        "r.search('abbbbbbbbbbbbbbbbc')"
      ],
      "execution_count": null,
      "outputs": []
    },
    {
      "cell_type": "code",
      "metadata": {
        "id": "UvABde2eAIlN"
      },
      "source": [
        "r.search('abc')"
      ],
      "execution_count": null,
      "outputs": []
    },
    {
      "cell_type": "markdown",
      "metadata": {
        "id": "kTzF7Zt5AO8u"
      },
      "source": [
        "### 2.8 {숫자,} 기호\n",
        "\n",
        "앞의 문자를 숫자 이상 만큼 반복"
      ]
    },
    {
      "cell_type": "code",
      "metadata": {
        "id": "1gtuzW8CA-Tp"
      },
      "source": [
        "r = re.compile('ab{3,}c') # ab{3,}c --> b를 3번 이상 반복하는 글자"
      ],
      "execution_count": null,
      "outputs": []
    },
    {
      "cell_type": "code",
      "metadata": {
        "colab": {
          "base_uri": "https://localhost:8080/"
        },
        "id": "hh9HK-pEBN7Q",
        "outputId": "f92c8e71-09bf-4e8e-b277-ff7252f67b8c"
      },
      "source": [
        "r.search('abbbc')"
      ],
      "execution_count": null,
      "outputs": [
        {
          "output_type": "execute_result",
          "data": {
            "text/plain": [
              "<re.Match object; span=(0, 5), match='abbbc'>"
            ]
          },
          "metadata": {
            "tags": []
          },
          "execution_count": 33
        }
      ]
    },
    {
      "cell_type": "code",
      "metadata": {
        "id": "rXPk_9REFHrZ"
      },
      "source": [
        "r.search('abc')"
      ],
      "execution_count": null,
      "outputs": []
    },
    {
      "cell_type": "markdown",
      "metadata": {
        "id": "ljYXnwTOFfQG"
      },
      "source": [
        "### ☆ 2.9 [] 기호\n",
        "문자들 중 한 개의 문자와 매치"
      ]
    },
    {
      "cell_type": "code",
      "metadata": {
        "id": "qeDgdNIPJ02B"
      },
      "source": [
        "r = re.compile('[abc]') # [abc] --> a, b, c 중에 하나"
      ],
      "execution_count": null,
      "outputs": []
    },
    {
      "cell_type": "code",
      "metadata": {
        "colab": {
          "base_uri": "https://localhost:8080/"
        },
        "id": "DgpO7dmxPMlp",
        "outputId": "577acc65-5acb-481a-8644-c39576fc8d89"
      },
      "source": [
        "r.search('a')"
      ],
      "execution_count": null,
      "outputs": [
        {
          "output_type": "execute_result",
          "data": {
            "text/plain": [
              "<re.Match object; span=(0, 1), match='a'>"
            ]
          },
          "metadata": {
            "tags": []
          },
          "execution_count": 36
        }
      ]
    },
    {
      "cell_type": "code",
      "metadata": {
        "colab": {
          "base_uri": "https://localhost:8080/"
        },
        "id": "sV6lglUDPkcE",
        "outputId": "1d4219e4-6c0a-4a90-9f45-9ae076d72266"
      },
      "source": [
        "r.search('ab')"
      ],
      "execution_count": null,
      "outputs": [
        {
          "output_type": "execute_result",
          "data": {
            "text/plain": [
              "<re.Match object; span=(0, 1), match='a'>"
            ]
          },
          "metadata": {
            "tags": []
          },
          "execution_count": 37
        }
      ]
    },
    {
      "cell_type": "code",
      "metadata": {
        "colab": {
          "base_uri": "https://localhost:8080/"
        },
        "id": "3UzvOSPpPmIt",
        "outputId": "298020e2-c192-46c5-f560-05e9c9323a15"
      },
      "source": [
        "r.search('da')"
      ],
      "execution_count": null,
      "outputs": [
        {
          "output_type": "execute_result",
          "data": {
            "text/plain": [
              "<re.Match object; span=(1, 2), match='a'>"
            ]
          },
          "metadata": {
            "tags": []
          },
          "execution_count": 38
        }
      ]
    },
    {
      "cell_type": "code",
      "metadata": {
        "id": "dvlm5qOPPrsX"
      },
      "source": [
        "r.search('ef')"
      ],
      "execution_count": null,
      "outputs": []
    },
    {
      "cell_type": "code",
      "metadata": {
        "id": "iBqalG2DPu1I"
      },
      "source": [
        "# 소문자\n",
        "\n",
        "r = re.compile('[a-z]') # a부터 z까지 문자 하나"
      ],
      "execution_count": null,
      "outputs": []
    },
    {
      "cell_type": "code",
      "metadata": {
        "colab": {
          "base_uri": "https://localhost:8080/"
        },
        "id": "nDiTOVZLQHB7",
        "outputId": "2055e23d-a749-47e5-9637-253b528a3d21"
      },
      "source": [
        "r.search('dfa')"
      ],
      "execution_count": null,
      "outputs": [
        {
          "output_type": "execute_result",
          "data": {
            "text/plain": [
              "<re.Match object; span=(0, 1), match='d'>"
            ]
          },
          "metadata": {
            "tags": []
          },
          "execution_count": 42
        }
      ]
    },
    {
      "cell_type": "code",
      "metadata": {
        "colab": {
          "base_uri": "https://localhost:8080/"
        },
        "id": "Ylt8vMiTQtbk",
        "outputId": "1f91de6a-b274-41ac-b807-837c892204ab"
      },
      "source": [
        "r.search('cat')"
      ],
      "execution_count": null,
      "outputs": [
        {
          "output_type": "execute_result",
          "data": {
            "text/plain": [
              "<re.Match object; span=(0, 1), match='c'>"
            ]
          },
          "metadata": {
            "tags": []
          },
          "execution_count": 43
        }
      ]
    },
    {
      "cell_type": "code",
      "metadata": {
        "id": "IeLl7ArgQuXa"
      },
      "source": [
        "r.search('AAA') # 대문자는 인식 불가"
      ],
      "execution_count": null,
      "outputs": []
    },
    {
      "cell_type": "code",
      "metadata": {
        "id": "yp3a2bpjQvqI"
      },
      "source": [
        "# 소문자 and 대문자\n",
        "\n",
        "r = re.compile('[a-zA-Z]') # a부터 z까지, A부터 Z까지"
      ],
      "execution_count": null,
      "outputs": []
    },
    {
      "cell_type": "code",
      "metadata": {
        "colab": {
          "base_uri": "https://localhost:8080/"
        },
        "id": "aLNmQgSuQ6nU",
        "outputId": "35b7669c-70c1-4f81-d6cb-aaac5985ebbd"
      },
      "source": [
        "r.search('ABD')"
      ],
      "execution_count": null,
      "outputs": [
        {
          "output_type": "execute_result",
          "data": {
            "text/plain": [
              "<re.Match object; span=(0, 1), match='A'>"
            ]
          },
          "metadata": {
            "tags": []
          },
          "execution_count": 48
        }
      ]
    },
    {
      "cell_type": "code",
      "metadata": {
        "colab": {
          "base_uri": "https://localhost:8080/"
        },
        "id": "pBW2Lb7XQ8RE",
        "outputId": "d4c0a335-7eb8-4414-fefa-ad27c8570bd5"
      },
      "source": [
        "r.search('aA')"
      ],
      "execution_count": null,
      "outputs": [
        {
          "output_type": "execute_result",
          "data": {
            "text/plain": [
              "<re.Match object; span=(0, 1), match='a'>"
            ]
          },
          "metadata": {
            "tags": []
          },
          "execution_count": 49
        }
      ]
    },
    {
      "cell_type": "code",
      "metadata": {
        "id": "899vWm69Rjpz"
      },
      "source": [
        "# 한글\n",
        "\n",
        "r = re.compile('[가-다]') # 가부터 다까지 모든 문자 EX) 가갸거겨고교구규....나냐노뉴...닣다"
      ],
      "execution_count": null,
      "outputs": []
    },
    {
      "cell_type": "code",
      "metadata": {
        "colab": {
          "base_uri": "https://localhost:8080/"
        },
        "id": "RWOR0rw8R4wN",
        "outputId": "a846d9cc-225c-4c45-a69d-7e94da75d558"
      },
      "source": [
        "r.search('가구')"
      ],
      "execution_count": null,
      "outputs": [
        {
          "output_type": "execute_result",
          "data": {
            "text/plain": [
              "<re.Match object; span=(0, 1), match='가'>"
            ]
          },
          "metadata": {
            "tags": []
          },
          "execution_count": 3
        }
      ]
    },
    {
      "cell_type": "code",
      "metadata": {
        "colab": {
          "base_uri": "https://localhost:8080/"
        },
        "id": "udmU8qXINAhg",
        "outputId": "f921a288-fab1-4684-ec73-48eead37c921"
      },
      "source": [
        "r.search('늬우스')"
      ],
      "execution_count": null,
      "outputs": [
        {
          "output_type": "execute_result",
          "data": {
            "text/plain": [
              "<re.Match object; span=(0, 1), match='늬'>"
            ]
          },
          "metadata": {
            "tags": []
          },
          "execution_count": 5
        }
      ]
    },
    {
      "cell_type": "code",
      "metadata": {
        "id": "2bmRUNBxR672"
      },
      "source": [
        "r.search('라면')"
      ],
      "execution_count": null,
      "outputs": []
    },
    {
      "cell_type": "code",
      "metadata": {
        "id": "x3kjmRnuSBZg"
      },
      "source": [
        "# 한글 전체\n",
        "\n",
        "r = re.compile('[ㄱ-힣]') # 모든 한글"
      ],
      "execution_count": null,
      "outputs": []
    },
    {
      "cell_type": "code",
      "metadata": {
        "colab": {
          "base_uri": "https://localhost:8080/"
        },
        "id": "PrjwWTBySUPh",
        "outputId": "2c29aee9-972c-4ebb-95f7-fc74ebfbfb5c"
      },
      "source": [
        "r.search('뷁')"
      ],
      "execution_count": null,
      "outputs": [
        {
          "output_type": "execute_result",
          "data": {
            "text/plain": [
              "<re.Match object; span=(0, 1), match='뷁'>"
            ]
          },
          "metadata": {
            "tags": []
          },
          "execution_count": 54
        }
      ]
    },
    {
      "cell_type": "code",
      "metadata": {
        "colab": {
          "base_uri": "https://localhost:8080/"
        },
        "id": "KAv-0mZbSVkU",
        "outputId": "2f9327af-b437-4957-8cee-be7b8f47f1a0"
      },
      "source": [
        "r.search('홀몰')"
      ],
      "execution_count": null,
      "outputs": [
        {
          "output_type": "execute_result",
          "data": {
            "text/plain": [
              "<re.Match object; span=(0, 1), match='홀'>"
            ]
          },
          "metadata": {
            "tags": []
          },
          "execution_count": 55
        }
      ]
    },
    {
      "cell_type": "markdown",
      "metadata": {
        "id": "v6eRPageTYom"
      },
      "source": [
        "### ☆ 2.10 [^문자] 기호\n",
        "\n",
        "2.5번의 ^ 기호와 다른 뜻. 대괄호 안의 ^은 Not을 의미."
      ]
    },
    {
      "cell_type": "code",
      "metadata": {
        "id": "GSzYriPfUEIs"
      },
      "source": [
        "r = re.compile('[^a]') # a를 제외한 다른 글자"
      ],
      "execution_count": null,
      "outputs": []
    },
    {
      "cell_type": "code",
      "metadata": {
        "id": "MeXjBcj0WaVc"
      },
      "source": [
        "r.search('aaaa')"
      ],
      "execution_count": null,
      "outputs": []
    },
    {
      "cell_type": "code",
      "metadata": {
        "colab": {
          "base_uri": "https://localhost:8080/"
        },
        "id": "bRRE2bFXWcxK",
        "outputId": "4ffe5f77-89e8-44d6-dea8-bbf44beac1b1"
      },
      "source": [
        "r.search('d')"
      ],
      "execution_count": null,
      "outputs": [
        {
          "output_type": "execute_result",
          "data": {
            "text/plain": [
              "<re.Match object; span=(0, 1), match='d'>"
            ]
          },
          "metadata": {
            "tags": []
          },
          "execution_count": 59
        }
      ]
    },
    {
      "cell_type": "code",
      "metadata": {
        "colab": {
          "base_uri": "https://localhost:8080/"
        },
        "id": "ijoqC12AWd2z",
        "outputId": "82dabf37-5bc7-4f63-b48b-385390671053"
      },
      "source": [
        "r.search('af')"
      ],
      "execution_count": null,
      "outputs": [
        {
          "output_type": "execute_result",
          "data": {
            "text/plain": [
              "<re.Match object; span=(1, 2), match='f'>"
            ]
          },
          "metadata": {
            "tags": []
          },
          "execution_count": 61
        }
      ]
    },
    {
      "cell_type": "code",
      "metadata": {
        "id": "DcLwIznbWhck"
      },
      "source": [
        "r = re.compile('[^a-d]') # a부터 d까지를 제외한 다른 글자"
      ],
      "execution_count": null,
      "outputs": []
    },
    {
      "cell_type": "code",
      "metadata": {
        "id": "nGK3ToPkWpeG"
      },
      "source": [
        "r.search('abc')"
      ],
      "execution_count": null,
      "outputs": []
    },
    {
      "cell_type": "code",
      "metadata": {
        "colab": {
          "base_uri": "https://localhost:8080/"
        },
        "id": "ShWSphxZXbzX",
        "outputId": "9db4666b-2e67-4be5-bb92-d0c7ecee858d"
      },
      "source": [
        "r.search('efr')"
      ],
      "execution_count": null,
      "outputs": [
        {
          "output_type": "execute_result",
          "data": {
            "text/plain": [
              "<re.Match object; span=(0, 1), match='e'>"
            ]
          },
          "metadata": {
            "tags": []
          },
          "execution_count": 65
        }
      ]
    },
    {
      "cell_type": "code",
      "metadata": {
        "colab": {
          "base_uri": "https://localhost:8080/"
        },
        "id": "fTR0foAJXeWw",
        "outputId": "43dd69d8-b924-48bf-be62-bb66b59ce803"
      },
      "source": [
        "r.search('cat')"
      ],
      "execution_count": null,
      "outputs": [
        {
          "output_type": "execute_result",
          "data": {
            "text/plain": [
              "<re.Match object; span=(2, 3), match='t'>"
            ]
          },
          "metadata": {
            "tags": []
          },
          "execution_count": 66
        }
      ]
    },
    {
      "cell_type": "code",
      "metadata": {
        "id": "U4GPBZCmXgbj"
      },
      "source": [
        "# 한글 빼고 검색하려면?\n",
        "\n",
        "r = re.compile('')"
      ],
      "execution_count": null,
      "outputs": []
    },
    {
      "cell_type": "code",
      "metadata": {
        "colab": {
          "base_uri": "https://localhost:8080/"
        },
        "id": "BpdJJPQ7aeIN",
        "outputId": "6de6f461-6611-4332-fea1-82d318f3d444"
      },
      "source": [
        "r.search('')"
      ],
      "execution_count": null,
      "outputs": [
        {
          "output_type": "execute_result",
          "data": {
            "text/plain": [
              "<re.Match object; span=(0, 0), match=''>"
            ]
          },
          "metadata": {
            "tags": []
          },
          "execution_count": 69
        }
      ]
    },
    {
      "cell_type": "markdown",
      "metadata": {
        "id": "uCRiMAoBbXyi"
      },
      "source": [
        "## Regex 함수\n",
        "\n",
        "re.compile과 re.search는 너무 많이 사용. 다른 함수는?"
      ]
    },
    {
      "cell_type": "markdown",
      "metadata": {
        "id": "lWjf8FgYb33e"
      },
      "source": [
        "### 3.1 re.match\n",
        "\n",
        "re.search() : 전체 문자열에 대해서 조건이 부합하는지\n",
        "\n",
        "re.match() : 첫 문자열부터 정규 표현식 조건이 맞는지"
      ]
    },
    {
      "cell_type": "code",
      "metadata": {
        "id": "AyFtJ07Sc9eH"
      },
      "source": [
        "r = re.compile('[가-다]') # 가,나,다? --> 가,갸,거,겨.......닣, 다"
      ],
      "execution_count": null,
      "outputs": []
    },
    {
      "cell_type": "code",
      "metadata": {
        "colab": {
          "base_uri": "https://localhost:8080/"
        },
        "id": "vA9ZHitodclC",
        "outputId": "97421f5e-3092-4e65-8bc4-3dee2ed5c232"
      },
      "source": [
        "r.search('슈퍼가 망했다')"
      ],
      "execution_count": null,
      "outputs": [
        {
          "output_type": "execute_result",
          "data": {
            "text/plain": [
              "<re.Match object; span=(2, 3), match='가'>"
            ]
          },
          "metadata": {
            "tags": []
          },
          "execution_count": 71
        }
      ]
    },
    {
      "cell_type": "code",
      "metadata": {
        "id": "DD7VqFMUdf_E"
      },
      "source": [
        "r.match('슈퍼가 망했다')"
      ],
      "execution_count": null,
      "outputs": []
    },
    {
      "cell_type": "code",
      "metadata": {
        "colab": {
          "base_uri": "https://localhost:8080/"
        },
        "id": "AArPuGkndh1B",
        "outputId": "563da9b0-942c-4561-9a73-96257d56a142"
      },
      "source": [
        "r.match('다 망했다')"
      ],
      "execution_count": null,
      "outputs": [
        {
          "output_type": "execute_result",
          "data": {
            "text/plain": [
              "<re.Match object; span=(0, 1), match='다'>"
            ]
          },
          "metadata": {
            "tags": []
          },
          "execution_count": 73
        }
      ]
    },
    {
      "cell_type": "markdown",
      "metadata": {
        "id": "bLCo_OwRdtgn"
      },
      "source": [
        "### 3.2 re.split\n",
        "\n",
        "정규표현식을 기준으로 문자열을 분리하여 리스트로 반환"
      ]
    },
    {
      "cell_type": "code",
      "metadata": {
        "id": "7V-RycLBd3hZ"
      },
      "source": [
        "r = re.compile('[가-다]')"
      ],
      "execution_count": null,
      "outputs": []
    },
    {
      "cell_type": "code",
      "metadata": {
        "colab": {
          "base_uri": "https://localhost:8080/"
        },
        "id": "DL9GR1rud-SU",
        "outputId": "0455188a-de05-48d4-8140-3417cc49a7cd"
      },
      "source": [
        "r.split('슈퍼가 망함')"
      ],
      "execution_count": null,
      "outputs": [
        {
          "output_type": "execute_result",
          "data": {
            "text/plain": [
              "['슈퍼', ' 망함']"
            ]
          },
          "metadata": {
            "tags": []
          },
          "execution_count": 125
        }
      ]
    },
    {
      "cell_type": "code",
      "metadata": {
        "colab": {
          "base_uri": "https://localhost:8080/"
        },
        "id": "MRt8h28Gd_8r",
        "outputId": "bba4fbf2-1b4f-49f3-9910-a2dbc8cdb0c1"
      },
      "source": [
        "r.split('가나다라가마바가')"
      ],
      "execution_count": null,
      "outputs": [
        {
          "output_type": "execute_result",
          "data": {
            "text/plain": [
              "['', '', '', '라', '마바', '']"
            ]
          },
          "metadata": {
            "tags": []
          },
          "execution_count": 77
        }
      ]
    },
    {
      "cell_type": "markdown",
      "metadata": {
        "id": "LVbaJiedeOaA"
      },
      "source": [
        "### 3.3 re.findall\n",
        "search와 match는 하나만 찾는 기능\n",
        "\n",
        "findall은 조건에 부합하는 문자열 모두 리스트로 반환"
      ]
    },
    {
      "cell_type": "code",
      "metadata": {
        "id": "stSAbcVwepse"
      },
      "source": [
        "r = re.compile('[0-9]+') # 모든 숫자"
      ],
      "execution_count": null,
      "outputs": []
    },
    {
      "cell_type": "code",
      "metadata": {
        "colab": {
          "base_uri": "https://localhost:8080/"
        },
        "id": "0_bPq6DCeyxj",
        "outputId": "435cd2e1-7770-48a1-c66f-a5c2200cae82"
      },
      "source": [
        "r.findall('내 전화번호 : 010-1234-5678 | 부재 시 이쪽으로 연락 주세요')"
      ],
      "execution_count": null,
      "outputs": [
        {
          "output_type": "execute_result",
          "data": {
            "text/plain": [
              "['010', '1234', '5678']"
            ]
          },
          "metadata": {
            "tags": []
          },
          "execution_count": 84
        }
      ]
    },
    {
      "cell_type": "markdown",
      "metadata": {
        "id": "GgKGFVQuflhB"
      },
      "source": [
        "### ☆ 3.4 re.sub\n",
        "\n",
        "문자열 패턴을 찾아 원하는 글자로 변환"
      ]
    },
    {
      "cell_type": "code",
      "metadata": {
        "id": "s06rL5qHgICg"
      },
      "source": [
        "r = re.compile('[0-9]+') # 모든 숫자"
      ],
      "execution_count": null,
      "outputs": []
    },
    {
      "cell_type": "code",
      "metadata": {
        "colab": {
          "base_uri": "https://localhost:8080/",
          "height": 35
        },
        "id": "SC6GkfOYgJSQ",
        "outputId": "3437f9c2-faa9-4034-aefb-33e4e17198c5"
      },
      "source": [
        "# 위에 내 전화번호 x로 바꾸고 싶어\n",
        "\n",
        "r.sub(\"x\", '내 전화번호 : 010-1234-5678 | 부재 시 이쪽으로 연락 주세요', )"
      ],
      "execution_count": null,
      "outputs": [
        {
          "output_type": "execute_result",
          "data": {
            "application/vnd.google.colaboratory.intrinsic+json": {
              "type": "string"
            },
            "text/plain": [
              "'내 전화번호 : x-x-x | 부재 시 이쪽으로 연락 주세요'"
            ]
          },
          "metadata": {
            "tags": []
          },
          "execution_count": 87
        }
      ]
    },
    {
      "cell_type": "code",
      "metadata": {
        "id": "AiyhLBnlgNjj"
      },
      "source": [
        "r = re.compile('[0-9]')"
      ],
      "execution_count": null,
      "outputs": []
    },
    {
      "cell_type": "code",
      "metadata": {
        "colab": {
          "base_uri": "https://localhost:8080/",
          "height": 35
        },
        "id": "LmhRJtekg0Xy",
        "outputId": "78174b62-88cc-4a6e-9e3c-e5bacdcb337f"
      },
      "source": [
        "r.sub(\"x\", '내 전화번호 : 010-1234-5678 | 부재 시 이쪽으로 연락 주세요', )"
      ],
      "execution_count": null,
      "outputs": [
        {
          "output_type": "execute_result",
          "data": {
            "application/vnd.google.colaboratory.intrinsic+json": {
              "type": "string"
            },
            "text/plain": [
              "'내 전화번호 : xxx-xxxx-xxxx | 부재 시 이쪽으로 연락 주세요'"
            ]
          },
          "metadata": {
            "tags": []
          },
          "execution_count": 89
        }
      ]
    },
    {
      "cell_type": "markdown",
      "metadata": {
        "id": "UGpeTJzJhWg6"
      },
      "source": [
        "※ **특수문자 제거하기**\n",
        "\n",
        "Regular expression : A regular expression, regex or regexp[1] (sometimes called a rational expression)[2][3] is, in theoretical computer science and formal language theory, a sequence of characters that define a search pattern."
      ]
    },
    {
      "cell_type": "code",
      "metadata": {
        "id": "XAEjyMqug4Cx"
      },
      "source": [
        "# text라는 변수에 저장\n",
        "\n",
        "text=\"Regular expression : A regular expression, regex or regexp[1] (sometimes called a rational expression)[2][3] is, in theoretical computer science and formal language theory, a sequence of characters that define a search pattern.\""
      ],
      "execution_count": null,
      "outputs": []
    },
    {
      "cell_type": "code",
      "metadata": {
        "colab": {
          "base_uri": "https://localhost:8080/",
          "height": 52
        },
        "id": "fwWs4iXyhm1I",
        "outputId": "fb4fd818-c607-4e36-e279-3dd8aa96f787"
      },
      "source": [
        "text"
      ],
      "execution_count": null,
      "outputs": [
        {
          "output_type": "execute_result",
          "data": {
            "application/vnd.google.colaboratory.intrinsic+json": {
              "type": "string"
            },
            "text/plain": [
              "'Regular expression : A regular expression, regex or regexp[1] (sometimes called a rational expression)[2][3] is, in theoretical computer science and formal language theory, a sequence of characters that define a search pattern.'"
            ]
          },
          "metadata": {
            "tags": []
          },
          "execution_count": 91
        }
      ]
    },
    {
      "cell_type": "code",
      "metadata": {
        "id": "6jqswyuFhoJ8"
      },
      "source": [
        "r = re.compile('[^a-zA-Z]') # 영어가 아닌 것"
      ],
      "execution_count": null,
      "outputs": []
    },
    {
      "cell_type": "code",
      "metadata": {
        "colab": {
          "base_uri": "https://localhost:8080/",
          "height": 52
        },
        "id": "qkx8lDc3h0Fc",
        "outputId": "84654498-a994-4018-f0a6-1fc7c5cabf02"
      },
      "source": [
        "r.sub(\" \", text)"
      ],
      "execution_count": null,
      "outputs": [
        {
          "output_type": "execute_result",
          "data": {
            "application/vnd.google.colaboratory.intrinsic+json": {
              "type": "string"
            },
            "text/plain": [
              "'Regular expression   A regular expression  regex or regexp     sometimes called a rational expression        is  in theoretical computer science and formal language theory  a sequence of characters that define a search pattern '"
            ]
          },
          "metadata": {
            "tags": []
          },
          "execution_count": 94
        }
      ]
    },
    {
      "cell_type": "markdown",
      "metadata": {
        "id": "VQ01Bi5YiEbW"
      },
      "source": [
        "※ **Compile 안쓰고도 활용 가능**\n",
        "\n",
        "re.compile은 반복된 전처리를 수행할 때 편리\n",
        "\n",
        "compile을 안써도 Regex는 사용 가능\n",
        "\n",
        "또한 전처리 결과를 변수에 저장 가능"
      ]
    },
    {
      "cell_type": "code",
      "metadata": {
        "colab": {
          "base_uri": "https://localhost:8080/",
          "height": 35
        },
        "id": "SUYXTr9-iUiY",
        "outputId": "cf8bae81-3fbb-4f32-8506-1f17d0b24c3f"
      },
      "source": [
        "re.sub('[0-9]','x','내 전화번호 : 010-1234-5678 | 부재 시 이쪽으로 연락 주세요' )"
      ],
      "execution_count": null,
      "outputs": [
        {
          "output_type": "execute_result",
          "data": {
            "application/vnd.google.colaboratory.intrinsic+json": {
              "type": "string"
            },
            "text/plain": [
              "'내 전화번호 : xxx-xxxx-xxxx | 부재 시 이쪽으로 연락 주세요'"
            ]
          },
          "metadata": {
            "tags": []
          },
          "execution_count": 95
        }
      ]
    },
    {
      "cell_type": "code",
      "metadata": {
        "colab": {
          "base_uri": "https://localhost:8080/"
        },
        "id": "wQcqbiPqinkd",
        "outputId": "4c04f921-25b0-45b0-e386-d43d2e07e7a2"
      },
      "source": [
        "re.split('[가-다]', '슈퍼가 망함')"
      ],
      "execution_count": null,
      "outputs": [
        {
          "output_type": "execute_result",
          "data": {
            "text/plain": [
              "['슈퍼', ' 망함']"
            ]
          },
          "metadata": {
            "tags": []
          },
          "execution_count": 97
        }
      ]
    },
    {
      "cell_type": "code",
      "metadata": {
        "id": "9Jc5VKHWkdhf"
      },
      "source": [
        "# 변수에 저장\n",
        "\n",
        "result = re.split('[가-다]', '슈퍼가 망함')"
      ],
      "execution_count": null,
      "outputs": []
    },
    {
      "cell_type": "code",
      "metadata": {
        "colab": {
          "base_uri": "https://localhost:8080/"
        },
        "id": "M0G2BsDgkiSW",
        "outputId": "73bc163b-f6cd-4e1e-faea-cc5b608664bd"
      },
      "source": [
        "result"
      ],
      "execution_count": null,
      "outputs": [
        {
          "output_type": "execute_result",
          "data": {
            "text/plain": [
              "['슈퍼', ' 망함']"
            ]
          },
          "metadata": {
            "tags": []
          },
          "execution_count": 99
        }
      ]
    },
    {
      "cell_type": "markdown",
      "metadata": {
        "id": "t4yg3W9yFEfn"
      },
      "source": [
        "## 정규표현식을 연습할 수 있는 사이트\n",
        "\n",
        "https://regex101.com/#python"
      ]
    },
    {
      "cell_type": "markdown",
      "metadata": {
        "id": "VRid7512jXC3"
      },
      "source": [
        "# 자연어 전처리 - 한국어 처리"
      ]
    },
    {
      "cell_type": "markdown",
      "metadata": {
        "id": "Qa-FwCS6jyEn"
      },
      "source": [
        "## Konlpy 란?\n",
        "\n",
        "한국어를 위한 전처리 패키지.\n",
        "\n",
        "한국어는 영어와 다르게 토크나이징이 쉽지 않음."
      ]
    },
    {
      "cell_type": "code",
      "metadata": {
        "id": "atNDDsQZkIK4"
      },
      "source": [
        "# 영어는 띄어쓰기로 모든 단어가 구분되어 있기 때문에 자연어적으로 처리하기 매우 간편\n",
        "\n",
        "text = \"I'm on the next level\"\n",
        "\n",
        "result = re.split(' ',text)"
      ],
      "execution_count": null,
      "outputs": []
    },
    {
      "cell_type": "code",
      "metadata": {
        "colab": {
          "base_uri": "https://localhost:8080/"
        },
        "id": "zLi9UM0Cks2C",
        "outputId": "56fe3d46-aab0-490e-8ff1-1f6614804f01"
      },
      "source": [
        "result"
      ],
      "execution_count": null,
      "outputs": [
        {
          "output_type": "execute_result",
          "data": {
            "text/plain": [
              "[\"I'm\", 'on', 'the', 'next', 'level']"
            ]
          },
          "metadata": {
            "tags": []
          },
          "execution_count": 18
        }
      ]
    },
    {
      "cell_type": "code",
      "metadata": {
        "id": "ieKc3smUkzQg"
      },
      "source": [
        "# 한글은 매우 복잡한편\n",
        "\n",
        "text = \"사랑은 언제나 눈물이 되어 가슴에 남아\"\n",
        "\n",
        "result = re.split(' ', text)"
      ],
      "execution_count": null,
      "outputs": []
    },
    {
      "cell_type": "code",
      "metadata": {
        "colab": {
          "base_uri": "https://localhost:8080/"
        },
        "id": "YxGMPQvtzYRU",
        "outputId": "0f6fec91-98e1-4235-c8af-927aba806c88"
      },
      "source": [
        "result # 조사, 존댓말 등의 다양한 변형 때문에 분석하기 어려운 편"
      ],
      "execution_count": null,
      "outputs": [
        {
          "output_type": "execute_result",
          "data": {
            "text/plain": [
              "['사랑은', '언제나', '눈물이', '되어', '가슴에', '남아']"
            ]
          },
          "metadata": {
            "tags": []
          },
          "execution_count": 20
        }
      ]
    },
    {
      "cell_type": "markdown",
      "metadata": {
        "id": "7PtsU7dc5ER0"
      },
      "source": [
        "- 사랑은 --> 사랑만 추출\n",
        "\n",
        "- 되어 --> 되-\n",
        "\n",
        "- 단어로 추출하게 도와주는 Konlpy"
      ]
    },
    {
      "cell_type": "code",
      "metadata": {
        "colab": {
          "base_uri": "https://localhost:8080/"
        },
        "id": "Wsu9Qxp55jlN",
        "outputId": "12160bb1-45c4-40e8-c958-187e1228899d"
      },
      "source": [
        "!pip install konlpy"
      ],
      "execution_count": null,
      "outputs": [
        {
          "output_type": "stream",
          "text": [
            "Collecting konlpy\n",
            "\u001b[?25l  Downloading https://files.pythonhosted.org/packages/85/0e/f385566fec837c0b83f216b2da65db9997b35dd675e107752005b7d392b1/konlpy-0.5.2-py2.py3-none-any.whl (19.4MB)\n",
            "\u001b[K     |████████████████████████████████| 19.4MB 14.4MB/s \n",
            "\u001b[?25hCollecting beautifulsoup4==4.6.0\n",
            "\u001b[?25l  Downloading https://files.pythonhosted.org/packages/9e/d4/10f46e5cfac773e22707237bfcd51bbffeaf0a576b0a847ec7ab15bd7ace/beautifulsoup4-4.6.0-py3-none-any.whl (86kB)\n",
            "\u001b[K     |████████████████████████████████| 92kB 8.4MB/s \n",
            "\u001b[?25hRequirement already satisfied: tweepy>=3.7.0 in /usr/local/lib/python3.7/dist-packages (from konlpy) (3.10.0)\n",
            "Collecting JPype1>=0.7.0\n",
            "\u001b[?25l  Downloading https://files.pythonhosted.org/packages/98/88/f817ef1af6f794e8f11313dcd1549de833f4599abcec82746ab5ed086686/JPype1-1.3.0-cp37-cp37m-manylinux_2_5_x86_64.manylinux1_x86_64.whl (448kB)\n",
            "\u001b[K     |████████████████████████████████| 450kB 38.9MB/s \n",
            "\u001b[?25hCollecting colorama\n",
            "  Downloading https://files.pythonhosted.org/packages/44/98/5b86278fbbf250d239ae0ecb724f8572af1c91f4a11edf4d36a206189440/colorama-0.4.4-py2.py3-none-any.whl\n",
            "Requirement already satisfied: numpy>=1.6 in /usr/local/lib/python3.7/dist-packages (from konlpy) (1.19.5)\n",
            "Requirement already satisfied: lxml>=4.1.0 in /usr/local/lib/python3.7/dist-packages (from konlpy) (4.2.6)\n",
            "Requirement already satisfied: requests-oauthlib>=0.7.0 in /usr/local/lib/python3.7/dist-packages (from tweepy>=3.7.0->konlpy) (1.3.0)\n",
            "Requirement already satisfied: requests[socks]>=2.11.1 in /usr/local/lib/python3.7/dist-packages (from tweepy>=3.7.0->konlpy) (2.23.0)\n",
            "Requirement already satisfied: six>=1.10.0 in /usr/local/lib/python3.7/dist-packages (from tweepy>=3.7.0->konlpy) (1.15.0)\n",
            "Requirement already satisfied: typing-extensions; python_version < \"3.8\" in /usr/local/lib/python3.7/dist-packages (from JPype1>=0.7.0->konlpy) (3.7.4.3)\n",
            "Requirement already satisfied: oauthlib>=3.0.0 in /usr/local/lib/python3.7/dist-packages (from requests-oauthlib>=0.7.0->tweepy>=3.7.0->konlpy) (3.1.1)\n",
            "Requirement already satisfied: chardet<4,>=3.0.2 in /usr/local/lib/python3.7/dist-packages (from requests[socks]>=2.11.1->tweepy>=3.7.0->konlpy) (3.0.4)\n",
            "Requirement already satisfied: idna<3,>=2.5 in /usr/local/lib/python3.7/dist-packages (from requests[socks]>=2.11.1->tweepy>=3.7.0->konlpy) (2.10)\n",
            "Requirement already satisfied: urllib3!=1.25.0,!=1.25.1,<1.26,>=1.21.1 in /usr/local/lib/python3.7/dist-packages (from requests[socks]>=2.11.1->tweepy>=3.7.0->konlpy) (1.24.3)\n",
            "Requirement already satisfied: certifi>=2017.4.17 in /usr/local/lib/python3.7/dist-packages (from requests[socks]>=2.11.1->tweepy>=3.7.0->konlpy) (2021.5.30)\n",
            "Requirement already satisfied: PySocks!=1.5.7,>=1.5.6; extra == \"socks\" in /usr/local/lib/python3.7/dist-packages (from requests[socks]>=2.11.1->tweepy>=3.7.0->konlpy) (1.7.1)\n",
            "Installing collected packages: beautifulsoup4, JPype1, colorama, konlpy\n",
            "  Found existing installation: beautifulsoup4 4.6.3\n",
            "    Uninstalling beautifulsoup4-4.6.3:\n",
            "      Successfully uninstalled beautifulsoup4-4.6.3\n",
            "Successfully installed JPype1-1.3.0 beautifulsoup4-4.6.0 colorama-0.4.4 konlpy-0.5.2\n"
          ],
          "name": "stdout"
        }
      ]
    },
    {
      "cell_type": "markdown",
      "metadata": {
        "id": "px8_x9aDzr4N"
      },
      "source": [
        "## Konlpy 종류\n",
        "\n",
        "- mecab : 가장 성능이 우수하지만 mac 운영체제 전용\n",
        "- okt : 성능이 준수하며 가장 범용적으로 사용됨\n",
        "- khaii, komoran, kkma 등 다양한 형태소 분석기 존재\n",
        "\n",
        "가능하면 여러개의 형태소 분석기를 써보고 분석마다 가장 좋은 성능을 보이는 분석기를 선택하는 것을 추천"
      ]
    },
    {
      "cell_type": "markdown",
      "metadata": {
        "id": "hfY5WAMz7XTu"
      },
      "source": [
        "## Konlpy 사용법"
      ]
    },
    {
      "cell_type": "markdown",
      "metadata": {
        "id": "ZbkgccFE8uVX"
      },
      "source": [
        "### ☆ 3.1 okt.nouns\n",
        "\n",
        "문장에서 명사 추출"
      ]
    },
    {
      "cell_type": "code",
      "metadata": {
        "id": "C1OjcG2V7fKj"
      },
      "source": [
        "# Okt 불러오기\n",
        "\n",
        "from konlpy.tag import Okt, Komoran, Kkma\n",
        "\n",
        "okt = Okt()\n",
        "kom = Komoran()\n",
        "kkm = Kkma()"
      ],
      "execution_count": null,
      "outputs": []
    },
    {
      "cell_type": "code",
      "metadata": {
        "colab": {
          "base_uri": "https://localhost:8080/"
        },
        "id": "Npg-OXr58HUe",
        "outputId": "a4ce39a4-0910-4dde-cfea-55465fcee87d"
      },
      "source": [
        "# okt.nouns() --> 명사 추출\n",
        "\n",
        "text = \"사랑은 언제나 눈물이 되어 가슴에 남아\"\n",
        "\n",
        "okt.nouns(text)"
      ],
      "execution_count": null,
      "outputs": [
        {
          "output_type": "execute_result",
          "data": {
            "text/plain": [
              "['사랑', '눈물', '가슴', '남아']"
            ]
          },
          "metadata": {
            "tags": []
          },
          "execution_count": 23
        }
      ]
    },
    {
      "cell_type": "code",
      "metadata": {
        "colab": {
          "base_uri": "https://localhost:8080/"
        },
        "id": "5capS0h18XeU",
        "outputId": "a12af282-fc75-4049-91fb-4c38a2da4d65"
      },
      "source": [
        "# 분석기별 성능비교\n",
        "\n",
        "text = \"아버지가방에들어가신다\"\n",
        "\n",
        "# Okt\n",
        "\n",
        "okt.nouns(text)"
      ],
      "execution_count": null,
      "outputs": [
        {
          "output_type": "execute_result",
          "data": {
            "text/plain": [
              "['아버지', '가방']"
            ]
          },
          "metadata": {
            "tags": []
          },
          "execution_count": 24
        }
      ]
    },
    {
      "cell_type": "code",
      "metadata": {
        "colab": {
          "base_uri": "https://localhost:8080/"
        },
        "id": "-21wv6v98kyN",
        "outputId": "80f66503-b263-463d-ffe8-5d30f8401853"
      },
      "source": [
        "# Komoran\n",
        "\n",
        "kom.nouns(text)"
      ],
      "execution_count": null,
      "outputs": [
        {
          "output_type": "execute_result",
          "data": {
            "text/plain": [
              "['아버지', '가방']"
            ]
          },
          "metadata": {
            "tags": []
          },
          "execution_count": 25
        }
      ]
    },
    {
      "cell_type": "code",
      "metadata": {
        "colab": {
          "base_uri": "https://localhost:8080/"
        },
        "id": "lumNaDp59JhT",
        "outputId": "3ea44424-62bc-4159-9bcf-db4efbeec6ff"
      },
      "source": [
        "# Kkma\n",
        "\n",
        "kkm.nouns(text)"
      ],
      "execution_count": null,
      "outputs": [
        {
          "output_type": "execute_result",
          "data": {
            "text/plain": [
              "['아버지', '아버지가방', '가방']"
            ]
          },
          "metadata": {
            "tags": []
          },
          "execution_count": 26
        }
      ]
    },
    {
      "cell_type": "markdown",
      "metadata": {
        "id": "oqfRVBkS-UzP"
      },
      "source": [
        "### 3.2 okt.morphs\n",
        "\n",
        "명사 뿐만 아니라 모든 형태소 표출"
      ]
    },
    {
      "cell_type": "code",
      "metadata": {
        "id": "-hGNbB2n-dA4"
      },
      "source": [
        "text1 = \"사랑은 언제나 눈물이 되어 가슴에 남아\"\n",
        "\n",
        "text2 = \"아버지가방에들어가신다\""
      ],
      "execution_count": null,
      "outputs": []
    },
    {
      "cell_type": "code",
      "metadata": {
        "colab": {
          "base_uri": "https://localhost:8080/"
        },
        "id": "Q1ctqzK1_OQB",
        "outputId": "8a5ee5e5-c683-4821-ed50-f844438da25a"
      },
      "source": [
        "okt.morphs(text1)"
      ],
      "execution_count": null,
      "outputs": [
        {
          "output_type": "execute_result",
          "data": {
            "text/plain": [
              "['사랑', '은', '언제나', '눈물', '이', '되어', '가슴', '에', '남아']"
            ]
          },
          "metadata": {
            "tags": []
          },
          "execution_count": 116
        }
      ]
    },
    {
      "cell_type": "code",
      "metadata": {
        "colab": {
          "base_uri": "https://localhost:8080/"
        },
        "id": "d4oV_ONZ_fei",
        "outputId": "d7f4ecbe-2902-4ad6-9e38-945b6730757b"
      },
      "source": [
        "okt.morphs(text2)"
      ],
      "execution_count": null,
      "outputs": [
        {
          "output_type": "execute_result",
          "data": {
            "text/plain": [
              "['아버지', '가방', '에', '들어가신다']"
            ]
          },
          "metadata": {
            "tags": []
          },
          "execution_count": 117
        }
      ]
    },
    {
      "cell_type": "markdown",
      "metadata": {
        "id": "PjdYAyhKCyeu"
      },
      "source": [
        "### 3.3 okt.pos\n",
        "\n",
        "각 형태소의 품사까지 추출"
      ]
    },
    {
      "cell_type": "code",
      "metadata": {
        "colab": {
          "base_uri": "https://localhost:8080/"
        },
        "id": "sXshLHMuDCgg",
        "outputId": "f461113c-b7ab-4f97-d265-31c531fbffb1"
      },
      "source": [
        "okt.pos(text1)"
      ],
      "execution_count": null,
      "outputs": [
        {
          "output_type": "execute_result",
          "data": {
            "text/plain": [
              "[('사랑', 'Noun'),\n",
              " ('은', 'Josa'),\n",
              " ('언제나', 'Adverb'),\n",
              " ('눈물', 'Noun'),\n",
              " ('이', 'Josa'),\n",
              " ('되어', 'Verb'),\n",
              " ('가슴', 'Noun'),\n",
              " ('에', 'Josa'),\n",
              " ('남아', 'Noun')]"
            ]
          },
          "metadata": {
            "tags": []
          },
          "execution_count": 118
        }
      ]
    },
    {
      "cell_type": "code",
      "metadata": {
        "colab": {
          "base_uri": "https://localhost:8080/"
        },
        "id": "aL6vGOS0DJVR",
        "outputId": "9189510d-abf6-4579-88c3-041712f6f54f"
      },
      "source": [
        "okt.pos(text2)"
      ],
      "execution_count": null,
      "outputs": [
        {
          "output_type": "execute_result",
          "data": {
            "text/plain": [
              "[('아버지', 'Noun'), ('가방', 'Noun'), ('에', 'Josa'), ('들어가신다', 'Verb')]"
            ]
          },
          "metadata": {
            "tags": []
          },
          "execution_count": 119
        }
      ]
    },
    {
      "cell_type": "code",
      "metadata": {
        "id": "rA7Bg8C_DTFe"
      },
      "source": [
        "test = okt.pos(text1)"
      ],
      "execution_count": null,
      "outputs": []
    },
    {
      "cell_type": "code",
      "metadata": {
        "id": "21YxgBxpEIgX"
      },
      "source": [
        "import pandas as pd"
      ],
      "execution_count": null,
      "outputs": []
    },
    {
      "cell_type": "code",
      "metadata": {
        "colab": {
          "base_uri": "https://localhost:8080/",
          "height": 326
        },
        "id": "I7ll7V11EMed",
        "outputId": "9379ddef-50d5-410d-8631-5cfedd4fde4c"
      },
      "source": [
        "pd.DataFrame(test)"
      ],
      "execution_count": null,
      "outputs": [
        {
          "output_type": "execute_result",
          "data": {
            "text/html": [
              "<div>\n",
              "<style scoped>\n",
              "    .dataframe tbody tr th:only-of-type {\n",
              "        vertical-align: middle;\n",
              "    }\n",
              "\n",
              "    .dataframe tbody tr th {\n",
              "        vertical-align: top;\n",
              "    }\n",
              "\n",
              "    .dataframe thead th {\n",
              "        text-align: right;\n",
              "    }\n",
              "</style>\n",
              "<table border=\"1\" class=\"dataframe\">\n",
              "  <thead>\n",
              "    <tr style=\"text-align: right;\">\n",
              "      <th></th>\n",
              "      <th>0</th>\n",
              "      <th>1</th>\n",
              "    </tr>\n",
              "  </thead>\n",
              "  <tbody>\n",
              "    <tr>\n",
              "      <th>0</th>\n",
              "      <td>사랑</td>\n",
              "      <td>Noun</td>\n",
              "    </tr>\n",
              "    <tr>\n",
              "      <th>1</th>\n",
              "      <td>은</td>\n",
              "      <td>Josa</td>\n",
              "    </tr>\n",
              "    <tr>\n",
              "      <th>2</th>\n",
              "      <td>언제나</td>\n",
              "      <td>Adverb</td>\n",
              "    </tr>\n",
              "    <tr>\n",
              "      <th>3</th>\n",
              "      <td>눈물</td>\n",
              "      <td>Noun</td>\n",
              "    </tr>\n",
              "    <tr>\n",
              "      <th>4</th>\n",
              "      <td>이</td>\n",
              "      <td>Josa</td>\n",
              "    </tr>\n",
              "    <tr>\n",
              "      <th>5</th>\n",
              "      <td>되어</td>\n",
              "      <td>Verb</td>\n",
              "    </tr>\n",
              "    <tr>\n",
              "      <th>6</th>\n",
              "      <td>가슴</td>\n",
              "      <td>Noun</td>\n",
              "    </tr>\n",
              "    <tr>\n",
              "      <th>7</th>\n",
              "      <td>에</td>\n",
              "      <td>Josa</td>\n",
              "    </tr>\n",
              "    <tr>\n",
              "      <th>8</th>\n",
              "      <td>남아</td>\n",
              "      <td>Noun</td>\n",
              "    </tr>\n",
              "  </tbody>\n",
              "</table>\n",
              "</div>"
            ],
            "text/plain": [
              "     0       1\n",
              "0   사랑    Noun\n",
              "1    은    Josa\n",
              "2  언제나  Adverb\n",
              "3   눈물    Noun\n",
              "4    이    Josa\n",
              "5   되어    Verb\n",
              "6   가슴    Noun\n",
              "7    에    Josa\n",
              "8   남아    Noun"
            ]
          },
          "metadata": {
            "tags": []
          },
          "execution_count": 123
        }
      ]
    }
  ]
}